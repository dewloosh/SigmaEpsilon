{
 "cells": [
  {
   "cell_type": "markdown",
   "metadata": {},
   "source": [
    "# **Linear Programming**"
   ]
  },
  {
   "cell_type": "markdown",
   "metadata": {},
   "source": [
    "This notebook contains illustrative examples for solving linear programs using the **Simplex  method** and a specific version of a **Genetic Algorithm**. The examples cover all possible definitions of linear problems and a quick comparison of the two approaches alongside some matplotlib illustrations. "
   ]
  },
  {
   "cell_type": "markdown",
   "metadata": {},
   "source": [
    "First, import some stuff. Note that the notebook requires matplotlib to be installed."
   ]
  },
  {
   "cell_type": "code",
   "execution_count": 1,
   "metadata": {},
   "outputs": [],
   "source": [
    "from dewloosh.math.function import Function, Equality, InEquality\n",
    "from dewloosh.math.optimize import LinearProgrammingProblem as LPP, \\\n",
    "    DegenerateProblemError, NoSolutionError, BinaryGeneticAlgorithm\n",
    "from dewloosh.math.array import atleast2d\n",
    "import sympy as sy\n",
    "import numpy as np\n",
    "import matplotlib.pyplot as plt\n"
   ]
  },
  {
   "cell_type": "markdown",
   "metadata": {},
   "source": [
    "## Solution of Symbolic LPPs with the **Simplex method**"
   ]
  },
  {
   "cell_type": "markdown",
   "metadata": {},
   "source": [
    "One of the great features of the optimization module is that is handles symbolic functions pretty well. Problems can be defined using `SymPy` expressions, or simple strings. The solution of an LPP can only result in one of the following cases:\n",
    "    \n",
    "* the problem has one unique optimizer\n",
    "  \n",
    "* the problem has multiple solutions\n",
    "  \n",
    "* there is no solution to the problem\n",
    "  \n",
    "* the problem is degenerate\n",
    "\n",
    "The following set of blocks introduce an example for each of the above cases."
   ]
  },
  {
   "cell_type": "markdown",
   "metadata": {},
   "source": [
    "### Unique Solution"
   ]
  },
  {
   "cell_type": "code",
   "execution_count": 2,
   "metadata": {},
   "outputs": [
    {
     "data": {
      "text/plain": [
       "array([0., 6., 0., 4.])"
      ]
     },
     "execution_count": 2,
     "metadata": {},
     "output_type": "execute_result"
    }
   ],
   "source": [
    "\"\"\"\n",
    "Example for unique solution\n",
    "(0, 6, 0, 4) --> 10\n",
    "The following order automatically creates\n",
    "a feasble solution : [0, 2, 3, 1]\n",
    "\"\"\"\n",
    "variables = ['x1', 'x2', 'x3', 'x4']\n",
    "x1, x2, x3, x4 = syms = sy.symbols(variables, positive=True)\n",
    "obj1 = Function(3*x1 + 9*x3 + x2 + x4, variables=syms)\n",
    "eq11 = Equality(x1 + 2*x3 + x4 - 4, variables=syms)\n",
    "eq12 = Equality(x2 + x3 - x4 - 2, variables=syms)\n",
    "lpp = LPP(cost=obj1, constraints=[eq11, eq12], variables=syms)\n",
    "lpp.solve(order=[0, 2, 3, 1], raise_errors=True)['x']\n"
   ]
  },
  {
   "cell_type": "markdown",
   "metadata": {},
   "source": [
    "To obtain the results as a dictionary, use the `as_dict` keyword:"
   ]
  },
  {
   "cell_type": "code",
   "execution_count": 3,
   "metadata": {},
   "outputs": [
    {
     "data": {
      "text/plain": [
       "{x1: array(0.), x2: array(6.), x3: array(0.), x4: array(4.)}"
      ]
     },
     "execution_count": 3,
     "metadata": {},
     "output_type": "execute_result"
    }
   ],
   "source": [
    "lpp.solve(order=[0, 2, 3, 1], raise_errors=True, as_dict=True)['x']\n"
   ]
  },
  {
   "cell_type": "markdown",
   "metadata": {},
   "source": [
    "### Degenerate Solution"
   ]
  },
  {
   "cell_type": "markdown",
   "metadata": {},
   "source": [
    "If the objective could be further decreased, but only on the expense of violating feasibility, the solution is degenerate."
   ]
  },
  {
   "cell_type": "code",
   "execution_count": 4,
   "metadata": {},
   "outputs": [
    {
     "name": "stdout",
     "output_type": "stream",
     "text": [
      "DegenerateProblemError\n"
     ]
    }
   ],
   "source": [
    "\"\"\"\n",
    "Example for degenerate solution.\n",
    "(0, 2, 0, 0)\n",
    "\"\"\"\n",
    "variables = ['x1', 'x2', 'x3', 'x4']\n",
    "x1, x2, x3, x4 = syms = sy.symbols(variables, positive=True)\n",
    "obj2 = Function(3*x1 + x2 + 9*x3 + x4, variables=syms)\n",
    "eq21 = Equality(x1 + 2*x3 + x4, variables=syms)\n",
    "eq22 = Equality(x2 + x3 - x4 - 2, variables=syms)\n",
    "P2 = LPP(cost=obj2, constraints=[eq21, eq22], variables=syms)\n",
    "try:\n",
    "    print(P2.solve(raise_errors=True)['x'])\n",
    "except NoSolutionError:\n",
    "    print('NoSolutionError')\n",
    "except DegenerateProblemError:\n",
    "    print('DegenerateProblemError')\n"
   ]
  },
  {
   "cell_type": "markdown",
   "metadata": {},
   "source": [
    "### No Solution"
   ]
  },
  {
   "cell_type": "code",
   "execution_count": 5,
   "metadata": {},
   "outputs": [
    {
     "name": "stdout",
     "output_type": "stream",
     "text": [
      "NoSolutionError\n"
     ]
    }
   ],
   "source": [
    "\"\"\"\n",
    "Example for no solution.\n",
    "\"\"\"\n",
    "variables = ['x1', 'x2', 'x3', 'x4']\n",
    "x1, x2, x3, x4 = syms = sy.symbols(variables, positive=True)\n",
    "obj3 = Function(-3*x1 + x2 + 9*x3 + x4, variables=syms)\n",
    "eq31 = Equality(x1 - 2*x3 - x4 + 2, variables=syms)\n",
    "eq32 = Equality(x2 + x3 - x4 - 2, variables=syms)\n",
    "P3 = LPP(cost=obj3, constraints=[eq31, eq32], variables=syms)\n",
    "try:\n",
    "    print(P3.solve(raise_errors=True)['x'])\n",
    "except NoSolutionError:\n",
    "    print('NoSolutionError')\n",
    "except DegenerateProblemError:\n",
    "    print('DegenerateProblemError')\n"
   ]
  },
  {
   "cell_type": "markdown",
   "metadata": {},
   "source": [
    "### Multiple Solutions"
   ]
  },
  {
   "cell_type": "markdown",
   "metadata": {},
   "source": [
    "Here we plot the shape of the result of our problem."
   ]
  },
  {
   "cell_type": "code",
   "execution_count": 6,
   "metadata": {},
   "outputs": [
    {
     "name": "stdout",
     "output_type": "stream",
     "text": [
      "(2, 4)\n"
     ]
    }
   ],
   "source": [
    "\"\"\"\n",
    "Example for multiple solutions.\n",
    "(0, 1, 1, 0)\n",
    "(0, 4, 0, 2)\n",
    "\"\"\"\n",
    "variables = ['x1', 'x2', 'x3', 'x4']\n",
    "x1, x2, x3, x4 = syms = sy.symbols(variables, positive=True)\n",
    "obj4 = Function(3*x1 + 2*x2 + 8*x3 + x4, variables=syms)\n",
    "eq41 = Equality(x1 - 2*x3 - x4 + 2, variables=syms)\n",
    "eq42 = Equality(x2 + x3 - x4 - 2, variables=syms)\n",
    "P4 = LPP(cost=obj4, constraints=[eq41, eq42], variables=syms)\n",
    "try:\n",
    "    print(P4.solve()['x'].shape)\n",
    "except NoSolutionError:\n",
    "    print('NoSolutionError')\n",
    "except DegenerateProblemError:\n",
    "    print('DegenerateProblemError')\n"
   ]
  },
  {
   "cell_type": "markdown",
   "metadata": {},
   "source": [
    "## 2d example with `matplotlib`"
   ]
  },
  {
   "cell_type": "code",
   "execution_count": 7,
   "metadata": {},
   "outputs": [],
   "source": [
    "x1, x2 = sy.symbols(['x1', 'x2'], positive=True)\n",
    "syms = [x1, x2]\n",
    "f = Function(x1 + x2, variables=syms)\n",
    "ieq1 = InEquality(x1 - 1, op='>=', variables=syms)\n",
    "ieq2 = InEquality(x2 - 1, op='>=', variables=syms)\n",
    "ieq3 = InEquality(x1 + x2 - 4, op='<=', variables=syms)\n",
    "lpp = LPP(cost=f, constraints=[ieq1, ieq2, ieq3], variables=syms)\n",
    "x = atleast2d(lpp.solve()['x'])\n"
   ]
  },
  {
   "cell_type": "code",
   "execution_count": 8,
   "metadata": {
    "tags": [
     "nbsphinx-thumbnail"
    ]
   },
   "outputs": [
    {
     "data": {
      "image/png": "[encoded data removed]",
      "text/plain": [
       "<Figure size 432x432 with 1 Axes>"
      ]
     },
     "metadata": {
      "needs_background": "light"
     },
     "output_type": "display_data"
    }
   ],
   "source": [
    "import numpy as np\n",
    "import matplotlib.pyplot as plt\n",
    "from matplotlib import patheffects\n",
    "\n",
    "fig, ax = plt.subplots(figsize=(6, 6))\n",
    "\n",
    "nx = 101\n",
    "ny = 105\n",
    "\n",
    "# Set up survey vectors\n",
    "xvec = np.linspace(0.001, 4.0, nx)\n",
    "yvec = np.linspace(0.001, 4.0, ny)\n",
    "\n",
    "# Set up survey matrices.  Design disk loading and gear ratio.\n",
    "x1, x2 = np.meshgrid(xvec, yvec)\n",
    "\n",
    "# Evaluate some stuff to plot\n",
    "obj = x1 + x2\n",
    "g1 = x1 - 1\n",
    "g2 = x2 - 1\n",
    "g3 = x1 + x2 - 4\n",
    "\n",
    "cntr = ax.contour(x1, x2, obj, colors='black')\n",
    "ax.clabel(cntr, fmt=\"%2.1f\", use_clabeltext=True)\n",
    "\n",
    "cg1 = ax.contour(x1, x2, g1, [0], colors='sandybrown')\n",
    "plt.setp(cg1.collections, path_effects=[\n",
    "         patheffects.withTickedStroke(angle=-135)])\n",
    "\n",
    "cg2 = ax.contour(x1, x2, g2, [0], colors='orangered')\n",
    "plt.setp(cg2.collections, path_effects=[\n",
    "         patheffects.withTickedStroke(angle=-60)])\n",
    "\n",
    "cg3 = ax.contour(x1, x2, g3, [0], colors='mediumblue')\n",
    "plt.setp(cg3.collections, path_effects=[patheffects.withTickedStroke()])\n",
    "\n",
    "ax.plot(x[:, 0], x[:, 1], 'ms', markersize=15)\n",
    "\n",
    "ax.set_xlim(0, 4)\n",
    "ax.set_ylim(0, 4)\n",
    "\n",
    "plt.show()\n"
   ]
  },
  {
   "cell_type": "markdown",
   "metadata": {},
   "source": [
    "## Solution with a **Binary Genetic Algorithm (BGA)**"
   ]
  },
  {
   "cell_type": "markdown",
   "metadata": {},
   "source": [
    "It's completely nuts to solve LLPs with a GA, but wrapping up an LLP in standard form is actually quite easy and makes for a good example. "
   ]
  },
  {
   "cell_type": "code",
   "execution_count": 9,
   "metadata": {},
   "outputs": [
    {
     "data": {
      "text/plain": [
       "array([1., 1.])"
      ]
     },
     "execution_count": 9,
     "metadata": {},
     "output_type": "execute_result"
    }
   ],
   "source": [
    "x1, x2 = sy.symbols(['x1', 'x2'], positive=True)\n",
    "syms = [x1, x2]\n",
    "f = Function(x1 + x2, variables=syms)\n",
    "ieq1 = InEquality(x1 - 1, op='>=', variables=syms)\n",
    "ieq2 = InEquality(x2 - 1, op='>=', variables=syms)\n",
    "ieq3 = InEquality(x1 + x2 - 4, op='<=', variables=syms)\n",
    "lpp = LPP(cost=f, constraints=[ieq1, ieq2, ieq3], variables=syms)\n",
    "lpp.solve()['x']\n"
   ]
  },
  {
   "cell_type": "markdown",
   "metadata": {},
   "source": [
    "The BGA imlmeneted in `dewloosh.math.optimize` does not accept constraints, all the requirements must be cooked into the objective function. A simple way of accomplishing this is to add penalties to the objective on constraint violations:"
   ]
  },
  {
   "cell_type": "code",
   "execution_count": 10,
   "metadata": {},
   "outputs": [],
   "source": [
    "def cost(x):\n",
    "    return lpp.obj(x) if lpp.feasible(x) else lpp.obj(x) + 1e12\n"
   ]
  },
  {
   "cell_type": "code",
   "execution_count": 11,
   "metadata": {},
   "outputs": [
    {
     "data": {
      "text/plain": [
       "array([1.0002442, 1.0002442])"
      ]
     },
     "execution_count": 11,
     "metadata": {},
     "output_type": "execute_result"
    }
   ],
   "source": [
    "BinaryGeneticAlgorithm(cost, [[0, 4], [0, 4]], length=12, nPop=200).solve()\n"
   ]
  }
 ],
 "metadata": {
  "kernelspec": {
   "display_name": "Python 3 (ipykernel)",
   "language": "python",
   "name": "python3"
  },
  "language_info": {
   "codemirror_mode": {
    "name": "ipython",
    "version": 3
   },
   "file_extension": ".py",
   "mimetype": "text/x-python",
   "name": "python",
   "nbconvert_exporter": "python",
   "pygments_lexer": "ipython3",
   "version": "3.8.10"
  },
  "vscode": {
   "interpreter": {
    "hash": "d6ff239af90ab79b7020be6d39cb5c94bfe3a7ef5a06e1710f0ade021c337eda"
   }
  },
  "widgets": {
   "application/vnd.jupyter.widget-state+json": {
    "state": {},
    "version_major": 2,
    "version_minor": 0
   }
  }
 },
 "nbformat": 4,
 "nbformat_minor": 4
}
