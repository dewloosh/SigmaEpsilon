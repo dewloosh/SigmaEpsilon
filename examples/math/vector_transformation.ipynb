{
 "cells": [
  {
   "cell_type": "markdown",
   "metadata": {},
   "source": [
    "## NumPy"
   ]
  },
  {
   "cell_type": "code",
   "execution_count": 13,
   "metadata": {},
   "outputs": [],
   "source": [
    "import numpy as np\n",
    "from numpy import vstack"
   ]
  },
  {
   "cell_type": "code",
   "execution_count": 14,
   "metadata": {},
   "outputs": [],
   "source": [
    "# old base vectors in old frame\n",
    "e1 = np.array([1., 0., 0.])\n",
    "e2 = np.array([0., 1., 0.])\n",
    "e3 = np.array([0., 0., 1.])\n",
    "\n",
    "# new base vectors in old frame\n",
    "E1 = np.array([0., 1., 0.])\n",
    "E2 = np.array([-1., 0., 0.])\n",
    "E3 = np.array([0, 0., 1.])\n",
    "\n",
    "# direction cosine matrix\n",
    "DCM = vstack([E1, E2, E3])\n",
    "\n",
    "# the transpose of DCM transforms the base vectors as column arrays\n",
    "assert np.all(np.isclose(DCM.T @ e1, E1, rtol=1e-05, atol=1e-08))\n",
    "assert np.all(np.isclose(DCM.T @ e2, E2, rtol=1e-05, atol=1e-08))\n",
    "\n",
    "# the DCM transforms the base vectors as row arrays\n",
    "assert np.all(np.isclose(e1 @ DCM, E1, rtol=1e-05, atol=1e-08))\n",
    "assert np.all(np.isclose(e2 @ DCM, E2, rtol=1e-05, atol=1e-08))\n",
    "\n",
    "# transform the complete frame at once\n",
    "assert np.all(np.isclose(DCM @ vstack([e1, e2, e3]), vstack([E1, E2, E3]), rtol=1e-05, atol=1e-08))"
   ]
  },
  {
   "cell_type": "code",
   "execution_count": 15,
   "metadata": {},
   "outputs": [
    {
     "data": {
      "text/plain": [
       "array([[ 0.,  1.,  0.],\n",
       "       [-1.,  0.,  0.],\n",
       "       [ 0.,  0.,  1.]])"
      ]
     },
     "execution_count": 15,
     "metadata": {},
     "output_type": "execute_result"
    }
   ],
   "source": [
    "DCM"
   ]
  },
  {
   "cell_type": "code",
   "execution_count": 16,
   "metadata": {},
   "outputs": [
    {
     "data": {
      "text/plain": [
       "array([ 0.5      , -0.8660254,  0.       ])"
      ]
     },
     "execution_count": 16,
     "metadata": {},
     "output_type": "execute_result"
    }
   ],
   "source": [
    "# v is a vector in the old system\n",
    "# in xy plane, (1, 0, 0) rotated 30° from x towards y\n",
    "arr_old = np.array([3 ** 0.5 / 2, 0.5, 0])\n",
    "arr_new = DCM @ arr_old\n",
    "arr_new"
   ]
  },
  {
   "cell_type": "markdown",
   "metadata": {},
   "source": [
    "## SymPy"
   ]
  },
  {
   "cell_type": "code",
   "execution_count": 17,
   "metadata": {},
   "outputs": [],
   "source": [
    "from sympy.physics.vector import ReferenceFrame"
   ]
  },
  {
   "cell_type": "code",
   "execution_count": 18,
   "metadata": {},
   "outputs": [],
   "source": [
    "source = ReferenceFrame('source')\n",
    "target = source.orientnew('target', 'Body', [0, 0, 90*np.pi/180],  'XYZ')\n",
    "DCM = np.array(target.dcm(source).evalf()).astype(float)\n",
    "DCM[np.abs(DCM) < 1e-12] = 0."
   ]
  },
  {
   "cell_type": "code",
   "execution_count": 19,
   "metadata": {},
   "outputs": [
    {
     "data": {
      "text/plain": [
       "array([[ 0.,  1.,  0.],\n",
       "       [-1.,  0.,  0.],\n",
       "       [ 0.,  0.,  1.]])"
      ]
     },
     "execution_count": 19,
     "metadata": {},
     "output_type": "execute_result"
    }
   ],
   "source": [
    "DCM"
   ]
  },
  {
   "cell_type": "markdown",
   "metadata": {},
   "source": [
    "## DewLoosh"
   ]
  },
  {
   "cell_type": "code",
   "execution_count": 20,
   "metadata": {},
   "outputs": [],
   "source": [
    "from dewloosh.math.linalg import Vector, ReferenceFrame"
   ]
  },
  {
   "cell_type": "code",
   "execution_count": 21,
   "metadata": {},
   "outputs": [
    {
     "data": {
      "text/plain": [
       "ArrayBase([[ 0.,  1.,  0.],\n",
       "           [-1.,  0.,  0.],\n",
       "           [ 0.,  0.,  1.]])"
      ]
     },
     "execution_count": 21,
     "metadata": {},
     "output_type": "execute_result"
    }
   ],
   "source": [
    "source = ReferenceFrame(dim=3)\n",
    "target = source.orient_new('Body', [0, 0, 90*np.pi/180],  'XYZ')\n",
    "DCM = source.dcm(target=target)\n",
    "DCM[np.abs(DCM) < 1e-12] = 0.\n",
    "DCM"
   ]
  },
  {
   "cell_type": "code",
   "execution_count": 22,
   "metadata": {},
   "outputs": [
    {
     "data": {
      "text/plain": [
       "ArrayBase([[ 0.,  1.,  0.],\n",
       "           [-1.,  0.,  0.],\n",
       "           [ 0.,  0.,  1.]])"
      ]
     },
     "execution_count": 22,
     "metadata": {},
     "output_type": "execute_result"
    }
   ],
   "source": [
    "DCM = target.dcm()\n",
    "DCM[np.abs(DCM) < 1e-12] = 0.\n",
    "DCM"
   ]
  },
  {
   "cell_type": "code",
   "execution_count": 23,
   "metadata": {},
   "outputs": [
    {
     "data": {
      "text/plain": [
       "ArrayBase([[ 6.123234e-17,  1.000000e+00,  0.000000e+00],\n",
       "           [-1.000000e+00,  6.123234e-17,  0.000000e+00],\n",
       "           [ 0.000000e+00,  0.000000e+00,  1.000000e+00]])"
      ]
     },
     "execution_count": 23,
     "metadata": {},
     "output_type": "execute_result"
    }
   ],
   "source": [
    "target.dcm(source=source)"
   ]
  },
  {
   "cell_type": "code",
   "execution_count": 24,
   "metadata": {},
   "outputs": [
    {
     "data": {
      "text/plain": [
       "array([ 0.5      , -0.8660254,  0.       ])"
      ]
     },
     "execution_count": 24,
     "metadata": {},
     "output_type": "execute_result"
    }
   ],
   "source": [
    "Vector(arr_old, frame=source).show(target)"
   ]
  }
 ],
 "metadata": {
  "kernelspec": {
   "display_name": "Python 3.8.10 ('.venv': venv)",
   "language": "python",
   "name": "python3"
  },
  "language_info": {
   "codemirror_mode": {
    "name": "ipython",
    "version": 3
   },
   "file_extension": ".py",
   "mimetype": "text/x-python",
   "name": "python",
   "nbconvert_exporter": "python",
   "pygments_lexer": "ipython3",
   "version": "3.8.10"
  },
  "orig_nbformat": 4,
  "vscode": {
   "interpreter": {
    "hash": "d6ff239af90ab79b7020be6d39cb5c94bfe3a7ef5a06e1710f0ade021c337eda"
   }
  }
 },
 "nbformat": 4,
 "nbformat_minor": 2
}
