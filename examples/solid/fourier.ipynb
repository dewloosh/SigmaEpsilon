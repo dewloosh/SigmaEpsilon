{
 "cells": [
  {
   "cell_type": "markdown",
   "metadata": {},
   "source": [
    "# Navier's solution to Beams and Plates"
   ]
  },
  {
   "cell_type": "code",
   "execution_count": 40,
   "metadata": {},
   "outputs": [],
   "source": [
    "from dewloosh.solid.fourier import RectangularPlate, LoadGroup\n",
    "from dewloosh.mesh import grid, PolyData\n",
    "from dewloosh.mesh.topo.tr import Q4_to_T3\n",
    "from dewloosh.mesh.space import StandardFrame\n",
    "import numpy as np\n",
    "from copy import deepcopy\n"
   ]
  },
  {
   "cell_type": "code",
   "execution_count": 41,
   "metadata": {},
   "outputs": [],
   "source": [
    "Lx, Ly = 800., 400.\n",
    "nx, ny = 5, 5\n",
    "rx, ry = 10, 10\n",
    "E = 2890.\n",
    "nu = 0.2\n",
    "t = 25.\n",
    "x0, y0, w, h, q = 200., 100., 100., 200., -0.2\n"
   ]
  },
  {
   "cell_type": "code",
   "execution_count": 42,
   "metadata": {},
   "outputs": [],
   "source": [
    "loads = {\n",
    "    'LG1': {\n",
    "        'LC1': {\n",
    "            'type': 'rect',\n",
    "            'points': [[0, 0], [10, 10]],\n",
    "            'value': [0, 0, -10],\n",
    "        },\n",
    "        'LC2': {\n",
    "            'type': 'rect',\n",
    "            'region': [5., 6., 12., 10.],\n",
    "            'value': [0, 0, -2],\n",
    "        }\n",
    "    },\n",
    "    'LG2': {\n",
    "        'LC3': {\n",
    "            'type': 'point',\n",
    "            'point': [10, 10],\n",
    "            'value': [0, 0, -10],\n",
    "        }\n",
    "    },\n",
    "    'dummy1': 10\n",
    "}\n",
    "\n",
    "LC = LoadGroup.from_dict(loads)\n"
   ]
  },
  {
   "cell_type": "code",
   "execution_count": 43,
   "metadata": {},
   "outputs": [],
   "source": [
    "gridparams = {\n",
    "    'size': (Lx, Ly),\n",
    "    'shape': (rx, ry),\n",
    "    'origo': (0, 0),\n",
    "    'start': 0,\n",
    "    'eshape': 'Q4'\n",
    "}\n",
    "coords_, topo = grid(**gridparams)\n",
    "coords = np.zeros((coords_.shape[0], 3))\n",
    "coords[:, :2] = coords_[:, :]\n",
    "coords, triangles = Q4_to_T3(coords, topo)\n",
    "GlobalFrame = StandardFrame(dim=3)\n",
    "mesh = PolyData(coords=coords, topo=triangles, frame=GlobalFrame)\n"
   ]
  },
  {
   "cell_type": "code",
   "execution_count": 44,
   "metadata": {},
   "outputs": [],
   "source": [
    "# material\n",
    "G = E/2/(1+nu)\n",
    "D = np.array([[1, nu, 0], [nu, 1, 0],\n",
    "              [0., 0, (1-nu)/2]]) * t**3 * (E / (1-nu**2)) / 12\n",
    "S = np.array([[G, 0], [0, G]]) * t * 5 / 6\n"
   ]
  },
  {
   "cell_type": "code",
   "execution_count": 45,
   "metadata": {},
   "outputs": [
    {
     "data": {
      "text/plain": [
       "LoadGroup({'LG1': LoadGroup({'LC1': RectLoad({'type': 'rect', 'key': 'LC1'}), 'LC2': RectLoad({'type': 'rect', 'key': 'LC2'}), 'key': 'LG1'}), 'LG2': LoadGroup({'LC3': PointLoad({'type': 'point', 'key': 'LC3'}), 'key': 'LG2'}), 'dummy1': 10})"
      ]
     },
     "execution_count": 45,
     "metadata": {},
     "output_type": "execute_result"
    }
   ],
   "source": [
    "P = RectangularPlate((Lx, Ly), (nx, ny), D=D, S=S)\n",
    "P.add_loads_from_dict(deepcopy(loads))"
   ]
  },
  {
   "cell_type": "code",
   "execution_count": 46,
   "metadata": {},
   "outputs": [],
   "source": [
    "P.model = 'm'\n",
    "P.solve()\n",
    "P.postproc(coords[:, :2], cleanup=False)"
   ]
  },
  {
   "cell_type": "code",
   "execution_count": 47,
   "metadata": {},
   "outputs": [],
   "source": [
    "P.model = 'k'\n",
    "P.solve()\n",
    "P.postproc(coords[:, :2], cleanup=False)"
   ]
  },
  {
   "cell_type": "code",
   "execution_count": 48,
   "metadata": {},
   "outputs": [
    {
     "name": "stdout",
     "output_type": "stream",
     "text": [
      "['LG1', 'LC1']\n",
      "['LG1', 'LC2']\n",
      "['LG2', 'LC3']\n"
     ]
    }
   ],
   "source": [
    "for lc in P.loads.load_cases():\n",
    "    print(lc.address)"
   ]
  }
 ],
 "metadata": {
  "kernelspec": {
   "display_name": "Python 3.8.10 ('.venv': venv)",
   "language": "python",
   "name": "python3"
  },
  "language_info": {
   "codemirror_mode": {
    "name": "ipython",
    "version": 3
   },
   "file_extension": ".py",
   "mimetype": "text/x-python",
   "name": "python",
   "nbconvert_exporter": "python",
   "pygments_lexer": "ipython3",
   "version": "3.8.10"
  },
  "orig_nbformat": 4,
  "vscode": {
   "interpreter": {
    "hash": "8fdb1b8cc96b0d6e5614270c5d543a83dcb13430fb4a0248696f310c9526b3b4"
   }
  }
 },
 "nbformat": 4,
 "nbformat_minor": 2
}
