{
    "cells": [
        {
            "cell_type": "markdown",
            "metadata": {},
            "source": [
                "# **Bernoulli vs. 3d**"
            ]
        },
        {
            "cell_type": "markdown",
            "metadata": {},
            "source": [
                "A short comparison of different modeling techniques of a simple console. The beam has a rectangular prismatic cross-section and a linear elastic material model, governed by the following parameters:"
            ]
        },
        {
            "cell_type": "code",
            "execution_count": 16,
            "metadata": {},
            "outputs": [],
            "source": [
                "import numpy as np\n",
                "\n",
                "L = 100.  # length of the console\n",
                "F = -100.  # value of the vertical load at the free end\n",
                "E = 210000.0  # Young's modulus\n",
                "nu = 0.3  # Poisson's ratio\n"
            ]
        },
        {
            "cell_type": "code",
            "execution_count": 17,
            "metadata": {},
            "outputs": [],
            "source": [
                "from sigmaepsilon import BeamSection, get_section\n",
                "\n",
                "section = get_section('CHS', D=10.0, t=1.0, n=64)\n",
                "beam = BeamSection(wrap=section)\n",
                "beam.calculate_geometric_properties()\n",
                "props = beam.geometric_properties\n",
                "A = props['A']\n",
                "Iy = props['Iy']\n",
                "Iz = props['Iz']\n",
                "Ix = props['Ix']\n"
            ]
        },
        {
            "cell_type": "markdown",
            "metadata": {},
            "source": [
                "# 1d Solution - Exact Analytical"
            ]
        },
        {
            "cell_type": "markdown",
            "metadata": {},
            "source": [
                "Analytic solution for the tip displacement of an 1d Euler-Bernoulli beam:"
            ]
        },
        {
            "cell_type": "code",
            "execution_count": 18,
            "metadata": {},
            "outputs": [
                {
                    "data": {
                        "text/plain": [
                            "-0.5494633275573824"
                        ]
                    },
                    "execution_count": 18,
                    "metadata": {},
                    "output_type": "execute_result"
                }
            ],
            "source": [
                "# Bernoulli solution\n",
                "EI = E * Iy\n",
                "sol_exact = F * L**3 / (3 * EI)\n",
                "tol = np.abs(sol_exact / 1000)\n",
                "sol_exact\n"
            ]
        },
        {
            "cell_type": "markdown",
            "metadata": {},
            "source": [
                "# 1d Solution - Approximate Numerical"
            ]
        },
        {
            "cell_type": "code",
            "execution_count": 19,
            "metadata": {},
            "outputs": [],
            "source": [
                "nElem = 20  # number of finite elements to use\n"
            ]
        },
        {
            "cell_type": "code",
            "execution_count": 20,
            "metadata": {},
            "outputs": [
                {
                    "data": {
                        "text/plain": [
                            "-0.5494643276574214"
                        ]
                    },
                    "execution_count": 20,
                    "metadata": {},
                    "output_type": "execute_result"
                }
            ],
            "source": [
                "from sigmaepsilon import Structure, LineMesh, PointData\n",
                "from sigmaepsilon.math.linalg import linspace, Vector\n",
                "from sigmaepsilon.mesh.space import StandardFrame, PointCloud, frames_of_lines\n",
                "from sigmaepsilon.fem.cells import B2 as Beam\n",
                "\n",
                "import numpy as np\n",
                "from numpy import pi as PI\n",
                "\n",
                "\n",
                "# model stiffness matrix\n",
                "G = E / (2 * (1 + nu))\n",
                "Hooke = np.array([\n",
                "    [E*A, 0, 0, 0],\n",
                "    [0, G*Ix, 0, 0],\n",
                "    [0, 0, E*Iy, 0],\n",
                "    [0, 0, 0, E*Iz]\n",
                "])\n",
                "\n",
                "# space\n",
                "GlobalFrame = StandardFrame(dim=3)\n",
                "\n",
                "# mesh\n",
                "p0 = np.array([0., 0., 0.])\n",
                "p1 = np.array([L, 0., 0.])\n",
                "coords = linspace(p0, p1, nElem+1)\n",
                "coords = PointCloud(coords, frame=GlobalFrame).show()\n",
                "topo = np.zeros((nElem, 2), dtype=int)\n",
                "topo[:, 0] = np.arange(nElem)\n",
                "topo[:, 1] = np.arange(nElem) + 1\n",
                "\n",
                "# support at the leftmost, load at the rightmost node\n",
                "loads = np.zeros((coords.shape[0], 6))\n",
                "fixity = np.zeros((coords.shape[0], 6)).astype(bool)\n",
                "global_load_vector = Vector([0., 0, F], frame=GlobalFrame).show()\n",
                "loads[-1, :3] = global_load_vector\n",
                "fixity[0, :] = True\n",
                "\n",
                "# pointdata\n",
                "pd = PointData(coords=coords, frame=GlobalFrame,\n",
                "               loads=loads, fixity=fixity)\n",
                "\n",
                "# celldata\n",
                "frames = frames_of_lines(coords, topo)\n",
                "cd = Beam(topo=topo, frames=frames)\n",
                "\n",
                "# set up mesh and structure\n",
                "mesh = LineMesh(pd, cd, model=Hooke, frame=GlobalFrame)\n",
                "structure = Structure(mesh=mesh)\n",
                "structure.linsolve()\n",
                "\n",
                "# postproc\n",
                "# 1) displace the mesh\n",
                "dofsol = structure.nodal_dof_solution()[:, :3]\n",
                "local_dof_solution = dofsol[-1, :3]\n",
                "sol_fem_1d_B2 = local_dof_solution[2]\n",
                "sol_fem_1d_B2\n"
            ]
        },
        {
            "cell_type": "code",
            "execution_count": 21,
            "metadata": {},
            "outputs": [
                {
                    "data": {
                        "image/png": "[encoded data removed]",
                        "text/plain": [
                            "<PIL.Image.Image image mode=RGB size=600x400>"
                        ]
                    },
                    "metadata": {},
                    "output_type": "display_data"
                }
            ],
            "source": [
                "mesh.config['pyvista', 'plot', 'scalars'] = dofsol[:, 2]\n",
                "mesh.config['pyvista', 'plot', 'line_width'] = 10\n",
                "mesh.pvplot(notebook=True, jupyter_backend='static', window_size=(600, 400),\n",
                "            config_key=('pyvista', 'plot'), cmap='plasma')\n"
            ]
        },
        {
            "cell_type": "markdown",
            "metadata": {},
            "source": [
                "# 3d Solution"
            ]
        },
        {
            "cell_type": "code",
            "execution_count": 22,
            "metadata": {},
            "outputs": [],
            "source": [
                "from sigmaepsilon import Structure, PointData, FemMesh\n",
                "from sigmaepsilon.mesh.space import StandardFrame\n",
                "from sigmaepsilon.fem.cells import TET4 as Cell\n",
                "from dewloosh.math.array import repeat\n",
                "import numpy as np\n",
                "\n",
                "beam = BeamSection(wrap=section)\n",
                "GlobalFrame = StandardFrame(dim=3)\n",
                "mesh3d = beam.trimesh(frame=GlobalFrame, newaxis=0).extrude(h=L, N=120)\n",
                "\n",
                "coords, topo = mesh3d.coords(), mesh3d.topology()\n",
                "\n",
                "A = np.array([\n",
                "    [1, nu, nu, 0, 0, 0],\n",
                "    [nu, 1, nu, 0, 0, 0],\n",
                "    [nu, nu, 1, 0, 0, 0],\n",
                "    [0., 0, 0, (1-nu)/2, 0, 0],\n",
                "    [0., 0, 0, 0, (1-nu)/2, 0],\n",
                "    [0., 0, 0, 0, 0, (1-nu)/2]]) * (E / (1-nu**2))\n",
                "\n",
                "# fix points at x==0\n",
                "cond = coords[:, 0] <= 0.001\n",
                "ebcinds = np.where(cond)[0]\n",
                "fixity = np.zeros((coords.shape[0], 6), dtype=bool)\n",
                "fixity[ebcinds, :] = True\n",
                "fixity[:, 3:] = True\n",
                "\n",
                "# unit vertical load at (Lx, Ly)\n",
                "cond = (coords[:, 0] > (L-(1e-12)))\n",
                "nbcinds = np.where(cond)[0][0]\n",
                "loads = np.zeros((coords.shape[0], 6))\n",
                "loads[nbcinds, 2] = F\n",
                "\n",
                "# pointdata\n",
                "pd = PointData(coords=coords, frame=GlobalFrame,\n",
                "               loads=loads, fixity=fixity)\n",
                "\n",
                "# celldata\n",
                "frames = repeat(GlobalFrame.show(), topo.shape[0])\n",
                "cd = Cell(topo=topo, frames=frames)\n",
                "\n",
                "# set up mesh and structure\n",
                "mesh = FemMesh(pd, cd, model=A, frame=GlobalFrame)\n",
                "structure = Structure(mesh=mesh)\n",
                "\n",
                "structure.linsolve()\n",
                "dofsol = structure.nodal_dof_solution()\n",
                "structure.mesh.pointdata['x'] = coords + dofsol[:, :3]\n",
                "sol_fem_3d = dofsol[:, 2].min()\n"
            ]
        },
        {
            "cell_type": "code",
            "execution_count": 23,
            "metadata": {},
            "outputs": [
                {
                    "data": {
                        "text/plain": [
                            "(-0.5862944040864626, -0.5494643276574214, -0.5494633275573824)"
                        ]
                    },
                    "execution_count": 23,
                    "metadata": {},
                    "output_type": "execute_result"
                }
            ],
            "source": [
                "sol_fem_3d, sol_fem_1d_B2, sol_exact\n"
            ]
        },
        {
            "cell_type": "code",
            "execution_count": 24,
            "metadata": {},
            "outputs": [
                {
                    "data": {
                        "application/vnd.jupyter.widget-view+json": {
                            "model_id": "f840507b93d24616b425e68b28c59154",
                            "version_major": 2,
                            "version_minor": 0
                        },
                        "text/plain": [
                            "Renderer(camera=PerspectiveCamera(aspect=1.5, children=(DirectionalLight(intensity=0.25, position=(0.0, 0.0, 1…"
                        ]
                    },
                    "metadata": {},
                    "output_type": "display_data"
                }
            ],
            "source": [
                "mesh.config['pyvista', 'plot', 'scalars'] = dofsol[:, 2]\n",
                "mesh.pvplot(notebook=True, jupyter_backend='pythreejs', window_size=(600, 400),\n",
                "            config_key=('pyvista', 'plot'), cmap='plasma')\n"
            ]
        },
        {
            "cell_type": "code",
            "execution_count": 25,
            "metadata": {},
            "outputs": [
                {
                    "data": {
                        "image/png": "[encoded data removed]",
                        "text/plain": [
                            "<Figure size 432x288 with 1 Axes>"
                        ]
                    },
                    "metadata": {
                        "needs_background": "light"
                    },
                    "output_type": "display_data"
                }
            ],
            "source": [
                "import matplotlib.pyplot as plt\n",
                "fig = plt.figure()\n",
                "ax = fig.add_axes([0, 0, 1, 1])\n",
                "labels = ['TET4', 'B2', 'BA']\n",
                "values = [sol_fem_3d, sol_fem_1d_B2, sol_exact]\n",
                "ax.bar(labels, values)\n",
                "plt.show()\n"
            ]
        },
        {
            "cell_type": "code",
            "execution_count": 26,
            "metadata": {},
            "outputs": [],
            "source": [
                "from pyvistaqt import BackgroundPlotter\n",
                "plotter = BackgroundPlotter()\n",
                "mesh.pvplot(plotter=plotter)\n",
                "plotter.show()\n"
            ]
        }
    ],
    "metadata": {
        "kernelspec": {
            "display_name": "Python 3.8.10 ('.venv': venv)",
            "language": "python",
            "name": "python3"
        },
        "language_info": {
            "codemirror_mode": {
                "name": "ipython",
                "version": 3
            },
            "file_extension": ".py",
            "mimetype": "text/x-python",
            "name": "python",
            "nbconvert_exporter": "python",
            "pygments_lexer": "ipython3",
            "version": "3.8.10"
        },
        "orig_nbformat": 4,
        "vscode": {
            "interpreter": {
                "hash": "81af22673e51a55db93ad07d3dd2d272490ff9da1a60e01b8f0931d11d215c80"
            }
        }
    },
    "nbformat": 4,
    "nbformat_minor": 2
}
