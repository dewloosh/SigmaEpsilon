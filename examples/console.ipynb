{
    "cells": [
        {
            "cell_type": "markdown",
            "metadata": {},
            "source": [
                "# **Console**"
            ]
        },
        {
            "cell_type": "markdown",
            "metadata": {},
            "source": [
                "A short comparison of different modeling techniques of a simple console. The beam has a rectangular prismatic cross-section and a linear elastic material model, governed by the following parameters:"
            ]
        },
        {
            "cell_type": "code",
            "execution_count": 1,
            "metadata": {},
            "outputs": [],
            "source": [
                "L = 100.  # length of the console\n",
                "w, h = 10., 10.  # width and height\n",
                "F = -100.  # value of the vertical load at the free end\n",
                "E = 210000.0  # Young's modulus\n",
                "nu = 0.3  # Poisson's ratio\n"
            ]
        },
        {
            "cell_type": "markdown",
            "metadata": {},
            "source": [
                "The cross sectional properties:"
            ]
        },
        {
            "cell_type": "code",
            "execution_count": 2,
            "metadata": {},
            "outputs": [],
            "source": [
                "# cross section\n",
                "A = w * h\n",
                "Iy = w * h**3 / 12\n",
                "Iz = w * h**3 / 12\n",
                "Ix = Iy + Iz\n"
            ]
        },
        {
            "cell_type": "code",
            "execution_count": 3,
            "metadata": {},
            "outputs": [],
            "source": [
                "import numpy as np\n"
            ]
        },
        {
            "cell_type": "markdown",
            "metadata": {},
            "source": [
                "# 1d Solution - Exact Analytical"
            ]
        },
        {
            "cell_type": "markdown",
            "metadata": {},
            "source": [
                "Analytic solution for the tip displacement of an 1d Euler-Bernoulli beam:"
            ]
        },
        {
            "cell_type": "code",
            "execution_count": 4,
            "metadata": {},
            "outputs": [
                {
                    "data": {
                        "text/plain": [
                            "-0.19047619047619047"
                        ]
                    },
                    "execution_count": 4,
                    "metadata": {},
                    "output_type": "execute_result"
                }
            ],
            "source": [
                "# Bernoulli solution\n",
                "EI = E * Iy\n",
                "sol_exact = F * L**3 / (3 * EI)\n",
                "tol = np.abs(sol_exact / 1000)\n",
                "sol_exact\n"
            ]
        },
        {
            "cell_type": "markdown",
            "metadata": {},
            "source": [
                "# 1d Solution - Approximate Numerical"
            ]
        },
        {
            "cell_type": "code",
            "execution_count": 5,
            "metadata": {},
            "outputs": [],
            "source": [
                "nElem = 20  # number of finite elements to use\n"
            ]
        },
        {
            "cell_type": "code",
            "execution_count": 6,
            "metadata": {},
            "outputs": [],
            "source": [
                "from sigmaepsilon import Structure, LineMesh, PointData\n",
                "from sigmaepsilon.math.linalg import linspace, Vector\n",
                "from sigmaepsilon.mesh.space import StandardFrame, PointCloud, frames_of_lines\n",
                "from sigmaepsilon.fem.cells import B2 as Beam\n",
                "\n",
                "import numpy as np\n",
                "from numpy import pi as PI\n",
                "\n",
                "\n",
                "# model stiffness matrix\n",
                "G = E / (2 * (1 + nu))\n",
                "Hooke = np.array([\n",
                "    [E*A, 0, 0, 0],\n",
                "    [0, G*Ix, 0, 0],\n",
                "    [0, 0, E*Iy, 0],\n",
                "    [0, 0, 0, E*Iz]\n",
                "])\n",
                "\n",
                "# space\n",
                "GlobalFrame = StandardFrame(dim=3)\n",
                "\n",
                "# mesh\n",
                "p0 = np.array([0., 0., 0.])\n",
                "p1 = np.array([L, 0., 0.])\n",
                "coords = linspace(p0, p1, nElem+1)\n",
                "coords = PointCloud(coords, frame=GlobalFrame).show()\n",
                "topo = np.zeros((nElem, 2), dtype=int)\n",
                "topo[:, 0] = np.arange(nElem)\n",
                "topo[:, 1] = np.arange(nElem) + 1\n",
                "\n",
                "# support at the leftmost, load at the rightmost node\n",
                "loads = np.zeros((coords.shape[0], 6))\n",
                "fixity = np.zeros((coords.shape[0], 6)).astype(bool)\n",
                "global_load_vector = Vector([0., 0, F], frame=GlobalFrame).show()\n",
                "loads[-1, :3] = global_load_vector\n",
                "fixity[0, :] = True\n",
                "\n",
                "# pointdata\n",
                "pd = PointData(coords=coords, frame=GlobalFrame,\n",
                "               loads=loads, fixity=fixity)\n",
                "\n",
                "# celldata\n",
                "frames = frames_of_lines(coords, topo)\n",
                "cd = Beam(topo=topo, frames=frames)\n",
                "\n",
                "# set up mesh and structure\n",
                "mesh = LineMesh(pd, cd, model=Hooke, frame=GlobalFrame)\n",
                "structure = Structure(mesh=mesh)\n",
                "structure.linsolve()\n",
                "\n",
                "# postproc\n",
                "# 1) displace the mesh\n",
                "dofsol = structure.nodal_dof_solution()[:, :3]\n",
                "local_dof_solution = dofsol[-1, :3]\n",
                "sol_fem_1d_B2 = local_dof_solution[2]\n"
            ]
        },
        {
            "cell_type": "markdown",
            "metadata": {},
            "source": [
                "## 2d Solution"
            ]
        },
        {
            "cell_type": "markdown",
            "metadata": {},
            "source": [
                "### Membrane"
            ]
        },
        {
            "cell_type": "code",
            "execution_count": 7,
            "metadata": {},
            "outputs": [],
            "source": [
                "from dewloosh.math.array import repeat\n",
                "from dewloosh.mesh.rgrid import gridQ4\n",
                "from sigmaepsilon import FemMesh\n",
                "from sigmaepsilon.model import Membrane\n",
                "from sigmaepsilon.fem.cells import Q4M\n",
                "import numpy as np\n",
                "\n",
                "size = Lx, Lz = (L, h)\n",
                "shape = nx, nz = (200, 20)\n",
                "\n",
                "gridparams = {\n",
                "    'size': size,\n",
                "    'shape': shape,\n",
                "    'origo': (0, 0),\n",
                "    'start': 0\n",
                "}\n",
                "\n",
                "coords2d, topo = gridQ4(**gridparams)\n",
                "coords = np.zeros((coords2d.shape[0], 3))\n",
                "coords[:, [0, 2]] = coords2d[:, :]\n",
                "\n",
                "# fix points at x==0\n",
                "cond = coords[:, 0] <= 0.001\n",
                "ebcinds = np.where(cond)[0]\n",
                "fixity = np.zeros((coords.shape[0], 6), dtype=bool)\n",
                "fixity[ebcinds, :] = True\n",
                "fixity[:, 3:] = True\n",
                "fixity[:, 1] = True\n",
                "\n",
                "# loads\n",
                "loads = np.zeros((coords.shape[0], 6))\n",
                "cond = (coords[:, 0] > (Lx-(1e-12))) & (np.abs(coords[:, 2] - (Lz/2)) < 1e-12)\n",
                "nbcinds = np.where(cond)[0]\n",
                "loads[nbcinds, 2] = F\n",
                "\n",
                "membrane = {\n",
                "    '0': {\n",
                "        'hooke': Membrane.Hooke(E=E, nu=nu),\n",
                "        'angle': 0.,\n",
                "        'thickness': w\n",
                "    },\n",
                "}\n",
                "A = Membrane.from_dict(membrane).stiffness_matrix()\n",
                "\n",
                "GlobalFrame = StandardFrame(dim=3)\n",
                "\n",
                "# pointdata\n",
                "pd = PointData(coords=coords, frame=GlobalFrame,\n",
                "               loads=loads, fixity=fixity)\n",
                "\n",
                "# celldata\n",
                "frame = GlobalFrame.orient_new('Body', [np.pi/2, 0, 0], 'XYZ')\n",
                "frames = repeat(frame.show(), topo.shape[0])\n",
                "cd = Q4M(topo=topo, frames=frames)\n",
                "\n",
                "# set up mesh and structure\n",
                "mesh = FemMesh(pd, cd, model=A, frame=GlobalFrame)\n",
                "structure = Structure(mesh=mesh)\n",
                "structure.linsolve()\n",
                "\n",
                "dofsol = structure.nodal_dof_solution()\n",
                "sol_fem_2d_M = dofsol[:, 2].min()\n"
            ]
        },
        {
            "cell_type": "markdown",
            "metadata": {},
            "source": [
                "### Plate"
            ]
        },
        {
            "cell_type": "code",
            "execution_count": 8,
            "metadata": {},
            "outputs": [],
            "source": [
                "from dewloosh.math.array import repeat\n",
                "from dewloosh.mesh.rgrid import gridQ9 as grid\n",
                "from sigmaepsilon.model import MindlinPlate as Model\n",
                "from sigmaepsilon.fem.cells import Q9P as Cell\n",
                "from sigmaepsilon import FemMesh\n",
                "import numpy as np\n",
                "\n",
                "size = Lx, Ly = (L, w)\n",
                "shape = nx, ny = (200, 20)\n",
                "\n",
                "gridparams = {\n",
                "    'size': size,\n",
                "    'shape': shape,\n",
                "    'origo': (0, 0),\n",
                "    'start': 0\n",
                "}\n",
                "\n",
                "coords2d, topo = grid(**gridparams)\n",
                "coords = np.zeros((coords2d.shape[0], 3))\n",
                "coords[:, :2] = coords2d[:, :]\n",
                "\n",
                "# fix points at x==0\n",
                "cond = coords[:, 0] <= 0.001\n",
                "ebcinds = np.where(cond)[0]\n",
                "fixity = np.zeros((coords.shape[0], 6), dtype=bool)\n",
                "fixity[ebcinds, :] = True\n",
                "fixity[:, :2] = True\n",
                "fixity[:, -1] = True\n",
                "\n",
                "# loads\n",
                "loads = np.zeros((coords.shape[0], 6))\n",
                "cond = (coords[:, 0] > (Lx-(1e-12))) & (np.abs(coords[:, 1] - (Ly/2)) < 1e-12)\n",
                "nbcinds = np.where(cond)[0]\n",
                "loads[nbcinds, 2] = F\n",
                "\n",
                "model = {\n",
                "    '0': {\n",
                "        'hooke': Model.Hooke(E=E, nu=nu),\n",
                "        'angle': 0.,\n",
                "        'thickness': h\n",
                "    },\n",
                "}\n",
                "C = Model.from_dict(model).stiffness_matrix()\n",
                "\n",
                "GlobalFrame = StandardFrame(dim=3)\n",
                "\n",
                "# pointdata\n",
                "pd = PointData(coords=coords, frame=GlobalFrame,\n",
                "               loads=loads, fixity=fixity)\n",
                "\n",
                "# celldata\n",
                "frames = repeat(np.eye(3), topo.shape[0])\n",
                "cd = Cell(topo=topo, frames=frames)\n",
                "\n",
                "# set up mesh and structure\n",
                "mesh = FemMesh(pd, cd, model=C, frame=GlobalFrame)\n",
                "structure = Structure(mesh=mesh)\n",
                "\n",
                "structure.linsolve()\n",
                "\n",
                "dofsol = structure.nodal_dof_solution()\n",
                "sol_fem_2d_P = dofsol[:, 2].min()\n"
            ]
        },
        {
            "cell_type": "markdown",
            "metadata": {},
            "source": [
                "# 3d Solution"
            ]
        },
        {
            "cell_type": "code",
            "execution_count": 9,
            "metadata": {},
            "outputs": [],
            "source": [
                "from sigmaepsilon import Structure, PointData, FemMesh\n",
                "from sigmaepsilon.mesh.space import StandardFrame\n",
                "from sigmaepsilon.fem.cells import H8 as Cell\n",
                "from dewloosh.mesh.rgrid import gridH8 as grid\n",
                "from dewloosh.math.array import repeat\n",
                "import numpy as np\n",
                "\n",
                "size = Lx, Ly, Lz = (L, w, h)\n",
                "shape = nx, ny, nz = (100, 10, 10)\n",
                "\n",
                "gridparams = {\n",
                "    'size': size,\n",
                "    'shape': shape,\n",
                "    'origo': (0, 0, 0),\n",
                "    'start': 0\n",
                "}\n",
                "\n",
                "coords, topo = grid(**gridparams)\n",
                "\n",
                "A = np.array([\n",
                "    [1, nu, nu, 0, 0, 0],\n",
                "    [nu, 1, nu, 0, 0, 0],\n",
                "    [nu, nu, 1, 0, 0, 0],\n",
                "    [0., 0, 0, (1-nu)/2, 0, 0],\n",
                "    [0., 0, 0, 0, (1-nu)/2, 0],\n",
                "    [0., 0, 0, 0, 0, (1-nu)/2]]) * (E / (1-nu**2))\n",
                "\n",
                "# fix points at x==0\n",
                "cond = coords[:, 0] <= 0.001\n",
                "ebcinds = np.where(cond)[0]\n",
                "fixity = np.zeros((coords.shape[0], 6), dtype=bool)\n",
                "fixity[ebcinds, :] = True\n",
                "fixity[:, 3:] = True\n",
                "\n",
                "# unit vertical load at (Lx, Ly)\n",
                "cond = (coords[:, 0] > (Lx-(1e-12))) & \\\n",
                "    (np.abs(coords[:, 1] - (Ly/2)) < 1e-12) & \\\n",
                "    (np.abs(coords[:, 2] - (Lz/2)) < 1e-12)\n",
                "nbcinds = np.where(cond)[0]\n",
                "loads = np.zeros((coords.shape[0], 6))\n",
                "loads[nbcinds, 2] = F\n",
                "\n",
                "GlobalFrame = StandardFrame(dim=3)\n",
                "\n",
                "# pointdata\n",
                "pd = PointData(coords=coords, frame=GlobalFrame,\n",
                "               loads=loads, fixity=fixity)\n",
                "\n",
                "# celldata\n",
                "frames = repeat(GlobalFrame.show(), topo.shape[0])\n",
                "cd = Cell(topo=topo, frames=frames)\n",
                "\n",
                "# set up mesh and structure\n",
                "mesh = FemMesh(pd, cd, model=A, frame=GlobalFrame)\n",
                "structure = Structure(mesh=mesh)\n",
                "\n",
                "structure.linsolve()\n",
                "dofsol = structure.nodal_dof_solution()\n",
                "structure.mesh.pointdata['x'] = coords + dofsol[:, :3]\n",
                "sol_fem_3d = dofsol[:, 2].min()\n"
            ]
        },
        {
            "cell_type": "code",
            "execution_count": 10,
            "metadata": {},
            "outputs": [
                {
                    "data": {
                        "text/plain": [
                            "(-0.20393830805055974,\n",
                            " -182.83838483236008,\n",
                            " -0.1914342040790926,\n",
                            " -0.19047719057503856,\n",
                            " -0.19047619047619047)"
                        ]
                    },
                    "execution_count": 10,
                    "metadata": {},
                    "output_type": "execute_result"
                }
            ],
            "source": [
                "sol_fem_3d, sol_fem_2d_P, sol_fem_2d_M, sol_fem_1d_B2, sol_exact\n"
            ]
        },
        {
            "cell_type": "code",
            "execution_count": 11,
            "metadata": {},
            "outputs": [
                {
                    "data": {
                        "image/png": "[encoded data removed]",
                        "text/plain": [
                            "<Figure size 432x288 with 1 Axes>"
                        ]
                    },
                    "metadata": {
                        "needs_background": "light"
                    },
                    "output_type": "display_data"
                }
            ],
            "source": [
                "import matplotlib.pyplot as plt\n",
                "fig = plt.figure()\n",
                "ax = fig.add_axes([0, 0, 1, 1])\n",
                "labels = ['H8', 'Q4M', 'B2', 'BA']\n",
                "values = [sol_fem_3d, sol_fem_2d_M, sol_fem_1d_B2, sol_exact]\n",
                "ax.bar(labels, values)\n",
                "plt.show()\n"
            ]
        }
    ],
    "metadata": {
        "kernelspec": {
            "display_name": "Python 3.8.10 ('.venv': venv)",
            "language": "python",
            "name": "python3"
        },
        "language_info": {
            "codemirror_mode": {
                "name": "ipython",
                "version": 3
            },
            "file_extension": ".py",
            "mimetype": "text/x-python",
            "name": "python",
            "nbconvert_exporter": "python",
            "pygments_lexer": "ipython3",
            "version": "3.8.10"
        },
        "orig_nbformat": 4,
        "vscode": {
            "interpreter": {
                "hash": "81af22673e51a55db93ad07d3dd2d272490ff9da1a60e01b8f0931d11d215c80"
            }
        }
    },
    "nbformat": 4,
    "nbformat_minor": 2
}
