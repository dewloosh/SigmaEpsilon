{
    "cells": [
        {
            "cell_type": "markdown",
            "metadata": {},
            "source": [
                "# **3d Solids**"
            ]
        },
        {
            "cell_type": "markdown",
            "metadata": {},
            "source": [
                "## Step 1 : Mesh"
            ]
        },
        {
            "cell_type": "code",
            "execution_count": 7,
            "metadata": {},
            "outputs": [],
            "source": [
                "from dewloosh.mesh.rgrid import gridH8 as grid\n",
                "import numpy as np\n",
                "\n",
                "size = Lx, Ly, Lz = (20, 4, 4)\n",
                "shape = nx, ny, nz = (40, 10, 10)\n",
                "\n",
                "gridparams = {\n",
                "    'size': size,\n",
                "    'shape': shape,\n",
                "    'origo': (0, 0, 0),\n",
                "    'start': 0\n",
                "}\n",
                "\n",
                "coords, topo = grid(**gridparams)"
            ]
        },
        {
            "cell_type": "markdown",
            "metadata": {},
            "source": [
                "## Step 2 : Material"
            ]
        },
        {
            "cell_type": "code",
            "execution_count": 8,
            "metadata": {},
            "outputs": [],
            "source": [
                "E = 12000.\n",
                "nu = 0.2\n",
                "A = np.array([\n",
                "    [1, nu, nu, 0, 0, 0], \n",
                "    [nu, 1, nu, 0, 0, 0],\n",
                "    [nu, nu, 1, 0, 0, 0], \n",
                "    [0., 0, 0, (1-nu)/2, 0, 0],\n",
                "    [0., 0, 0, 0, (1-nu)/2, 0],\n",
                "    [0., 0, 0, 0, 0, (1-nu)/2]]) * (E / (1-nu**2))\n"
            ]
        },
        {
            "cell_type": "markdown",
            "metadata": {},
            "source": [
                "## Step 3 : Boundary Conditions"
            ]
        },
        {
            "cell_type": "code",
            "execution_count": 9,
            "metadata": {},
            "outputs": [],
            "source": [
                "# fix points at x==0\n",
                "cond = coords[:, 0] <= 0.001\n",
                "ebcinds = np.where(cond)[0]\n",
                "fixity = np.zeros((coords.shape[0], 6), dtype=bool)\n",
                "fixity[ebcinds, :] = True\n",
                "fixity[:, 3:] = True\n",
                "\n",
                "# unit vertical load at (Lx, Ly)\n",
                "F = 10\n",
                "cond = (coords[:, 0] > (Lx-(1e-12))) & \\\n",
                "    (coords[:, 1] > (Ly-(1e-12))) & \\\n",
                "        (coords[:, 2] > (Lz-(1e-12)))\n",
                "nbcinds = np.where(cond)[0]\n",
                "loads = np.zeros((coords.shape[0], 6))\n",
                "loads[nbcinds, 2] = -F\n"
            ]
        },
        {
            "cell_type": "markdown",
            "metadata": {},
            "source": [
                "## Step 4 : Assembly and Solution"
            ]
        },
        {
            "cell_type": "code",
            "execution_count": 10,
            "metadata": {},
            "outputs": [],
            "source": [
                "from sigmaepsilon.fem.elib import H8, Q4M as Q4"
            ]
        },
        {
            "cell_type": "code",
            "execution_count": 11,
            "metadata": {},
            "outputs": [
                {
                    "ename": "AttributeError",
                    "evalue": "type object 'H8' has no attribute 'Model'",
                    "output_type": "error",
                    "traceback": [
                        "\u001b[1;31m---------------------------------------------------------------------------\u001b[0m",
                        "\u001b[1;31mAttributeError\u001b[0m                            Traceback (most recent call last)",
                        "\u001b[1;32mf:\\GitHub\\sigmaepsilon\\examples\\console-3d.ipynb Cell 10'\u001b[0m in \u001b[0;36m<cell line: 1>\u001b[1;34m()\u001b[0m\n\u001b[1;32m----> <a href='vscode-notebook-cell:/f%3A/GitHub/sigmaepsilon/examples/console-3d.ipynb#ch0000011?line=0'>1</a>\u001b[0m H8\u001b[39m.\u001b[39mdofs, H8\u001b[39m.\u001b[39mNDOFN, H8\u001b[39m.\u001b[39;49mModel, H8\u001b[39m.\u001b[39mGeom\n",
                        "\u001b[1;31mAttributeError\u001b[0m: type object 'H8' has no attribute 'Model'"
                    ]
                }
            ],
            "source": [
                "H8.dofs, H8.NDOFN, H8.Model, H8.Geom"
            ]
        },
        {
            "cell_type": "code",
            "execution_count": null,
            "metadata": {},
            "outputs": [
                {
                    "data": {
                        "text/plain": [
                            "(('UX', 'UY'), 2)"
                        ]
                    },
                    "execution_count": 6,
                    "metadata": {},
                    "output_type": "execute_result"
                }
            ],
            "source": [
                "Q4.dofs, Q4.NDOFN, Q4.Model, Q4.Geom"
            ]
        },
        {
            "cell_type": "code",
            "execution_count": 4,
            "metadata": {},
            "outputs": [
                {
                    "ename": "ValueError",
                    "evalue": "cannot reshape array of size 0 into shape (0,1)",
                    "output_type": "error",
                    "traceback": [
                        "\u001b[1;31m---------------------------------------------------------------------------\u001b[0m",
                        "\u001b[1;31mValueError\u001b[0m                                Traceback (most recent call last)",
                        "\u001b[1;32mf:\\GitHub\\sigmaepsilon\\examples\\console-3d.ipynb Cell 9'\u001b[0m in \u001b[0;36m<cell line: 14>\u001b[1;34m()\u001b[0m\n\u001b[0;32m     <a href='vscode-notebook-cell:/f%3A/GitHub/sigmaepsilon/examples/console-3d.ipynb#ch0000008?line=11'>12</a>\u001b[0m \u001b[39m# celldata\u001b[39;00m\n\u001b[0;32m     <a href='vscode-notebook-cell:/f%3A/GitHub/sigmaepsilon/examples/console-3d.ipynb#ch0000008?line=12'>13</a>\u001b[0m frames \u001b[39m=\u001b[39m repeat(GlobalFrame\u001b[39m.\u001b[39mshow(), topo\u001b[39m.\u001b[39mshape[\u001b[39m0\u001b[39m])\n\u001b[1;32m---> <a href='vscode-notebook-cell:/f%3A/GitHub/sigmaepsilon/examples/console-3d.ipynb#ch0000008?line=13'>14</a>\u001b[0m cd \u001b[39m=\u001b[39m CellData(topo\u001b[39m=\u001b[39;49mtopo, frames\u001b[39m=\u001b[39;49mframes)\n\u001b[0;32m     <a href='vscode-notebook-cell:/f%3A/GitHub/sigmaepsilon/examples/console-3d.ipynb#ch0000008?line=15'>16</a>\u001b[0m \u001b[39m# set up mesh and structure\u001b[39;00m\n\u001b[0;32m     <a href='vscode-notebook-cell:/f%3A/GitHub/sigmaepsilon/examples/console-3d.ipynb#ch0000008?line=16'>17</a>\u001b[0m mesh \u001b[39m=\u001b[39m FemMesh(pd, cd, model\u001b[39m=\u001b[39mA, frame\u001b[39m=\u001b[39mGlobalFrame)\n",
                        "File \u001b[1;32mf:\\github\\dewloosh-solid\\src\\dewloosh\\solid\\fem\\model\\solid.py:17\u001b[0m, in \u001b[0;36mSolid.__init__\u001b[1;34m(self, *args, **kwargs)\u001b[0m\n\u001b[0;32m     16\u001b[0m \u001b[39mdef\u001b[39;00m \u001b[39m__init__\u001b[39m(\u001b[39mself\u001b[39m, \u001b[39m*\u001b[39margs, \u001b[39m*\u001b[39m\u001b[39m*\u001b[39mkwargs):\n\u001b[1;32m---> 17\u001b[0m     \u001b[39msuper\u001b[39;49m()\u001b[39m.\u001b[39;49m\u001b[39m__init__\u001b[39;49m(\u001b[39m*\u001b[39;49margs, \u001b[39m*\u001b[39;49m\u001b[39m*\u001b[39;49mkwargs)\n",
                        "File \u001b[1;32mf:\\github\\dewloosh-mesh\\src\\dewloosh\\mesh\\polyhedron.py:67\u001b[0m, in \u001b[0;36mHexaHedron.__init__\u001b[1;34m(self, *args, **kwargs)\u001b[0m\n\u001b[0;32m     66\u001b[0m \u001b[39mdef\u001b[39;00m \u001b[39m__init__\u001b[39m(\u001b[39mself\u001b[39m, \u001b[39m*\u001b[39margs, \u001b[39m*\u001b[39m\u001b[39m*\u001b[39mkwargs):\n\u001b[1;32m---> 67\u001b[0m     \u001b[39msuper\u001b[39;49m()\u001b[39m.\u001b[39;49m\u001b[39m__init__\u001b[39;49m(\u001b[39m*\u001b[39;49margs, \u001b[39m*\u001b[39;49m\u001b[39m*\u001b[39;49mkwargs)\n",
                        "File \u001b[1;32mf:\\github\\dewloosh-mesh\\src\\dewloosh\\mesh\\polyhedron.py:13\u001b[0m, in \u001b[0;36mPolyHedron.__init__\u001b[1;34m(self, *args, **kwargs)\u001b[0m\n\u001b[0;32m     12\u001b[0m \u001b[39mdef\u001b[39;00m \u001b[39m__init__\u001b[39m(\u001b[39mself\u001b[39m, \u001b[39m*\u001b[39margs, \u001b[39m*\u001b[39m\u001b[39m*\u001b[39mkwargs):\n\u001b[1;32m---> 13\u001b[0m     \u001b[39msuper\u001b[39;49m()\u001b[39m.\u001b[39;49m\u001b[39m__init__\u001b[39;49m(\u001b[39m*\u001b[39;49margs, \u001b[39m*\u001b[39;49m\u001b[39m*\u001b[39;49mkwargs)\n",
                        "File \u001b[1;32mf:\\github\\dewloosh-mesh\\src\\dewloosh\\mesh\\cell.py:235\u001b[0m, in \u001b[0;36mPolyCell3d.__init__\u001b[1;34m(self, *args, **kwargs)\u001b[0m\n\u001b[0;32m    234\u001b[0m \u001b[39mdef\u001b[39;00m \u001b[39m__init__\u001b[39m(\u001b[39mself\u001b[39m, \u001b[39m*\u001b[39margs, \u001b[39m*\u001b[39m\u001b[39m*\u001b[39mkwargs):\n\u001b[1;32m--> 235\u001b[0m     \u001b[39msuper\u001b[39;49m()\u001b[39m.\u001b[39;49m\u001b[39m__init__\u001b[39;49m(\u001b[39m*\u001b[39;49margs, \u001b[39m*\u001b[39;49m\u001b[39m*\u001b[39;49mkwargs)\n",
                        "File \u001b[1;32mf:\\github\\dewloosh-mesh\\src\\dewloosh\\mesh\\cell.py:32\u001b[0m, in \u001b[0;36mPolyCell.__init__\u001b[1;34m(self, i, *args, **kwargs)\u001b[0m\n\u001b[0;32m     30\u001b[0m     key \u001b[39m=\u001b[39m \u001b[39mself\u001b[39m\u001b[39m.\u001b[39m\u001b[39m__class__\u001b[39m\u001b[39m.\u001b[39m_attr_map_[\u001b[39m'\u001b[39m\u001b[39mid\u001b[39m\u001b[39m'\u001b[39m]\n\u001b[0;32m     31\u001b[0m     kwargs[key] \u001b[39m=\u001b[39m i\n\u001b[1;32m---> 32\u001b[0m \u001b[39msuper\u001b[39;49m()\u001b[39m.\u001b[39;49m\u001b[39m__init__\u001b[39;49m(\u001b[39m*\u001b[39;49margs, \u001b[39m*\u001b[39;49m\u001b[39m*\u001b[39;49mkwargs)\n",
                        "File \u001b[1;32mf:\\github\\dewloosh-solid\\src\\dewloosh\\solid\\fem\\celldata.py:64\u001b[0m, in \u001b[0;36mCellData.__init__\u001b[1;34m(self, model, activity, density, loads, strain_loads, t, fields, thickness, *args, **kwargs)\u001b[0m\n\u001b[0;32m     62\u001b[0m \u001b[39massert\u001b[39;00m \u001b[39misinstance\u001b[39m(loads, np\u001b[39m.\u001b[39mndarray)\n\u001b[0;32m     63\u001b[0m \u001b[39mif\u001b[39;00m loads\u001b[39m.\u001b[39mshape[\u001b[39m0\u001b[39m] \u001b[39m==\u001b[39m nE \u001b[39mand\u001b[39;00m loads\u001b[39m.\u001b[39mshape[\u001b[39m1\u001b[39m] \u001b[39m==\u001b[39m nNE:\n\u001b[1;32m---> 64\u001b[0m     \u001b[39mself\u001b[39m\u001b[39m.\u001b[39mloads \u001b[39m=\u001b[39m loads\n\u001b[0;32m     65\u001b[0m \u001b[39melif\u001b[39;00m loads\u001b[39m.\u001b[39mshape[\u001b[39m0\u001b[39m] \u001b[39m==\u001b[39m nE \u001b[39mand\u001b[39;00m loads\u001b[39m.\u001b[39mshape[\u001b[39m1\u001b[39m] \u001b[39m==\u001b[39m nNE \u001b[39m*\u001b[39m NDOFN:\n\u001b[0;32m     66\u001b[0m     loads \u001b[39m=\u001b[39m atleastnd(loads, \u001b[39m3\u001b[39m, back\u001b[39m=\u001b[39m\u001b[39mTrue\u001b[39;00m)\n",
                        "File \u001b[1;32mf:\\github\\dewloosh-solid\\src\\dewloosh\\solid\\fem\\celldata.py:107\u001b[0m, in \u001b[0;36mCellData.loads\u001b[1;34m(self, value)\u001b[0m\n\u001b[0;32m    104\u001b[0m \u001b[39m@loads\u001b[39m\u001b[39m.\u001b[39msetter\n\u001b[0;32m    105\u001b[0m \u001b[39mdef\u001b[39;00m \u001b[39mloads\u001b[39m(\u001b[39mself\u001b[39m, value: ndarray):\n\u001b[0;32m    106\u001b[0m     \u001b[39massert\u001b[39;00m \u001b[39misinstance\u001b[39m(value, ndarray)\n\u001b[1;32m--> 107\u001b[0m     \u001b[39mself\u001b[39m\u001b[39m.\u001b[39m_wrapped[\u001b[39mself\u001b[39m\u001b[39m.\u001b[39m\u001b[39m__class__\u001b[39m\u001b[39m.\u001b[39m_attr_map_[\u001b[39m'\u001b[39m\u001b[39mloads\u001b[39m\u001b[39m'\u001b[39m]] \u001b[39m=\u001b[39m value\n",
                        "File \u001b[1;32mf:\\GitHub\\sigmaepsilon\\.venv\\lib\\site-packages\\awkward\\highlevel.py:1062\u001b[0m, in \u001b[0;36mArray.__setitem__\u001b[1;34m(self, where, what)\u001b[0m\n\u001b[0;32m   1054\u001b[0m \u001b[39mif\u001b[39;00m \u001b[39mnot\u001b[39;00m (\n\u001b[0;32m   1055\u001b[0m     \u001b[39misinstance\u001b[39m(where, \u001b[39mstr\u001b[39m)\n\u001b[0;32m   1056\u001b[0m     \u001b[39mor\u001b[39;00m (\u001b[39misinstance\u001b[39m(where, \u001b[39mtuple\u001b[39m) \u001b[39mand\u001b[39;00m \u001b[39mall\u001b[39m(\u001b[39misinstance\u001b[39m(x, \u001b[39mstr\u001b[39m) \u001b[39mfor\u001b[39;00m x \u001b[39min\u001b[39;00m where))\n\u001b[0;32m   1057\u001b[0m ):\n\u001b[0;32m   1058\u001b[0m     \u001b[39mraise\u001b[39;00m \u001b[39mTypeError\u001b[39;00m(\n\u001b[0;32m   1059\u001b[0m         \u001b[39m\"\u001b[39m\u001b[39monly fields may be assigned in-place (by field name)\u001b[39m\u001b[39m\"\u001b[39m\n\u001b[0;32m   1060\u001b[0m         \u001b[39m+\u001b[39m ak\u001b[39m.\u001b[39m_util\u001b[39m.\u001b[39mexception_suffix(\u001b[39m__file__\u001b[39m)\n\u001b[0;32m   1061\u001b[0m     )\n\u001b[1;32m-> 1062\u001b[0m array \u001b[39m=\u001b[39m ak\u001b[39m.\u001b[39;49moperations\u001b[39m.\u001b[39;49mstructure\u001b[39m.\u001b[39;49mwith_field(\u001b[39mself\u001b[39;49m\u001b[39m.\u001b[39;49mlayout, what, where)\n\u001b[0;32m   1063\u001b[0m \u001b[39mself\u001b[39m\u001b[39m.\u001b[39m_layout \u001b[39m=\u001b[39m array\u001b[39m.\u001b[39mlayout\n\u001b[0;32m   1064\u001b[0m \u001b[39mself\u001b[39m\u001b[39m.\u001b[39m_caches \u001b[39m=\u001b[39m ak\u001b[39m.\u001b[39m_util\u001b[39m.\u001b[39mfind_caches(\u001b[39mself\u001b[39m\u001b[39m.\u001b[39mlayout)\n",
                        "File \u001b[1;32mf:\\GitHub\\sigmaepsilon\\.venv\\lib\\site-packages\\awkward\\operations\\structure.py:989\u001b[0m, in \u001b[0;36mwith_field\u001b[1;34m(base, what, where, highlevel, behavior)\u001b[0m\n\u001b[0;32m    983\u001b[0m \u001b[39mif\u001b[39;00m base\u001b[39m.\u001b[39mnumfields \u001b[39m<\u001b[39m \u001b[39m0\u001b[39m:\n\u001b[0;32m    984\u001b[0m     \u001b[39mraise\u001b[39;00m \u001b[39mValueError\u001b[39;00m(\n\u001b[0;32m    985\u001b[0m         \u001b[39m\"\u001b[39m\u001b[39mno tuples or records in array; cannot add a new field\u001b[39m\u001b[39m\"\u001b[39m\n\u001b[0;32m    986\u001b[0m         \u001b[39m+\u001b[39m ak\u001b[39m.\u001b[39m_util\u001b[39m.\u001b[39mexception_suffix(\u001b[39m__file__\u001b[39m)\n\u001b[0;32m    987\u001b[0m     )\n\u001b[1;32m--> 989\u001b[0m what \u001b[39m=\u001b[39m ak\u001b[39m.\u001b[39;49moperations\u001b[39m.\u001b[39;49mconvert\u001b[39m.\u001b[39;49mto_layout(\n\u001b[0;32m    990\u001b[0m     what, allow_record\u001b[39m=\u001b[39;49m\u001b[39mTrue\u001b[39;49;00m, allow_other\u001b[39m=\u001b[39;49m\u001b[39mTrue\u001b[39;49;00m\n\u001b[0;32m    991\u001b[0m )\n\u001b[0;32m    993\u001b[0m keys \u001b[39m=\u001b[39m base\u001b[39m.\u001b[39mkeys()\n\u001b[0;32m    994\u001b[0m \u001b[39mif\u001b[39;00m where \u001b[39min\u001b[39;00m base\u001b[39m.\u001b[39mkeys():\n",
                        "File \u001b[1;32mf:\\GitHub\\sigmaepsilon\\.venv\\lib\\site-packages\\awkward\\operations\\convert.py:1906\u001b[0m, in \u001b[0;36mto_layout\u001b[1;34m(array, allow_record, allow_other, numpytype)\u001b[0m\n\u001b[0;32m   1901\u001b[0m     \u001b[39mif\u001b[39;00m \u001b[39mnot\u001b[39;00m \u001b[39missubclass\u001b[39m(array\u001b[39m.\u001b[39mdtype\u001b[39m.\u001b[39mtype, numpytype):\n\u001b[0;32m   1902\u001b[0m         \u001b[39mraise\u001b[39;00m \u001b[39mValueError\u001b[39;00m(\n\u001b[0;32m   1903\u001b[0m             \u001b[39mf\u001b[39m\u001b[39m\"\u001b[39m\u001b[39mNumPy \u001b[39m\u001b[39m{\u001b[39;00marray\u001b[39m.\u001b[39mdtype\u001b[39m!r}\u001b[39;00m\u001b[39m not allowed\u001b[39m\u001b[39m\"\u001b[39m\n\u001b[0;32m   1904\u001b[0m             \u001b[39m+\u001b[39m ak\u001b[39m.\u001b[39m_util\u001b[39m.\u001b[39mexception_suffix(\u001b[39m__file__\u001b[39m)\n\u001b[0;32m   1905\u001b[0m         )\n\u001b[1;32m-> 1906\u001b[0m     \u001b[39mreturn\u001b[39;00m from_numpy(array, regulararray\u001b[39m=\u001b[39;49m\u001b[39mTrue\u001b[39;49;00m, recordarray\u001b[39m=\u001b[39;49m\u001b[39mTrue\u001b[39;49;00m, highlevel\u001b[39m=\u001b[39;49m\u001b[39mFalse\u001b[39;49;00m)\n\u001b[0;32m   1908\u001b[0m \u001b[39melif\u001b[39;00m (\n\u001b[0;32m   1909\u001b[0m     \u001b[39mtype\u001b[39m(array)\u001b[39m.\u001b[39m\u001b[39m__module__\u001b[39m\u001b[39m.\u001b[39mstartswith(\u001b[39m\"\u001b[39m\u001b[39mcupy.\u001b[39m\u001b[39m\"\u001b[39m) \u001b[39mand\u001b[39;00m \u001b[39mtype\u001b[39m(array)\u001b[39m.\u001b[39m\u001b[39m__name__\u001b[39m \u001b[39m==\u001b[39m \u001b[39m\"\u001b[39m\u001b[39mndarray\u001b[39m\u001b[39m\"\u001b[39m\n\u001b[0;32m   1910\u001b[0m ):\n\u001b[0;32m   1911\u001b[0m     \u001b[39mreturn\u001b[39;00m from_cupy(array, regulararray\u001b[39m=\u001b[39m\u001b[39mTrue\u001b[39;00m, highlevel\u001b[39m=\u001b[39m\u001b[39mFalse\u001b[39;00m)\n",
                        "File \u001b[1;32mf:\\GitHub\\sigmaepsilon\\.venv\\lib\\site-packages\\awkward\\operations\\convert.py:153\u001b[0m, in \u001b[0;36mfrom_numpy\u001b[1;34m(array, regulararray, recordarray, highlevel, behavior)\u001b[0m\n\u001b[0;32m    150\u001b[0m     mask \u001b[39m=\u001b[39m \u001b[39mNone\u001b[39;00m\n\u001b[0;32m    152\u001b[0m \u001b[39mif\u001b[39;00m \u001b[39mnot\u001b[39;00m recordarray \u001b[39mor\u001b[39;00m array\u001b[39m.\u001b[39mdtype\u001b[39m.\u001b[39mnames \u001b[39mis\u001b[39;00m \u001b[39mNone\u001b[39;00m:\n\u001b[1;32m--> 153\u001b[0m     layout \u001b[39m=\u001b[39m recurse(array, mask)\n\u001b[0;32m    154\u001b[0m \u001b[39melse\u001b[39;00m:\n\u001b[0;32m    155\u001b[0m     contents \u001b[39m=\u001b[39m []\n",
                        "File \u001b[1;32mf:\\GitHub\\sigmaepsilon\\.venv\\lib\\site-packages\\awkward\\operations\\convert.py:81\u001b[0m, in \u001b[0;36mfrom_numpy.<locals>.recurse\u001b[1;34m(array, mask)\u001b[0m\n\u001b[0;32m     78\u001b[0m \u001b[39mdef\u001b[39;00m \u001b[39mrecurse\u001b[39m(array, mask):\n\u001b[0;32m     79\u001b[0m     \u001b[39mif\u001b[39;00m regulararray \u001b[39mand\u001b[39;00m \u001b[39mlen\u001b[39m(array\u001b[39m.\u001b[39mshape) \u001b[39m>\u001b[39m \u001b[39m1\u001b[39m:\n\u001b[0;32m     80\u001b[0m         \u001b[39mreturn\u001b[39;00m ak\u001b[39m.\u001b[39mlayout\u001b[39m.\u001b[39mRegularArray(\n\u001b[1;32m---> 81\u001b[0m             recurse(array\u001b[39m.\u001b[39;49mreshape((\u001b[39m-\u001b[39;49m\u001b[39m1\u001b[39;49m,) \u001b[39m+\u001b[39;49m array\u001b[39m.\u001b[39;49mshape[\u001b[39m2\u001b[39;49m:]), mask),\n\u001b[0;32m     82\u001b[0m             array\u001b[39m.\u001b[39mshape[\u001b[39m1\u001b[39m],\n\u001b[0;32m     83\u001b[0m             array\u001b[39m.\u001b[39mshape[\u001b[39m0\u001b[39m],\n\u001b[0;32m     84\u001b[0m         )\n\u001b[0;32m     86\u001b[0m     \u001b[39mif\u001b[39;00m \u001b[39mlen\u001b[39m(array\u001b[39m.\u001b[39mshape) \u001b[39m==\u001b[39m \u001b[39m0\u001b[39m:\n\u001b[0;32m     87\u001b[0m         array \u001b[39m=\u001b[39m array\u001b[39m.\u001b[39mreshape(\u001b[39m1\u001b[39m)\n",
                        "\u001b[1;31mValueError\u001b[0m: cannot reshape array of size 0 into shape (0,1)"
                    ]
                }
            ],
            "source": [
                "from sigmaepsilon import Structure, PointData, FemMesh\n",
                "from sigmaepsilon.mesh.space import StandardFrame\n",
                "from sigmaepsilon.fem.elib import H8 as CellData\n",
                "from dewloosh.math.array import repeat\n",
                "\n",
                "GlobalFrame = StandardFrame(dim=3)\n",
                "\n",
                "# pointdata\n",
                "pd = PointData(coords=coords, frame=GlobalFrame,\n",
                "               loads=loads, fixity=fixity)\n",
                "\n",
                "# celldata\n",
                "frames = repeat(GlobalFrame.show(), topo.shape[0])\n",
                "cd = CellData(topo=topo, frames=frames)\n",
                "\n",
                "# set up mesh and structure\n",
                "mesh = FemMesh(pd, cd, model=A, frame=GlobalFrame)\n",
                "structure = Structure(mesh=mesh)"
            ]
        },
        {
            "cell_type": "code",
            "execution_count": null,
            "metadata": {},
            "outputs": [],
            "source": [
                "structure.linsolve()\n",
                "dofsol = structure.nodal_dof_solution()\n",
                "structure.mesh.pointdata['x'] = coords + dofsol[:, :3]"
            ]
        }
    ],
    "metadata": {
        "kernelspec": {
            "display_name": "Python 3.8.10 ('.venv': venv)",
            "language": "python",
            "name": "python3"
        },
        "language_info": {
            "codemirror_mode": {
                "name": "ipython",
                "version": 3
            },
            "file_extension": ".py",
            "mimetype": "text/x-python",
            "name": "python",
            "nbconvert_exporter": "python",
            "pygments_lexer": "ipython3",
            "version": "3.8.10"
        },
        "orig_nbformat": 4,
        "vscode": {
            "interpreter": {
                "hash": "81af22673e51a55db93ad07d3dd2d272490ff9da1a60e01b8f0931d11d215c80"
            }
        }
    },
    "nbformat": 4,
    "nbformat_minor": 2
}
