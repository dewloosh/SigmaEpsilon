{
 "cells": [
  {
   "cell_type": "markdown",
   "metadata": {},
   "source": [
    "# Bernoulli KNN"
   ]
  },
  {
   "cell_type": "code",
   "execution_count": 6,
   "metadata": {},
   "outputs": [],
   "source": [
    "from sigmaepsilon import BeamSection, get_section\n",
    "\n",
    "E = 2100.0  # Young's modulus\n",
    "nu = 0.3  # Poisson's ratio\n",
    "\n",
    "section = get_section('CHS', D=1.0, t=0.2, n=64)\n",
    "beam = BeamSection(wrap=section)"
   ]
  },
  {
   "cell_type": "code",
   "execution_count": 7,
   "metadata": {},
   "outputs": [],
   "source": [
    "beam.calculate_geometric_properties()\n",
    "props = beam.geometric_properties\n",
    "A = props['A']\n",
    "Iy = props['Iy']\n",
    "Iz = props['Iz']\n",
    "Ix = props['Ix']"
   ]
  },
  {
   "cell_type": "code",
   "execution_count": 8,
   "metadata": {},
   "outputs": [],
   "source": [
    "from sigmaepsilon import Structure, LineMesh, PointData\n",
    "from sigmaepsilon.math.linalg import linspace, Vector\n",
    "from sigmaepsilon.mesh.space import StandardFrame, PointCloud, frames_of_lines\n",
    "from sigmaepsilon.fem.cells import B2 as Beam\n",
    "from dewloosh.mesh.grid import knngridL2\n",
    "import numpy as np\n",
    "\n",
    "# model stiffness matrix\n",
    "G = E / (2 * (1 + nu))\n",
    "Hooke = np.array([\n",
    "    [E*A, 0, 0, 0],\n",
    "    [0, G*Ix, 0, 0],\n",
    "    [0, 0, E*Iy, 0],\n",
    "    [0, 0, 0, E*Iz]\n",
    "])\n",
    "\n",
    "# space\n",
    "GlobalFrame = StandardFrame(dim=3)\n",
    "\n",
    "Lx, Ly, Lz = 20., 12., 8.\n",
    "\n",
    "# mesh\n",
    "gridparams = {\n",
    "    'size': (Lx, Ly, Lz),\n",
    "    'shape': (20, 13, 10),\n",
    "    'eshape': (2, 2, 2),\n",
    "    'origo': (0, 0, 0),\n",
    "    'start': 0\n",
    "}\n",
    "coords, topo = knngridL2(k=10, **gridparams)\n",
    "points = PointCloud(coords, frame=GlobalFrame).centralize()\n",
    "dx = - np.array([points[:, 0].min(), 0., 0.])\n",
    "points.move(dx)\n",
    "coords = points.show()\n",
    "\n",
    "# essential boundary conditions\n",
    "ebcinds = np.where(coords[:, 0] < 1e-12)[0]\n",
    "fixity = np.zeros((coords.shape[0], 6)).astype(bool)\n",
    "fixity[ebcinds, :] = True\n",
    "\n",
    "# natural boundary conditions\n",
    "loads = np.zeros((coords.shape[0], 6))\n",
    "pA = points.closest(np.array([Lx, 0., 0.]))\n",
    "loads[pA.gid, 2] = -1000\n",
    "\n",
    "# pointdata\n",
    "pd = PointData(coords=coords, frame=GlobalFrame,\n",
    "               loads=loads, fixity=fixity)\n",
    "\n",
    "# celldata\n",
    "frames = frames_of_lines(coords, topo)\n",
    "\n",
    "cd = Beam(topo=topo, frames=frames)\n",
    "\n",
    "# set up mesh and structure\n",
    "mesh = LineMesh(pd, cd, model=Hooke, frame=GlobalFrame)\n",
    "structure = Structure(mesh=mesh)\n",
    "\n"
   ]
  },
  {
   "cell_type": "code",
   "execution_count": 9,
   "metadata": {},
   "outputs": [
    {
     "ename": "AttributeError",
     "evalue": "'Structure' object has no attribute                 called _gnum",
     "output_type": "error",
     "traceback": [
      "\u001b[1;31m---------------------------------------------------------------------------\u001b[0m",
      "\u001b[1;31mAttributeError\u001b[0m                            Traceback (most recent call last)",
      "File \u001b[1;32mf:\\github\\dewloosh-core\\src\\dewloosh\\core\\wrapping.py:72\u001b[0m, in \u001b[0;36mWrapper.__getattr__\u001b[1;34m(self, attr)\u001b[0m\n\u001b[0;32m     71\u001b[0m \u001b[39mtry\u001b[39;00m:\n\u001b[1;32m---> 72\u001b[0m     \u001b[39mreturn\u001b[39;00m \u001b[39mgetattr\u001b[39;49m(\u001b[39mself\u001b[39;49m\u001b[39m.\u001b[39;49m_wrapped, attr)\n\u001b[0;32m     73\u001b[0m \u001b[39mexcept\u001b[39;00m \u001b[39mException\u001b[39;00m:\n",
      "\u001b[1;31mAttributeError\u001b[0m: 'LineMesh' object has no attribute '_gnum'",
      "\nDuring handling of the above exception, another exception occurred:\n",
      "\u001b[1;31mAttributeError\u001b[0m                            Traceback (most recent call last)",
      "\u001b[1;32mf:\\GitHub\\sigmaepsilon\\examples\\bernoulli_knn.ipynb Cell 5\u001b[0m in \u001b[0;36m<cell line: 2>\u001b[1;34m()\u001b[0m\n\u001b[0;32m      <a href='vscode-notebook-cell:/f%3A/GitHub/sigmaepsilon/examples/bernoulli_knn.ipynb#ch0000013?line=0'>1</a>\u001b[0m structure\u001b[39m.\u001b[39mpreprocess()\n\u001b[1;32m----> <a href='vscode-notebook-cell:/f%3A/GitHub/sigmaepsilon/examples/bernoulli_knn.ipynb#ch0000013?line=1'>2</a>\u001b[0m gnum \u001b[39m=\u001b[39m structure\u001b[39m.\u001b[39;49m_gnum\n\u001b[0;32m      <a href='vscode-notebook-cell:/f%3A/GitHub/sigmaepsilon/examples/bernoulli_knn.ipynb#ch0000013?line=2'>3</a>\u001b[0m K_bulk_0 \u001b[39m=\u001b[39m np\u001b[39m.\u001b[39mcopy(structure\u001b[39m.\u001b[39m_K_bulk)\n\u001b[0;32m      <a href='vscode-notebook-cell:/f%3A/GitHub/sigmaepsilon/examples/bernoulli_knn.ipynb#ch0000013?line=3'>4</a>\u001b[0m vols \u001b[39m=\u001b[39m structure\u001b[39m.\u001b[39mvolumes()\n",
      "File \u001b[1;32mf:\\github\\dewloosh-core\\src\\dewloosh\\core\\wrapping.py:74\u001b[0m, in \u001b[0;36mWrapper.__getattr__\u001b[1;34m(self, attr)\u001b[0m\n\u001b[0;32m     72\u001b[0m     \u001b[39mreturn\u001b[39;00m \u001b[39mgetattr\u001b[39m(\u001b[39mself\u001b[39m\u001b[39m.\u001b[39m_wrapped, attr)\n\u001b[0;32m     73\u001b[0m \u001b[39mexcept\u001b[39;00m \u001b[39mException\u001b[39;00m:\n\u001b[1;32m---> 74\u001b[0m     \u001b[39mraise\u001b[39;00m \u001b[39mAttributeError\u001b[39;00m(\u001b[39m\"\u001b[39m\u001b[39m'\u001b[39m\u001b[39m{}\u001b[39;00m\u001b[39m'\u001b[39m\u001b[39m object has no attribute \u001b[39m\u001b[39m\\\u001b[39;00m\n\u001b[0;32m     75\u001b[0m \u001b[39m        called \u001b[39m\u001b[39m{}\u001b[39;00m\u001b[39m\"\u001b[39m\u001b[39m.\u001b[39mformat(\u001b[39mself\u001b[39m\u001b[39m.\u001b[39m\u001b[39m__class__\u001b[39m\u001b[39m.\u001b[39m\u001b[39m__name__\u001b[39m, attr))\n",
      "\u001b[1;31mAttributeError\u001b[0m: 'Structure' object has no attribute                 called _gnum"
     ]
    }
   ],
   "source": [
    "structure.preprocess()\n",
    "gnum = structure._gnum\n",
    "K_bulk_0 = np.copy(structure._K_bulk)\n",
    "vols = structure.volumes()\n",
    "centers = structure.centers()"
   ]
  },
  {
   "cell_type": "code",
   "execution_count": null,
   "metadata": {},
   "outputs": [],
   "source": [
    "structure.linsolve(summary=True)\n",
    "structure.summary"
   ]
  },
  {
   "cell_type": "code",
   "execution_count": 4,
   "metadata": {},
   "outputs": [],
   "source": [
    "from pyvistaqt import BackgroundPlotter\n",
    "\n",
    "mesh.config['pyvista', 'plot', 'line_width'] = 1\n",
    "\n",
    "plotter = BackgroundPlotter()\n",
    "mesh.pvplot(plotter=plotter)\n",
    "\n",
    "plotter.show()"
   ]
  },
  {
   "cell_type": "code",
   "execution_count": 5,
   "metadata": {},
   "outputs": [
    {
     "data": {
      "text/plain": [
       "-1.8989112324550048"
      ]
     },
     "execution_count": 5,
     "metadata": {},
     "output_type": "execute_result"
    }
   ],
   "source": [
    "#structure.linsolve(summary=True)\n",
    "dofsol = structure.nodal_dof_solution()[:, :3]\n",
    "dofsol[:, 2].min()"
   ]
  }
 ],
 "metadata": {
  "kernelspec": {
   "display_name": "Python 3.8.10 ('.venv': venv)",
   "language": "python",
   "name": "python3"
  },
  "language_info": {
   "codemirror_mode": {
    "name": "ipython",
    "version": 3
   },
   "file_extension": ".py",
   "mimetype": "text/x-python",
   "name": "python",
   "nbconvert_exporter": "python",
   "pygments_lexer": "ipython3",
   "version": "3.8.10"
  },
  "orig_nbformat": 4,
  "vscode": {
   "interpreter": {
    "hash": "81af22673e51a55db93ad07d3dd2d272490ff9da1a60e01b8f0931d11d215c80"
   }
  }
 },
 "nbformat": 4,
 "nbformat_minor": 2
}
