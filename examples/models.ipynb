{
 "cells": [
  {
   "cell_type": "markdown",
   "metadata": {},
   "source": [
    "# Material Models"
   ]
  },
  {
   "cell_type": "code",
   "execution_count": 5,
   "metadata": {},
   "outputs": [
    {
     "data": {
      "text/plain": [
       "['A', 'Ix', 'Iy', 'Iz', 'stress-factors']"
      ]
     },
     "execution_count": 5,
     "metadata": {},
     "output_type": "execute_result"
    }
   ],
   "source": [
    "from sigmaepsilon import BeamSection, get_section\n",
    "section = get_section('CHS', D=1.0, t=0.1, n=64)\n",
    "beam = BeamSection(wrap=section)\n",
    "list(beam.get_section_properties().keys())"
   ]
  },
  {
   "cell_type": "code",
   "execution_count": 2,
   "metadata": {},
   "outputs": [
    {
     "data": {
      "text/plain": [
       "(3, 3)"
      ]
     },
     "execution_count": 2,
     "metadata": {},
     "output_type": "execute_result"
    }
   ],
   "source": [
    "from sigmaepsilon.model import Membrane as Model\n",
    "model = {\n",
    "    '0' : {\n",
    "        'hooke' : Model.Hooke(E=2100000, nu=0.3),\n",
    "        'angle' : 0., \n",
    "        'thickness' : 0.1\n",
    "        },\n",
    "    }\n",
    "C = Model.from_dict(model).stiffness_matrix()\n",
    "C.shape"
   ]
  },
  {
   "cell_type": "code",
   "execution_count": 3,
   "metadata": {},
   "outputs": [
    {
     "data": {
      "text/plain": [
       "(5, 5)"
      ]
     },
     "execution_count": 3,
     "metadata": {},
     "output_type": "execute_result"
    }
   ],
   "source": [
    "from sigmaepsilon.model import MindlinPlate as Model\n",
    "model = {\n",
    "    '0' : {\n",
    "        'hooke' : Model.Hooke(E=2100000, nu=0.3),\n",
    "        'angle' : 0., \n",
    "        'thickness' : 0.1\n",
    "        },\n",
    "    }\n",
    "C = Model.from_dict(model).stiffness_matrix()\n",
    "C.shape"
   ]
  },
  {
   "cell_type": "code",
   "execution_count": 4,
   "metadata": {},
   "outputs": [
    {
     "data": {
      "text/plain": [
       "(8, 8)"
      ]
     },
     "execution_count": 4,
     "metadata": {},
     "output_type": "execute_result"
    }
   ],
   "source": [
    "from sigmaepsilon.model import MindlinShell as Model\n",
    "model = {\n",
    "    '0' : {\n",
    "        'hooke' : Model.Hooke(E=2100000, nu=0.3),\n",
    "        'angle' : 0., \n",
    "        'thickness' : 0.1\n",
    "        },\n",
    "    }\n",
    "C = Model.from_dict(model).stiffness_matrix()\n",
    "C.shape"
   ]
  }
 ],
 "metadata": {
  "kernelspec": {
   "display_name": "Python 3.8.10 ('.venv': venv)",
   "language": "python",
   "name": "python3"
  },
  "language_info": {
   "codemirror_mode": {
    "name": "ipython",
    "version": 3
   },
   "file_extension": ".py",
   "mimetype": "text/x-python",
   "name": "python",
   "nbconvert_exporter": "python",
   "pygments_lexer": "ipython3",
   "version": "3.8.10"
  },
  "orig_nbformat": 4,
  "vscode": {
   "interpreter": {
    "hash": "81af22673e51a55db93ad07d3dd2d272490ff9da1a60e01b8f0931d11d215c80"
   }
  }
 },
 "nbformat": 4,
 "nbformat_minor": 2
}
