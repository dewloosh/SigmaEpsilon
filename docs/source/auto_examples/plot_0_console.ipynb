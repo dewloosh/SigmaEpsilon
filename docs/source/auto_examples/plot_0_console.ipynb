{
  "cells": [
    {
      "cell_type": "code",
      "execution_count": null,
      "metadata": {
        "collapsed": false
      },
      "outputs": [],
      "source": [
        "%matplotlib inline"
      ]
    },
    {
      "cell_type": "markdown",
      "metadata": {},
      "source": [
        "\n# Linear Elastostatics of a Console : 1d, 2d and 3d Solutions\n"
      ]
    },
    {
      "cell_type": "markdown",
      "metadata": {},
      "source": [
        "A short comparison of different modeling techniques of a simple console. The beam has a rectangular prismatic cross-section and a linear elastic material model, governed by the following parameters:\n\n"
      ]
    },
    {
      "cell_type": "code",
      "execution_count": null,
      "metadata": {
        "collapsed": false
      },
      "outputs": [],
      "source": [
        "L = 100.  # length of the console\nw, h = 10., 10.  # width and height of the rectangular cross section\nF = -100.  # value of the vertical load at the free end\nE = 210000.0  # Young's modulus\nnu = 0.3  # Poisson's ratio"
      ]
    },
    {
      "cell_type": "markdown",
      "metadata": {},
      "source": [
        "The resistance of a rectangular section can be characterized by the following constants (the cross section lies in the y-z plane):\n\n"
      ]
    },
    {
      "cell_type": "markdown",
      "metadata": {},
      "source": [
        "cross section\n\n"
      ]
    },
    {
      "cell_type": "code",
      "execution_count": null,
      "metadata": {
        "collapsed": false
      },
      "outputs": [],
      "source": [
        "A = w * h  # area\nIy = w * h**3 / 12  # second moment of inertia around the y axis\nIz = w * h**3 / 12  # second moment of inertia around the z axis\nIx = Iy + Iz  # torsional inertia"
      ]
    },
    {
      "cell_type": "markdown",
      "metadata": {},
      "source": [
        "# 1d Solution - Exact Analytical\n\n"
      ]
    },
    {
      "cell_type": "markdown",
      "metadata": {},
      "source": [
        "Analytic solution for the tip displacement of an 1d Euler-Bernoulli beam:\n\n"
      ]
    },
    {
      "cell_type": "markdown",
      "metadata": {},
      "source": [
        "Bernoulli solution\n\n"
      ]
    },
    {
      "cell_type": "code",
      "execution_count": null,
      "metadata": {
        "collapsed": false
      },
      "outputs": [],
      "source": [
        "import numpy as np\nEI = E * Iy\nsol_exact = F * L**3 / (3 * EI)\ntol = np.abs(sol_exact / 1000)\nsol_exact"
      ]
    },
    {
      "cell_type": "markdown",
      "metadata": {},
      "source": [
        "# 1d Solution - Approximate Numerical\n\n"
      ]
    },
    {
      "cell_type": "code",
      "execution_count": null,
      "metadata": {
        "collapsed": false
      },
      "outputs": [],
      "source": [
        "from sigmaepsilon.solid import Structure, LineMesh, PointData\nfrom neumann.linalg import linspace, Vector\nfrom polymesh.space import StandardFrame, PointCloud, frames_of_lines\nfrom sigmaepsilon.solid.fem.cells import B2 as Beam\n\nimport numpy as np\nfrom numpy import pi as PI\n\n\n# model stiffness matrix\nG = E / (2 * (1 + nu))\nHooke = np.array([\n    [E*A, 0, 0, 0],\n    [0, G*Ix, 0, 0],\n    [0, 0, E*Iy, 0],\n    [0, 0, 0, E*Iz]\n])\n\n# space\nGlobalFrame = StandardFrame(dim=3)\n\n# mesh\nnElem = 20  # number of finite elements to use\np0 = np.array([0., 0., 0.])\np1 = np.array([L, 0., 0.])\ncoords = linspace(p0, p1, nElem+1)\ncoords = PointCloud(coords, frame=GlobalFrame).show()\ntopo = np.zeros((nElem, 2), dtype=int)\ntopo[:, 0] = np.arange(nElem)\ntopo[:, 1] = np.arange(nElem) + 1\n\n# support at the leftmost, load at the rightmost node\nloads = np.zeros((coords.shape[0], 6))\nfixity = np.zeros((coords.shape[0], 6)).astype(bool)\nglobal_load_vector = Vector([0., 0, F], frame=GlobalFrame).show()\nloads[-1, :3] = global_load_vector\nfixity[0, :] = True\n\n# pointdata\npd = PointData(coords=coords, frame=GlobalFrame,\n               loads=loads, fixity=fixity)\n\n# celldata\nframes = frames_of_lines(coords, topo)\ncd = Beam(topo=topo, frames=frames)\n\n# set up mesh and structure\nmesh = LineMesh(pd, cd, model=Hooke, frame=GlobalFrame)\nstructure = Structure(mesh=mesh)\nstructure.linsolve()\n\n# postproc\n# 1) displace the mesh\ndofsol = structure.nodal_dof_solution()[:, :3]\nlocal_dof_solution = dofsol[-1, :3]\nsol_fem_1d_B2 = local_dof_solution[2]"
      ]
    },
    {
      "cell_type": "code",
      "execution_count": null,
      "metadata": {
        "collapsed": false
      },
      "outputs": [],
      "source": [
        "mesh.config['pyvista', 'plot', 'scalars'] = dofsol[:, 2]\nmesh.config['pyvista', 'plot', 'line_width'] = 4\nmesh.pvplot(notebook=True, jupyter_backend='static', window_size=(600, 400),\n            config_key=('pyvista', 'plot'), cmap='plasma')"
      ]
    },
    {
      "cell_type": "markdown",
      "metadata": {},
      "source": [
        "## 2d Solution\n\n"
      ]
    },
    {
      "cell_type": "markdown",
      "metadata": {},
      "source": [
        "### Membrane\n\n"
      ]
    },
    {
      "cell_type": "code",
      "execution_count": null,
      "metadata": {
        "collapsed": false
      },
      "outputs": [],
      "source": [
        "from neumann.array import repeat\nfrom polymesh.grid import gridQ4\nfrom sigmaepsilon.solid import FemMesh\nfrom sigmaepsilon.solid.model import Membrane\nfrom sigmaepsilon.solid.fem.cells import Q4M\nimport numpy as np\n\nsize = Lx, Lz = (L, h)\nshape = nx, nz = (200, 20)\n\ngridparams = {\n    'size': size,\n    'shape': shape,\n    'origo': (0, 0),\n    'start': 0\n}\n\ncoords2d, topo = gridQ4(**gridparams)\ncoords = np.zeros((coords2d.shape[0], 3))\ncoords[:, [0, 2]] = coords2d[:, :]\n\n# fix points at x==0\ncond = coords[:, 0] <= 0.001\nebcinds = np.where(cond)[0]\nfixity = np.zeros((coords.shape[0], 6), dtype=bool)\nfixity[ebcinds, :] = True\nfixity[:, 3:] = True\nfixity[:, 1] = True\n\n# loads\nloads = np.zeros((coords.shape[0], 6))\ncond = (coords[:, 0] > (Lx-(1e-12))) & (np.abs(coords[:, 2] - (Lz/2)) < 1e-12)\nnbcinds = np.where(cond)[0]\nloads[nbcinds, 2] = F\n\nmembrane = {\n    '0': {\n        'hooke': Membrane.Hooke(E=E, nu=nu),\n        'angle': 0.,\n        'thickness': w\n    },\n}\nA = Membrane.from_dict(membrane).stiffness_matrix()\n\nGlobalFrame = StandardFrame(dim=3)\n\n# pointdata\npd = PointData(coords=coords, frame=GlobalFrame,\n               loads=loads, fixity=fixity)\n\n# celldata\nframe = GlobalFrame.orient_new('Body', [np.pi/2, 0, 0], 'XYZ')\nframes = repeat(frame.show(), topo.shape[0])\ncd = Q4M(topo=topo, frames=frames)\n\n# set up mesh and structure\nmesh = FemMesh(pd, cd, model=A, frame=GlobalFrame)\nstructure = Structure(mesh=mesh)\nstructure.linsolve()\n\ndofsol = structure.nodal_dof_solution()\nsol_fem_2d_M = dofsol[:, 2].min()"
      ]
    },
    {
      "cell_type": "code",
      "execution_count": null,
      "metadata": {
        "collapsed": false
      },
      "outputs": [],
      "source": [
        "mesh.config['pyvista', 'plot', 'scalars'] = dofsol[:, 2]\nmesh.pvplot(notebook=True, jupyter_backend='static', window_size=(600, 400),\n            config_key=('pyvista', 'plot'), cmap='plasma')"
      ]
    },
    {
      "cell_type": "code",
      "execution_count": null,
      "metadata": {
        "collapsed": false
      },
      "outputs": [],
      "source": [
        "import k3d\nfrom k3d.colormaps import matplotlib_color_maps\n\nmesh.config['k3d', 'plot', 'attribute'] = dofsol[:, 2].astype(np.float32)\nmesh.config['k3d', 'plot', 'side'] = 'both'"
      ]
    },
    {
      "cell_type": "code",
      "execution_count": null,
      "metadata": {
        "collapsed": false
      },
      "outputs": [],
      "source": [
        "mesh.to_k3d()"
      ]
    },
    {
      "cell_type": "code",
      "execution_count": null,
      "metadata": {
        "collapsed": false
      },
      "outputs": [],
      "source": [
        "scene = mesh.k3dplot(config_key=('k3d', 'plot'), color_map=matplotlib_color_maps.Rainbow,\n             show_edges=True)"
      ]
    },
    {
      "cell_type": "code",
      "execution_count": null,
      "metadata": {
        "collapsed": false
      },
      "outputs": [],
      "source": [
        "scene.display()"
      ]
    },
    {
      "cell_type": "markdown",
      "metadata": {},
      "source": [
        "### Plate\n\n"
      ]
    },
    {
      "cell_type": "code",
      "execution_count": null,
      "metadata": {
        "collapsed": false
      },
      "outputs": [],
      "source": [
        "from neumann.array import repeat\nfrom polymesh.grid import gridQ9 as grid\nfrom sigmaepsilon.solid.model import MindlinPlate as Model\nfrom sigmaepsilon.solid.fem.cells import Q9P as Cell\nfrom sigmaepsilon.solid import FemMesh\nimport numpy as np\n\nsize = Lx, Ly = (L, w)\nshape = nx, ny = (200, 20)\n\ngridparams = {\n    'size': size,\n    'shape': shape,\n    'origo': (0, 0),\n    'start': 0\n}\n\ncoords2d, topo = grid(**gridparams)\ncoords = np.zeros((coords2d.shape[0], 3))\ncoords[:, :2] = coords2d[:, :]\n\n# fix points at x==0\ncond = coords[:, 0] <= 0.001\nebcinds = np.where(cond)[0]\nfixity = np.zeros((coords.shape[0], 6), dtype=bool)\nfixity[ebcinds, :] = True\nfixity[:, :2] = True\nfixity[:, -1] = True\n\n# loads\nloads = np.zeros((coords.shape[0], 6))\ncond = (coords[:, 0] > (Lx-(1e-12))) & (np.abs(coords[:, 1] - (Ly/2)) < 1e-12)\nnbcinds = np.where(cond)[0]\nloads[nbcinds, 2] = F\n\nmodel = {\n    '0': {\n        'hooke': Model.Hooke(E=E, nu=nu),\n        'angle': 0.,\n        'thickness': h\n    },\n}\nC = Model.from_dict(model).stiffness_matrix()\n\nGlobalFrame = StandardFrame(dim=3)\n\n# pointdata\npd = PointData(coords=coords, frame=GlobalFrame,\n               loads=loads, fixity=fixity)\n\n# celldata\nframes = repeat(np.eye(3), topo.shape[0])\ncd = Cell(topo=topo, frames=frames)\n\n# set up mesh and structure\nmesh = FemMesh(pd, cd, model=C, frame=GlobalFrame)\nstructure = Structure(mesh=mesh)\n\nstructure.linsolve()\n\ndofsol = structure.nodal_dof_solution()\nsol_fem_2d_P = dofsol[:, 2].min()"
      ]
    },
    {
      "cell_type": "markdown",
      "metadata": {},
      "source": [
        "# 3d Solution\n\n"
      ]
    },
    {
      "cell_type": "code",
      "execution_count": null,
      "metadata": {
        "collapsed": false
      },
      "outputs": [],
      "source": [
        "from sigmaepsilon.solid import Structure, PointData, FemMesh\nfrom polymesh.space import StandardFrame\nfrom sigmaepsilon.solid.fem.cells import H8 as Cell\nfrom polymesh.grid import gridH8 as grid\nfrom neumann.array import repeat\nimport numpy as np\n\nsize = Lx, Ly, Lz = (L, w, h)\nshape = nx, ny, nz = (100, 10, 10)\n\ngridparams = {\n    'size': size,\n    'shape': shape,\n    'origo': (0, 0, 0),\n    'start': 0\n}\n\ncoords, topo = grid(**gridparams)\n\nA = np.array([\n    [1, nu, nu, 0, 0, 0],\n    [nu, 1, nu, 0, 0, 0],\n    [nu, nu, 1, 0, 0, 0],\n    [0., 0, 0, (1-nu)/2, 0, 0],\n    [0., 0, 0, 0, (1-nu)/2, 0],\n    [0., 0, 0, 0, 0, (1-nu)/2]]) * (E / (1-nu**2))\n\n# fix points at x==0\ncond = coords[:, 0] <= 0.001\nebcinds = np.where(cond)[0]\nfixity = np.zeros((coords.shape[0], 6), dtype=bool)\nfixity[ebcinds, :] = True\nfixity[:, 3:] = True\n\n# unit vertical load at (Lx, Ly)\ncond = (coords[:, 0] > (Lx-(1e-12))) & \\\n    (np.abs(coords[:, 1] - (Ly/2)) < 1e-12) & \\\n    (np.abs(coords[:, 2] - (Lz/2)) < 1e-12)\nnbcinds = np.where(cond)[0]\nloads = np.zeros((coords.shape[0], 6))\nloads[nbcinds, 2] = F\n\nGlobalFrame = StandardFrame(dim=3)\n\n# pointdata\npd = PointData(coords=coords, frame=GlobalFrame,\n               loads=loads, fixity=fixity)\n\n# celldata\nframes = repeat(GlobalFrame.show(), topo.shape[0])\ncd = Cell(topo=topo, frames=frames)\n\n# set up mesh and structure\nmesh = FemMesh(pd, cd, model=A, frame=GlobalFrame)\nstructure = Structure(mesh=mesh)\n\nstructure.linsolve()\ndofsol = structure.nodal_dof_solution()\nstructure.mesh.pointdata['x'] = coords + dofsol[:, :3]\nsol_fem_3d = dofsol[:, 2].min()"
      ]
    },
    {
      "cell_type": "code",
      "execution_count": null,
      "metadata": {
        "collapsed": false
      },
      "outputs": [],
      "source": [
        "sol_fem_3d, sol_fem_2d_P, sol_fem_2d_M, sol_fem_1d_B2, sol_exact"
      ]
    },
    {
      "cell_type": "code",
      "execution_count": null,
      "metadata": {
        "collapsed": false
      },
      "outputs": [],
      "source": [
        "mesh.config['pyvista', 'plot', 'scalars'] = dofsol[:, 2]\nmesh.pvplot(notebook=True, jupyter_backend='static', window_size=(600, 400),\n            config_key=('pyvista', 'plot'), cmap='plasma')"
      ]
    },
    {
      "cell_type": "code",
      "execution_count": null,
      "metadata": {
        "collapsed": false
      },
      "outputs": [],
      "source": [
        "import matplotlib.pyplot as plt\nfig = plt.figure()\nax = fig.add_axes([0, 0, 1, 1])\nlabels = ['H8', 'Q4M', 'B2', 'BA']\nvalues = [sol_fem_3d, sol_fem_2d_M, sol_fem_1d_B2, sol_exact]\nax.bar(labels, values)\nplt.show()"
      ]
    }
  ],
  "metadata": {
    "kernelspec": {
      "display_name": "Python 3",
      "language": "python",
      "name": "python3"
    },
    "language_info": {
      "codemirror_mode": {
        "name": "ipython",
        "version": 3
      },
      "file_extension": ".py",
      "mimetype": "text/x-python",
      "name": "python",
      "nbconvert_exporter": "python",
      "pygments_lexer": "ipython3",
      "version": "3.8.10"
    }
  },
  "nbformat": 4,
  "nbformat_minor": 0
}