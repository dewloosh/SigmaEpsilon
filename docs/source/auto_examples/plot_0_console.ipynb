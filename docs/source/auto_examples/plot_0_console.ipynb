{
 "cells": [
  {
   "cell_type": "code",
   "execution_count": null,
   "metadata": {
    "collapsed": false
   },
   "outputs": [],
   "source": [
    "%matplotlib inline"
   ]
  },
  {
   "cell_type": "markdown",
   "metadata": {},
   "source": [
    "\n# Linear Elastostatics of a Console in 1d\n"
   ]
  },
  {
   "cell_type": "markdown",
   "metadata": {},
   "source": [
    "A short comparison of different modeling techniques of a simple console. The beam has a rectangular prismatic cross-section and a linear elastic material model, governed by the following parameters:\n\n"
   ]
  },
  {
   "cell_type": "code",
   "execution_count": null,
   "metadata": {
    "collapsed": false
   },
   "outputs": [],
   "source": [
    "L = 100.0  # length of the console\n",
    "w, h = 10.0, 10.0  # width and height of the rectangular cross section\n",
    "F = -100.0  # value of the vertical load at the free end\n",
    "E = 210000.0  # Young's modulus\n",
    "nu = 0.3  # Poisson's ratio"
   ]
  },
  {
   "cell_type": "markdown",
   "metadata": {},
   "source": [
    "The resistance of a rectangular section can be characterized by the following constants (the cross section lies in the y-z plane):\n\n"
   ]
  },
  {
   "cell_type": "markdown",
   "metadata": {},
   "source": [
    "cross section\n\n"
   ]
  },
  {
   "cell_type": "code",
   "execution_count": null,
   "metadata": {
    "collapsed": false
   },
   "outputs": [],
   "source": [
    "A = w * h  # area\nIy = w * h**3 / 12  # second moment of inertia around the y axis\nIz = w * h**3 / 12  # second moment of inertia around the z axis\nIx = Iy + Iz  # torsional inertia"
   ]
  },
  {
   "cell_type": "markdown",
   "metadata": {},
   "source": [
    "# 1d Solution - Exact Analytical\n\n"
   ]
  },
  {
   "cell_type": "markdown",
   "metadata": {},
   "source": [
    "Analytic solution for the tip displacement of an 1d Euler-Bernoulli beam:\n\n"
   ]
  },
  {
   "cell_type": "markdown",
   "metadata": {},
   "source": [
    "Bernoulli solution\n\n"
   ]
  },
  {
   "cell_type": "code",
   "execution_count": null,
   "metadata": {
    "collapsed": false
   },
   "outputs": [],
   "source": [
    "import numpy as np\n",
    "\n",
    "EI = E * Iy\n",
    "sol_exact = F * L**3 / (3 * EI)\n",
    "tol = np.abs(sol_exact / 1000)\n",
    "sol_exact"
   ]
  },
  {
   "cell_type": "markdown",
   "metadata": {},
   "source": [
    "# 1d Solution - Approximate Numerical\n\n"
   ]
  },
  {
   "cell_type": "code",
   "execution_count": null,
   "metadata": {
    "collapsed": false
   },
   "outputs": [],
   "source": [
    "from sigmaepsilon.solid import Structure, LineMesh, PointData\n",
    "from neumann.linalg import linspace, Vector\n",
    "from polymesh.space import StandardFrame, PointCloud, frames_of_lines\n",
    "from sigmaepsilon.solid.fem.cells import B2 as Beam\n",
    "\n",
    "import numpy as np\n",
    "\n",
    "# model stiffness matrix\n",
    "G = E / (2 * (1 + nu))\n",
    "Hooke = np.array(\n",
    "    [[E * A, 0, 0, 0], [0, G * Ix, 0, 0], [0, 0, E * Iy, 0], [0, 0, 0, E * Iz]]\n",
    ")\n",
    "\n",
    "# space\n",
    "GlobalFrame = StandardFrame(dim=3)\n",
    "\n",
    "# mesh\n",
    "nElem = 20  # number of finite elements to use\n",
    "p0 = np.array([0.0, 0.0, 0.0])\n",
    "p1 = np.array([L, 0.0, 0.0])\n",
    "coords = linspace(p0, p1, nElem + 1)\n",
    "coords = PointCloud(coords, frame=GlobalFrame).show()\n",
    "topo = np.zeros((nElem, 2), dtype=int)\n",
    "topo[:, 0] = np.arange(nElem)\n",
    "topo[:, 1] = np.arange(nElem) + 1\n",
    "\n",
    "# support at the leftmost, load at the rightmost node\n",
    "loads = np.zeros((coords.shape[0], 6))\n",
    "fixity = np.zeros((coords.shape[0], 6)).astype(bool)\n",
    "global_load_vector = Vector([0.0, 0, F], frame=GlobalFrame).show()\n",
    "loads[-1, :3] = global_load_vector\n",
    "fixity[0, :] = True\n",
    "\n",
    "# pointdata\n",
    "pd = PointData(coords=coords, frame=GlobalFrame, loads=loads, fixity=fixity)\n",
    "\n",
    "# celldata\n",
    "frames = frames_of_lines(coords, topo)\n",
    "cd = Beam(topo=topo, frames=frames)\n",
    "\n",
    "# set up mesh and structure\n",
    "mesh = LineMesh(pd, cd, model=Hooke, frame=GlobalFrame)\n",
    "structure = Structure(mesh=mesh)\n",
    "structure.linsolve()\n",
    "\n",
    "# postproc\n",
    "# 1) displace the mesh\n",
    "structure.nodal_dof_solution(store=\"dofsol\")\n",
    "dofsol = structure.mesh.pd[\"dofsol\"].to_numpy()[:, :3]\n",
    "local_dof_solution = dofsol[-1, :3]\n",
    "sol_fem_1d_B2 = local_dof_solution[2]\n",
    "sol_fem_1d_B2"
   ]
  },
  {
   "cell_type": "code",
   "execution_count": null,
   "metadata": {
    "collapsed": false
   },
   "outputs": [],
   "source": [
    "mesh.config[\"pyvista\", \"plot\", \"scalars\"] = dofsol[:, 2]\n",
    "mesh.config[\"pyvista\", \"plot\", \"line_width\"] = 4\n",
    "mesh.pvplot(\n",
    "    notebook=True,\n",
    "    jupyter_backend=\"static\",\n",
    "    window_size=(600, 400),\n",
    "    config_key=(\"pyvista\", \"plot\"),\n",
    "    cmap=\"plasma\",\n",
    ")"
   ]
  }
 ],
 "metadata": {
  "kernelspec": {
   "display_name": "Python 3",
   "language": "python",
   "name": "python3"
  },
  "language_info": {
   "codemirror_mode": {
    "name": "ipython",
    "version": 3
   },
   "file_extension": ".py",
   "mimetype": "text/x-python",
   "name": "python",
   "nbconvert_exporter": "python",
   "pygments_lexer": "ipython3",
   "version": "3.8.10"
  }
 },
 "nbformat": 4,
 "nbformat_minor": 0
}