{
 "cells": [
  {
   "cell_type": "code",
   "execution_count": null,
   "metadata": {
    "collapsed": false
   },
   "outputs": [],
   "source": [
    "%matplotlib inline"
   ]
  },
  {
   "cell_type": "markdown",
   "metadata": {},
   "source": [
    "\n",
    "# Navier's Solution to Simply-Supported Plates\n"
   ]
  },
  {
   "cell_type": "code",
   "execution_count": null,
   "metadata": {
    "collapsed": false
   },
   "outputs": [],
   "source": [
    "import numpy as np\n",
    "from dewloosh.mpl.triplot import triplot\n",
    "from polymesh import PolyData\n",
    "from polymesh.grid import grid\n",
    "from polymesh.tri.trimesh import triangulate\n",
    "from polymesh.topo.tr import Q4_to_T3\n",
    "import matplotlib.pyplot as plt\n",
    "from matplotlib import gridspec\n",
    "\n",
    "plt.style.use(\"default\")\n",
    "\n",
    "size = Lx, Ly = (600.0, 800.0)\n",
    "E = 2890.0\n",
    "nu = 0.2\n",
    "t = 25.0"
   ]
  },
  {
   "cell_type": "markdown",
   "metadata": {},
   "source": [
    "Set up a material model\n",
    "\n"
   ]
  },
  {
   "cell_type": "code",
   "execution_count": null,
   "metadata": {
    "collapsed": false
   },
   "outputs": [],
   "source": [
    "G = E / 2 / (1 + nu)\n",
    "D = (\n",
    "    np.array([[1, nu, 0], [nu, 1, 0], [0.0, 0, (1 - nu) / 2]])\n",
    "    * t**3\n",
    "    * (E / (1 - nu**2))\n",
    "    / 12\n",
    ")\n",
    "S = np.array([[G, 0], [0, G]]) * t * 5 / 6"
   ]
  },
  {
   "cell_type": "markdown",
   "metadata": {},
   "source": [
    "Define some loads\n",
    "\n"
   ]
  },
  {
   "cell_type": "code",
   "execution_count": null,
   "metadata": {
    "collapsed": false
   },
   "outputs": [],
   "source": [
    "loads = {\n",
    "    \"LG1\": {\n",
    "        \"LC1\": {\n",
    "            \"type\": \"rect\",\n",
    "            \"points\": [[0, 0], [Lx, Ly]],\n",
    "            \"value\": [0, 0, -0.01],\n",
    "        },\n",
    "        \"LC2\": {\n",
    "            \"type\": \"rect\",\n",
    "            \"region\": [0.2 * Lx, 0.5 * Ly, 0.2 * Lx, 0.3 * Ly],\n",
    "            \"value\": [0, 0, -100],\n",
    "        },\n",
    "    },\n",
    "    \"LG2\": {\n",
    "        \"LC3\": {\n",
    "            \"type\": \"point\",\n",
    "            \"point\": [Lx / 3, Ly / 2],\n",
    "            \"value\": [0, 0, -10],\n",
    "        },\n",
    "        \"LC4\": {\n",
    "            \"type\": \"point\",\n",
    "            \"point\": [2 * Lx / 3, Ly / 2],\n",
    "            \"value\": [0, 0, 10],\n",
    "        },\n",
    "    },\n",
    "    \"dummy1\": 10,\n",
    "}"
   ]
  },
  {
   "cell_type": "markdown",
   "metadata": {},
   "source": [
    "Solve the problem\n",
    "\n"
   ]
  },
  {
   "cell_type": "code",
   "execution_count": null,
   "metadata": {
    "collapsed": false
   },
   "outputs": [],
   "source": [
    "from sigmaepsilon.solid.fourier import RectangularPlate\n",
    "\n",
    "Problem = RectangularPlate(size, (50, 50), D=D, S=S, model=\"kirchhoff\")\n",
    "Loads = Problem.add_loads_from_dict(loads)\n",
    "Problem.solve()"
   ]
  },
  {
   "cell_type": "code",
   "execution_count": null,
   "metadata": {
    "collapsed": false
   },
   "outputs": [],
   "source": [
    "shape = nx, ny = (30, 40)\n",
    "gridparams = {\"size\": size, \"shape\": shape, \"origo\": (0, 0), \"start\": 0, \"eshape\": \"Q4\"}\n",
    "coords_, topo = grid(**gridparams)\n",
    "coords = np.zeros((coords_.shape[0], 3))\n",
    "coords[:, :2] = coords_[:, :]\n",
    "del coords_\n",
    "coords, triangles = Q4_to_T3(coords, topo)\n",
    "\n",
    "triobj = triangulate(points=coords[:, :2], triangles=triangles)[-1]\n",
    "Mesh = PolyData(coords=coords, topo=triangles)\n",
    "centers = Mesh.centers()"
   ]
  },
  {
   "cell_type": "code",
   "execution_count": null,
   "metadata": {
    "collapsed": false
   },
   "outputs": [],
   "source": [
    "Problem.postproc(centers[:, :2], cleanup=False)"
   ]
  },
  {
   "cell_type": "code",
   "execution_count": null,
   "metadata": {
    "collapsed": false
   },
   "outputs": [],
   "source": [
    "UZ, ROTX, ROTY, CX, CY, CXY, EXZ, EYZ, MX, MY, MXY, QX, QY = list(range(13))\n",
    "labels = {\n",
    "    UZ: \"UZ\",\n",
    "    ROTX: \"ROTX\",\n",
    "    ROTY: \"ROTY\",\n",
    "    CX: \"CX\",\n",
    "    CY: \"CY\",\n",
    "    CXY: \"CXY\",\n",
    "    EXZ: \"EXZ\",\n",
    "    EYZ: \"EYZ\",\n",
    "    MX: \"MX\",\n",
    "    MY: \"MY\",\n",
    "    MXY: \"MXY\",\n",
    "    QX: \"QX\",\n",
    "    QY: \"QY\",\n",
    "}"
   ]
  },
  {
   "cell_type": "code",
   "execution_count": null,
   "metadata": {
    "collapsed": false
   },
   "outputs": [],
   "source": [
    "res2d = Loads[\"LG1\", \"LC1\"].res2d"
   ]
  },
  {
   "cell_type": "code",
   "execution_count": null,
   "metadata": {
    "collapsed": false
   },
   "outputs": [],
   "source": [
    "fig = plt.figure(figsize=(8, 3))  # in inches\n",
    "fig.patch.set_facecolor(\"white\")\n",
    "cmap = \"jet\"\n",
    "gs = gridspec.GridSpec(1, 3)\n",
    "for i, key in enumerate([UZ, ROTX, ROTY]):\n",
    "    ax = fig.add_subplot(gs[i])\n",
    "    triplot(\n",
    "        triobj,\n",
    "        ax=ax,\n",
    "        fig=fig,\n",
    "        title=labels[key],\n",
    "        data=res2d[key, :],\n",
    "        cmap=cmap,\n",
    "        axis=\"off\",\n",
    "    )\n",
    "fig.tight_layout()\n",
    "\n",
    "fig = plt.figure(figsize=(12, 3))  # in inches\n",
    "fig.patch.set_facecolor(\"white\")\n",
    "cmap = \"seismic\"\n",
    "gs = gridspec.GridSpec(1, 5)\n",
    "for i, key in enumerate([MX, MY, MXY, QX, QY]):\n",
    "    ax = fig.add_subplot(gs[i])\n",
    "    triplot(\n",
    "        triobj,\n",
    "        ax=ax,\n",
    "        fig=fig,\n",
    "        title=labels[key],\n",
    "        data=res2d[key, :],\n",
    "        cmap=cmap,\n",
    "        axis=\"off\",\n",
    "    )\n",
    "fig.tight_layout()"
   ]
  }
 ],
 "metadata": {
  "kernelspec": {
   "display_name": ".sigeps",
   "language": "python",
   "name": "python3"
  },
  "language_info": {
   "codemirror_mode": {
    "name": "ipython",
    "version": 3
   },
   "file_extension": ".py",
   "mimetype": "text/x-python",
   "name": "python",
   "nbconvert_exporter": "python",
   "pygments_lexer": "ipython3",
   "version": "3.8.10"
  },
  "vscode": {
   "interpreter": {
    "hash": "28d81e0e1442962330764574f1956d80898814d1923baa1210fb6369a4e79b2a"
   }
  }
 },
 "nbformat": 4,
 "nbformat_minor": 0
}
