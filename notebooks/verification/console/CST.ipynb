{
 "cells": [
  {
   "cell_type": "code",
   "execution_count": 23,
   "metadata": {},
   "outputs": [],
   "source": [
    "import numpy as np"
   ]
  },
  {
   "cell_type": "markdown",
   "metadata": {},
   "source": [
    "## Input Parameters"
   ]
  },
  {
   "cell_type": "code",
   "execution_count": 24,
   "metadata": {},
   "outputs": [],
   "source": [
    "# geometry\n",
    "L = 1.0\n",
    "w = 0.05\n",
    "h = 0.1\n",
    "\n",
    "# mesh\n",
    "shape = (100, 10)\n",
    "\n",
    "# material\n",
    "E = 1000\n",
    "nu = 0.2\n",
    "\n",
    "# load\n",
    "F = 100"
   ]
  },
  {
   "cell_type": "markdown",
   "metadata": {},
   "source": [
    "## Analytic Bernoulli Solution"
   ]
  },
  {
   "cell_type": "code",
   "execution_count": 25,
   "metadata": {},
   "outputs": [],
   "source": [
    "EI = E * w * h**3 / 12\n",
    "UY_Bernoulli = -F * L**3 / (3 * EI)"
   ]
  },
  {
   "cell_type": "markdown",
   "metadata": {},
   "source": [
    "## Finite Element Solution"
   ]
  },
  {
   "cell_type": "code",
   "execution_count": 26,
   "metadata": {},
   "outputs": [],
   "source": [
    "# Hooke model\n",
    "A = np.array([\n",
    "    [1, nu, 0], \n",
    "    [nu, 1, 0],\n",
    "    [0, 0, (1-nu)/2]]) * (E /(1-nu**2)) * w"
   ]
  },
  {
   "cell_type": "code",
   "execution_count": 27,
   "metadata": {},
   "outputs": [],
   "source": [
    "from polymesh.tri.trimesh import TriMesh\n",
    "trimesh = TriMesh(size=(L, h), shape=shape)\n",
    "coords = trimesh.coords()\n",
    "topo = trimesh.topology()"
   ]
  },
  {
   "cell_type": "code",
   "execution_count": 28,
   "metadata": {},
   "outputs": [],
   "source": [
    "# essential boundary conditions\n",
    "cond_ebc = np.abs(coords[:, 0]) <= 1e-5\n",
    "ebcinds = np.where(cond_ebc)[0]\n",
    "fixity = np.zeros((coords.shape[0], 2), dtype=bool)\n",
    "fixity[ebcinds, :] = True"
   ]
  },
  {
   "cell_type": "code",
   "execution_count": 29,
   "metadata": {},
   "outputs": [],
   "source": [
    "# natural boundary conditions\n",
    "target = np.array([L, h/2, 0])\n",
    "nbcinds = [trimesh.index_of_closest_point(target)]\n",
    "loads = np.zeros((coords.shape[0], 2))\n",
    "loads[nbcinds, 1] = -F"
   ]
  },
  {
   "cell_type": "code",
   "execution_count": 30,
   "metadata": {},
   "outputs": [],
   "source": [
    "from sigmaepsilon.solid.fem import FemMesh, Structure, CSTM\n",
    "mesh = FemMesh(coords=coords, topo=topo, celltype=CSTM, \n",
    "               fixity=fixity, loads=loads, model=A)\n",
    "structure = Structure(mesh=mesh)"
   ]
  },
  {
   "cell_type": "code",
   "execution_count": 31,
   "metadata": {},
   "outputs": [
    {
     "data": {
      "text/plain": [
       "{'preproc': {'sparsify': False},\n",
       " 'proc': {'time [ms]': 14.000892639160156,\n",
       "  'N': 2000,\n",
       "  'use_umfpack': True,\n",
       "  'permc_spec': 'COLAMD',\n",
       "  'solver': 'pardiso'},\n",
       " 'postproc': {},\n",
       " 'number of elements': 1782,\n",
       " 'number of nodes': 1000,\n",
       " 'dofs per node': 2}"
      ]
     },
     "execution_count": 31,
     "metadata": {},
     "output_type": "execute_result"
    }
   ],
   "source": [
    "structure.linsolve()\n",
    "structure.summary"
   ]
  },
  {
   "cell_type": "code",
   "execution_count": 32,
   "metadata": {},
   "outputs": [],
   "source": [
    "UY_FEM = structure.pointdata.dofsol.to_numpy()[nbcinds[0]][1]"
   ]
  },
  {
   "cell_type": "markdown",
   "metadata": {},
   "source": [
    "## Comparison"
   ]
  },
  {
   "cell_type": "code",
   "execution_count": 33,
   "metadata": {},
   "outputs": [
    {
     "name": "stdout",
     "output_type": "stream",
     "text": [
      "Analytic Bernoulli Solution : -7999.999999999998\n",
      "FEM Solution : -7790.599946023473\n",
      "Difference : -2.61750067470656 %\n"
     ]
    }
   ],
   "source": [
    "print(\"Analytic Bernoulli Solution : {}\".format(UY_Bernoulli))\n",
    "print(\"FEM Solution : {}\".format(UY_FEM))\n",
    "diff = 100 * (UY_FEM - UY_Bernoulli) / UY_Bernoulli\n",
    "print(\"Difference : {} %\".format(diff))\n",
    "structure.plot()"
   ]
  }
 ],
 "metadata": {
  "kernelspec": {
   "display_name": "Python 3.8.10 ('.venv': venv)",
   "language": "python",
   "name": "python3"
  },
  "language_info": {
   "codemirror_mode": {
    "name": "ipython",
    "version": 3
   },
   "file_extension": ".py",
   "mimetype": "text/x-python",
   "name": "python",
   "nbconvert_exporter": "python",
   "pygments_lexer": "ipython3",
   "version": "3.8.10"
  },
  "orig_nbformat": 4,
  "vscode": {
   "interpreter": {
    "hash": "40d25ec769e13e95ebfd1ec05f7c04c775f26d40144c28ce5090e24d5cd2071f"
   }
  }
 },
 "nbformat": 4,
 "nbformat_minor": 2
}
