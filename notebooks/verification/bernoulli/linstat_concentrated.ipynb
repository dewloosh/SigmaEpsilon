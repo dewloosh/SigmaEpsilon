{
 "cells": [
  {
   "cell_type": "markdown",
   "metadata": {},
   "source": [
    "# Bernoulli Verification Example - Concentrated Loads on a Console"
   ]
  },
  {
   "cell_type": "markdown",
   "metadata": {},
   "source": [
    "Concentrated actions at the free end of a console for all dofs. Displacements of the free end, reaction dynams and internal dynams at the support are checked agains analytical solutions. The console has a length of $L$, tube section of diameter $d$ and thickness $t$ and an isotropic material definition."
   ]
  },
  {
   "cell_type": "code",
   "execution_count": 1,
   "metadata": {},
   "outputs": [],
   "source": [
    "from sigmaepsilon.solid.fem.cells import B2 as Beam\n",
    "\n",
    "# units in kN, cm\n",
    "L, d, t = 100.0, 1.2, 0.4\n",
    "Ex, nu = 21000.0, 0.25\n",
    "Fx, Fy, Fz, Mx, My, Mz = 1.0, 1.0, 1.0, 1.0, 1.0, 1.0\n"
   ]
  },
  {
   "cell_type": "markdown",
   "metadata": {},
   "source": [
    "## Linear Solution"
   ]
  },
  {
   "cell_type": "code",
   "execution_count": 2,
   "metadata": {},
   "outputs": [],
   "source": [
    "\n",
    "from sigmaepsilon.solid import Structure, LineMesh, PointData\n",
    "from polymesh.space import StandardFrame, PointCloud, frames_of_lines\n",
    "from polymesh.space.utils import index_of_closest_point\n",
    "from sigmaepsilon.solid import BeamSection\n",
    "from linkeddeepdict.tools import getallfromkwargs\n",
    "from neumann.linalg import linspace\n",
    "from neumann.array import repeat\n",
    "from linkeddeepdict import LinkedDeepDict\n",
    "import numpy as np\n",
    "\n",
    "iN = None  # index of the node at the free end\n",
    "\n",
    "# section\n",
    "section = BeamSection('CHS', d=d, t=t, n=16)\n",
    "section.calculate_section_properties()\n",
    "section_props = section.section_properties\n",
    "A, Ix, Iy, Iz = getallfromkwargs(['A', 'Ix', 'Iy', 'Iz'], **section_props)\n",
    "\n",
    "# material\n",
    "G = Ex / (2 * (1 + nu))\n",
    "Hooke = np.array([\n",
    "    [Ex*A, 0, 0, 0],\n",
    "    [0, G*Ix, 0, 0],\n",
    "    [0, 0, Ex*Iy, 0],\n",
    "    [0, 0, 0, Ex*Iz]\n",
    "])\n",
    "\n",
    "loads = LinkedDeepDict()\n",
    "# load case 1\n",
    "loads['Fx', 'description'] = 'concentrated force at the free end in X direction'\n",
    "loads['Fx', 'value'] = [Fx, 0, 0, 0, 0, 0]\n",
    "loads['Fx', 'result'] = Fx * L / (Ex * A)\n",
    "# load case 2\n",
    "loads['Fy', 'description'] = 'concentrated force at the free end in Y direction'\n",
    "loads['Fy', 'value'] = [0, Fy, 0, 0, 0, 0]\n",
    "loads['Fy', 'result'] = Fy * L**3 / (3 * Ex * Iy)\n",
    "# load case 3\n",
    "loads['Fz', 'description'] = 'concentrated force at the free end in Z direction'\n",
    "loads['Fz', 'value'] = [0, 0, Fz, 0, 0, 0]\n",
    "loads['Fz', 'result'] = Fz * L**3 / (3 * Ex * Iz)\n",
    "# load case 4\n",
    "loads['Mx', 'description'] = 'concentrated moment at the free end around X'\n",
    "loads['Mx', 'value'] = [0, 0, 0, Mx, 0, 0]\n",
    "loads['Mx', 'result'] = Mx * L / (G * Ix)\n",
    "# load case 5\n",
    "loads['My', 'description'] = 'concentrated moment at the free end around Y'\n",
    "loads['My', 'value'] = [0, 0, 0, 0, My, 0]\n",
    "loads['My', 'result'] = My * L / (Ex * Iy)\n",
    "# load case 6\n",
    "loads['Mz', 'description'] = 'concentrated moment at the free end around Z'\n",
    "loads['Mz', 'value'] = [0, 0, 0, 0, 0, Mz]\n",
    "loads['Mz', 'result'] = Mz * L / (Ex * Iz)\n",
    "\n",
    "\n",
    "def build_structure(n: int):\n",
    "    global iN, loads\n",
    "\n",
    "    # space\n",
    "    GlobalFrame = StandardFrame(dim=3)\n",
    "\n",
    "    # mesh\n",
    "    p0 = np.array([0., 0., 0.])\n",
    "    p1 = np.array([L, 0., 0.])\n",
    "    coords = linspace(p0, p1, n+1)\n",
    "    coords = PointCloud(coords, frame=GlobalFrame).show()\n",
    "    topo = np.zeros((n, 2), dtype=int)\n",
    "    topo[:, 0] = np.arange(n)\n",
    "    topo[:, 1] = np.arange(n) + 1\n",
    "\n",
    "    # essential boundary conditions\n",
    "    ebcinds = np.where(coords[:, 0] < 1e-12)[0]\n",
    "    fixity = np.zeros((coords.shape[0], 6)).astype(bool)\n",
    "    fixity[ebcinds, :] = True\n",
    "\n",
    "    # natural boundary conditions\n",
    "    iN = index_of_closest_point(coords, np.array([L, 0, 0]))\n",
    "    nLoadCase = len(loads)\n",
    "    nodal_loads = np.zeros((coords.shape[0], 6, nLoadCase))\n",
    "    for i, key in enumerate(loads):\n",
    "        f = loads[key]['value']\n",
    "        loads[key]['node'] = iN\n",
    "        nodal_loads[iN, :, i] = f\n",
    "\n",
    "    # pointdata\n",
    "    pd = PointData(coords=coords, frame=GlobalFrame,\n",
    "                   loads=nodal_loads, fixity=fixity)\n",
    "\n",
    "    # celldata\n",
    "    # NOTE : check with these frames\n",
    "    #frames = frames_of_lines(coords, topo)\n",
    "    frames = repeat(GlobalFrame.show(), topo.shape[0])\n",
    "    areas = np.full(topo.shape[0], section.A)\n",
    "    cd = Beam(topo=topo, frames=frames)\n",
    "\n",
    "    # set up mesh and structure\n",
    "    mesh = LineMesh(pd, cd, model=Hooke, frame=GlobalFrame)\n",
    "    structure = Structure(mesh=mesh)\n",
    "    return structure\n",
    "\n",
    "\n",
    "def calc_dofsol(n: int = 2, *, structure=None):\n",
    "    if structure is None:\n",
    "        structure = build_structure(n)\n",
    "        structure.linsolve()\n",
    "    return structure.nodal_dof_solution(store='dofsol')\n",
    "\n",
    "\n",
    "def calc_dofsol_at_free_end(n: int = 2, *, structure=None):\n",
    "    if structure is None:\n",
    "        structure = build_structure(n)\n",
    "        structure.linsolve()\n",
    "        d = structure.nodal_dof_solution(store='dofsol')\n",
    "    else:\n",
    "        d = calc_dofsol(structure=structure)\n",
    "    return [d[iN, i, i] for i in range(len(loads))]\n",
    "\n",
    "\n",
    "def calc_reaction_forces(n: int = 2, *, structure=None):\n",
    "    if structure is None:\n",
    "        structure = build_structure(n)\n",
    "        structure.linsolve()\n",
    "        structure.nodal_dof_solution(store='dofsol')\n",
    "    r = structure.reaction_forces()\n",
    "    return [r[0, i, i] for i in range(len(loads))]\n",
    "\n",
    "\n",
    "def calc_internal_forces(n: int = 2, *, structure=None):\n",
    "    if structure is None:\n",
    "        structure = build_structure(n)\n",
    "        structure.linsolve()\n",
    "        structure.nodal_dof_solution(store='dofsol')\n",
    "    evaluation_points = [-1., 1.]\n",
    "    #r = structure.internal_forces(points=evaluation_points, rng=[-1., 1.])\n",
    "    r = structure.internal_forces()\n",
    "    return [r[0, 0, i, i] for i in range(len(loads))]\n"
   ]
  },
  {
   "cell_type": "code",
   "execution_count": 3,
   "metadata": {},
   "outputs": [
    {
     "name": "stdout",
     "output_type": "stream",
     "text": [
      "0 Fx\n",
      "1 Fy\n",
      "2 Fz\n",
      "3 Mx\n",
      "4 My\n",
      "5 Mz\n"
     ]
    }
   ],
   "source": [
    "calc_dofsol(4)\n",
    "for i, key in enumerate(loads):\n",
    "    print(i, key)\n"
   ]
  },
  {
   "cell_type": "markdown",
   "metadata": {},
   "source": [
    "## Verification"
   ]
  },
  {
   "cell_type": "code",
   "execution_count": 67,
   "metadata": {},
   "outputs": [
    {
     "name": "stdout",
     "output_type": "stream",
     "text": [
      "0.004861 <-> 0.004861\n",
      "166.2 <-> 166.2\n",
      "166.2 <-> 166.2\n",
      "0.06234 <-> 0.06234\n",
      "0.04987 <-> 0.04987\n",
      "0.04987 <-> 0.04987\n"
     ]
    }
   ],
   "source": [
    "from latexdocs.utils import floatformatter\n",
    "\n",
    "f2s = floatformatter(sig=4)\n",
    "\n",
    "dofsol = calc_dofsol(4)\n",
    "\n",
    "for i, key in enumerate(loads):\n",
    "    sN = dofsol[iN, i, i]\n",
    "    sA = loads[key, 'result']\n",
    "    print(\"{} <-> {}\".format(f2s.format(sN), f2s.format(sA)))\n"
   ]
  },
  {
   "cell_type": "markdown",
   "metadata": {},
   "source": [
    "## Convergence Study"
   ]
  },
  {
   "cell_type": "code",
   "execution_count": 68,
   "metadata": {},
   "outputs": [
    {
     "data": {
      "text/plain": [
       "[0.004860725316756728,\n",
       " 166.24232503429022,\n",
       " 166.24232503428524,\n",
       " 0.06234087188510877,\n",
       " 0.04987269750828569,\n",
       " 0.04987269750828696]"
      ]
     },
     "execution_count": 68,
     "metadata": {},
     "output_type": "execute_result"
    }
   ],
   "source": [
    "calc_dofsol_at_free_end(4)\n"
   ]
  },
  {
   "cell_type": "code",
   "execution_count": 69,
   "metadata": {},
   "outputs": [
    {
     "data": {
      "text/plain": [
       "[-1.0000000000000002,\n",
       " -0.9999999999999929,\n",
       " -0.9999999999999787,\n",
       " -1.0,\n",
       " -0.9999999999999538,\n",
       " -0.9999999999999911]"
      ]
     },
     "execution_count": 69,
     "metadata": {},
     "output_type": "execute_result"
    }
   ],
   "source": [
    "calc_reaction_forces(4)\n"
   ]
  },
  {
   "cell_type": "code",
   "execution_count": 70,
   "metadata": {},
   "outputs": [
    {
     "data": {
      "text/plain": [
       "[1.0000000000000002,\n",
       " 0.9999999999999913,\n",
       " 0.9999999999999742,\n",
       " 0.9999999999999999,\n",
       " 0.9999999999999536,\n",
       " 0.9999999999999903]"
      ]
     },
     "execution_count": 70,
     "metadata": {},
     "output_type": "execute_result"
    }
   ],
   "source": [
    "calc_internal_forces(4)\n"
   ]
  },
  {
   "cell_type": "code",
   "execution_count": 71,
   "metadata": {},
   "outputs": [],
   "source": [
    "ns = [2, 4, 10, 20, 40, 60, 80, 100]\n",
    "#ns = [2, 4, 10]\n",
    "ux, uy, uz, uxx, uyy, uzz = [],  [], [], [], [], []\n",
    "rx, ry, rz, rxx, ryy, rzz = [],  [], [], [], [], []\n",
    "fx, fy, fz, fxx, fyy, fzz = [],  [], [], [], [], []\n",
    "for n in ns:\n",
    "    s = build_structure(n)\n",
    "    s.linsolve()\n",
    "    u_n = calc_dofsol_at_free_end(structure=s)\n",
    "    ux.append(u_n[0] / loads['Fx', 'result'])\n",
    "    uy.append(u_n[1] / loads['Fy', 'result'])\n",
    "    uz.append(u_n[2] / loads['Fz', 'result'])\n",
    "    uxx.append(u_n[3] / loads['Mx', 'result'])\n",
    "    uyy.append(u_n[4] / loads['My', 'result'])\n",
    "    uzz.append(u_n[5] / loads['Mz', 'result'])\n",
    "    r_n = calc_reaction_forces(structure=s)\n",
    "    rx.append(-r_n[0] / Fx)\n",
    "    ry.append(-r_n[1] / Fy)\n",
    "    rz.append(-r_n[2] / Fz)\n",
    "    rxx.append(-r_n[3] / Mx)\n",
    "    ryy.append(-r_n[4] / My)\n",
    "    rzz.append(-r_n[5] / Mz)\n",
    "    f_n = calc_internal_forces(structure=s)\n",
    "    fx.append(f_n[0] / Fx)\n",
    "    fy.append(f_n[1] / Fy)\n",
    "    fz.append(f_n[2] / Fz)\n",
    "    fxx.append(f_n[3] / Mx)\n",
    "    fyy.append(f_n[4] / My)\n",
    "    fzz.append(f_n[5] / Mz)\n"
   ]
  },
  {
   "cell_type": "code",
   "execution_count": 78,
   "metadata": {},
   "outputs": [
    {
     "data": {
      "image/png": "[encoded data removed]",
      "text/plain": [
       "<Figure size 700x600 with 18 Axes>"
      ]
     },
     "metadata": {},
     "output_type": "display_data"
    }
   ],
   "source": [
    "from matplotlib import gridspec\n",
    "import matplotlib as mpl\n",
    "import matplotlib.pyplot as plt\n",
    "\n",
    "fig = plt.figure(figsize=(7, 6))  # in inches\n",
    "gs = gridspec.GridSpec(6, 3, hspace=0.7, wspace=0.5)\n",
    "axes = []\n",
    "# --------------------- DISPLACEMENTS --------------------\n",
    "\n",
    "ax1 = fig.add_subplot(gs[0, 0])\n",
    "ax1.set_ylabel('UX')\n",
    "ax1.plot(ns, ux, 'b*')\n",
    "\n",
    "ax2 = fig.add_subplot(gs[1, 0])\n",
    "ax2.set_ylabel('UY')\n",
    "ax2.plot(ns, uy, 'b*')\n",
    "\n",
    "ax3 = fig.add_subplot(gs[2, 0])\n",
    "ax3.set_ylabel('UZ')\n",
    "ax3.plot(ns, uz, 'b*')\n",
    "\n",
    "ax4 = fig.add_subplot(gs[3, 0])\n",
    "ax4.set_ylabel('UXX')\n",
    "ax4.plot(ns, uxx, 'b*')\n",
    "\n",
    "ax5 = fig.add_subplot(gs[4, 0])\n",
    "ax5.set_ylabel('UYY')\n",
    "ax5.plot(ns, uyy, 'b*')\n",
    "\n",
    "ax6 = fig.add_subplot(gs[5, 0])\n",
    "ax6.set_ylabel('UZZ')\n",
    "ax6.plot(ns, uzz, 'b*')\n",
    "\n",
    "# --------------------- REACTIONS --------------------\n",
    "\n",
    "ax7 = fig.add_subplot(gs[0, 1])\n",
    "ax7.set_ylabel('RX')\n",
    "ax7.plot(ns, rx, 'b*')\n",
    "\n",
    "ax8 = fig.add_subplot(gs[1, 1])\n",
    "ax8.set_ylabel('RY')\n",
    "ax8.plot(ns, ry, 'b*')\n",
    "\n",
    "ax9 = fig.add_subplot(gs[2, 1])\n",
    "ax9.set_ylabel('RZ')\n",
    "ax9.plot(ns, rz, 'b*')\n",
    "\n",
    "ax10 = fig.add_subplot(gs[3, 1])\n",
    "ax10.set_ylabel('RXX')\n",
    "ax10.plot(ns, rxx, 'b*')\n",
    "ax10.axhline(y=1, color='r', linestyle='-')\n",
    "ax10.set_ylim([0, 2])\n",
    "\n",
    "ax11 = fig.add_subplot(gs[4, 1])\n",
    "ax11.set_ylabel('RYY')\n",
    "ax11.plot(ns, ryy, 'b*')\n",
    "\n",
    "ax12 = fig.add_subplot(gs[5, 1])\n",
    "ax12.set_ylabel('RZZ')\n",
    "ax12.plot(ns, uzz, 'b*')\n",
    "\n",
    "# --------------------- INTERNAL FORCES --------------------\n",
    "\n",
    "ax13 = fig.add_subplot(gs[0, 2])\n",
    "ax13.set_ylabel('FX')\n",
    "ax13.plot(ns, fx, 'b*')\n",
    "\n",
    "ax14 = fig.add_subplot(gs[1, 2])\n",
    "ax14.set_ylabel('FY')\n",
    "ax14.plot(ns, fy, 'b*')\n",
    "\n",
    "ax15 = fig.add_subplot(gs[2, 2])\n",
    "ax15.set_ylabel('FZ')\n",
    "ax15.plot(ns, fz, 'b*')\n",
    "\n",
    "ax16 = fig.add_subplot(gs[3, 2])\n",
    "ax16.set_ylabel('FXX')\n",
    "ax16.plot(ns, fxx, 'b*')\n",
    "\n",
    "ax17 = fig.add_subplot(gs[4, 2])\n",
    "ax17.set_ylabel('FYY')\n",
    "ax17.plot(ns, fyy, 'b*')\n",
    "\n",
    "ax18 = fig.add_subplot(gs[5, 2])\n",
    "ax18.set_ylabel('FZZ')\n",
    "ax18.plot(ns, fzz, 'b*')\n",
    "\n",
    "axes.append(ax1)\n",
    "axes.append(ax2)\n",
    "axes.append(ax3)\n",
    "axes.append(ax4)\n",
    "axes.append(ax5)\n",
    "axes.append(ax6)\n",
    "axes.append(ax7)\n",
    "axes.append(ax8)\n",
    "axes.append(ax9)\n",
    "axes.append(ax10)\n",
    "axes.append(ax11)\n",
    "axes.append(ax12)\n",
    "axes.append(ax13)\n",
    "axes.append(ax14)\n",
    "axes.append(ax15)\n",
    "axes.append(ax16)\n",
    "axes.append(ax17)\n",
    "axes.append(ax18)\n",
    "\n",
    "for ax in axes:\n",
    "    ax.axhline(y=1.02, color='g', linestyle='--')\n",
    "    ax.axhline(y=1, color='g', linestyle='-')\n",
    "    ax.axhline(y=0.98, color='g', linestyle='--')\n",
    "    ax.set_ylim([0.95, 1.05])\n"
   ]
  }
 ],
 "metadata": {
  "kernelspec": {
   "display_name": "Python 3.8.10 ('.sigeps': venv)",
   "language": "python",
   "name": "python3"
  },
  "language_info": {
   "codemirror_mode": {
    "name": "ipython",
    "version": 3
   },
   "file_extension": ".py",
   "mimetype": "text/x-python",
   "name": "python",
   "nbconvert_exporter": "python",
   "pygments_lexer": "ipython3",
   "version": "3.8.10"
  },
  "orig_nbformat": 4,
  "vscode": {
   "interpreter": {
    "hash": "28d81e0e1442962330764574f1956d80898814d1923baa1210fb6369a4e79b2a"
   }
  }
 },
 "nbformat": 4,
 "nbformat_minor": 2
}
