{
 "cells": [
  {
   "cell_type": "markdown",
   "metadata": {},
   "source": [
    "# Bernoulli Console with Random Geometry"
   ]
  },
  {
   "cell_type": "code",
   "execution_count": 16,
   "metadata": {},
   "outputs": [],
   "source": [
    "seed = 0  # integer or None\n",
    "seed = None"
   ]
  },
  {
   "cell_type": "code",
   "execution_count": 17,
   "metadata": {},
   "outputs": [],
   "source": [
    "import numpy as np\n",
    "\n",
    "rs = np.random.RandomState()\n",
    "if isinstance(seed, int):\n",
    "    rs.seed(seed)\n",
    "\n",
    "\n",
    "def brownian1d(T=1, N=100, mu=0.1, sigma=0.01, S0=20):\n",
    "    dt = float(T)/N\n",
    "    t = np.linspace(0, T, N)\n",
    "    W = rs.standard_normal(size=N)\n",
    "    W = np.cumsum(W)*np.sqrt(dt)  # standard brownian motion\n",
    "    X = (mu-0.5*sigma**2)*t + sigma*W\n",
    "    S = S0*np.exp(X)  # geometric brownian motion\n",
    "    return S\n",
    "\n",
    "\n",
    "params = dict(T=0.1, N=100, mu=0.5, sigma=0.1)\n",
    "\n",
    "x = brownian1d(**params)\n",
    "y = brownian1d(**params)\n",
    "z = brownian1d(**params)\n"
   ]
  },
  {
   "cell_type": "code",
   "execution_count": 18,
   "metadata": {},
   "outputs": [],
   "source": [
    "from polymesh import PolyData, CartesianFrame, LineData\n",
    "import numpy as np\n",
    "\n",
    "frame = CartesianFrame(dim=3)\n",
    "\n",
    "coords = np.stack([x, y, z], axis=1)\n",
    "topo = np.zeros((coords.shape[0]-1, 2)).astype(int)\n",
    "topo[:, 0] = np.arange(topo.shape[0])\n",
    "topo[:, 1] = topo[:, 0] + 1\n",
    "\n",
    "mesh = PolyData(coords=coords, frame=frame)\n",
    "mesh['lines'] = LineData(topo=topo, frame=frame)\n",
    "\n",
    "mesh.plot(notebook=False)\n"
   ]
  },
  {
   "cell_type": "markdown",
   "metadata": {},
   "source": [
    "Index and coordinate of the last node. Later, when the 2-noded mesh is transformed into a mesh of 3-noded elements, this information is going to be necessary to identify the free end."
   ]
  },
  {
   "cell_type": "code",
   "execution_count": 19,
   "metadata": {},
   "outputs": [
    {
     "data": {
      "text/plain": [
       "(99, array([20.64870437, 19.98855012, 21.34078611]))"
      ]
     },
     "execution_count": 19,
     "metadata": {},
     "output_type": "execute_result"
    }
   ],
   "source": [
    "i_last = len(coords) - 1\n",
    "i_last, coords[i_last]"
   ]
  },
  {
   "cell_type": "markdown",
   "metadata": {},
   "source": [
    "The parameters of the following cell are up for manipulation. They define a simple rectangular cross section and an isotropic Hooke model governed by Young's modulus and Poisson's ratio."
   ]
  },
  {
   "cell_type": "code",
   "execution_count": 20,
   "metadata": {},
   "outputs": [],
   "source": [
    "# INPUT DATA\n",
    "w, h = 10., 10.  # width and height of the rectangular cross section\n",
    "F = -100.  # value of the vertical load at the free end\n",
    "E = 210000.0  # Young's modulus\n",
    "nu = 0.3  # Poisson's ratio"
   ]
  },
  {
   "cell_type": "markdown",
   "metadata": {},
   "source": [
    "The model stiffness matrix is calculated automatically here:"
   ]
  },
  {
   "cell_type": "code",
   "execution_count": 21,
   "metadata": {},
   "outputs": [],
   "source": [
    "import numpy as np\n",
    "from numpy import pi as PI\n",
    "\n",
    "# cross section\n",
    "A = w * h  # area\n",
    "Iy = w * h**3 / 12  # second moment of inertia around the y axis\n",
    "Iz = w * h**3 / 12  # second moment of inertia around the z axis\n",
    "Ix = Iy + Iz  # torsional inertia\n",
    "\n",
    "# model stiffness matrix\n",
    "G = E / (2 * (1 + nu))\n",
    "Hooke = np.array([\n",
    "    [E*A, 0, 0, 0],\n",
    "    [0, G*Ix, 0, 0],\n",
    "    [0, 0, E*Iy, 0],\n",
    "    [0, 0, 0, E*Iz]\n",
    "])"
   ]
  },
  {
   "cell_type": "markdown",
   "metadata": {},
   "source": [
    "## The `B2` element"
   ]
  },
  {
   "cell_type": "markdown",
   "metadata": {},
   "source": [
    "Run a linear analysis and do some postprocessing using 2-Noded Bernoulli members."
   ]
  },
  {
   "cell_type": "code",
   "execution_count": 22,
   "metadata": {},
   "outputs": [],
   "source": [
    "from sigmaepsilon.solid import Structure, LineMesh, PointData\n",
    "from neumann.linalg import linspace, Vector\n",
    "from polymesh.space import StandardFrame, PointCloud, frames_of_lines\n",
    "from sigmaepsilon.solid.fem.cells import B2 as Beam\n",
    "\n",
    "# space\n",
    "GlobalFrame = StandardFrame(dim=3)\n",
    "\n",
    "# support at the first, load at the last node\n",
    "loads = np.zeros((coords.shape[0], 6))\n",
    "fixity = np.zeros((coords.shape[0], 6)).astype(bool)\n",
    "global_load_vector = Vector([0., 0, F], frame=GlobalFrame).show()\n",
    "loads[-1, :3] = global_load_vector\n",
    "fixity[0, :] = True\n",
    "\n",
    "# pointdata\n",
    "pd = PointData(coords=coords, frame=GlobalFrame,\n",
    "               loads=loads, fixity=fixity)\n",
    "\n",
    "# celldata\n",
    "frames = frames_of_lines(coords, topo)\n",
    "cd = Beam(topo=topo, frames=frames)\n",
    "\n",
    "# set up mesh and structure\n",
    "mesh = LineMesh(pd, cd, model=Hooke, frame=GlobalFrame)\n",
    "structure = Structure(mesh=mesh)\n",
    "structure.linsolve()\n",
    "\n",
    "# postproc\n",
    "# 1) displace the mesh\n",
    "dofsol = structure.nodal_dof_solution(store='dofsol')\n",
    "forces = structure.nodal_forces()\n",
    "reactions = structure.reaction_forces()"
   ]
  },
  {
   "cell_type": "markdown",
   "metadata": {},
   "source": [
    "Vertical displacement of the free end, external load at the free end and Vertical reaction force at the support:"
   ]
  },
  {
   "cell_type": "code",
   "execution_count": 23,
   "metadata": {},
   "outputs": [
    {
     "data": {
      "text/plain": [
       "(-2.124032443648556e-05, -100.0, 100.00000138151142)"
      ]
     },
     "execution_count": 23,
     "metadata": {},
     "output_type": "execute_result"
    }
   ],
   "source": [
    "dofsol[-1, 2], forces[-1, 2], reactions[0, 2]"
   ]
  },
  {
   "cell_type": "markdown",
   "metadata": {},
   "source": [
    "Work of the external forces at the free end:"
   ]
  },
  {
   "cell_type": "code",
   "execution_count": 24,
   "metadata": {},
   "outputs": [
    {
     "data": {
      "text/plain": [
       "0.002124032443648556"
      ]
     },
     "execution_count": 24,
     "metadata": {},
     "output_type": "execute_result"
    }
   ],
   "source": [
    "dofsol[-1] @ forces[-1]"
   ]
  },
  {
   "cell_type": "code",
   "execution_count": 25,
   "metadata": {},
   "outputs": [
    {
     "data": {
      "text/plain": [
       "-1.7526380521851852"
      ]
     },
     "execution_count": 25,
     "metadata": {},
     "output_type": "execute_result"
    }
   ],
   "source": [
    "internal_forces = structure.internal_forces()\n",
    "internal_forces[0, 0, 2]"
   ]
  },
  {
   "cell_type": "markdown",
   "metadata": {},
   "source": [
    "## The `B3` element"
   ]
  },
  {
   "cell_type": "markdown",
   "metadata": {},
   "source": [
    "We transform the mesh using the appropriate transformation function from `PolyMesh`."
   ]
  },
  {
   "cell_type": "code",
   "execution_count": 26,
   "metadata": {},
   "outputs": [],
   "source": [
    "from polymesh.topo.tr import L2_to_L3\n",
    "coords, topo = L2_to_L3(coords, topo)"
   ]
  },
  {
   "cell_type": "markdown",
   "metadata": {},
   "source": [
    "Rebuild and calculate the mesh using 3-Node elements."
   ]
  },
  {
   "cell_type": "code",
   "execution_count": 27,
   "metadata": {},
   "outputs": [],
   "source": [
    "from sigmaepsilon.solid.fem.cells import B3 as Beam\n",
    "\n",
    "# support at the first, load at the last node\n",
    "loads = np.zeros((coords.shape[0], 6))\n",
    "fixity = np.zeros((coords.shape[0], 6)).astype(bool)\n",
    "global_load_vector = Vector([0., 0, F], frame=GlobalFrame).show()\n",
    "loads[i_last, :3] = global_load_vector\n",
    "fixity[0, :] = True\n",
    "\n",
    "# pointdata\n",
    "pd = PointData(coords=coords, frame=GlobalFrame,\n",
    "               loads=loads, fixity=fixity)\n",
    "\n",
    "# celldata\n",
    "frames = frames_of_lines(coords, topo)\n",
    "cd = Beam(topo=topo, frames=frames)\n",
    "\n",
    "# set up mesh and structure\n",
    "mesh = LineMesh(pd, cd, model=Hooke, frame=GlobalFrame)\n",
    "structure = Structure(mesh=mesh)\n",
    "structure.linsolve()\n",
    "\n",
    "# postproc\n",
    "# 1) displace the mesh\n",
    "dofsol = structure.nodal_dof_solution(store='dofsol')\n",
    "forces = structure.nodal_forces()\n",
    "reactions = structure.reaction_forces()"
   ]
  },
  {
   "cell_type": "code",
   "execution_count": 28,
   "metadata": {},
   "outputs": [
    {
     "data": {
      "text/plain": [
       "(-2.1240319996682516e-05, -100.0, 99.99996413591805)"
      ]
     },
     "execution_count": 28,
     "metadata": {},
     "output_type": "execute_result"
    }
   ],
   "source": [
    "dofsol[i_last, 2], forces[i_last, 2], reactions[0, 2]"
   ]
  },
  {
   "cell_type": "code",
   "execution_count": 29,
   "metadata": {},
   "outputs": [
    {
     "data": {
      "text/plain": [
       "0.0021240319996682516"
      ]
     },
     "execution_count": 29,
     "metadata": {},
     "output_type": "execute_result"
    }
   ],
   "source": [
    "dofsol[i_last] @ forces[i_last]"
   ]
  },
  {
   "cell_type": "code",
   "execution_count": 30,
   "metadata": {},
   "outputs": [
    {
     "data": {
      "text/plain": [
       "-1.7526195263999398"
      ]
     },
     "execution_count": 30,
     "metadata": {},
     "output_type": "execute_result"
    }
   ],
   "source": [
    "internal_forces = structure.internal_forces()\n",
    "internal_forces[0, 0, 2]"
   ]
  }
 ],
 "metadata": {
  "kernelspec": {
   "display_name": "Python 3.8.10 ('.sigeps': venv)",
   "language": "python",
   "name": "python3"
  },
  "language_info": {
   "codemirror_mode": {
    "name": "ipython",
    "version": 3
   },
   "file_extension": ".py",
   "mimetype": "text/x-python",
   "name": "python",
   "nbconvert_exporter": "python",
   "pygments_lexer": "ipython3",
   "version": "3.8.10"
  },
  "orig_nbformat": 4,
  "vscode": {
   "interpreter": {
    "hash": "28d81e0e1442962330764574f1956d80898814d1923baa1210fb6369a4e79b2a"
   }
  }
 },
 "nbformat": 4,
 "nbformat_minor": 2
}
