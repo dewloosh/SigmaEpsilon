{
 "cells": [
  {
   "cell_type": "markdown",
   "metadata": {},
   "source": [
    "# Bernoulli Console with Random Geometry"
   ]
  },
  {
   "cell_type": "code",
   "execution_count": 11,
   "metadata": {},
   "outputs": [],
   "source": [
    "seed = 0  # integer or None\n",
    "seed = None"
   ]
  },
  {
   "cell_type": "code",
   "execution_count": 12,
   "metadata": {},
   "outputs": [],
   "source": [
    "import numpy as np\n",
    "\n",
    "rs = np.random.RandomState()\n",
    "if isinstance(seed, int):\n",
    "    rs.seed(seed)\n",
    "\n",
    "\n",
    "def brownian1d(T=1, N=100, mu=0.1, sigma=0.01, S0=20):\n",
    "    dt = float(T)/N\n",
    "    t = np.linspace(0, T, N)\n",
    "    W = rs.standard_normal(size=N)\n",
    "    W = np.cumsum(W)*np.sqrt(dt)  # standard brownian motion\n",
    "    X = (mu-0.5*sigma**2)*t + sigma*W\n",
    "    S = S0*np.exp(X)  # geometric brownian motion\n",
    "    return S\n",
    "\n",
    "\n",
    "params = dict(T=0.1, N=100, mu=0.5, sigma=0.1)\n",
    "\n",
    "x = brownian1d(**params)\n",
    "y = brownian1d(**params)\n",
    "z = brownian1d(**params)\n"
   ]
  },
  {
   "cell_type": "code",
   "execution_count": 13,
   "metadata": {},
   "outputs": [],
   "source": [
    "from polymesh import PolyData, CartesianFrame, LineData\n",
    "import numpy as np\n",
    "\n",
    "frame = CartesianFrame(dim=3)\n",
    "\n",
    "coords = np.stack([x, y, z], axis=1)\n",
    "topo = np.zeros((coords.shape[0]-1, 2)).astype(int)\n",
    "topo[:, 0] = np.arange(topo.shape[0])\n",
    "topo[:, 1] = topo[:, 0] + 1\n",
    "\n",
    "mesh = PolyData(coords=coords, frame=frame)\n",
    "mesh['lines'] = LineData(topo=topo, frame=frame)\n",
    "\n",
    "mesh.plot(notebook=False)\n"
   ]
  },
  {
   "cell_type": "markdown",
   "metadata": {},
   "source": [
    "Index and coordinate of the last node. Later, when the 2-noded mesh is transformed into a mesh of 3-noded elements, this information is going to be necessary to identify the free end."
   ]
  },
  {
   "cell_type": "code",
   "execution_count": 14,
   "metadata": {},
   "outputs": [
    {
     "data": {
      "text/plain": [
       "(99, array([22.17976554, 21.53831464, 20.68696873]))"
      ]
     },
     "execution_count": 14,
     "metadata": {},
     "output_type": "execute_result"
    }
   ],
   "source": [
    "i_last = len(coords) - 1\n",
    "i_last, coords[i_last]"
   ]
  },
  {
   "cell_type": "markdown",
   "metadata": {},
   "source": [
    "The parameters of the following cell are up for manipulation. They define a simple rectangular cross section and an isotropic Hooke model governed by Young's modulus and Poisson's ratio."
   ]
  },
  {
   "cell_type": "code",
   "execution_count": 15,
   "metadata": {},
   "outputs": [],
   "source": [
    "# INPUT DATA\n",
    "w, h = 10., 10.  # width and height of the rectangular cross section\n",
    "F = -100.  # value of the vertical load at the free end\n",
    "E = 210000.0  # Young's modulus\n",
    "nu = 0.3  # Poisson's ratio"
   ]
  },
  {
   "cell_type": "markdown",
   "metadata": {},
   "source": [
    "The model stiffness matrix is calculated automatically here:"
   ]
  },
  {
   "cell_type": "code",
   "execution_count": 16,
   "metadata": {},
   "outputs": [],
   "source": [
    "import numpy as np\n",
    "from numpy import pi as PI\n",
    "\n",
    "# cross section\n",
    "A = w * h  # area\n",
    "Iy = w * h**3 / 12  # second moment of inertia around the y axis\n",
    "Iz = w * h**3 / 12  # second moment of inertia around the z axis\n",
    "Ix = Iy + Iz  # torsional inertia\n",
    "\n",
    "# model stiffness matrix\n",
    "G = E / (2 * (1 + nu))\n",
    "Hooke = np.array([\n",
    "    [E*A, 0, 0, 0],\n",
    "    [0, G*Ix, 0, 0],\n",
    "    [0, 0, E*Iy, 0],\n",
    "    [0, 0, 0, E*Iz]\n",
    "])"
   ]
  },
  {
   "cell_type": "markdown",
   "metadata": {},
   "source": [
    "## The `B2` element"
   ]
  },
  {
   "cell_type": "markdown",
   "metadata": {},
   "source": [
    "Run a linear analysis and do some postprocessing using 2-Noded Bernoulli members."
   ]
  },
  {
   "cell_type": "code",
   "execution_count": 17,
   "metadata": {},
   "outputs": [],
   "source": [
    "from sigmaepsilon.solid import Structure, LineMesh, PointData\n",
    "from neumann.linalg import linspace, Vector\n",
    "from polymesh.space import StandardFrame, PointCloud, frames_of_lines\n",
    "from sigmaepsilon.solid.fem.cells import B2 as Beam\n",
    "\n",
    "# space\n",
    "GlobalFrame = StandardFrame(dim=3)\n",
    "\n",
    "# support at the first, load at the last node\n",
    "loads = np.zeros((coords.shape[0], 6))\n",
    "fixity = np.zeros((coords.shape[0], 6)).astype(bool)\n",
    "global_load_vector = Vector([0., 0, F], frame=GlobalFrame).show()\n",
    "loads[-1, :3] = global_load_vector\n",
    "fixity[0, :] = True\n",
    "\n",
    "# pointdata\n",
    "pd = PointData(coords=coords, frame=GlobalFrame,\n",
    "               loads=loads, fixity=fixity)\n",
    "\n",
    "# celldata\n",
    "frames = frames_of_lines(coords, topo)\n",
    "cd = Beam(topo=topo, frames=frames)\n",
    "\n",
    "# set up mesh and structure\n",
    "mesh = LineMesh(pd, cd, model=Hooke, frame=GlobalFrame)\n",
    "structure = Structure(mesh=mesh)\n",
    "structure.linsolve()\n",
    "\n",
    "# postproc\n",
    "# 1) displace the mesh\n",
    "dofsol = structure.nodal_dof_solution(store='dofsol')\n",
    "forces = structure.nodal_forces()\n",
    "reactions = structure.reaction_forces()"
   ]
  },
  {
   "cell_type": "markdown",
   "metadata": {},
   "source": [
    "Vertical displacement of the free end, external load at the free end and Vertical reaction force at the support:"
   ]
  },
  {
   "cell_type": "code",
   "execution_count": 18,
   "metadata": {},
   "outputs": [
    {
     "data": {
      "text/plain": [
       "(-2.4531114577838807e-05, -100.0, 99.99999998877507)"
      ]
     },
     "execution_count": 18,
     "metadata": {},
     "output_type": "execute_result"
    }
   ],
   "source": [
    "dofsol[-1, 2], forces[-1, 2], reactions[0, 2]"
   ]
  },
  {
   "cell_type": "markdown",
   "metadata": {},
   "source": [
    "Work of the external forces at the free end:"
   ]
  },
  {
   "cell_type": "code",
   "execution_count": 19,
   "metadata": {},
   "outputs": [
    {
     "data": {
      "text/plain": [
       "0.0024531114577838807"
      ]
     },
     "execution_count": 19,
     "metadata": {},
     "output_type": "execute_result"
    }
   ],
   "source": [
    "dofsol[-1] @ forces[-1]"
   ]
  },
  {
   "cell_type": "code",
   "execution_count": 20,
   "metadata": {},
   "outputs": [
    {
     "ename": "ValueError",
     "evalue": "non-broadcastable output operand with shape (99,1,2,4) doesn't match the broadcast shape (99,6,2,4)",
     "output_type": "error",
     "traceback": [
      "\u001b[1;31m---------------------------------------------------------------------------\u001b[0m",
      "\u001b[1;31mValueError\u001b[0m                                Traceback (most recent call last)",
      "\u001b[1;32mf:\\GitHub\\sigmaepsilon\\notebooks\\verification\\bernoulli\\linstat_brownian.ipynb Cell 18\u001b[0m in \u001b[0;36m<cell line: 1>\u001b[1;34m()\u001b[0m\n\u001b[1;32m----> <a href='vscode-notebook-cell:/f%3A/GitHub/sigmaepsilon/notebooks/verification/bernoulli/linstat_brownian.ipynb#X24sZmlsZQ%3D%3D?line=0'>1</a>\u001b[0m internal_forces \u001b[39m=\u001b[39m structure\u001b[39m.\u001b[39;49minternal_forces()\n\u001b[0;32m      <a href='vscode-notebook-cell:/f%3A/GitHub/sigmaepsilon/notebooks/verification/bernoulli/linstat_brownian.ipynb#X24sZmlsZQ%3D%3D?line=1'>2</a>\u001b[0m internal_forces[\u001b[39m0\u001b[39m, \u001b[39m0\u001b[39m, \u001b[39m2\u001b[39m]\n",
      "File \u001b[1;32mF:\\GitHub\\dewloosh\\Neumann\\src\\neumann\\utils.py:44\u001b[0m, in \u001b[0;36msqueeze.<locals>.decorator.<locals>.inner\u001b[1;34m(*args, **kwargs)\u001b[0m\n\u001b[0;32m     42\u001b[0m \u001b[39mdef\u001b[39;00m \u001b[39minner\u001b[39m(\u001b[39m*\u001b[39margs, \u001b[39m*\u001b[39m\u001b[39m*\u001b[39mkwargs):\n\u001b[0;32m     43\u001b[0m     \u001b[39mif\u001b[39;00m kwargs\u001b[39m.\u001b[39mget(\u001b[39m'\u001b[39m\u001b[39msqueeze\u001b[39m\u001b[39m'\u001b[39m, default):\n\u001b[1;32m---> 44\u001b[0m         res \u001b[39m=\u001b[39m fnc(\u001b[39m*\u001b[39;49margs, \u001b[39m*\u001b[39;49m\u001b[39m*\u001b[39;49mkwargs)\n\u001b[0;32m     45\u001b[0m         \u001b[39mif\u001b[39;00m \u001b[39misinstance\u001b[39m(res, \u001b[39mtuple\u001b[39m):\n\u001b[0;32m     46\u001b[0m             \u001b[39mreturn\u001b[39;00m \u001b[39mlist\u001b[39m(\u001b[39mmap\u001b[39m(squeeze_if_array, res))\n",
      "File \u001b[1;32mF:\\GitHub\\sigmaepsilon\\src\\sigmaepsilon\\solid\\fem\\structure.py:387\u001b[0m, in \u001b[0;36mStructure.internal_forces\u001b[1;34m(self, flatten, squeeze, *args, **kwargs)\u001b[0m\n\u001b[0;32m    382\u001b[0m \u001b[39m@squeeze\u001b[39m(\u001b[39mTrue\u001b[39;00m)\n\u001b[0;32m    383\u001b[0m \u001b[39mdef\u001b[39;00m \u001b[39minternal_forces\u001b[39m(\u001b[39mself\u001b[39m, \u001b[39m*\u001b[39margs, flatten\u001b[39m=\u001b[39m\u001b[39mFalse\u001b[39;00m, squeeze\u001b[39m=\u001b[39m\u001b[39mTrue\u001b[39;00m, \u001b[39m*\u001b[39m\u001b[39m*\u001b[39mkwargs) \u001b[39m-\u001b[39m\u001b[39m>\u001b[39m np\u001b[39m.\u001b[39mndarray:\n\u001b[0;32m    384\u001b[0m     \u001b[39m\"\"\"\u001b[39;00m\n\u001b[0;32m    385\u001b[0m \u001b[39m    Returns the internal forces for one or more elements.\u001b[39;00m\n\u001b[0;32m    386\u001b[0m \u001b[39m    \"\"\"\u001b[39;00m\n\u001b[1;32m--> 387\u001b[0m     \u001b[39mreturn\u001b[39;00m \u001b[39mself\u001b[39;49m\u001b[39m.\u001b[39;49mmesh\u001b[39m.\u001b[39;49minternal_forces(\u001b[39m*\u001b[39;49margs, flatten\u001b[39m=\u001b[39;49mflatten, squeeze\u001b[39m=\u001b[39;49m\u001b[39mFalse\u001b[39;49;00m, \u001b[39m*\u001b[39;49m\u001b[39m*\u001b[39;49mkwargs)\n",
      "File \u001b[1;32mF:\\GitHub\\dewloosh\\Neumann\\src\\neumann\\utils.py:49\u001b[0m, in \u001b[0;36msqueeze.<locals>.decorator.<locals>.inner\u001b[1;34m(*args, **kwargs)\u001b[0m\n\u001b[0;32m     47\u001b[0m     \u001b[39mreturn\u001b[39;00m squeeze_if_array(res)\n\u001b[0;32m     48\u001b[0m \u001b[39melse\u001b[39;00m:\n\u001b[1;32m---> 49\u001b[0m     \u001b[39mreturn\u001b[39;00m fnc(\u001b[39m*\u001b[39;49margs, \u001b[39m*\u001b[39;49m\u001b[39m*\u001b[39;49mkwargs)\n",
      "File \u001b[1;32mF:\\GitHub\\sigmaepsilon\\src\\sigmaepsilon\\solid\\fem\\mesh.py:416\u001b[0m, in \u001b[0;36mFemMesh.internal_forces\u001b[1;34m(self, cells, flatten, squeeze, *args, **kwargs)\u001b[0m\n\u001b[0;32m    414\u001b[0m \u001b[39melse\u001b[39;00m:\n\u001b[0;32m    415\u001b[0m     \u001b[39mdef\u001b[39;00m \u001b[39mfoo\u001b[39m(b): \u001b[39mreturn\u001b[39;00m b\u001b[39m.\u001b[39mcelldata\u001b[39m.\u001b[39minternal_forces(\u001b[39m*\u001b[39margs, \u001b[39m*\u001b[39m\u001b[39m*\u001b[39mkwargs)\n\u001b[1;32m--> 416\u001b[0m     \u001b[39mreturn\u001b[39;00m np\u001b[39m.\u001b[39mvstack(\u001b[39mlist\u001b[39;49m(\u001b[39mmap\u001b[39;49m(foo, blocks)))\n",
      "File \u001b[1;32mF:\\GitHub\\sigmaepsilon\\src\\sigmaepsilon\\solid\\fem\\mesh.py:415\u001b[0m, in \u001b[0;36mFemMesh.internal_forces.<locals>.foo\u001b[1;34m(b)\u001b[0m\n\u001b[1;32m--> 415\u001b[0m \u001b[39mdef\u001b[39;00m \u001b[39mfoo\u001b[39m(b): \u001b[39mreturn\u001b[39;00m b\u001b[39m.\u001b[39;49mcelldata\u001b[39m.\u001b[39;49minternal_forces(\u001b[39m*\u001b[39;49margs, \u001b[39m*\u001b[39;49m\u001b[39m*\u001b[39;49mkwargs)\n",
      "File \u001b[1;32mF:\\GitHub\\dewloosh\\Neumann\\src\\neumann\\utils.py:49\u001b[0m, in \u001b[0;36msqueeze.<locals>.decorator.<locals>.inner\u001b[1;34m(*args, **kwargs)\u001b[0m\n\u001b[0;32m     47\u001b[0m     \u001b[39mreturn\u001b[39;00m squeeze_if_array(res)\n\u001b[0;32m     48\u001b[0m \u001b[39melse\u001b[39;00m:\n\u001b[1;32m---> 49\u001b[0m     \u001b[39mreturn\u001b[39;00m fnc(\u001b[39m*\u001b[39;49margs, \u001b[39m*\u001b[39;49m\u001b[39m*\u001b[39;49mkwargs)\n",
      "File \u001b[1;32mF:\\GitHub\\sigmaepsilon\\src\\sigmaepsilon\\solid\\fem\\cells\\elem.py:489\u001b[0m, in \u001b[0;36mFiniteElement.internal_forces\u001b[1;34m(self, cells, points, rng, flatten, target, *args, **kwargs)\u001b[0m\n\u001b[0;32m    487\u001b[0m dofsol \u001b[39m=\u001b[39m ascont(np\u001b[39m.\u001b[39mswapaxes(dofsol, \u001b[39m1\u001b[39m, \u001b[39m2\u001b[39m))  \u001b[39m# (nE, nRHS, nEVAB)\u001b[39;00m\n\u001b[0;32m    488\u001b[0m strains \u001b[39m=\u001b[39m approx_element_solution_bulk(dofsol, B)  \u001b[39m# (nE, nRHS, nP, 4)\u001b[39;00m\n\u001b[1;32m--> 489\u001b[0m strains \u001b[39m-\u001b[39m\u001b[39m=\u001b[39m \u001b[39mself\u001b[39m\u001b[39m.\u001b[39mkinetic_strains(points\u001b[39m=\u001b[39mpoints, squeeze\u001b[39m=\u001b[39m\u001b[39mFalse\u001b[39;00m)[cells]\n\u001b[0;32m    490\u001b[0m D \u001b[39m=\u001b[39m \u001b[39mself\u001b[39m\u001b[39m.\u001b[39mmodel_stiffness_matrix()[cells]\n\u001b[0;32m    491\u001b[0m forces \u001b[39m=\u001b[39m calculate_internal_forces_bulk(\n\u001b[0;32m    492\u001b[0m     strains, D)  \u001b[39m# (nE, nRHS, nP, 4)\u001b[39;00m\n",
      "\u001b[1;31mValueError\u001b[0m: non-broadcastable output operand with shape (99,1,2,4) doesn't match the broadcast shape (99,6,2,4)"
     ]
    }
   ],
   "source": [
    "internal_forces = structure.internal_forces()\n",
    "internal_forces[0, 0, 2]"
   ]
  },
  {
   "cell_type": "markdown",
   "metadata": {},
   "source": [
    "## The `B3` element"
   ]
  },
  {
   "cell_type": "markdown",
   "metadata": {},
   "source": [
    "We transform the mesh using the appropriate transformation function from `PolyMesh`."
   ]
  },
  {
   "cell_type": "code",
   "execution_count": null,
   "metadata": {},
   "outputs": [],
   "source": [
    "from polymesh.topo.tr import L2_to_L3\n",
    "coords, topo = L2_to_L3(coords, topo)"
   ]
  },
  {
   "cell_type": "markdown",
   "metadata": {},
   "source": [
    "Rebuild and calculate the mesh using 3-Node elements."
   ]
  },
  {
   "cell_type": "code",
   "execution_count": null,
   "metadata": {},
   "outputs": [],
   "source": [
    "from sigmaepsilon.solid.fem.cells import B3 as Beam\n",
    "\n",
    "# support at the first, load at the last node\n",
    "loads = np.zeros((coords.shape[0], 6))\n",
    "fixity = np.zeros((coords.shape[0], 6)).astype(bool)\n",
    "global_load_vector = Vector([0., 0, F], frame=GlobalFrame).show()\n",
    "loads[i_last, :3] = global_load_vector\n",
    "fixity[0, :] = True\n",
    "\n",
    "# pointdata\n",
    "pd = PointData(coords=coords, frame=GlobalFrame,\n",
    "               loads=loads, fixity=fixity)\n",
    "\n",
    "# celldata\n",
    "frames = frames_of_lines(coords, topo)\n",
    "cd = Beam(topo=topo, frames=frames)\n",
    "\n",
    "# set up mesh and structure\n",
    "mesh = LineMesh(pd, cd, model=Hooke, frame=GlobalFrame)\n",
    "structure = Structure(mesh=mesh)\n",
    "structure.linsolve()\n",
    "\n",
    "# postproc\n",
    "# 1) displace the mesh\n",
    "dofsol = structure.nodal_dof_solution(store='dofsol')\n",
    "forces = structure.nodal_forces()\n",
    "reactions = structure.reaction_forces()"
   ]
  },
  {
   "cell_type": "code",
   "execution_count": null,
   "metadata": {},
   "outputs": [
    {
     "data": {
      "text/plain": [
       "(-1.9854154472816174e-05, -100.0, 100.00000173423086)"
      ]
     },
     "execution_count": 134,
     "metadata": {},
     "output_type": "execute_result"
    }
   ],
   "source": [
    "dofsol[i_last, 2], forces[i_last, 2], reactions[0, 2]"
   ]
  },
  {
   "cell_type": "code",
   "execution_count": null,
   "metadata": {},
   "outputs": [
    {
     "data": {
      "text/plain": [
       "0.0019854154472816175"
      ]
     },
     "execution_count": 135,
     "metadata": {},
     "output_type": "execute_result"
    }
   ],
   "source": [
    "dofsol[i_last] @ forces[i_last]"
   ]
  },
  {
   "cell_type": "code",
   "execution_count": null,
   "metadata": {},
   "outputs": [
    {
     "data": {
      "text/plain": [
       "-99.81153322028695"
      ]
     },
     "execution_count": 136,
     "metadata": {},
     "output_type": "execute_result"
    }
   ],
   "source": [
    "internal_forces = structure.internal_forces()\n",
    "internal_forces[0, 0, 2]"
   ]
  }
 ],
 "metadata": {
  "kernelspec": {
   "display_name": "Python 3.8.10 ('.sigeps': venv)",
   "language": "python",
   "name": "python3"
  },
  "language_info": {
   "codemirror_mode": {
    "name": "ipython",
    "version": 3
   },
   "file_extension": ".py",
   "mimetype": "text/x-python",
   "name": "python",
   "nbconvert_exporter": "python",
   "pygments_lexer": "ipython3",
   "version": "3.8.10"
  },
  "orig_nbformat": 4,
  "vscode": {
   "interpreter": {
    "hash": "28d81e0e1442962330764574f1956d80898814d1923baa1210fb6369a4e79b2a"
   }
  }
 },
 "nbformat": 4,
 "nbformat_minor": 2
}
