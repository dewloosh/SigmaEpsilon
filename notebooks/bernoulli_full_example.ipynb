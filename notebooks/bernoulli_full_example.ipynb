{
 "cells": [
  {
   "cell_type": "markdown",
   "metadata": {},
   "source": [
    "# Full Example with Bernoulli Beams"
   ]
  },
  {
   "cell_type": "code",
   "execution_count": 41,
   "metadata": {},
   "outputs": [],
   "source": [
    "%matplotlib inline\n"
   ]
  },
  {
   "cell_type": "code",
   "execution_count": 42,
   "metadata": {},
   "outputs": [],
   "source": [
    "from linkeddeepdict import LinkedDeepDict\n"
   ]
  },
  {
   "cell_type": "code",
   "execution_count": 43,
   "metadata": {},
   "outputs": [],
   "source": [
    "# units in kN and cm\n",
    "\n",
    "Lx, Ly, Lz = 100., 15., 10.  # size of the grid\n",
    "nx, ny, nz = 4, 2, 2  # desity of the grid\n",
    "\n",
    "d = 1.2  # outer diameter of the tube\n",
    "t = 0.4  # thickness of the tube\n",
    "\n",
    "Ex = 21000.0\n",
    "nu = 0.25\n",
    "fy = 35.0\n",
    "\n",
    "loads = LinkedDeepDict()\n",
    "\n",
    "# load case 1\n",
    "loads['LC1', 'position'] = [Lx, 0, 0]\n",
    "loads['LC1', 'value'] = [0, 0, 2.0, 0, 0, 0]\n",
    "\n",
    "# load case 2\n",
    "loads['LC2', 'position'] = [Lx, Ly/2, 0]\n",
    "loads['LC2', 'value'] = [0, 2.0, 0, 0, 0, 0]\n",
    "\n",
    "# load case 3\n",
    "loads['LC3', 'position'] = [Lx, -Ly/2, 0]\n",
    "loads['LC3', 'value'] = [0, -2.0, 0, 0, 0, 0]\n",
    "\n",
    "filename = 'bernoulli_full_example'\n"
   ]
  },
  {
   "cell_type": "code",
   "execution_count": 44,
   "metadata": {},
   "outputs": [
    {
     "data": {
      "text/plain": [
       "MyDocument({})"
      ]
     },
     "execution_count": 44,
     "metadata": {},
     "output_type": "execute_result"
    }
   ],
   "source": [
    "from linkeddeepdict import LinkedDeepDict\n",
    "from sigmaepsilon.solid.fourier.latex import expr_to_ltx, expr_to_ltx_breqn\n",
    "from sigmaepsilon.solid.fourier.symtools import inv_sym_3x3\n",
    "from neumann.array import atleastnd\n",
    "from time import time\n",
    "\n",
    "import sympy as sy\n",
    "from sympy import symbols, Function, diff, Matrix, MatMul, \\\n",
    "    integrate, Symbol, sin, cos, pi, simplify\n",
    "import pylatex as pltx\n",
    "from pylatex import Command, NoEscape, Tabular, NewPage\n",
    "import latexdocs\n",
    "from latexdocs import Document, Table, TableX, Image\n",
    "from latexdocs.utils import floatformatter\n",
    "from latexdocs.preamble import append_packages, append_cover, __default__packages__\n",
    "from copy import copy\n",
    "import matplotlib.pyplot as plt\n",
    "\n",
    "\n",
    "f2s = floatformatter(sig=4)\n",
    "\n",
    "\n",
    "class MyDocument(Document):\n",
    "\n",
    "    def init_doc(self, **kwargs) -> pltx.Document:\n",
    "        \"\"\"\n",
    "        Initializes the document. This covers appending packages\n",
    "        and the preamble.\n",
    "\n",
    "        \"\"\"\n",
    "        dcls = self.__class__.documentclass\n",
    "        kwargs['documentclass'] = kwargs.get('documentclass', dcls)\n",
    "        #self._geometry_options[\"includeheadfoot\"] = True\n",
    "        kwargs['geometry_options'] = self._geometry_options\n",
    "        doc = pltx.Document(**kwargs)\n",
    "        packages = copy(__default__packages__)\n",
    "        doc = append_packages(doc, packages)\n",
    "        doc = append_cover(doc, self._title, self._author, self._date)\n",
    "        return doc\n",
    "\n",
    "\n",
    "title = \"Linear Analysis of Bernoulli Beams\"\n",
    "doc = MyDocument(title=title, author='Bence Balogh', date=False)\n",
    "doc.append(NoEscape(r'\\maketitle'))\n",
    "doc.append(NoEscape(r'\\hrulefill'))\n",
    "doc.append(NoEscape(r'\\tableofcontents'))\n",
    "\n",
    "# The height of each row is set to 1.5 relative to its default height.\n",
    "doc.append(NoEscape(r'\\renewcommand{\\arraystretch}{1.2}'))\n",
    "\n",
    "# The space between the text and the left/right border of its\n",
    "# containing cell is set to 18pt with this command. Again,\n",
    "# you may use other units if needed.\n",
    "doc.append(NoEscape(r'\\setlength{\\tabcolsep}{6pt}'))\n",
    "\n",
    "summary = LinkedDeepDict()\n",
    "\n",
    "doc['Summary']\n"
   ]
  },
  {
   "cell_type": "code",
   "execution_count": 45,
   "metadata": {},
   "outputs": [],
   "source": [
    "from polymesh.space import StandardFrame, PointCloud\n",
    "from polymesh.grid import gridH8 as grid\n",
    "from polymesh.topo.tr import H8_to_L2\n",
    "import numpy as np\n",
    "\n",
    "gridparams = {\n",
    "    'size': (Lx, Ly, Lz),\n",
    "    'shape': (nx, ny, nz),\n",
    "    'origo': (0, 0, 0),\n",
    "    'start': 0\n",
    "}\n",
    "\n",
    "coords, topo = grid(**gridparams)\n",
    "coords, topo = H8_to_L2(coords, topo)\n",
    "\n",
    "GlobalFrame = StandardFrame(dim=3)\n",
    "\n",
    "points = PointCloud(coords, frame=GlobalFrame).centralize()\n",
    "dx = - np.array([points[:, 0].min(), 0., 0.])\n",
    "points.move(dx)\n",
    "coords = points.show()\n"
   ]
  },
  {
   "cell_type": "code",
   "execution_count": 46,
   "metadata": {},
   "outputs": [
    {
     "data": {
      "image/png": "[encoded data removed]",
      "text/plain": [
       "<Figure size 700x200 with 1 Axes>"
      ]
     },
     "metadata": {},
     "output_type": "display_data"
    }
   ],
   "source": [
    "from sigmaepsilon.solid import BeamSection\n",
    "from linkeddeepdict.tools import getallfromkwargs\n",
    "from polymesh.tri.trimesh import triangulate\n",
    "from polymesh.topo.tr import T6_to_T3\n",
    "import matplotlib.pyplot as plt\n",
    "from dewloosh.mpl import triplot\n",
    "\n",
    "section = BeamSection('CHS', d=d, t=t, n=16)\n",
    "section.calculate_section_properties()\n",
    "section_props = section.section_properties\n",
    "A, Ix, Iy, Iz = getallfromkwargs(['A', 'Ix', 'Iy', 'Iz'], **section_props)\n",
    "\n",
    "G = Ex / (2 * (1 + nu))\n",
    "Hooke = np.array([\n",
    "    [Ex*A, 0, 0, 0],\n",
    "    [0, G*Ix, 0, 0],\n",
    "    [0, 0, Ex*Iy, 0],\n",
    "    [0, 0, 0, Ex*Iz]\n",
    "])\n",
    "\n",
    "scoords, stopo = section.coords(), section.topology()\n",
    "path = np.array([[0, 5, 4], [5, 1, 3], [3, 2, 4], [5, 3, 4]], dtype=int)\n",
    "scoords, stopo = T6_to_T3(scoords, stopo, path=path)\n",
    "triobj = triangulate(points=scoords, triangles=stopo)[-1]\n",
    "fig, ax = plt.subplots(figsize=(7, 2))\n",
    "triplot(triobj, fig=fig, ax=ax, lw=0.1)\n",
    "\n",
    "fig.savefig(\"cross section.pdf\")\n",
    "caption = \"Mesh of the cross section.\"\n",
    "img = Image(\"cross section.pdf\", position='h!',\n",
    "            width='full', caption=caption)\n",
    "doc['Input'].append(img)\n",
    "\n",
    "columns = ['E', r'$\\nu$', 'A', r'$I_x$', r'$I_y$', r'$I_z$']\n",
    "columns = list(map(NoEscape, columns))\n",
    "values = [Ex, nu, A, Ix, Iy, Iz]\n",
    "values = list(map(f2s.format, values))\n",
    "\n",
    "table = Table('| c c | c c c c |', 'h!', caption=\"Section properties.\",\n",
    "              label=\"table:tbl-section\")\n",
    "table.add_hline()\n",
    "table.add_row(columns)\n",
    "table.add_hline()\n",
    "table.add_hline()\n",
    "table.add_row(values)\n",
    "table.add_hline()\n",
    "doc['Input'].append(table)\n"
   ]
  },
  {
   "cell_type": "code",
   "execution_count": 47,
   "metadata": {},
   "outputs": [],
   "source": [
    "from pylatex import LongTable, MultiColumn, NewPage\n",
    "\n",
    "columns = ['node', r'$x$', r'$y$', r'$z$']\n",
    "columns = list(map(NoEscape, columns))\n",
    "\n",
    "data_table = LongTable(\"| c | c c c |\")\n",
    "data_table.add_hline()\n",
    "data_table.add_row(columns)\n",
    "data_table.add_hline()\n",
    "data_table.end_table_header()\n",
    "data_table.add_hline()\n",
    "data_table.add_row((MultiColumn(4, align='r',\n",
    "                    data='... continued on next page'),))\n",
    "data_table.end_table_footer()\n",
    "data_table.add_hline()\n",
    "data_table.end_table_last_footer()\n",
    "\n",
    "for i in range(coords.shape[0]):\n",
    "    row = [i + 1] + list(map(f2s.format, coords[i]))\n",
    "    data_table.add_row(row)\n",
    "    \n",
    "doc['Input', 'Mesh'].append(data_table)"
   ]
  },
  {
   "cell_type": "code",
   "execution_count": 48,
   "metadata": {},
   "outputs": [],
   "source": [
    "from pylatex import LongTable, MultiColumn, NewPage\n",
    "\n",
    "columns = ['cell', 'nodes']\n",
    "columns = list(map(NoEscape, columns))\n",
    "\n",
    "data_table = LongTable(\"| c | c |\")\n",
    "data_table.add_hline()\n",
    "data_table.add_row(columns)\n",
    "data_table.add_hline()\n",
    "data_table.end_table_header()\n",
    "data_table.add_hline()\n",
    "data_table.add_row((MultiColumn(2, align='r',\n",
    "                    data='... continued on next page'),))\n",
    "data_table.end_table_footer()\n",
    "data_table.add_hline()\n",
    "data_table.end_table_last_footer()\n",
    "\n",
    "for i in range(topo.shape[0]):\n",
    "    row = [i + 1, list(topo[i])]\n",
    "    data_table.add_row(row)\n",
    "    \n",
    "doc['Input', 'Mesh'].append(data_table)"
   ]
  },
  {
   "cell_type": "code",
   "execution_count": 49,
   "metadata": {},
   "outputs": [],
   "source": [
    "doc['Input', 'Mesh'].append(NewPage())\n"
   ]
  },
  {
   "cell_type": "markdown",
   "metadata": {},
   "source": [
    "## Results"
   ]
  },
  {
   "cell_type": "markdown",
   "metadata": {},
   "source": [
    "### Linear Solution"
   ]
  },
  {
   "cell_type": "code",
   "execution_count": 50,
   "metadata": {},
   "outputs": [],
   "source": [
    "from sigmaepsilon.solid import Structure, LineMesh, PointData\n",
    "from polymesh.space import StandardFrame, frames_of_lines\n",
    "from polymesh.space.utils import index_of_closest_point\n",
    "from sigmaepsilon.solid.fem.cells import B2 as Beam\n",
    "\n",
    "# space\n",
    "GlobalFrame = StandardFrame(dim=3)\n",
    "\n",
    "# essential boundary conditions\n",
    "ebcinds = np.where(coords[:, 0] < 1e-12)[0]\n",
    "fixity = np.zeros((coords.shape[0], 6)).astype(bool)\n",
    "fixity[ebcinds, :] = True\n",
    "\n",
    "# natural boundary conditions\n",
    "nLoadCase = len(loads)\n",
    "nodal_loads = np.zeros((coords.shape[0], 6, nLoadCase))\n",
    "for iLC, key in enumerate(loads):\n",
    "    x = loads[key]['position']\n",
    "    f = loads[key]['value']\n",
    "    iN = index_of_closest_point(coords, np.array(x))\n",
    "    loads[key]['node'] = iN\n",
    "    nodal_loads[iN, :, iLC] = f\n",
    "\n",
    "# pointdata\n",
    "pd = PointData(coords=coords, frame=GlobalFrame,\n",
    "               loads=nodal_loads, fixity=fixity)\n",
    "\n",
    "# celldata\n",
    "frames = frames_of_lines(coords, topo)\n",
    "cd = Beam(topo=topo, frames=frames)\n",
    "\n",
    "# set up mesh and structure\n",
    "mesh = LineMesh(pd, cd, model=Hooke, frame=GlobalFrame)\n",
    "structure = Structure(mesh=mesh)\n"
   ]
  },
  {
   "cell_type": "code",
   "execution_count": 51,
   "metadata": {},
   "outputs": [
    {
     "data": {
      "application/vnd.plotly.v1+json": {
       "config": {
        "plotlyServerURL": "https://plot.ly"
       },
       "data": [
        {
         "hovertemplate": "x: %{x}<br>y: %{y}<br>z: %{z}",
         "hovertext": [
          1,
          2,
          3,
          4,
          5,
          6,
          7,
          8,
          9,
          10,
          11,
          12,
          13,
          14,
          15,
          16,
          17,
          18,
          19,
          20,
          21,
          22,
          23,
          24,
          25,
          26,
          27,
          28,
          29,
          30,
          31,
          32,
          33,
          34,
          35,
          36,
          37,
          38,
          39,
          40,
          41,
          42,
          43,
          44,
          45
         ],
         "legendgroup": "",
         "marker": {
          "color": "#636efa",
          "size": 5,
          "sizemode": "area",
          "sizeref": 0.0025,
          "symbol": "circle"
         },
         "mode": "markers+text",
         "name": "",
         "scene": "scene",
         "showlegend": false,
         "text": [
          1,
          2,
          3,
          4,
          5,
          6,
          7,
          8,
          9,
          10,
          11,
          12,
          13,
          14,
          15,
          16,
          17,
          18,
          19,
          20,
          21,
          22,
          23,
          24,
          25,
          26,
          27,
          28,
          29,
          30,
          31,
          32,
          33,
          34,
          35,
          36,
          37,
          38,
          39,
          40,
          41,
          42,
          43,
          44,
          45
         ],
         "type": "scatter3d",
         "x": [
          0,
          0,
          0,
          0,
          0,
          0,
          0,
          0,
          0,
          25,
          25,
          25,
          25,
          25,
          25,
          25,
          25,
          25,
          50,
          50,
          50,
          50,
          50,
          50,
          50,
          50,
          50,
          75,
          75,
          75,
          75,
          75,
          75,
          75,
          75,
          75,
          100,
          100,
          100,
          100,
          100,
          100,
          100,
          100,
          100
         ],
         "y": [
          -7.5,
          -7.5,
          -7.5,
          0,
          0,
          0,
          7.5,
          7.5,
          7.5,
          -7.5,
          -7.5,
          -7.5,
          0,
          0,
          0,
          7.5,
          7.5,
          7.5,
          -7.5,
          -7.5,
          -7.5,
          0,
          0,
          0,
          7.5,
          7.5,
          7.5,
          -7.5,
          -7.5,
          -7.5,
          0,
          0,
          0,
          7.5,
          7.5,
          7.5,
          -7.5,
          -7.5,
          -7.5,
          0,
          0,
          0,
          7.5,
          7.5,
          7.5
         ],
         "z": [
          -5,
          0,
          5,
          -5,
          0,
          5,
          -5,
          0,
          5,
          -5,
          0,
          5,
          -5,
          0,
          5,
          -5,
          0,
          5,
          -5,
          0,
          5,
          -5,
          0,
          5,
          -5,
          0,
          5,
          -5,
          0,
          5,
          -5,
          0,
          5,
          -5,
          0,
          5,
          -5,
          0,
          5,
          -5,
          0,
          5,
          -5,
          0,
          5
         ]
        },
        {
         "hoverinfo": "skip",
         "line": {
          "color": "black",
          "width": 4
         },
         "mode": "lines",
         "showlegend": false,
         "type": "scatter3d",
         "x": [
          0,
          0
         ],
         "y": [
          -7.5,
          -7.5
         ],
         "z": [
          -5,
          0
         ]
        },
        {
         "hoverinfo": "skip",
         "line": {
          "color": "black",
          "width": 4
         },
         "mode": "lines",
         "showlegend": false,
         "type": "scatter3d",
         "x": [
          0,
          0
         ],
         "y": [
          -7.5,
          0
         ],
         "z": [
          -5,
          -5
         ]
        },
        {
         "hoverinfo": "skip",
         "line": {
          "color": "black",
          "width": 4
         },
         "mode": "lines",
         "showlegend": false,
         "type": "scatter3d",
         "x": [
          0,
          25
         ],
         "y": [
          -7.5,
          -7.5
         ],
         "z": [
          -5,
          -5
         ]
        },
        {
         "hoverinfo": "skip",
         "line": {
          "color": "black",
          "width": 4
         },
         "mode": "lines",
         "showlegend": false,
         "type": "scatter3d",
         "x": [
          0,
          0
         ],
         "y": [
          -7.5,
          -7.5
         ],
         "z": [
          0,
          5
         ]
        },
        {
         "hoverinfo": "skip",
         "line": {
          "color": "black",
          "width": 4
         },
         "mode": "lines",
         "showlegend": false,
         "type": "scatter3d",
         "x": [
          0,
          0
         ],
         "y": [
          -7.5,
          0
         ],
         "z": [
          0,
          0
         ]
        },
        {
         "hoverinfo": "skip",
         "line": {
          "color": "black",
          "width": 4
         },
         "mode": "lines",
         "showlegend": false,
         "type": "scatter3d",
         "x": [
          0,
          25
         ],
         "y": [
          -7.5,
          -7.5
         ],
         "z": [
          0,
          0
         ]
        },
        {
         "hoverinfo": "skip",
         "line": {
          "color": "black",
          "width": 4
         },
         "mode": "lines",
         "showlegend": false,
         "type": "scatter3d",
         "x": [
          0,
          0
         ],
         "y": [
          -7.5,
          0
         ],
         "z": [
          5,
          5
         ]
        },
        {
         "hoverinfo": "skip",
         "line": {
          "color": "black",
          "width": 4
         },
         "mode": "lines",
         "showlegend": false,
         "type": "scatter3d",
         "x": [
          0,
          25
         ],
         "y": [
          -7.5,
          -7.5
         ],
         "z": [
          5,
          5
         ]
        },
        {
         "hoverinfo": "skip",
         "line": {
          "color": "black",
          "width": 4
         },
         "mode": "lines",
         "showlegend": false,
         "type": "scatter3d",
         "x": [
          0,
          0
         ],
         "y": [
          0,
          0
         ],
         "z": [
          -5,
          0
         ]
        },
        {
         "hoverinfo": "skip",
         "line": {
          "color": "black",
          "width": 4
         },
         "mode": "lines",
         "showlegend": false,
         "type": "scatter3d",
         "x": [
          0,
          0
         ],
         "y": [
          0,
          7.5
         ],
         "z": [
          -5,
          -5
         ]
        },
        {
         "hoverinfo": "skip",
         "line": {
          "color": "black",
          "width": 4
         },
         "mode": "lines",
         "showlegend": false,
         "type": "scatter3d",
         "x": [
          0,
          25
         ],
         "y": [
          0,
          0
         ],
         "z": [
          -5,
          -5
         ]
        },
        {
         "hoverinfo": "skip",
         "line": {
          "color": "black",
          "width": 4
         },
         "mode": "lines",
         "showlegend": false,
         "type": "scatter3d",
         "x": [
          0,
          0
         ],
         "y": [
          0,
          0
         ],
         "z": [
          0,
          5
         ]
        },
        {
         "hoverinfo": "skip",
         "line": {
          "color": "black",
          "width": 4
         },
         "mode": "lines",
         "showlegend": false,
         "type": "scatter3d",
         "x": [
          0,
          0
         ],
         "y": [
          0,
          7.5
         ],
         "z": [
          0,
          0
         ]
        },
        {
         "hoverinfo": "skip",
         "line": {
          "color": "black",
          "width": 4
         },
         "mode": "lines",
         "showlegend": false,
         "type": "scatter3d",
         "x": [
          0,
          25
         ],
         "y": [
          0,
          0
         ],
         "z": [
          0,
          0
         ]
        },
        {
         "hoverinfo": "skip",
         "line": {
          "color": "black",
          "width": 4
         },
         "mode": "lines",
         "showlegend": false,
         "type": "scatter3d",
         "x": [
          0,
          0
         ],
         "y": [
          0,
          7.5
         ],
         "z": [
          5,
          5
         ]
        },
        {
         "hoverinfo": "skip",
         "line": {
          "color": "black",
          "width": 4
         },
         "mode": "lines",
         "showlegend": false,
         "type": "scatter3d",
         "x": [
          0,
          25
         ],
         "y": [
          0,
          0
         ],
         "z": [
          5,
          5
         ]
        },
        {
         "hoverinfo": "skip",
         "line": {
          "color": "black",
          "width": 4
         },
         "mode": "lines",
         "showlegend": false,
         "type": "scatter3d",
         "x": [
          0,
          0
         ],
         "y": [
          7.5,
          7.5
         ],
         "z": [
          -5,
          0
         ]
        },
        {
         "hoverinfo": "skip",
         "line": {
          "color": "black",
          "width": 4
         },
         "mode": "lines",
         "showlegend": false,
         "type": "scatter3d",
         "x": [
          0,
          25
         ],
         "y": [
          7.5,
          7.5
         ],
         "z": [
          -5,
          -5
         ]
        },
        {
         "hoverinfo": "skip",
         "line": {
          "color": "black",
          "width": 4
         },
         "mode": "lines",
         "showlegend": false,
         "type": "scatter3d",
         "x": [
          0,
          0
         ],
         "y": [
          7.5,
          7.5
         ],
         "z": [
          0,
          5
         ]
        },
        {
         "hoverinfo": "skip",
         "line": {
          "color": "black",
          "width": 4
         },
         "mode": "lines",
         "showlegend": false,
         "type": "scatter3d",
         "x": [
          0,
          25
         ],
         "y": [
          7.5,
          7.5
         ],
         "z": [
          0,
          0
         ]
        },
        {
         "hoverinfo": "skip",
         "line": {
          "color": "black",
          "width": 4
         },
         "mode": "lines",
         "showlegend": false,
         "type": "scatter3d",
         "x": [
          0,
          25
         ],
         "y": [
          7.5,
          7.5
         ],
         "z": [
          5,
          5
         ]
        },
        {
         "hoverinfo": "skip",
         "line": {
          "color": "black",
          "width": 4
         },
         "mode": "lines",
         "showlegend": false,
         "type": "scatter3d",
         "x": [
          25,
          25
         ],
         "y": [
          -7.5,
          -7.5
         ],
         "z": [
          -5,
          0
         ]
        },
        {
         "hoverinfo": "skip",
         "line": {
          "color": "black",
          "width": 4
         },
         "mode": "lines",
         "showlegend": false,
         "type": "scatter3d",
         "x": [
          25,
          25
         ],
         "y": [
          -7.5,
          0
         ],
         "z": [
          -5,
          -5
         ]
        },
        {
         "hoverinfo": "skip",
         "line": {
          "color": "black",
          "width": 4
         },
         "mode": "lines",
         "showlegend": false,
         "type": "scatter3d",
         "x": [
          25,
          50
         ],
         "y": [
          -7.5,
          -7.5
         ],
         "z": [
          -5,
          -5
         ]
        },
        {
         "hoverinfo": "skip",
         "line": {
          "color": "black",
          "width": 4
         },
         "mode": "lines",
         "showlegend": false,
         "type": "scatter3d",
         "x": [
          25,
          25
         ],
         "y": [
          -7.5,
          -7.5
         ],
         "z": [
          0,
          5
         ]
        },
        {
         "hoverinfo": "skip",
         "line": {
          "color": "black",
          "width": 4
         },
         "mode": "lines",
         "showlegend": false,
         "type": "scatter3d",
         "x": [
          25,
          25
         ],
         "y": [
          -7.5,
          0
         ],
         "z": [
          0,
          0
         ]
        },
        {
         "hoverinfo": "skip",
         "line": {
          "color": "black",
          "width": 4
         },
         "mode": "lines",
         "showlegend": false,
         "type": "scatter3d",
         "x": [
          25,
          50
         ],
         "y": [
          -7.5,
          -7.5
         ],
         "z": [
          0,
          0
         ]
        },
        {
         "hoverinfo": "skip",
         "line": {
          "color": "black",
          "width": 4
         },
         "mode": "lines",
         "showlegend": false,
         "type": "scatter3d",
         "x": [
          25,
          25
         ],
         "y": [
          -7.5,
          0
         ],
         "z": [
          5,
          5
         ]
        },
        {
         "hoverinfo": "skip",
         "line": {
          "color": "black",
          "width": 4
         },
         "mode": "lines",
         "showlegend": false,
         "type": "scatter3d",
         "x": [
          25,
          50
         ],
         "y": [
          -7.5,
          -7.5
         ],
         "z": [
          5,
          5
         ]
        },
        {
         "hoverinfo": "skip",
         "line": {
          "color": "black",
          "width": 4
         },
         "mode": "lines",
         "showlegend": false,
         "type": "scatter3d",
         "x": [
          25,
          25
         ],
         "y": [
          0,
          0
         ],
         "z": [
          -5,
          0
         ]
        },
        {
         "hoverinfo": "skip",
         "line": {
          "color": "black",
          "width": 4
         },
         "mode": "lines",
         "showlegend": false,
         "type": "scatter3d",
         "x": [
          25,
          25
         ],
         "y": [
          0,
          7.5
         ],
         "z": [
          -5,
          -5
         ]
        },
        {
         "hoverinfo": "skip",
         "line": {
          "color": "black",
          "width": 4
         },
         "mode": "lines",
         "showlegend": false,
         "type": "scatter3d",
         "x": [
          25,
          50
         ],
         "y": [
          0,
          0
         ],
         "z": [
          -5,
          -5
         ]
        },
        {
         "hoverinfo": "skip",
         "line": {
          "color": "black",
          "width": 4
         },
         "mode": "lines",
         "showlegend": false,
         "type": "scatter3d",
         "x": [
          25,
          25
         ],
         "y": [
          0,
          0
         ],
         "z": [
          0,
          5
         ]
        },
        {
         "hoverinfo": "skip",
         "line": {
          "color": "black",
          "width": 4
         },
         "mode": "lines",
         "showlegend": false,
         "type": "scatter3d",
         "x": [
          25,
          25
         ],
         "y": [
          0,
          7.5
         ],
         "z": [
          0,
          0
         ]
        },
        {
         "hoverinfo": "skip",
         "line": {
          "color": "black",
          "width": 4
         },
         "mode": "lines",
         "showlegend": false,
         "type": "scatter3d",
         "x": [
          25,
          50
         ],
         "y": [
          0,
          0
         ],
         "z": [
          0,
          0
         ]
        },
        {
         "hoverinfo": "skip",
         "line": {
          "color": "black",
          "width": 4
         },
         "mode": "lines",
         "showlegend": false,
         "type": "scatter3d",
         "x": [
          25,
          25
         ],
         "y": [
          0,
          7.5
         ],
         "z": [
          5,
          5
         ]
        },
        {
         "hoverinfo": "skip",
         "line": {
          "color": "black",
          "width": 4
         },
         "mode": "lines",
         "showlegend": false,
         "type": "scatter3d",
         "x": [
          25,
          50
         ],
         "y": [
          0,
          0
         ],
         "z": [
          5,
          5
         ]
        },
        {
         "hoverinfo": "skip",
         "line": {
          "color": "black",
          "width": 4
         },
         "mode": "lines",
         "showlegend": false,
         "type": "scatter3d",
         "x": [
          25,
          25
         ],
         "y": [
          7.5,
          7.5
         ],
         "z": [
          -5,
          0
         ]
        },
        {
         "hoverinfo": "skip",
         "line": {
          "color": "black",
          "width": 4
         },
         "mode": "lines",
         "showlegend": false,
         "type": "scatter3d",
         "x": [
          25,
          50
         ],
         "y": [
          7.5,
          7.5
         ],
         "z": [
          -5,
          -5
         ]
        },
        {
         "hoverinfo": "skip",
         "line": {
          "color": "black",
          "width": 4
         },
         "mode": "lines",
         "showlegend": false,
         "type": "scatter3d",
         "x": [
          25,
          25
         ],
         "y": [
          7.5,
          7.5
         ],
         "z": [
          0,
          5
         ]
        },
        {
         "hoverinfo": "skip",
         "line": {
          "color": "black",
          "width": 4
         },
         "mode": "lines",
         "showlegend": false,
         "type": "scatter3d",
         "x": [
          25,
          50
         ],
         "y": [
          7.5,
          7.5
         ],
         "z": [
          0,
          0
         ]
        },
        {
         "hoverinfo": "skip",
         "line": {
          "color": "black",
          "width": 4
         },
         "mode": "lines",
         "showlegend": false,
         "type": "scatter3d",
         "x": [
          25,
          50
         ],
         "y": [
          7.5,
          7.5
         ],
         "z": [
          5,
          5
         ]
        },
        {
         "hoverinfo": "skip",
         "line": {
          "color": "black",
          "width": 4
         },
         "mode": "lines",
         "showlegend": false,
         "type": "scatter3d",
         "x": [
          50,
          50
         ],
         "y": [
          -7.5,
          -7.5
         ],
         "z": [
          -5,
          0
         ]
        },
        {
         "hoverinfo": "skip",
         "line": {
          "color": "black",
          "width": 4
         },
         "mode": "lines",
         "showlegend": false,
         "type": "scatter3d",
         "x": [
          50,
          50
         ],
         "y": [
          -7.5,
          0
         ],
         "z": [
          -5,
          -5
         ]
        },
        {
         "hoverinfo": "skip",
         "line": {
          "color": "black",
          "width": 4
         },
         "mode": "lines",
         "showlegend": false,
         "type": "scatter3d",
         "x": [
          50,
          75
         ],
         "y": [
          -7.5,
          -7.5
         ],
         "z": [
          -5,
          -5
         ]
        },
        {
         "hoverinfo": "skip",
         "line": {
          "color": "black",
          "width": 4
         },
         "mode": "lines",
         "showlegend": false,
         "type": "scatter3d",
         "x": [
          50,
          50
         ],
         "y": [
          -7.5,
          -7.5
         ],
         "z": [
          0,
          5
         ]
        },
        {
         "hoverinfo": "skip",
         "line": {
          "color": "black",
          "width": 4
         },
         "mode": "lines",
         "showlegend": false,
         "type": "scatter3d",
         "x": [
          50,
          50
         ],
         "y": [
          -7.5,
          0
         ],
         "z": [
          0,
          0
         ]
        },
        {
         "hoverinfo": "skip",
         "line": {
          "color": "black",
          "width": 4
         },
         "mode": "lines",
         "showlegend": false,
         "type": "scatter3d",
         "x": [
          50,
          75
         ],
         "y": [
          -7.5,
          -7.5
         ],
         "z": [
          0,
          0
         ]
        },
        {
         "hoverinfo": "skip",
         "line": {
          "color": "black",
          "width": 4
         },
         "mode": "lines",
         "showlegend": false,
         "type": "scatter3d",
         "x": [
          50,
          50
         ],
         "y": [
          -7.5,
          0
         ],
         "z": [
          5,
          5
         ]
        },
        {
         "hoverinfo": "skip",
         "line": {
          "color": "black",
          "width": 4
         },
         "mode": "lines",
         "showlegend": false,
         "type": "scatter3d",
         "x": [
          50,
          75
         ],
         "y": [
          -7.5,
          -7.5
         ],
         "z": [
          5,
          5
         ]
        },
        {
         "hoverinfo": "skip",
         "line": {
          "color": "black",
          "width": 4
         },
         "mode": "lines",
         "showlegend": false,
         "type": "scatter3d",
         "x": [
          50,
          50
         ],
         "y": [
          0,
          0
         ],
         "z": [
          -5,
          0
         ]
        },
        {
         "hoverinfo": "skip",
         "line": {
          "color": "black",
          "width": 4
         },
         "mode": "lines",
         "showlegend": false,
         "type": "scatter3d",
         "x": [
          50,
          50
         ],
         "y": [
          0,
          7.5
         ],
         "z": [
          -5,
          -5
         ]
        },
        {
         "hoverinfo": "skip",
         "line": {
          "color": "black",
          "width": 4
         },
         "mode": "lines",
         "showlegend": false,
         "type": "scatter3d",
         "x": [
          50,
          75
         ],
         "y": [
          0,
          0
         ],
         "z": [
          -5,
          -5
         ]
        },
        {
         "hoverinfo": "skip",
         "line": {
          "color": "black",
          "width": 4
         },
         "mode": "lines",
         "showlegend": false,
         "type": "scatter3d",
         "x": [
          50,
          50
         ],
         "y": [
          0,
          0
         ],
         "z": [
          0,
          5
         ]
        },
        {
         "hoverinfo": "skip",
         "line": {
          "color": "black",
          "width": 4
         },
         "mode": "lines",
         "showlegend": false,
         "type": "scatter3d",
         "x": [
          50,
          50
         ],
         "y": [
          0,
          7.5
         ],
         "z": [
          0,
          0
         ]
        },
        {
         "hoverinfo": "skip",
         "line": {
          "color": "black",
          "width": 4
         },
         "mode": "lines",
         "showlegend": false,
         "type": "scatter3d",
         "x": [
          50,
          75
         ],
         "y": [
          0,
          0
         ],
         "z": [
          0,
          0
         ]
        },
        {
         "hoverinfo": "skip",
         "line": {
          "color": "black",
          "width": 4
         },
         "mode": "lines",
         "showlegend": false,
         "type": "scatter3d",
         "x": [
          50,
          50
         ],
         "y": [
          0,
          7.5
         ],
         "z": [
          5,
          5
         ]
        },
        {
         "hoverinfo": "skip",
         "line": {
          "color": "black",
          "width": 4
         },
         "mode": "lines",
         "showlegend": false,
         "type": "scatter3d",
         "x": [
          50,
          75
         ],
         "y": [
          0,
          0
         ],
         "z": [
          5,
          5
         ]
        },
        {
         "hoverinfo": "skip",
         "line": {
          "color": "black",
          "width": 4
         },
         "mode": "lines",
         "showlegend": false,
         "type": "scatter3d",
         "x": [
          50,
          50
         ],
         "y": [
          7.5,
          7.5
         ],
         "z": [
          -5,
          0
         ]
        },
        {
         "hoverinfo": "skip",
         "line": {
          "color": "black",
          "width": 4
         },
         "mode": "lines",
         "showlegend": false,
         "type": "scatter3d",
         "x": [
          50,
          75
         ],
         "y": [
          7.5,
          7.5
         ],
         "z": [
          -5,
          -5
         ]
        },
        {
         "hoverinfo": "skip",
         "line": {
          "color": "black",
          "width": 4
         },
         "mode": "lines",
         "showlegend": false,
         "type": "scatter3d",
         "x": [
          50,
          50
         ],
         "y": [
          7.5,
          7.5
         ],
         "z": [
          0,
          5
         ]
        },
        {
         "hoverinfo": "skip",
         "line": {
          "color": "black",
          "width": 4
         },
         "mode": "lines",
         "showlegend": false,
         "type": "scatter3d",
         "x": [
          50,
          75
         ],
         "y": [
          7.5,
          7.5
         ],
         "z": [
          0,
          0
         ]
        },
        {
         "hoverinfo": "skip",
         "line": {
          "color": "black",
          "width": 4
         },
         "mode": "lines",
         "showlegend": false,
         "type": "scatter3d",
         "x": [
          50,
          75
         ],
         "y": [
          7.5,
          7.5
         ],
         "z": [
          5,
          5
         ]
        },
        {
         "hoverinfo": "skip",
         "line": {
          "color": "black",
          "width": 4
         },
         "mode": "lines",
         "showlegend": false,
         "type": "scatter3d",
         "x": [
          75,
          75
         ],
         "y": [
          -7.5,
          -7.5
         ],
         "z": [
          -5,
          0
         ]
        },
        {
         "hoverinfo": "skip",
         "line": {
          "color": "black",
          "width": 4
         },
         "mode": "lines",
         "showlegend": false,
         "type": "scatter3d",
         "x": [
          75,
          75
         ],
         "y": [
          -7.5,
          0
         ],
         "z": [
          -5,
          -5
         ]
        },
        {
         "hoverinfo": "skip",
         "line": {
          "color": "black",
          "width": 4
         },
         "mode": "lines",
         "showlegend": false,
         "type": "scatter3d",
         "x": [
          75,
          100
         ],
         "y": [
          -7.5,
          -7.5
         ],
         "z": [
          -5,
          -5
         ]
        },
        {
         "hoverinfo": "skip",
         "line": {
          "color": "black",
          "width": 4
         },
         "mode": "lines",
         "showlegend": false,
         "type": "scatter3d",
         "x": [
          75,
          75
         ],
         "y": [
          -7.5,
          -7.5
         ],
         "z": [
          0,
          5
         ]
        },
        {
         "hoverinfo": "skip",
         "line": {
          "color": "black",
          "width": 4
         },
         "mode": "lines",
         "showlegend": false,
         "type": "scatter3d",
         "x": [
          75,
          75
         ],
         "y": [
          -7.5,
          0
         ],
         "z": [
          0,
          0
         ]
        },
        {
         "hoverinfo": "skip",
         "line": {
          "color": "black",
          "width": 4
         },
         "mode": "lines",
         "showlegend": false,
         "type": "scatter3d",
         "x": [
          75,
          100
         ],
         "y": [
          -7.5,
          -7.5
         ],
         "z": [
          0,
          0
         ]
        },
        {
         "hoverinfo": "skip",
         "line": {
          "color": "black",
          "width": 4
         },
         "mode": "lines",
         "showlegend": false,
         "type": "scatter3d",
         "x": [
          75,
          75
         ],
         "y": [
          -7.5,
          0
         ],
         "z": [
          5,
          5
         ]
        },
        {
         "hoverinfo": "skip",
         "line": {
          "color": "black",
          "width": 4
         },
         "mode": "lines",
         "showlegend": false,
         "type": "scatter3d",
         "x": [
          75,
          100
         ],
         "y": [
          -7.5,
          -7.5
         ],
         "z": [
          5,
          5
         ]
        },
        {
         "hoverinfo": "skip",
         "line": {
          "color": "black",
          "width": 4
         },
         "mode": "lines",
         "showlegend": false,
         "type": "scatter3d",
         "x": [
          75,
          75
         ],
         "y": [
          0,
          0
         ],
         "z": [
          -5,
          0
         ]
        },
        {
         "hoverinfo": "skip",
         "line": {
          "color": "black",
          "width": 4
         },
         "mode": "lines",
         "showlegend": false,
         "type": "scatter3d",
         "x": [
          75,
          75
         ],
         "y": [
          0,
          7.5
         ],
         "z": [
          -5,
          -5
         ]
        },
        {
         "hoverinfo": "skip",
         "line": {
          "color": "black",
          "width": 4
         },
         "mode": "lines",
         "showlegend": false,
         "type": "scatter3d",
         "x": [
          75,
          100
         ],
         "y": [
          0,
          0
         ],
         "z": [
          -5,
          -5
         ]
        },
        {
         "hoverinfo": "skip",
         "line": {
          "color": "black",
          "width": 4
         },
         "mode": "lines",
         "showlegend": false,
         "type": "scatter3d",
         "x": [
          75,
          75
         ],
         "y": [
          0,
          0
         ],
         "z": [
          0,
          5
         ]
        },
        {
         "hoverinfo": "skip",
         "line": {
          "color": "black",
          "width": 4
         },
         "mode": "lines",
         "showlegend": false,
         "type": "scatter3d",
         "x": [
          75,
          75
         ],
         "y": [
          0,
          7.5
         ],
         "z": [
          0,
          0
         ]
        },
        {
         "hoverinfo": "skip",
         "line": {
          "color": "black",
          "width": 4
         },
         "mode": "lines",
         "showlegend": false,
         "type": "scatter3d",
         "x": [
          75,
          100
         ],
         "y": [
          0,
          0
         ],
         "z": [
          0,
          0
         ]
        },
        {
         "hoverinfo": "skip",
         "line": {
          "color": "black",
          "width": 4
         },
         "mode": "lines",
         "showlegend": false,
         "type": "scatter3d",
         "x": [
          75,
          75
         ],
         "y": [
          0,
          7.5
         ],
         "z": [
          5,
          5
         ]
        },
        {
         "hoverinfo": "skip",
         "line": {
          "color": "black",
          "width": 4
         },
         "mode": "lines",
         "showlegend": false,
         "type": "scatter3d",
         "x": [
          75,
          100
         ],
         "y": [
          0,
          0
         ],
         "z": [
          5,
          5
         ]
        },
        {
         "hoverinfo": "skip",
         "line": {
          "color": "black",
          "width": 4
         },
         "mode": "lines",
         "showlegend": false,
         "type": "scatter3d",
         "x": [
          75,
          75
         ],
         "y": [
          7.5,
          7.5
         ],
         "z": [
          -5,
          0
         ]
        },
        {
         "hoverinfo": "skip",
         "line": {
          "color": "black",
          "width": 4
         },
         "mode": "lines",
         "showlegend": false,
         "type": "scatter3d",
         "x": [
          75,
          100
         ],
         "y": [
          7.5,
          7.5
         ],
         "z": [
          -5,
          -5
         ]
        },
        {
         "hoverinfo": "skip",
         "line": {
          "color": "black",
          "width": 4
         },
         "mode": "lines",
         "showlegend": false,
         "type": "scatter3d",
         "x": [
          75,
          75
         ],
         "y": [
          7.5,
          7.5
         ],
         "z": [
          0,
          5
         ]
        },
        {
         "hoverinfo": "skip",
         "line": {
          "color": "black",
          "width": 4
         },
         "mode": "lines",
         "showlegend": false,
         "type": "scatter3d",
         "x": [
          75,
          100
         ],
         "y": [
          7.5,
          7.5
         ],
         "z": [
          0,
          0
         ]
        },
        {
         "hoverinfo": "skip",
         "line": {
          "color": "black",
          "width": 4
         },
         "mode": "lines",
         "showlegend": false,
         "type": "scatter3d",
         "x": [
          75,
          100
         ],
         "y": [
          7.5,
          7.5
         ],
         "z": [
          5,
          5
         ]
        },
        {
         "hoverinfo": "skip",
         "line": {
          "color": "black",
          "width": 4
         },
         "mode": "lines",
         "showlegend": false,
         "type": "scatter3d",
         "x": [
          100,
          100
         ],
         "y": [
          -7.5,
          -7.5
         ],
         "z": [
          -5,
          0
         ]
        },
        {
         "hoverinfo": "skip",
         "line": {
          "color": "black",
          "width": 4
         },
         "mode": "lines",
         "showlegend": false,
         "type": "scatter3d",
         "x": [
          100,
          100
         ],
         "y": [
          -7.5,
          0
         ],
         "z": [
          -5,
          -5
         ]
        },
        {
         "hoverinfo": "skip",
         "line": {
          "color": "black",
          "width": 4
         },
         "mode": "lines",
         "showlegend": false,
         "type": "scatter3d",
         "x": [
          100,
          100
         ],
         "y": [
          -7.5,
          -7.5
         ],
         "z": [
          0,
          5
         ]
        },
        {
         "hoverinfo": "skip",
         "line": {
          "color": "black",
          "width": 4
         },
         "mode": "lines",
         "showlegend": false,
         "type": "scatter3d",
         "x": [
          100,
          100
         ],
         "y": [
          -7.5,
          0
         ],
         "z": [
          0,
          0
         ]
        },
        {
         "hoverinfo": "skip",
         "line": {
          "color": "black",
          "width": 4
         },
         "mode": "lines",
         "showlegend": false,
         "type": "scatter3d",
         "x": [
          100,
          100
         ],
         "y": [
          -7.5,
          0
         ],
         "z": [
          5,
          5
         ]
        },
        {
         "hoverinfo": "skip",
         "line": {
          "color": "black",
          "width": 4
         },
         "mode": "lines",
         "showlegend": false,
         "type": "scatter3d",
         "x": [
          100,
          100
         ],
         "y": [
          0,
          0
         ],
         "z": [
          -5,
          0
         ]
        },
        {
         "hoverinfo": "skip",
         "line": {
          "color": "black",
          "width": 4
         },
         "mode": "lines",
         "showlegend": false,
         "type": "scatter3d",
         "x": [
          100,
          100
         ],
         "y": [
          0,
          7.5
         ],
         "z": [
          -5,
          -5
         ]
        },
        {
         "hoverinfo": "skip",
         "line": {
          "color": "black",
          "width": 4
         },
         "mode": "lines",
         "showlegend": false,
         "type": "scatter3d",
         "x": [
          100,
          100
         ],
         "y": [
          0,
          0
         ],
         "z": [
          0,
          5
         ]
        },
        {
         "hoverinfo": "skip",
         "line": {
          "color": "black",
          "width": 4
         },
         "mode": "lines",
         "showlegend": false,
         "type": "scatter3d",
         "x": [
          100,
          100
         ],
         "y": [
          0,
          7.5
         ],
         "z": [
          0,
          0
         ]
        },
        {
         "hoverinfo": "skip",
         "line": {
          "color": "black",
          "width": 4
         },
         "mode": "lines",
         "showlegend": false,
         "type": "scatter3d",
         "x": [
          100,
          100
         ],
         "y": [
          0,
          7.5
         ],
         "z": [
          5,
          5
         ]
        },
        {
         "hoverinfo": "skip",
         "line": {
          "color": "black",
          "width": 4
         },
         "mode": "lines",
         "showlegend": false,
         "type": "scatter3d",
         "x": [
          100,
          100
         ],
         "y": [
          7.5,
          7.5
         ],
         "z": [
          -5,
          0
         ]
        },
        {
         "hoverinfo": "skip",
         "line": {
          "color": "black",
          "width": 4
         },
         "mode": "lines",
         "showlegend": false,
         "type": "scatter3d",
         "x": [
          100,
          100
         ],
         "y": [
          7.5,
          7.5
         ],
         "z": [
          0,
          5
         ]
        }
       ],
       "layout": {
        "autosize": true,
        "legend": {
         "itemsizing": "constant",
         "tracegroupgap": 0
        },
        "margin": {
         "b": 1,
         "l": 1,
         "pad": 0,
         "r": 1,
         "t": 1
        },
        "scene": {
         "aspectmode": "data",
         "domain": {
          "x": [
           0,
           1
          ],
          "y": [
           0,
           1
          ]
         },
         "xaxis": {
          "title": {
           "text": "x"
          }
         },
         "yaxis": {
          "title": {
           "text": "y"
          }
         },
         "zaxis": {
          "title": {
           "text": "z"
          }
         }
        },
        "template": {
         "data": {
          "bar": [
           {
            "error_x": {
             "color": "#2a3f5f"
            },
            "error_y": {
             "color": "#2a3f5f"
            },
            "marker": {
             "line": {
              "color": "#E5ECF6",
              "width": 0.5
             },
             "pattern": {
              "fillmode": "overlay",
              "size": 10,
              "solidity": 0.2
             }
            },
            "type": "bar"
           }
          ],
          "barpolar": [
           {
            "marker": {
             "line": {
              "color": "#E5ECF6",
              "width": 0.5
             },
             "pattern": {
              "fillmode": "overlay",
              "size": 10,
              "solidity": 0.2
             }
            },
            "type": "barpolar"
           }
          ],
          "carpet": [
           {
            "aaxis": {
             "endlinecolor": "#2a3f5f",
             "gridcolor": "white",
             "linecolor": "white",
             "minorgridcolor": "white",
             "startlinecolor": "#2a3f5f"
            },
            "baxis": {
             "endlinecolor": "#2a3f5f",
             "gridcolor": "white",
             "linecolor": "white",
             "minorgridcolor": "white",
             "startlinecolor": "#2a3f5f"
            },
            "type": "carpet"
           }
          ],
          "choropleth": [
           {
            "colorbar": {
             "outlinewidth": 0,
             "ticks": ""
            },
            "type": "choropleth"
           }
          ],
          "contour": [
           {
            "colorbar": {
             "outlinewidth": 0,
             "ticks": ""
            },
            "colorscale": [
             [
              0,
              "#0d0887"
             ],
             [
              0.1111111111111111,
              "#46039f"
             ],
             [
              0.2222222222222222,
              "#7201a8"
             ],
             [
              0.3333333333333333,
              "#9c179e"
             ],
             [
              0.4444444444444444,
              "#bd3786"
             ],
             [
              0.5555555555555556,
              "#d8576b"
             ],
             [
              0.6666666666666666,
              "#ed7953"
             ],
             [
              0.7777777777777778,
              "#fb9f3a"
             ],
             [
              0.8888888888888888,
              "#fdca26"
             ],
             [
              1,
              "#f0f921"
             ]
            ],
            "type": "contour"
           }
          ],
          "contourcarpet": [
           {
            "colorbar": {
             "outlinewidth": 0,
             "ticks": ""
            },
            "type": "contourcarpet"
           }
          ],
          "heatmap": [
           {
            "colorbar": {
             "outlinewidth": 0,
             "ticks": ""
            },
            "colorscale": [
             [
              0,
              "#0d0887"
             ],
             [
              0.1111111111111111,
              "#46039f"
             ],
             [
              0.2222222222222222,
              "#7201a8"
             ],
             [
              0.3333333333333333,
              "#9c179e"
             ],
             [
              0.4444444444444444,
              "#bd3786"
             ],
             [
              0.5555555555555556,
              "#d8576b"
             ],
             [
              0.6666666666666666,
              "#ed7953"
             ],
             [
              0.7777777777777778,
              "#fb9f3a"
             ],
             [
              0.8888888888888888,
              "#fdca26"
             ],
             [
              1,
              "#f0f921"
             ]
            ],
            "type": "heatmap"
           }
          ],
          "heatmapgl": [
           {
            "colorbar": {
             "outlinewidth": 0,
             "ticks": ""
            },
            "colorscale": [
             [
              0,
              "#0d0887"
             ],
             [
              0.1111111111111111,
              "#46039f"
             ],
             [
              0.2222222222222222,
              "#7201a8"
             ],
             [
              0.3333333333333333,
              "#9c179e"
             ],
             [
              0.4444444444444444,
              "#bd3786"
             ],
             [
              0.5555555555555556,
              "#d8576b"
             ],
             [
              0.6666666666666666,
              "#ed7953"
             ],
             [
              0.7777777777777778,
              "#fb9f3a"
             ],
             [
              0.8888888888888888,
              "#fdca26"
             ],
             [
              1,
              "#f0f921"
             ]
            ],
            "type": "heatmapgl"
           }
          ],
          "histogram": [
           {
            "marker": {
             "pattern": {
              "fillmode": "overlay",
              "size": 10,
              "solidity": 0.2
             }
            },
            "type": "histogram"
           }
          ],
          "histogram2d": [
           {
            "colorbar": {
             "outlinewidth": 0,
             "ticks": ""
            },
            "colorscale": [
             [
              0,
              "#0d0887"
             ],
             [
              0.1111111111111111,
              "#46039f"
             ],
             [
              0.2222222222222222,
              "#7201a8"
             ],
             [
              0.3333333333333333,
              "#9c179e"
             ],
             [
              0.4444444444444444,
              "#bd3786"
             ],
             [
              0.5555555555555556,
              "#d8576b"
             ],
             [
              0.6666666666666666,
              "#ed7953"
             ],
             [
              0.7777777777777778,
              "#fb9f3a"
             ],
             [
              0.8888888888888888,
              "#fdca26"
             ],
             [
              1,
              "#f0f921"
             ]
            ],
            "type": "histogram2d"
           }
          ],
          "histogram2dcontour": [
           {
            "colorbar": {
             "outlinewidth": 0,
             "ticks": ""
            },
            "colorscale": [
             [
              0,
              "#0d0887"
             ],
             [
              0.1111111111111111,
              "#46039f"
             ],
             [
              0.2222222222222222,
              "#7201a8"
             ],
             [
              0.3333333333333333,
              "#9c179e"
             ],
             [
              0.4444444444444444,
              "#bd3786"
             ],
             [
              0.5555555555555556,
              "#d8576b"
             ],
             [
              0.6666666666666666,
              "#ed7953"
             ],
             [
              0.7777777777777778,
              "#fb9f3a"
             ],
             [
              0.8888888888888888,
              "#fdca26"
             ],
             [
              1,
              "#f0f921"
             ]
            ],
            "type": "histogram2dcontour"
           }
          ],
          "mesh3d": [
           {
            "colorbar": {
             "outlinewidth": 0,
             "ticks": ""
            },
            "type": "mesh3d"
           }
          ],
          "parcoords": [
           {
            "line": {
             "colorbar": {
              "outlinewidth": 0,
              "ticks": ""
             }
            },
            "type": "parcoords"
           }
          ],
          "pie": [
           {
            "automargin": true,
            "type": "pie"
           }
          ],
          "scatter": [
           {
            "fillpattern": {
             "fillmode": "overlay",
             "size": 10,
             "solidity": 0.2
            },
            "type": "scatter"
           }
          ],
          "scatter3d": [
           {
            "line": {
             "colorbar": {
              "outlinewidth": 0,
              "ticks": ""
             }
            },
            "marker": {
             "colorbar": {
              "outlinewidth": 0,
              "ticks": ""
             }
            },
            "type": "scatter3d"
           }
          ],
          "scattercarpet": [
           {
            "marker": {
             "colorbar": {
              "outlinewidth": 0,
              "ticks": ""
             }
            },
            "type": "scattercarpet"
           }
          ],
          "scattergeo": [
           {
            "marker": {
             "colorbar": {
              "outlinewidth": 0,
              "ticks": ""
             }
            },
            "type": "scattergeo"
           }
          ],
          "scattergl": [
           {
            "marker": {
             "colorbar": {
              "outlinewidth": 0,
              "ticks": ""
             }
            },
            "type": "scattergl"
           }
          ],
          "scattermapbox": [
           {
            "marker": {
             "colorbar": {
              "outlinewidth": 0,
              "ticks": ""
             }
            },
            "type": "scattermapbox"
           }
          ],
          "scatterpolar": [
           {
            "marker": {
             "colorbar": {
              "outlinewidth": 0,
              "ticks": ""
             }
            },
            "type": "scatterpolar"
           }
          ],
          "scatterpolargl": [
           {
            "marker": {
             "colorbar": {
              "outlinewidth": 0,
              "ticks": ""
             }
            },
            "type": "scatterpolargl"
           }
          ],
          "scatterternary": [
           {
            "marker": {
             "colorbar": {
              "outlinewidth": 0,
              "ticks": ""
             }
            },
            "type": "scatterternary"
           }
          ],
          "surface": [
           {
            "colorbar": {
             "outlinewidth": 0,
             "ticks": ""
            },
            "colorscale": [
             [
              0,
              "#0d0887"
             ],
             [
              0.1111111111111111,
              "#46039f"
             ],
             [
              0.2222222222222222,
              "#7201a8"
             ],
             [
              0.3333333333333333,
              "#9c179e"
             ],
             [
              0.4444444444444444,
              "#bd3786"
             ],
             [
              0.5555555555555556,
              "#d8576b"
             ],
             [
              0.6666666666666666,
              "#ed7953"
             ],
             [
              0.7777777777777778,
              "#fb9f3a"
             ],
             [
              0.8888888888888888,
              "#fdca26"
             ],
             [
              1,
              "#f0f921"
             ]
            ],
            "type": "surface"
           }
          ],
          "table": [
           {
            "cells": {
             "fill": {
              "color": "#EBF0F8"
             },
             "line": {
              "color": "white"
             }
            },
            "header": {
             "fill": {
              "color": "#C8D4E3"
             },
             "line": {
              "color": "white"
             }
            },
            "type": "table"
           }
          ]
         },
         "layout": {
          "annotationdefaults": {
           "arrowcolor": "#2a3f5f",
           "arrowhead": 0,
           "arrowwidth": 1
          },
          "autotypenumbers": "strict",
          "coloraxis": {
           "colorbar": {
            "outlinewidth": 0,
            "ticks": ""
           }
          },
          "colorscale": {
           "diverging": [
            [
             0,
             "#8e0152"
            ],
            [
             0.1,
             "#c51b7d"
            ],
            [
             0.2,
             "#de77ae"
            ],
            [
             0.3,
             "#f1b6da"
            ],
            [
             0.4,
             "#fde0ef"
            ],
            [
             0.5,
             "#f7f7f7"
            ],
            [
             0.6,
             "#e6f5d0"
            ],
            [
             0.7,
             "#b8e186"
            ],
            [
             0.8,
             "#7fbc41"
            ],
            [
             0.9,
             "#4d9221"
            ],
            [
             1,
             "#276419"
            ]
           ],
           "sequential": [
            [
             0,
             "#0d0887"
            ],
            [
             0.1111111111111111,
             "#46039f"
            ],
            [
             0.2222222222222222,
             "#7201a8"
            ],
            [
             0.3333333333333333,
             "#9c179e"
            ],
            [
             0.4444444444444444,
             "#bd3786"
            ],
            [
             0.5555555555555556,
             "#d8576b"
            ],
            [
             0.6666666666666666,
             "#ed7953"
            ],
            [
             0.7777777777777778,
             "#fb9f3a"
            ],
            [
             0.8888888888888888,
             "#fdca26"
            ],
            [
             1,
             "#f0f921"
            ]
           ],
           "sequentialminus": [
            [
             0,
             "#0d0887"
            ],
            [
             0.1111111111111111,
             "#46039f"
            ],
            [
             0.2222222222222222,
             "#7201a8"
            ],
            [
             0.3333333333333333,
             "#9c179e"
            ],
            [
             0.4444444444444444,
             "#bd3786"
            ],
            [
             0.5555555555555556,
             "#d8576b"
            ],
            [
             0.6666666666666666,
             "#ed7953"
            ],
            [
             0.7777777777777778,
             "#fb9f3a"
            ],
            [
             0.8888888888888888,
             "#fdca26"
            ],
            [
             1,
             "#f0f921"
            ]
           ]
          },
          "colorway": [
           "#636efa",
           "#EF553B",
           "#00cc96",
           "#ab63fa",
           "#FFA15A",
           "#19d3f3",
           "#FF6692",
           "#B6E880",
           "#FF97FF",
           "#FECB52"
          ],
          "font": {
           "color": "#2a3f5f"
          },
          "geo": {
           "bgcolor": "white",
           "lakecolor": "white",
           "landcolor": "#E5ECF6",
           "showlakes": true,
           "showland": true,
           "subunitcolor": "white"
          },
          "hoverlabel": {
           "align": "left"
          },
          "hovermode": "closest",
          "mapbox": {
           "style": "light"
          },
          "paper_bgcolor": "white",
          "plot_bgcolor": "#E5ECF6",
          "polar": {
           "angularaxis": {
            "gridcolor": "white",
            "linecolor": "white",
            "ticks": ""
           },
           "bgcolor": "#E5ECF6",
           "radialaxis": {
            "gridcolor": "white",
            "linecolor": "white",
            "ticks": ""
           }
          },
          "scene": {
           "xaxis": {
            "backgroundcolor": "#E5ECF6",
            "gridcolor": "white",
            "gridwidth": 2,
            "linecolor": "white",
            "showbackground": true,
            "ticks": "",
            "zerolinecolor": "white"
           },
           "yaxis": {
            "backgroundcolor": "#E5ECF6",
            "gridcolor": "white",
            "gridwidth": 2,
            "linecolor": "white",
            "showbackground": true,
            "ticks": "",
            "zerolinecolor": "white"
           },
           "zaxis": {
            "backgroundcolor": "#E5ECF6",
            "gridcolor": "white",
            "gridwidth": 2,
            "linecolor": "white",
            "showbackground": true,
            "ticks": "",
            "zerolinecolor": "white"
           }
          },
          "shapedefaults": {
           "line": {
            "color": "#2a3f5f"
           }
          },
          "ternary": {
           "aaxis": {
            "gridcolor": "white",
            "linecolor": "white",
            "ticks": ""
           },
           "baxis": {
            "gridcolor": "white",
            "linecolor": "white",
            "ticks": ""
           },
           "bgcolor": "#E5ECF6",
           "caxis": {
            "gridcolor": "white",
            "linecolor": "white",
            "ticks": ""
           }
          },
          "title": {
           "x": 0.05
          },
          "xaxis": {
           "automargin": true,
           "gridcolor": "white",
           "linecolor": "white",
           "ticks": "",
           "title": {
            "standoff": 15
           },
           "zerolinecolor": "white",
           "zerolinewidth": 2
          },
          "yaxis": {
           "automargin": true,
           "gridcolor": "white",
           "linecolor": "white",
           "ticks": "",
           "title": {
            "standoff": 15
           },
           "zerolinecolor": "white",
           "zerolinewidth": 2
          }
         }
        }
       }
      }
     },
     "metadata": {},
     "output_type": "display_data"
    }
   ],
   "source": [
    "import chart_studio\n",
    "\n",
    "chart_studio.tools.set_credentials_file(username='BenceBalogh', api_key='i61lL23ZknjcBTi13eKq')\n",
    "chart_studio.tools.set_config_file(world_readable=True, sharing='public')\n",
    "\n",
    "import plotly.io as pio\n",
    "\n",
    "fig = mesh.plot(backend='plotly')\n",
    "pio.write_html(fig, file='bernoulli.html', auto_open=True)\n",
    "\n",
    "import chart_studio.plotly as py\n",
    "\n",
    "fig_link = py.plot(fig, filename = 'bernoulli', auto_open=False)\n",
    "\n",
    "fig"
   ]
  },
  {
   "cell_type": "code",
   "execution_count": 81,
   "metadata": {},
   "outputs": [
    {
     "data": {
      "text/plain": [
       "'https://plotly.com/~BenceBalogh/6/'"
      ]
     },
     "execution_count": 81,
     "metadata": {},
     "output_type": "execute_result"
    }
   ],
   "source": [
    "fig_link"
   ]
  },
  {
   "cell_type": "code",
   "execution_count": 52,
   "metadata": {},
   "outputs": [],
   "source": [
    "from latexdocs import Image\n",
    "import qrcode\n",
    "\n",
    "qr = qrcode.QRCode(\n",
    "    version=1,\n",
    "    error_correction=qrcode.constants.ERROR_CORRECT_L,\n",
    "    box_size=10,\n",
    "    border=4,\n",
    ")\n",
    "qr.add_data(fig_link)\n",
    "qr.make(fit=True)\n",
    "\n",
    "img = qr.make_image(fill_color=\"black\", back_color=\"white\")\n",
    "img.save(\"qrcode.png\")\n",
    "\n",
    "caption = \"Read this for an online version of the geometry.\"\n",
    "img = Image(\"qrcode.png\", position='h!', width='100px', caption=caption)\n",
    "\n",
    "doc['Summary'].append(img)"
   ]
  },
  {
   "cell_type": "code",
   "execution_count": 53,
   "metadata": {},
   "outputs": [
    {
     "data": {
      "text/plain": [
       "(45, 6, 3)"
      ]
     },
     "execution_count": 53,
     "metadata": {},
     "output_type": "execute_result"
    }
   ],
   "source": [
    "structure.linsolve(summary=True)\n",
    "dt = structure.summary['linsolve']['proc']['time']\n",
    "dofsol = structure.nodal_dof_solution()\n",
    "dofsol.shape\n"
   ]
  },
  {
   "cell_type": "code",
   "execution_count": 54,
   "metadata": {},
   "outputs": [],
   "source": [
    "from pylatex import LongTable, MultiColumn, NewPage\n",
    "\n",
    "nodal_loads = atleastnd(nodal_loads, 3, back=True)\n",
    "\n",
    "nodal_loads[np.where(np.abs(nodal_loads) < 1e-8)] = 0.\n",
    "\n",
    "columns = ['node', 'case', r'$F_x$', r'$F_y$', r'$F_z$',\n",
    "           r'$M_x$', r'$M_y$', r'$M_z$']\n",
    "columns = list(map(NoEscape, columns))\n",
    "\n",
    "for case, key in enumerate(loads):\n",
    "    data_table = LongTable(\"| c c | c c c c c c |\")\n",
    "    data_table.add_hline()\n",
    "    data_table.add_row(columns)\n",
    "    data_table.add_hline()\n",
    "    data_table.end_table_header()\n",
    "    data_table.add_hline()\n",
    "    data_table.add_row((MultiColumn(8, align='r',\n",
    "                        data='... continued on next page'),))\n",
    "    data_table.end_table_footer()\n",
    "    data_table.add_hline()\n",
    "    data_table.end_table_last_footer()\n",
    "\n",
    "    for i in range(nodal_loads.shape[0]):\n",
    "        f = nodal_loads[i, :, case]\n",
    "        row = [i + 1, key] + list(map(f2s.format, f))\n",
    "        data_table.add_row(row)\n",
    "        \n",
    "    doc['Input', 'Nodal Loads'].append(data_table)"
   ]
  },
  {
   "cell_type": "code",
   "execution_count": 55,
   "metadata": {},
   "outputs": [],
   "source": [
    "columns = ['node', 'case', r'$U_x$', r'$U_y$', r'$U_z$',\n",
    "           r'$\\varphi_x$', r'$\\varphi_y$', r'$\\varphi_z$']\n",
    "columns = list(map(NoEscape, columns))\n",
    "rows = []\n",
    "for iLC, key in enumerate(loads):\n",
    "    iN = loads[key]['node']\n",
    "    u = dofsol[iN, :, iLC]\n",
    "    row = [iN + 1, key] + list(map(f2s.format, u))\n",
    "    rows.append(row)\n",
    "\n",
    "caption = \"DOF solutions of loaded nodes for each load case.\"\n",
    "table = Table('| c c | c c c c c c |', 'h!', caption=caption,\n",
    "              label=\"table:tbl-dofsol\")\n",
    "table.add_hline()\n",
    "table.add_row(columns)\n",
    "table.add_hline()\n",
    "table.add_hline()\n",
    "table.add_rows(rows)\n",
    "table.add_hline()\n",
    "doc['Results', 'Nodal DOF Solution'].append(table)\n"
   ]
  },
  {
   "cell_type": "markdown",
   "metadata": {},
   "source": [
    "### Postprocessing"
   ]
  },
  {
   "cell_type": "markdown",
   "metadata": {},
   "source": [
    "#### Nodal displacements and rotations"
   ]
  },
  {
   "cell_type": "code",
   "execution_count": 56,
   "metadata": {},
   "outputs": [],
   "source": [
    "from pylatex import LongTable, MultiColumn, NewPage\n",
    "\n",
    "dofsol = structure.nodal_dof_solution(flatten=False)\n",
    "dofsol = atleastnd(dofsol, 3, back=True)\n",
    "\n",
    "columns = ['i', 'case', r'$U_x$', r'$U_y$', r'$U_z$',\n",
    "           r'$\\varphi_x$', r'$\\varphi_y$', r'$\\varphi_z$']\n",
    "columns = list(map(NoEscape, columns))\n",
    "\n",
    "for case, key in enumerate(loads):\n",
    "    data_table = LongTable(\"| c c | c c c c c c |\")\n",
    "    data_table.add_hline()\n",
    "    data_table.add_row(columns)\n",
    "    data_table.add_hline()\n",
    "    data_table.end_table_header()\n",
    "    data_table.add_hline()\n",
    "    data_table.add_row((MultiColumn(8, align='r',\n",
    "                        data='... continued on next page'),))\n",
    "    data_table.end_table_footer()\n",
    "    data_table.add_hline()\n",
    "    data_table.end_table_last_footer()\n",
    "\n",
    "    for i in range(dofsol.shape[0]):\n",
    "        u = dofsol[i, :, case]\n",
    "        row = [i + 1, key] + list(map(f2s.format, u))\n",
    "        data_table.add_row(row)\n",
    "        \n",
    "    doc['Results', 'Nodal DOF Solution'].append(data_table)"
   ]
  },
  {
   "cell_type": "code",
   "execution_count": 57,
   "metadata": {},
   "outputs": [
    {
     "data": {
      "text/plain": [
       "(45, 6, 3)"
      ]
     },
     "execution_count": 57,
     "metadata": {},
     "output_type": "execute_result"
    }
   ],
   "source": [
    "dofsol.shape"
   ]
  },
  {
   "cell_type": "markdown",
   "metadata": {},
   "source": [
    "#### Reaction forces and moments"
   ]
  },
  {
   "cell_type": "code",
   "execution_count": 58,
   "metadata": {},
   "outputs": [],
   "source": [
    "from pylatex import LongTable, MultiColumn, NewPage\n",
    "\n",
    "reactions = structure.reaction_forces(flatten=False)\n",
    "reactions = atleastnd(reactions, 3, back=True)\n",
    "\n",
    "reactions[np.where(np.abs(reactions) < 1e-8)] = 0.\n",
    "\n",
    "columns = ['node', 'case', r'$F_x$', r'$F_y$', r'$F_z$',\n",
    "           r'$M_x$', r'$M_y$', r'$M_z$']\n",
    "columns = list(map(NoEscape, columns))\n",
    "\n",
    "for case, key in enumerate(loads):\n",
    "    data_table = LongTable(\"| c c | c c c c c c |\")\n",
    "    data_table.add_hline()\n",
    "    data_table.add_row(columns)\n",
    "    data_table.add_hline()\n",
    "    data_table.end_table_header()\n",
    "    data_table.add_hline()\n",
    "    data_table.add_row((MultiColumn(8, align='r',\n",
    "                        data='... continued on next page'),))\n",
    "    data_table.end_table_footer()\n",
    "    data_table.add_hline()\n",
    "    data_table.end_table_last_footer()\n",
    "\n",
    "    for i in range(reactions.shape[0]):\n",
    "        f = reactions[i, :, case]\n",
    "        row = [i + 1, key] + list(map(f2s.format, f))\n",
    "        data_table.add_row(row)\n",
    "        \n",
    "    doc['Results', 'Reaction Forces'].append(data_table)"
   ]
  },
  {
   "cell_type": "code",
   "execution_count": 59,
   "metadata": {},
   "outputs": [
    {
     "data": {
      "text/plain": [
       "(45, 6, 3)"
      ]
     },
     "execution_count": 59,
     "metadata": {},
     "output_type": "execute_result"
    }
   ],
   "source": [
    "reactions.shape"
   ]
  },
  {
   "cell_type": "markdown",
   "metadata": {},
   "source": [
    "#### Internal forces, stresses and utilization for all members"
   ]
  },
  {
   "cell_type": "code",
   "execution_count": 60,
   "metadata": {},
   "outputs": [],
   "source": [
    "from sigmaepsilon.solid.material.utils import HMH_3d_v\n",
    "\n",
    "evaluation_points = [-1., 0., 1.]\n",
    "\n",
    "# forces\n",
    "forces_all = structure.internal_forces(points=evaluation_points)\n",
    "forces_all = atleastnd(forces_all, 4, back=True)\n",
    "\n",
    "# stresses\n",
    "stresses_all = section.calculate_stresses(forces_all)\n",
    "\n",
    "# utilizations\n",
    "nE, nPx, nPyz, nS, nRHS = stresses_all.shape\n",
    "stresses_all = np.moveaxis(stresses_all, -1, -2)\n",
    "stresses_all = np.reshape(stresses_all, (nE * nPx * nPyz * nRHS, nS))\n",
    "utils_all = HMH_3d_v(*[stresses_all[:, i] for i in range(6)]) / fy\n",
    "utils_all = np.reshape(utils_all, (nE, nPx, nPyz, nRHS))\n",
    "stresses_all = np.reshape(stresses_all, (nE, nPx, nPyz, nRHS, nS))\n",
    "stresses_all = np.moveaxis(stresses_all, -1, -2)\n",
    "\n",
    "from neumann.array import minmax\n",
    "\n",
    "ranges = [minmax(stresses_all[:, :, :, i, :]) for i in range(6)]\n",
    "ranges.append((0.0, utils_all.max()))\n",
    "ranges = np.array(ranges)"
   ]
  },
  {
   "cell_type": "code",
   "execution_count": 61,
   "metadata": {},
   "outputs": [
    {
     "data": {
      "text/plain": [
       "((96, 3, 6, 3), (96, 3, 224, 6, 3), (96, 3, 224, 3))"
      ]
     },
     "execution_count": 61,
     "metadata": {},
     "output_type": "execute_result"
    }
   ],
   "source": [
    "forces_all.shape, stresses_all.shape, utils_all.shape"
   ]
  },
  {
   "cell_type": "code",
   "execution_count": 62,
   "metadata": {},
   "outputs": [],
   "source": [
    "from pylatex import LongTable, MultiColumn, NewPage, MultiRow\n",
    "\n",
    "data = atleastnd(forces_all, 4, back=True)\n",
    "data[np.where(np.abs(data) < 1e-8)] = 0\n",
    "\n",
    "columns = ['cell', 'index', 'case', r'$N$', r'$Q_y$', r'$Q_z$',\n",
    "           r'$M_x$', r'$M_y$', r'$M_z$']\n",
    "columns = list(map(NoEscape, columns))\n",
    "\n",
    "for case, key in enumerate(loads):\n",
    "    \n",
    "    \"\"\"table = Tabular(\"| c c c | c c c c c c |\")\n",
    "    table.add_hline()\n",
    "    col1_cell = MultiRow(4, data='span-4')\n",
    "    col2_cell = MultiRow(2, data='span-2')\n",
    "    table.add_row((col1_cell, col2_cell, '3a'))\n",
    "    table.add_hline(start=3)\n",
    "    table.add_row(('', '', '3b'))\n",
    "    table.add_hline(start=2)\n",
    "    table.add_row(('', col2_cell, '3c'))\n",
    "    table.add_hline(start=3)\n",
    "    table.add_row(('', '', '3d'))\n",
    "    table.add_hline()\"\"\"\n",
    "    \n",
    "    data_table = LongTable(\"| c c c | c c c c c c |\")\n",
    "    data_table.add_hline()\n",
    "    data_table.add_row(columns)\n",
    "    data_table.add_hline()\n",
    "    data_table.end_table_header()\n",
    "    data_table.add_hline()\n",
    "    data_table.add_row((MultiColumn(9, align='r',\n",
    "                        data='... continued on next page'),))\n",
    "    data_table.end_table_footer()\n",
    "    data_table.add_hline()\n",
    "    data_table.end_table_last_footer()\n",
    "\n",
    "    for i in range(data.shape[0]):\n",
    "        for j in range(data.shape[1]):\n",
    "            f = data[i, j, :, case]\n",
    "            row = [i + 1, j + 1, key] + list(map(f2s.format, f))\n",
    "            data_table.add_row(row)\n",
    "        \n",
    "    doc['Results', 'Internal Forces'].append(data_table)"
   ]
  },
  {
   "cell_type": "markdown",
   "metadata": {},
   "source": [
    "Find points with high utilizations"
   ]
  },
  {
   "cell_type": "code",
   "execution_count": 63,
   "metadata": {},
   "outputs": [],
   "source": [
    "n_util = 100\n",
    "iE, iPx, iPyz, iRHS = [], [], [], []\n",
    "_utils_all = np.copy(utils_all)\n",
    "for i in range(n_util):\n",
    "    umax = _utils_all.max()\n",
    "    _iE, _iPx, _iPyz, _iRHS = np.where(_utils_all == umax)\n",
    "    iE.append(_iE[0])\n",
    "    iPx.append(_iPx[0])\n",
    "    iPyz.append(_iPyz[0])\n",
    "    iRHS.append(_iRHS[0])\n",
    "    _utils_all[_iE, _iPx, _iPyz, _iRHS] = 0."
   ]
  },
  {
   "cell_type": "code",
   "execution_count": 64,
   "metadata": {},
   "outputs": [
    {
     "data": {
      "text/plain": [
       "'util_max = utils_all.max()\\nutil_tol = util_max * 0.7\\niE, iPx, iPyz, iRHS = np.nonzero(utils_all >= util_tol)\\nuiE, i = np.unique(iE, return_index=True)\\niE, iPx, iPyz, iRHS = iE[i], iPx[i], iPyz[i], iRHS[i]\\n'"
      ]
     },
     "execution_count": 64,
     "metadata": {},
     "output_type": "execute_result"
    }
   ],
   "source": [
    "\"\"\"util_max = utils_all.max()\n",
    "util_tol = util_max * 0.7\n",
    "iE, iPx, iPyz, iRHS = np.nonzero(utils_all >= util_tol)\n",
    "uiE, i = np.unique(iE, return_index=True)\n",
    "iE, iPx, iPyz, iRHS = iE[i], iPx[i], iPyz[i], iRHS[i]\n",
    "\"\"\""
   ]
  },
  {
   "cell_type": "markdown",
   "metadata": {},
   "source": [
    "Plot critical results"
   ]
  },
  {
   "cell_type": "code",
   "execution_count": 65,
   "metadata": {},
   "outputs": [
    {
     "data": {
      "image/png": "[encoded data removed]",
      "text/plain": [
       "<Figure size 700x250 with 7 Axes>"
      ]
     },
     "metadata": {},
     "output_type": "display_data"
    }
   ],
   "source": [
    "from neumann.array import atleast2d\n",
    "from dewloosh.mpl import parallel\n",
    "\n",
    "labels = ['$\\sigma_{xx}$', '$\\sigma_{yy}$', '$\\sigma_{zz}$', '$\\sigma_{yz}$',\n",
    "          '$\\sigma_{xz}$', '$\\sigma_{xy}$', 'utilization']\n",
    "\n",
    "forces_critical = forces_all[iE, iPx, :, iRHS]\n",
    "stresses_critical = stresses_all[iE, iPx, iPyz, :, iRHS]\n",
    "utils_critical = utils_all[iE, iPx, iPyz, iRHS]\n",
    "data = np.hstack([stresses_critical, atleast2d(utils_critical, back=True)])\n",
    "colors = np.random.rand(len(data), 3)\n",
    "\n",
    "fig = parallel(data, labels=labels, padding=0.05, lw=0.2,\n",
    "               colors=colors, figsize=(7, 2.5), ranges=ranges)\n",
    "\n",
    "plt.savefig(\"bernoulli_B2_parallel_1.pdf\")\n",
    "\n",
    "caption = \"Stress states of points with highest utilizations. The maximum value is {}.\"\n",
    "img = Image(\"bernoulli_B2_parallel_1.pdf\", position='h!',\n",
    "            width='full', caption=caption.format(f2s.format(utils_critical.max())))\n",
    "\n",
    "doc['Summary'].append(img)\n",
    "doc['Summary'].append(NewPage())"
   ]
  },
  {
   "cell_type": "code",
   "execution_count": 66,
   "metadata": {},
   "outputs": [
    {
     "data": {
      "text/plain": [
       "(2.369918748119055, 2.369918748119055)"
      ]
     },
     "execution_count": 66,
     "metadata": {},
     "output_type": "execute_result"
    }
   ],
   "source": [
    "utils_critical.max(), utils_all.max()"
   ]
  },
  {
   "cell_type": "markdown",
   "metadata": {},
   "source": [
    "Find points with highest utilizations"
   ]
  },
  {
   "cell_type": "code",
   "execution_count": 67,
   "metadata": {},
   "outputs": [
    {
     "data": {
      "text/plain": [
       "((100, 6), (100, 6), (100,))"
      ]
     },
     "execution_count": 67,
     "metadata": {},
     "output_type": "execute_result"
    }
   ],
   "source": [
    "forces_critical.shape, stresses_critical.shape, utils_critical.shape"
   ]
  },
  {
   "cell_type": "code",
   "execution_count": 68,
   "metadata": {},
   "outputs": [],
   "source": [
    "i_critical = np.where(utils_critical == utils_critical.max())[0][0]\n",
    "iE_critical, iPx_critical, iPyz_critical, iRHS_critical = \\\n",
    "    iE[i_critical], iPx[i_critical], iPyz[i_critical], iRHS[i_critical]\n",
    "#forces_max = forcesi_critical[i_critical]\n",
    "#stresses_max = stressesi_critical[i_critical]\n",
    "\n",
    "txt = r\"The highest utilization ${}$ occurs at element ${}$, from load case ${}$ at location $\\xi={}$.\"\n",
    "u_max = f2s.format(utils_all.max())\n",
    "loc_critical = f2s.format(evaluation_points[iPx_critical])\n",
    "content = NoEscape(txt.format(u_max, iE_critical, iRHS_critical, loc_critical))\n",
    "doc['Summary'].append(content)"
   ]
  },
  {
   "cell_type": "markdown",
   "metadata": {},
   "source": [
    "Plot results"
   ]
  },
  {
   "cell_type": "code",
   "execution_count": 69,
   "metadata": {},
   "outputs": [
    {
     "data": {
      "image/png": "[encoded data removed]",
      "text/plain": [
       "<Figure size 700x250 with 6 Axes>"
      ]
     },
     "metadata": {},
     "output_type": "display_data"
    }
   ],
   "source": [
    "import matplotlib.pyplot as plt\n",
    "from dewloosh.mpl import aligned_parallel\n",
    "\n",
    "data = forces_all[iE_critical, :, :, iRHS_critical]  # (3, 6)\n",
    "labels = ['$N$', '$Q_y$', '$Q_z$', '$M_x$', '$M_y$', '$M_z$']\n",
    "fig = aligned_parallel(data, evaluation_points, labels=labels, slider=False,\n",
    "                       xticksrotation=45, figsize=(7, 2.5), yticks=[-1, 1], \n",
    "                       y=evaluation_points[iPx_critical])\n",
    "fig.subplots_adjust(left=0.1, bottom=0.3, right=0.9, top=0.85)\n",
    "\n",
    "fig.savefig(\"bernoulli_B2_parallel_2.pdf\")\n",
    "\n",
    "caption = \"Internal forces for element {} and load case {}.\".format(iE_critical, iRHS_critical)\n",
    "img = Image(\"bernoulli_B2_parallel_2.pdf\", position='h!',\n",
    "            width='full', caption=caption)\n",
    "\n",
    "doc['Summary'].append(img)\n"
   ]
  },
  {
   "cell_type": "markdown",
   "metadata": {},
   "source": [
    "Calculate stresses from internal forces"
   ]
  },
  {
   "cell_type": "code",
   "execution_count": 70,
   "metadata": {},
   "outputs": [
    {
     "data": {
      "text/plain": [
       "(224, 6)"
      ]
     },
     "execution_count": 70,
     "metadata": {},
     "output_type": "execute_result"
    }
   ],
   "source": [
    "forces_critical = forces_all[iE_critical, iPx_critical, :, iRHS_critical]\n",
    "section_stresses_critical = section.calculate_stresses(forces_critical)\n",
    "section_stresses_critical.shape\n"
   ]
  },
  {
   "cell_type": "code",
   "execution_count": 71,
   "metadata": {},
   "outputs": [
    {
     "data": {
      "text/plain": [
       "(224,)"
      ]
     },
     "execution_count": 71,
     "metadata": {},
     "output_type": "execute_result"
    }
   ],
   "source": [
    "from sigmaepsilon.solid.material.utils import HMH_3d_v\n",
    "\n",
    "section_utils = HMH_3d_v(*[section_stresses_critical[:, i] for i in range(6)]) / fy\n",
    "section_utils.shape\n"
   ]
  },
  {
   "cell_type": "code",
   "execution_count": 72,
   "metadata": {},
   "outputs": [
    {
     "data": {
      "image/png": "[encoded data removed]",
      "text/plain": [
       "<Figure size 700x200 with 6 Axes>"
      ]
     },
     "metadata": {},
     "output_type": "display_data"
    }
   ],
   "source": [
    "fig, (ax1, ax2, ax3) = plt.subplots(1, 3, figsize=(7, 2))\n",
    "scoords, stopo = section.coords(), section.topology()\n",
    "path = np.array([[0, 5, 4], [5, 1, 3], [3, 2, 4], [5, 3, 4]], dtype=int)\n",
    "scoords, stopo = T6_to_T3(scoords, stopo, path=path)\n",
    "triobj = triangulate(points=scoords, triangles=stopo)[-1]\n",
    "\n",
    "ax1.set_title('$s_{xx}$')\n",
    "triplot(triobj, data=section_stresses_critical[:, 0], \n",
    "        fig=fig, ax=ax1, axis='off', lw=0.1)\n",
    "\n",
    "ax2.set_title('$s_{yy}$')\n",
    "triplot(triobj, data=section_stresses_critical[:, 0], \n",
    "        fig=fig, ax=ax2, axis='off', lw=0.1)\n",
    "\n",
    "ax3.set_title('utilization')\n",
    "triplot(triobj, data=section_utils, fig=fig, ax=ax3, axis='off', \n",
    "        lw=0.1, cmap='plasma')\n",
    "\n",
    "fig.savefig(\"cross section results.pdf\")\n",
    "\n",
    "caption = \"Results of the cross section where the highest utilization occurs.\"\n",
    "img = Image(\"cross section results.pdf\", position='h!',\n",
    "            width='full', caption=caption)\n",
    "\n",
    "from pylatex import NewPage\n",
    "\n",
    "doc['Summary'].append(img)\n",
    "doc['Summary'].append(NewPage())"
   ]
  },
  {
   "cell_type": "markdown",
   "metadata": {},
   "source": [
    "## Modal Analysis"
   ]
  },
  {
   "cell_type": "code",
   "execution_count": 73,
   "metadata": {},
   "outputs": [],
   "source": [
    "doc['Modal Analysis']\n",
    "\n",
    "nodal_masses = np.zeros((coords.shape[0],)) + 1\n",
    "densities = np.zeros((topo.shape[0],)) + 1\n",
    "mesh.pointdata['mass'] = nodal_masses\n",
    "mesh.celldata['density'] = densities\n",
    "freks, modes = structure.modes_of_vibration(normalize=True, as_dense=True)\n"
   ]
  },
  {
   "cell_type": "code",
   "execution_count": 74,
   "metadata": {},
   "outputs": [
    {
     "data": {
      "text/plain": [
       "((270,), (270, 270))"
      ]
     },
     "execution_count": 74,
     "metadata": {},
     "output_type": "execute_result"
    }
   ],
   "source": [
    "freks.shape, modes.shape"
   ]
  },
  {
   "cell_type": "code",
   "execution_count": 75,
   "metadata": {},
   "outputs": [
    {
     "data": {
      "text/plain": [
       "False"
      ]
     },
     "execution_count": 75,
     "metadata": {},
     "output_type": "execute_result"
    }
   ],
   "source": [
    "# check\n",
    "m_eff = structure.effective_modal_masses(action=modes)\n",
    "int(np.sum(np.diagonal(m_eff))) == (coords.shape[0] * 6)"
   ]
  },
  {
   "cell_type": "code",
   "execution_count": 76,
   "metadata": {},
   "outputs": [],
   "source": [
    "nN, nD, nR = dofsol.shape\n",
    "dofsol = dofsol.reshape(nN * nD, nR)"
   ]
  },
  {
   "cell_type": "code",
   "execution_count": 77,
   "metadata": {},
   "outputs": [
    {
     "data": {
      "text/plain": [
       "((270, 2), (270, 2))"
      ]
     },
     "execution_count": 77,
     "metadata": {},
     "output_type": "execute_result"
    }
   ],
   "source": [
    "action_y = dofsol[:, 0]\n",
    "action_z = dofsol[:, 1]\n",
    "actions = np.stack([action_y, action_z], axis=1)\n",
    "\n",
    "m_eff = structure.effective_modal_masses(action=actions)\n",
    "participation_factors = structure.modal_participation_factors(action=actions)\n",
    "m_eff.shape, participation_factors.shape"
   ]
  },
  {
   "cell_type": "code",
   "execution_count": 78,
   "metadata": {},
   "outputs": [],
   "source": [
    "from pylatex import LongTable, MultiColumn, NewPage\n",
    "\n",
    "nFrek = min(len(freks), 20)\n",
    "\n",
    "columns = ['mode', r'$\\lambda$', r'$m_{eff,y}$', r'$m_{eff,z}$']\n",
    "columns = list(map(NoEscape, columns))\n",
    "\n",
    "data_table = LongTable(\"| c | c | c c |\")\n",
    "data_table.add_hline()\n",
    "data_table.add_row(columns)\n",
    "data_table.add_hline()\n",
    "data_table.end_table_header()\n",
    "data_table.add_hline()\n",
    "data_table.add_row((MultiColumn(4, align='r',\n",
    "                    data='... continued on next page'),))\n",
    "data_table.end_table_footer()\n",
    "data_table.add_hline()\n",
    "data_table.end_table_last_footer()\n",
    "\n",
    "for i in range(nFrek):\n",
    "    frek = freks[i]\n",
    "    my, mz = m_eff[i, 0], m_eff[i, 1]\n",
    "    fy, fz = participation_factors[i, 0], participation_factors[i, 1]\n",
    "    mfy = \"{} ({})\".format(f2s.format(my), f2s.format(fy))\n",
    "    mfz = \"{} ({})\".format(f2s.format(mz), f2s.format(fz))\n",
    "    row = [i + 1, f2s.format(frek), mfy, mfz]\n",
    "    data_table.add_row(row)\n",
    "    \n",
    "doc['Results', 'Modes of Vibration'].append(data_table)"
   ]
  },
  {
   "cell_type": "code",
   "execution_count": 79,
   "metadata": {},
   "outputs": [],
   "source": [
    "doc.build().generate_pdf(filename, compiler='pdflatex', clean_tex=False)\n"
   ]
  },
  {
   "cell_type": "code",
   "execution_count": 80,
   "metadata": {},
   "outputs": [],
   "source": [
    "doc.build().generate_tex(filename)\n"
   ]
  }
 ],
 "metadata": {
  "kernelspec": {
   "display_name": "Python 3.8.10 ('.sigeps': venv)",
   "language": "python",
   "name": "python3"
  },
  "language_info": {
   "codemirror_mode": {
    "name": "ipython",
    "version": 3
   },
   "file_extension": ".py",
   "mimetype": "text/x-python",
   "name": "python",
   "nbconvert_exporter": "python",
   "pygments_lexer": "ipython3",
   "version": "3.8.10"
  },
  "orig_nbformat": 4,
  "vscode": {
   "interpreter": {
    "hash": "28d81e0e1442962330764574f1956d80898814d1923baa1210fb6369a4e79b2a"
   }
  }
 },
 "nbformat": 4,
 "nbformat_minor": 2
}
