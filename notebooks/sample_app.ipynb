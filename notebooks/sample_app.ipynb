{
 "cells": [
  {
   "cell_type": "markdown",
   "metadata": {},
   "source": [
    "# Sample Application"
   ]
  },
  {
   "cell_type": "markdown",
   "metadata": {},
   "source": [
    "We are going to read a tetrahedral mesh from a .vtk file, send its surface into AxisVM to select points of applications for the applications of natural and essential boundary conditions, identify the selected items, build a finite element model, do a simple analysis and save the results in a simple, but powerful format."
   ]
  },
  {
   "cell_type": "markdown",
   "metadata": {},
   "source": [
    "The mesh for this tutorial is among the examples of AxisVM:"
   ]
  },
  {
   "cell_type": "code",
   "execution_count": 1,
   "metadata": {},
   "outputs": [
    {
     "data": {
      "text/plain": [
       "PolyData({})"
      ]
     },
     "execution_count": 1,
     "metadata": {},
     "output_type": "execute_result"
    }
   ],
   "source": [
    "from axisvm import examples\n",
    "import pyvista as pv\n",
    "import numpy as np\n",
    "\n",
    "from polymesh import PolyData, CartesianFrame, PointData\n",
    "from polymesh.cells import TET4 as CellData\n",
    "from polymesh.tri.triutils import edges_tri\n",
    "from polymesh.topo import unique_topo_data, detach\n",
    "\n",
    "vtkpath = examples.download_stand_vtk()\n",
    "pd = PolyData.read(vtkpath)\n",
    "c = pd.coords() / 1000\n",
    "t = pd.topology()[:, :4]\n",
    "c, t = detach(c, t)\n",
    "csys = CartesianFrame(dim=3)\n",
    "\n",
    "# pointdata and celldata\n",
    "pd = PointData(coords=c, frame=csys)\n",
    "cd = CellData(topo=t, frames=csys)\n",
    "\n",
    "mesh = PolyData(pd, cd, frame=csys)"
   ]
  },
  {
   "cell_type": "markdown",
   "metadata": {},
   "source": [
    "Build the finite element model and perform a linear elastic analysis assuming small strains and displacements."
   ]
  },
  {
   "cell_type": "code",
   "execution_count": 12,
   "metadata": {},
   "outputs": [],
   "source": [
    "from sigmaepsilon.solid import Structure, PointData, FemMesh\n",
    "from polymesh.space import StandardFrame\n",
    "from sigmaepsilon.solid.fem.cells import TET4 as CellData\n",
    "from neumann import repeat\n",
    "\n",
    "# the global frame of the workspace\n",
    "GlobalFrame = StandardFrame(dim=3)\n",
    "\n",
    "# coordinates and topology\n",
    "coords = mesh.coords()\n",
    "topo = mesh.topology()\n",
    "\n",
    "# essential boundary conditions\n",
    "ebc_gids = [gid[id-1] for id in ebc_ids]\n",
    "fixity = np.zeros((coords.shape[0], 6), dtype=bool)\n",
    "fixity[ebc_gids, :3] = True\n",
    "fixity[:, 3:] = True\n",
    "\n",
    "# natural boundary conditions\n",
    "F = 10\n",
    "nbc_gids = [gid[id-1] for id in nbc_ids]\n",
    "loads = np.zeros((coords.shape[0], 6))\n",
    "loads[nbc_gids, 2] = -F\n",
    "\n",
    "# pointdata\n",
    "pd = PointData(coords=coords, frame=GlobalFrame,\n",
    "               loads=loads, fixity=fixity)\n",
    "\n",
    "# celldata\n",
    "frames = repeat(GlobalFrame.show(), topo.shape[0])\n",
    "cd = CellData(topo=topo, frames=frames)\n",
    "\n",
    "# define a stiffness matrix for Hooke's model\n",
    "E = 12000.\n",
    "nu = 0.2\n",
    "Hooke = np.array([\n",
    "    [1, nu, nu, 0, 0, 0], \n",
    "    [nu, 1, nu, 0, 0, 0],\n",
    "    [nu, nu, 1, 0, 0, 0], \n",
    "    [0., 0, 0, (1-nu)/2, 0, 0],\n",
    "    [0., 0, 0, 0, (1-nu)/2, 0],\n",
    "    [0., 0, 0, 0, 0, (1-nu)/2]]) * (E / (1-nu**2))\n",
    "\n",
    "mesh = FemMesh(pd, cd, model=Hooke, frame=GlobalFrame)\n",
    "\n",
    "structure = Structure(mesh=mesh)\n",
    "\n",
    "structure.linsolve()\n",
    "dofsol = structure.nodal_dof_solution()"
   ]
  },
  {
   "cell_type": "markdown",
   "metadata": {},
   "source": [
    "Plot the model, coloured with vertical displacements:"
   ]
  },
  {
   "cell_type": "code",
   "execution_count": 13,
   "metadata": {},
   "outputs": [
    {
     "name": "stderr",
     "output_type": "stream",
     "text": [
      "f:\\GitHub\\sigmaepsilon\\.sigeps\\lib\\site-packages\\traittypes\\traittypes.py:97: UserWarning: Given trait value dtype \"float32\" does not match required type \"float32\". A coerced copy has been created.\n",
      "  warnings.warn(\n"
     ]
    },
    {
     "data": {
      "application/vnd.jupyter.widget-view+json": {
       "model_id": "134baac786b347299698cf6d4c1b9732",
       "version_major": 2,
       "version_minor": 0
      },
      "text/plain": [
       "Plot(antialias=3, axes=['x', 'y', 'z'], axes_helper=1.0, axes_helper_colors=[16711680, 65280, 255], background…"
      ]
     },
     "execution_count": 13,
     "metadata": {},
     "output_type": "execute_result"
    }
   ],
   "source": [
    "structure.mesh.plot(notebook=True, scalars=dofsol[:, 2], backend='k3d')"
   ]
  },
  {
   "cell_type": "markdown",
   "metadata": {},
   "source": [
    "Save the results:"
   ]
  },
  {
   "cell_type": "code",
   "execution_count": 14,
   "metadata": {},
   "outputs": [
    {
     "data": {
      "text/plain": [
       "'{\"materials\": {\"steel\": \"hooke\"}, \"mesh\": {\"coordinates\": \"coords\", \"layout\": {\"stand\": {\"topology\": \"topo\", \"class\": \"TET4\", \"material\": \"steel\"}}}, \"pointdata\": {\"loads\": \"nbc\", \"fixity\": \"ebc\", \"dofsol\": \"dofsol\"}}'"
      ]
     },
     "execution_count": 14,
     "metadata": {},
     "output_type": "execute_result"
    }
   ],
   "source": [
    "import json\n",
    "import numpy as np\n",
    "\n",
    "np.save('coords', coords)\n",
    "np.save('topo', topo)\n",
    "np.save('hooke', Hooke)\n",
    "np.save('nbc', loads)\n",
    "np.save('ebc', fixity)\n",
    "np.save('dofsol', dofsol)\n",
    "\n",
    "data = {\n",
    "    'materials' : {\n",
    "        'steel' : 'hooke'\n",
    "    },\n",
    "    \n",
    "    'mesh' : {\n",
    "        'coordinates' : 'coords',\n",
    "        'layout' : {\n",
    "            'stand' : {\n",
    "                'topology' : 'topo',\n",
    "                'class' : 'TET4',\n",
    "                'material' : 'steel'\n",
    "                }\n",
    "        }\n",
    "    },\n",
    "    \n",
    "    'pointdata' : {\n",
    "        'loads' : 'nbc',\n",
    "        'fixity' : 'ebc',\n",
    "        'dofsol' : 'dofsol'\n",
    "    }\n",
    "}\n",
    "\n",
    "json.dumps(data, indent=4)"
   ]
  },
  {
   "cell_type": "code",
   "execution_count": 15,
   "metadata": {},
   "outputs": [],
   "source": [
    "with open(\"stand.json\", \"w\") as outfile:\n",
    "    json.dump(data, outfile)"
   ]
  }
 ],
 "metadata": {
  "kernelspec": {
   "display_name": "Python 3.8.10 ('.sigeps': venv)",
   "language": "python",
   "name": "python3"
  },
  "language_info": {
   "codemirror_mode": {
    "name": "ipython",
    "version": 3
   },
   "file_extension": ".py",
   "mimetype": "text/x-python",
   "name": "python",
   "nbconvert_exporter": "python",
   "pygments_lexer": "ipython3",
   "version": "3.8.10"
  },
  "orig_nbformat": 4,
  "vscode": {
   "interpreter": {
    "hash": "28d81e0e1442962330764574f1956d80898814d1923baa1210fb6369a4e79b2a"
   }
  }
 },
 "nbformat": 4,
 "nbformat_minor": 2
}
