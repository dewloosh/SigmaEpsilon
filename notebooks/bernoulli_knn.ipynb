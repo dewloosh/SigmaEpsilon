{
 "cells": [
  {
   "cell_type": "markdown",
   "metadata": {},
   "source": [
    "# Bernoulli KNN"
   ]
  },
  {
   "cell_type": "code",
   "execution_count": 1,
   "metadata": {},
   "outputs": [],
   "source": [
    "from sigmaepsilon.solid import BeamSection, get_section\n",
    "\n",
    "E = 2100.0  # Young's modulus\n",
    "nu = 0.3  # Poisson's ratio\n",
    "\n",
    "section = get_section('CHS', D=1.0, t=0.2, n=64)\n",
    "beam = BeamSection(wrap=section)"
   ]
  },
  {
   "cell_type": "code",
   "execution_count": 2,
   "metadata": {},
   "outputs": [],
   "source": [
    "beam.calculate_geometric_properties()\n",
    "props = beam.geometric_properties\n",
    "A = props['A']\n",
    "Iy = props['Iy']\n",
    "Iz = props['Iz']\n",
    "Ix = props['Ix']"
   ]
  },
  {
   "cell_type": "code",
   "execution_count": 3,
   "metadata": {},
   "outputs": [
    {
     "data": {
      "text/plain": [
       "'structure.linsolve()\\n\\n# postproc\\n# 1) displace the mesh\\ndofsol = structure.nodal_dof_solution()[:, :3]\\nlocal_dof_solution = dofsol[-1, :3]\\nsol_fem_1d_B2 = local_dof_solution[2]'"
      ]
     },
     "execution_count": 3,
     "metadata": {},
     "output_type": "execute_result"
    }
   ],
   "source": [
    "from sigmaepsilon.solid import Structure, LineMesh, PointData\n",
    "from sigmaepsilon.math.linalg import linspace, Vector\n",
    "from sigmaepsilon.mesh.space import StandardFrame, PointCloud, frames_of_lines\n",
    "from sigmaepsilon.solid.fem.cells import B2 as Beam\n",
    "from sigmaepsilon.mesh.grid import knngridL2\n",
    "import numpy as np\n",
    "\n",
    "# model stiffness matrix\n",
    "G = E / (2 * (1 + nu))\n",
    "Hooke = np.array([\n",
    "    [E*A, 0, 0, 0],\n",
    "    [0, G*Ix, 0, 0],\n",
    "    [0, 0, E*Iy, 0],\n",
    "    [0, 0, 0, E*Iz]\n",
    "])\n",
    "\n",
    "# space\n",
    "GlobalFrame = StandardFrame(dim=3)\n",
    "\n",
    "Lx, Ly, Lz = 20., 12., 8.\n",
    "\n",
    "# mesh\n",
    "gridparams = {\n",
    "    'size': (Lx, Ly, Lz),\n",
    "    'shape': (20, 13, 10),\n",
    "    'eshape': (2, 2, 2),\n",
    "    'origo': (0, 0, 0),\n",
    "    'start': 0\n",
    "}\n",
    "coords, topo = knngridL2(k=5, **gridparams)\n",
    "points = PointCloud(coords, frame=GlobalFrame).centralize()\n",
    "dx = - np.array([points[:, 0].min(), 0., 0.])\n",
    "points.move(dx)\n",
    "coords = points.show()\n",
    "\n",
    "# essential boundary conditions\n",
    "ebcinds = np.where(coords[:, 0] < 1e-12)[0]\n",
    "fixity = np.zeros((coords.shape[0], 6)).astype(bool)\n",
    "fixity[ebcinds, :] = True\n",
    "\n",
    "# natural boundary conditions\n",
    "loads = np.zeros((coords.shape[0], 6))\n",
    "pA = points.closest(np.array([Lx, 0., 0.]))\n",
    "loads[pA.gid, 2] = -1000\n",
    "\n",
    "# pointdata\n",
    "pd = PointData(coords=coords, frame=GlobalFrame,\n",
    "               loads=loads, fixity=fixity)\n",
    "\n",
    "# celldata\n",
    "frames = frames_of_lines(coords, topo)\n",
    "cd = Beam(topo=topo, frames=frames)\n",
    "\n",
    "# set up mesh and structure\n",
    "mesh = LineMesh(pd, cd, model=Hooke, frame=GlobalFrame)\n",
    "structure = Structure(mesh=mesh)\n",
    "\"\"\"structure.linsolve()\n",
    "\n",
    "# postproc\n",
    "# 1) displace the mesh\n",
    "dofsol = structure.nodal_dof_solution()[:, :3]\n",
    "local_dof_solution = dofsol[-1, :3]\n",
    "sol_fem_1d_B2 = local_dof_solution[2]\"\"\"\n"
   ]
  },
  {
   "cell_type": "code",
   "execution_count": 4,
   "metadata": {},
   "outputs": [],
   "source": [
    "mesh.pvplot()"
   ]
  },
  {
   "cell_type": "code",
   "execution_count": 5,
   "metadata": {},
   "outputs": [
    {
     "ename": "",
     "evalue": "",
     "output_type": "error",
     "traceback": [
      "\u001b[1;31mCanceled future for execute_request message before replies were done"
     ]
    },
    {
     "ename": "",
     "evalue": "",
     "output_type": "error",
     "traceback": [
      "\u001b[1;31mThe Kernel crashed while executing code in the the current cell or a previous cell. Please review the code in the cell(s) to identify a possible cause of the failure. Click <a href='https://aka.ms/vscodeJupyterKernelCrash'>here</a> for more info. View Jupyter <a href='command:jupyter.viewOutput'>log</a> for further details."
     ]
    }
   ],
   "source": [
    "structure.preprocess()"
   ]
  },
  {
   "cell_type": "code",
   "execution_count": null,
   "metadata": {},
   "outputs": [],
   "source": [
    "\n",
    "gnum = structure._gnum\n",
    "K_bulk_0 = np.copy(structure._K_bulk)\n",
    "vols = structure.volumes()\n",
    "centers = structure.centers()"
   ]
  },
  {
   "cell_type": "code",
   "execution_count": null,
   "metadata": {},
   "outputs": [],
   "source": [
    "structure.linsolve(summary=True)\n",
    "structure.summary"
   ]
  },
  {
   "cell_type": "code",
   "execution_count": null,
   "metadata": {},
   "outputs": [],
   "source": [
    "from pyvistaqt import BackgroundPlotter\n",
    "\n",
    "mesh.config['pyvista', 'plot', 'line_width'] = 1\n",
    "\n",
    "plotter = BackgroundPlotter()\n",
    "mesh.pvplot(plotter=plotter)\n",
    "\n",
    "plotter.show()"
   ]
  },
  {
   "cell_type": "code",
   "execution_count": null,
   "metadata": {},
   "outputs": [],
   "source": [
    "#structure.linsolve(summary=True)\n",
    "dofsol = structure.nodal_dof_solution()[:, :3]\n",
    "dofsol[:, 2].min()"
   ]
  }
 ],
 "metadata": {
  "kernelspec": {
   "display_name": "Python 3.8.10 ('.venv': venv)",
   "language": "python",
   "name": "python3"
  },
  "language_info": {
   "codemirror_mode": {
    "name": "ipython",
    "version": 3
   },
   "file_extension": ".py",
   "mimetype": "text/x-python",
   "name": "python",
   "nbconvert_exporter": "python",
   "pygments_lexer": "ipython3",
   "version": "3.8.10"
  },
  "orig_nbformat": 4,
  "vscode": {
   "interpreter": {
    "hash": "81af22673e51a55db93ad07d3dd2d272490ff9da1a60e01b8f0931d11d215c80"
   }
  }
 },
 "nbformat": 4,
 "nbformat_minor": 2
}
