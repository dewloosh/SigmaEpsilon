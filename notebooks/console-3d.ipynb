{
    "cells": [
        {
            "cell_type": "markdown",
            "metadata": {},
            "source": [
                "# **3d Solids**"
            ]
        },
        {
            "cell_type": "markdown",
            "metadata": {},
            "source": [
                "## Mesh"
            ]
        },
        {
            "cell_type": "code",
            "execution_count": 1,
            "metadata": {},
            "outputs": [],
            "source": [
                "from polymesh.grid import gridH8 as grid\n",
                "import numpy as np\n",
                "\n",
                "size = Lx, Ly, Lz = (20, 4, 4)\n",
                "shape = nx, ny, nz = (40, 10, 10)\n",
                "\n",
                "gridparams = {\n",
                "    'size': size,\n",
                "    'shape': shape,\n",
                "    'origo': (0, 0, 0),\n",
                "    'start': 0\n",
                "}\n",
                "\n",
                "coords, topo = grid(**gridparams)"
            ]
        },
        {
            "cell_type": "markdown",
            "metadata": {},
            "source": [
                "## Material"
            ]
        },
        {
            "cell_type": "code",
            "execution_count": 2,
            "metadata": {},
            "outputs": [],
            "source": [
                "E = 12000.\n",
                "nu = 0.2\n",
                "A = np.array([\n",
                "    [1, nu, nu, 0, 0, 0], \n",
                "    [nu, 1, nu, 0, 0, 0],\n",
                "    [nu, nu, 1, 0, 0, 0], \n",
                "    [0., 0, 0, (1-nu)/2, 0, 0],\n",
                "    [0., 0, 0, 0, (1-nu)/2, 0],\n",
                "    [0., 0, 0, 0, 0, (1-nu)/2]]) * (E / (1-nu**2))\n"
            ]
        },
        {
            "cell_type": "markdown",
            "metadata": {},
            "source": [
                "## Boundary Conditions"
            ]
        },
        {
            "cell_type": "code",
            "execution_count": 3,
            "metadata": {},
            "outputs": [],
            "source": [
                "# fix points at x==0\n",
                "cond = coords[:, 0] <= 0.001\n",
                "ebcinds = np.where(cond)[0]\n",
                "fixity = np.zeros((coords.shape[0], 6), dtype=bool)\n",
                "fixity[ebcinds, :] = True\n",
                "fixity[:, 3:] = True\n",
                "\n",
                "# unit vertical load at (Lx, Ly)\n",
                "F = 10\n",
                "cond = (coords[:, 0] > (Lx-(1e-12))) & \\\n",
                "    (coords[:, 1] > (Ly-(1e-12))) & \\\n",
                "        (coords[:, 2] > (Lz-(1e-12)))\n",
                "nbcinds = np.where(cond)[0]\n",
                "loads = np.zeros((coords.shape[0], 6))\n",
                "loads[nbcinds, 2] = -F\n"
            ]
        },
        {
            "cell_type": "markdown",
            "metadata": {},
            "source": [
                "## Assembly and Solution"
            ]
        },
        {
            "cell_type": "code",
            "execution_count": 4,
            "metadata": {},
            "outputs": [],
            "source": [
                "from sigmaepsilon.solid import Structure, PointData, FemMesh\n",
                "from polymesh.space import StandardFrame\n",
                "from sigmaepsilon.solid.fem.cells import H8 as CellData\n",
                "from neumann.array import repeat\n",
                "\n",
                "GlobalFrame = StandardFrame(dim=3)\n",
                "\n",
                "# pointdata\n",
                "pd = PointData(coords=coords, frame=GlobalFrame,\n",
                "               loads=loads, fixity=fixity)\n",
                "\n",
                "# celldata\n",
                "frames = repeat(GlobalFrame.show(), topo.shape[0])\n",
                "cd = CellData(topo=topo, frames=frames)\n",
                "\n",
                "# set up mesh and structure\n",
                "mesh = FemMesh(pd, cd, model=A, frame=GlobalFrame)\n",
                "structure = Structure(mesh=mesh)"
            ]
        },
        {
            "cell_type": "code",
            "execution_count": 5,
            "metadata": {},
            "outputs": [],
            "source": [
                "structure.linsolve()\n",
                "dofsol = structure.nodal_dof_solution()\n",
                "structure.mesh.pointdata['x'] = coords + dofsol[:, :3]"
            ]
        }
    ],
    "metadata": {
        "kernelspec": {
            "display_name": "Python 3.8.10 ('.venv': venv)",
            "language": "python",
            "name": "python3"
        },
        "language_info": {
            "codemirror_mode": {
                "name": "ipython",
                "version": 3
            },
            "file_extension": ".py",
            "mimetype": "text/x-python",
            "name": "python",
            "nbconvert_exporter": "python",
            "pygments_lexer": "ipython3",
            "version": "3.8.10"
        },
        "orig_nbformat": 4,
        "vscode": {
            "interpreter": {
                "hash": "81af22673e51a55db93ad07d3dd2d272490ff9da1a60e01b8f0931d11d215c80"
            }
        }
    },
    "nbformat": 4,
    "nbformat_minor": 2
}
