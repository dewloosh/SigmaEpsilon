{
 "cells": [
  {
   "cell_type": "markdown",
   "metadata": {},
   "source": [
    "# Stress Analysis in 3d"
   ]
  },
  {
   "cell_type": "code",
   "execution_count": 6,
   "metadata": {},
   "outputs": [],
   "source": [
    "h = 100.0  # height of the stand [mm]\n",
    "M = 1.5  # the mass of the ball [kg]\n",
    "\n",
    "E = 210.0  # Young's modulus\n",
    "nu = 0.3  # Poisson's ratio\n",
    "\n",
    "F = -10"
   ]
  },
  {
   "cell_type": "code",
   "execution_count": 7,
   "metadata": {},
   "outputs": [],
   "source": [
    "import awkward as ak\n",
    "import numpy as np\n",
    "from polymesh.space import CartesianFrame\n",
    "from polymesh.topo import detach_mesh_bulk\n",
    "from sigmaepsilon.solid import Structure, FemMesh, PointData\n",
    "from sigmaepsilon.solid.fem.cells import TET4 as CellData\n",
    "from neumann.array import repeat, minmax\n",
    "\n",
    "GlobalFrame = CartesianFrame(dim=3)\n",
    "\n",
    "pddb = ak.from_parquet('stand_pointdata.parquet')\n",
    "cddb = ak.from_parquet('stand_celldata.parquet')\n",
    "\n",
    "coords = pddb['x'].to_numpy()\n",
    "topo = cddb['nodes'].to_numpy().astype(int)\n",
    "coords, topo = detach_mesh_bulk(coords, topo[:, :4])\n",
    "\n",
    "A = np.array([\n",
    "    [1, nu, nu, 0, 0, 0],\n",
    "    [nu, 1, nu, 0, 0, 0],\n",
    "    [nu, nu, 1, 0, 0, 0],\n",
    "    [0., 0, 0, (1-nu)/2, 0, 0],\n",
    "    [0., 0, 0, 0, (1-nu)/2, 0],\n",
    "    [0., 0, 0, 0, 0, (1-nu)/2]]) * (E / (1-nu**2))\n",
    "\n",
    "zmin, zmax = minmax(coords[:, 2])\n",
    "h = zmax - zmin\n",
    "\n",
    "cond = coords[:, 2] <= 0.005\n",
    "ebcinds = np.where(cond)[0]\n",
    "fixity = np.zeros((coords.shape[0], 6), dtype=bool)\n",
    "fixity[ebcinds, :] = True\n",
    "\n",
    "cond = coords[:, 2] >= 0.995 * h\n",
    "nbcinds = np.where(cond)[0]\n",
    "loads = np.zeros((coords.shape[0], 6))\n",
    "loads[nbcinds, 2] = F/len(nbcinds)\n",
    "\n",
    "# pointdata\n",
    "pd = PointData(coords=coords, frame=GlobalFrame,\n",
    "               loads=loads, fixity=fixity)\n",
    "\n",
    "# celldata\n",
    "frames = repeat(GlobalFrame.show(), topo.shape[0])\n",
    "cd = CellData(topo=topo, frames=frames)\n",
    "\n",
    "# set up mesh and structure\n",
    "mesh = FemMesh(pd, cd, model=A, frame=GlobalFrame)\n",
    "structure = Structure(mesh=mesh)"
   ]
  },
  {
   "cell_type": "code",
   "execution_count": 8,
   "metadata": {},
   "outputs": [],
   "source": [
    "#mesh.pvplot(notebook=True, jupyter_backend='static', window_size=(800, 600))"
   ]
  },
  {
   "cell_type": "code",
   "execution_count": 9,
   "metadata": {},
   "outputs": [
    {
     "data": {
      "text/plain": [
       "((0, 8994), (44764, 4), (8995, 3))"
      ]
     },
     "execution_count": 9,
     "metadata": {},
     "output_type": "execute_result"
    }
   ],
   "source": [
    "from neumann.array import minmax\n",
    "minmax(mesh.topology()), mesh.topology().shape, mesh.coords().shape"
   ]
  },
  {
   "cell_type": "code",
   "execution_count": 10,
   "metadata": {},
   "outputs": [
    {
     "ename": "AttributeError",
     "evalue": "no field named 'mat'\n\n(https://github.com/scikit-hep/awkward-1.0/blob/1.10.0/src/awkward/highlevel.py#L1124)",
     "output_type": "error",
     "traceback": [
      "\u001b[1;31m---------------------------------------------------------------------------\u001b[0m",
      "\u001b[1;31mAttributeError\u001b[0m                            Traceback (most recent call last)",
      "Cell \u001b[1;32mIn [10], line 1\u001b[0m\n\u001b[1;32m----> 1\u001b[0m mesh\u001b[39m.\u001b[39;49melastic_stiffness_matrix()\n",
      "File \u001b[1;32md:\\projects\\dewloosh\\sigmaepsilon\\src\\sigmaepsilon\\solid\\fem\\mesh.py:157\u001b[0m, in \u001b[0;36mFemMesh.elastic_stiffness_matrix\u001b[1;34m(self, sparse, *args, **kwargs)\u001b[0m\n\u001b[0;32m    143\u001b[0m \u001b[39m\"\"\"\u001b[39;00m\n\u001b[0;32m    144\u001b[0m \u001b[39mReturns the elastic stiffness matrix in dense or sparse format.\u001b[39;00m\n\u001b[0;32m    145\u001b[0m \n\u001b[1;32m   (...)\u001b[0m\n\u001b[0;32m    154\u001b[0m \n\u001b[0;32m    155\u001b[0m \u001b[39m\"\"\"\u001b[39;00m\n\u001b[0;32m    156\u001b[0m \u001b[39mif\u001b[39;00m sparse:\n\u001b[1;32m--> 157\u001b[0m     \u001b[39mreturn\u001b[39;00m \u001b[39mself\u001b[39;49m\u001b[39m.\u001b[39;49melastic_stiffness_matrix_coo(\u001b[39m*\u001b[39;49margs, \u001b[39m*\u001b[39;49m\u001b[39m*\u001b[39;49mkwargs)\n\u001b[0;32m    158\u001b[0m blocks \u001b[39m=\u001b[39m \u001b[39mself\u001b[39m\u001b[39m.\u001b[39mcellblocks(inclusive\u001b[39m=\u001b[39m\u001b[39mTrue\u001b[39;00m)\n\u001b[0;32m    159\u001b[0m \u001b[39mdef\u001b[39;00m \u001b[39mfoo\u001b[39m(b): \u001b[39mreturn\u001b[39;00m b\u001b[39m.\u001b[39mcelldata\u001b[39m.\u001b[39melastic_stiffness_matrix()\n",
      "File \u001b[1;32md:\\projects\\dewloosh\\sigmaepsilon\\src\\sigmaepsilon\\solid\\fem\\mesh.py:183\u001b[0m, in \u001b[0;36mFemMesh.elastic_stiffness_matrix_coo\u001b[1;34m(self, eliminate_zeros, sum_duplicates, *args, **kwargs)\u001b[0m\n\u001b[0;32m    181\u001b[0m blocks \u001b[39m=\u001b[39m \u001b[39mself\u001b[39m\u001b[39m.\u001b[39mcellblocks(inclusive\u001b[39m=\u001b[39m\u001b[39mTrue\u001b[39;00m)\n\u001b[0;32m    182\u001b[0m \u001b[39mdef\u001b[39;00m \u001b[39mfoo\u001b[39m(b): \u001b[39mreturn\u001b[39;00m b\u001b[39m.\u001b[39mcelldata\u001b[39m.\u001b[39melastic_stiffness_matrix_coo()\n\u001b[1;32m--> 183\u001b[0m K \u001b[39m=\u001b[39m np\u001b[39m.\u001b[39msum(\u001b[39mlist\u001b[39;49m(\u001b[39mmap\u001b[39;49m(foo, blocks)))\u001b[39m.\u001b[39mtocoo()\n\u001b[0;32m    184\u001b[0m \u001b[39mif\u001b[39;00m eliminate_zeros:\n\u001b[0;32m    185\u001b[0m     K\u001b[39m.\u001b[39meliminate_zeros()\n",
      "File \u001b[1;32md:\\projects\\dewloosh\\sigmaepsilon\\src\\sigmaepsilon\\solid\\fem\\mesh.py:182\u001b[0m, in \u001b[0;36mFemMesh.elastic_stiffness_matrix_coo.<locals>.foo\u001b[1;34m(b)\u001b[0m\n\u001b[1;32m--> 182\u001b[0m \u001b[39mdef\u001b[39;00m \u001b[39mfoo\u001b[39m(b): \u001b[39mreturn\u001b[39;00m b\u001b[39m.\u001b[39;49mcelldata\u001b[39m.\u001b[39;49melastic_stiffness_matrix_coo()\n",
      "File \u001b[1;32md:\\projects\\dewloosh\\sigmaepsilon\\src\\sigmaepsilon\\solid\\fem\\cells\\elem.py:723\u001b[0m, in \u001b[0;36mFiniteElement.elastic_stiffness_matrix_coo\u001b[1;34m(self, *args, **kwargs)\u001b[0m\n\u001b[0;32m    721\u001b[0m N \u001b[39m=\u001b[39m nP \u001b[39m*\u001b[39m \u001b[39mself\u001b[39m\u001b[39m.\u001b[39mNDOFN\n\u001b[0;32m    722\u001b[0m topo \u001b[39m=\u001b[39m \u001b[39mself\u001b[39m\u001b[39m.\u001b[39mtopology()\u001b[39m.\u001b[39mto_numpy()\n\u001b[1;32m--> 723\u001b[0m K_bulk \u001b[39m=\u001b[39m \u001b[39mself\u001b[39;49m\u001b[39m.\u001b[39;49melastic_stiffness_matrix(\u001b[39m*\u001b[39;49margs, _topo\u001b[39m=\u001b[39;49mtopo, \u001b[39m*\u001b[39;49m\u001b[39m*\u001b[39;49mkwargs)\n\u001b[0;32m    724\u001b[0m gnum \u001b[39m=\u001b[39m \u001b[39mself\u001b[39m\u001b[39m.\u001b[39mglobal_dof_numbering(topo\u001b[39m=\u001b[39mtopo)\n\u001b[0;32m    725\u001b[0m \u001b[39mreturn\u001b[39;00m fem_coeff_matrix_coo(K_bulk, \u001b[39m*\u001b[39margs, inds\u001b[39m=\u001b[39mgnum, N\u001b[39m=\u001b[39mN, \u001b[39m*\u001b[39m\u001b[39m*\u001b[39mkwargs)\n",
      "File \u001b[1;32md:\\Projects\\dewloosh\\SigmaEpsilon\\.sigeps\\lib\\site-packages\\neumann\\utils.py:44\u001b[0m, in \u001b[0;36msqueeze.<locals>.decorator.<locals>.inner\u001b[1;34m(*args, **kwargs)\u001b[0m\n\u001b[0;32m     42\u001b[0m \u001b[39mdef\u001b[39;00m \u001b[39minner\u001b[39m(\u001b[39m*\u001b[39margs, \u001b[39m*\u001b[39m\u001b[39m*\u001b[39mkwargs):\n\u001b[0;32m     43\u001b[0m     \u001b[39mif\u001b[39;00m kwargs\u001b[39m.\u001b[39mget(\u001b[39m'\u001b[39m\u001b[39msqueeze\u001b[39m\u001b[39m'\u001b[39m, default):\n\u001b[1;32m---> 44\u001b[0m         res \u001b[39m=\u001b[39m fnc(\u001b[39m*\u001b[39;49margs, \u001b[39m*\u001b[39;49m\u001b[39m*\u001b[39;49mkwargs)\n\u001b[0;32m     45\u001b[0m         \u001b[39mif\u001b[39;00m \u001b[39misinstance\u001b[39m(res, \u001b[39mtuple\u001b[39m):\n\u001b[0;32m     46\u001b[0m             \u001b[39mreturn\u001b[39;00m \u001b[39mlist\u001b[39m(\u001b[39mmap\u001b[39m(squeeze_if_array, res))\n",
      "File \u001b[1;32md:\\projects\\dewloosh\\sigmaepsilon\\src\\sigmaepsilon\\solid\\fem\\cells\\elem.py:603\u001b[0m, in \u001b[0;36mFiniteElement.elastic_stiffness_matrix\u001b[1;34m(self, transform, *args, **kwargs)\u001b[0m\n\u001b[0;32m    586\u001b[0m \u001b[39m\"\"\"\u001b[39;00m\n\u001b[0;32m    587\u001b[0m \u001b[39mReturns the elastic stiffness matrix of the cells of the instance.\u001b[39;00m\n\u001b[0;32m    588\u001b[0m \n\u001b[1;32m   (...)\u001b[0m\n\u001b[0;32m    600\u001b[0m \n\u001b[0;32m    601\u001b[0m \u001b[39m\"\"\"\u001b[39;00m\n\u001b[0;32m    602\u001b[0m \u001b[39m# build\u001b[39;00m\n\u001b[1;32m--> 603\u001b[0m K \u001b[39m=\u001b[39m \u001b[39mself\u001b[39;49m\u001b[39m.\u001b[39;49m_elastic_stiffness_matrix_(\u001b[39m*\u001b[39;49margs, transform\u001b[39m=\u001b[39;49m\u001b[39mFalse\u001b[39;49;00m, \u001b[39m*\u001b[39;49m\u001b[39m*\u001b[39;49mkwargs)\n\u001b[0;32m    605\u001b[0m \u001b[39m# handle connectivity\u001b[39;00m\n\u001b[0;32m    606\u001b[0m \u001b[39mtry\u001b[39;00m:\n",
      "File \u001b[1;32md:\\Projects\\dewloosh\\SigmaEpsilon\\.sigeps\\lib\\site-packages\\neumann\\utils.py:57\u001b[0m, in \u001b[0;36mconfig.<locals>.decorator.<locals>.inner\u001b[1;34m(*args, **kwargs)\u001b[0m\n\u001b[0;32m     56\u001b[0m \u001b[39mdef\u001b[39;00m \u001b[39minner\u001b[39m(\u001b[39m*\u001b[39margs, \u001b[39m*\u001b[39m\u001b[39m*\u001b[39mkwargs):\n\u001b[1;32m---> 57\u001b[0m     \u001b[39mreturn\u001b[39;00m fnc(\u001b[39m*\u001b[39;49margs, \u001b[39m*\u001b[39;49m\u001b[39m*\u001b[39;49mkwargs)\n",
      "File \u001b[1;32md:\\projects\\dewloosh\\sigmaepsilon\\src\\sigmaepsilon\\solid\\fem\\cells\\elem.py:667\u001b[0m, in \u001b[0;36mFiniteElement._elastic_stiffness_matrix_\u001b[1;34m(self, transform, *args, **kwargs)\u001b[0m\n\u001b[0;32m    664\u001b[0m q \u001b[39m=\u001b[39m kwargs\u001b[39m.\u001b[39mget(\u001b[39m'\u001b[39m\u001b[39m_q\u001b[39m\u001b[39m'\u001b[39m, \u001b[39mNone\u001b[39;00m)\n\u001b[0;32m    665\u001b[0m \u001b[39mif\u001b[39;00m q \u001b[39mis\u001b[39;00m \u001b[39mNone\u001b[39;00m:\n\u001b[0;32m    666\u001b[0m     \u001b[39m# main loop\u001b[39;00m\n\u001b[1;32m--> 667\u001b[0m     D \u001b[39m=\u001b[39m \u001b[39mself\u001b[39;49m\u001b[39m.\u001b[39;49mmodel_stiffness_matrix()\n\u001b[0;32m    668\u001b[0m     func \u001b[39m=\u001b[39m partial(\u001b[39mself\u001b[39m\u001b[39m.\u001b[39m_elastic_stiffness_matrix_, _D\u001b[39m=\u001b[39mD, \u001b[39m*\u001b[39m\u001b[39m*\u001b[39mkwargs)\n\u001b[0;32m    669\u001b[0m     q \u001b[39m=\u001b[39m \u001b[39mself\u001b[39m\u001b[39m.\u001b[39mquadrature[\u001b[39mself\u001b[39m\u001b[39m.\u001b[39mqrule]\n",
      "File \u001b[1;32md:\\projects\\dewloosh\\sigmaepsilon\\src\\sigmaepsilon\\solid\\fem\\model\\solid.py:30\u001b[0m, in \u001b[0;36mSolid.model_stiffness_matrix\u001b[1;34m(self, *args, **kwargs)\u001b[0m\n\u001b[0;32m     29\u001b[0m \u001b[39mdef\u001b[39;00m \u001b[39mmodel_stiffness_matrix\u001b[39m(\u001b[39mself\u001b[39m, \u001b[39m*\u001b[39margs, \u001b[39m*\u001b[39m\u001b[39m*\u001b[39mkwargs):\n\u001b[1;32m---> 30\u001b[0m     \u001b[39mreturn\u001b[39;00m \u001b[39mself\u001b[39;49m\u001b[39m.\u001b[39;49mmaterial_stiffness_matrix()\n",
      "File \u001b[1;32md:\\projects\\dewloosh\\sigmaepsilon\\src\\sigmaepsilon\\solid\\fem\\model\\solid.py:27\u001b[0m, in \u001b[0;36mSolid.material_stiffness_matrix\u001b[1;34m(self, *args, **kwargs)\u001b[0m\n\u001b[0;32m     26\u001b[0m \u001b[39mdef\u001b[39;00m \u001b[39mmaterial_stiffness_matrix\u001b[39m(\u001b[39mself\u001b[39m, \u001b[39m*\u001b[39margs, \u001b[39m*\u001b[39m\u001b[39m*\u001b[39mkwargs):\n\u001b[1;32m---> 27\u001b[0m     \u001b[39mreturn\u001b[39;00m \u001b[39mself\u001b[39;49m\u001b[39m.\u001b[39;49m_wrapped\u001b[39m.\u001b[39;49mmat\u001b[39m.\u001b[39mto_numpy()\n",
      "File \u001b[1;32md:\\Projects\\dewloosh\\SigmaEpsilon\\.sigeps\\lib\\site-packages\\awkward\\highlevel.py:1123\u001b[0m, in \u001b[0;36mArray.__getattr__\u001b[1;34m(self, where)\u001b[0m\n\u001b[0;32m   1117\u001b[0m         \u001b[39mraise\u001b[39;00m \u001b[39mAttributeError\u001b[39;00m(\n\u001b[0;32m   1118\u001b[0m             \u001b[39m\"\u001b[39m\u001b[39mwhile trying to get field \u001b[39m\u001b[39m{}\u001b[39;00m\u001b[39m, an exception \u001b[39m\u001b[39m\"\u001b[39m\n\u001b[0;32m   1119\u001b[0m             \u001b[39m\"\u001b[39m\u001b[39moccurred:\u001b[39m\u001b[39m\\n\u001b[39;00m\u001b[39m{}\u001b[39;00m\u001b[39m: \u001b[39m\u001b[39m{}\u001b[39;00m\u001b[39m\"\u001b[39m\u001b[39m.\u001b[39mformat(\u001b[39mrepr\u001b[39m(where), \u001b[39mtype\u001b[39m(err), \u001b[39mstr\u001b[39m(err))\n\u001b[0;32m   1120\u001b[0m             \u001b[39m+\u001b[39m ak\u001b[39m.\u001b[39m_util\u001b[39m.\u001b[39mexception_suffix(\u001b[39m__file__\u001b[39m)\n\u001b[0;32m   1121\u001b[0m         ) \u001b[39mfrom\u001b[39;00m \u001b[39merr\u001b[39;00m\n\u001b[0;32m   1122\u001b[0m \u001b[39melse\u001b[39;00m:\n\u001b[1;32m-> 1123\u001b[0m     \u001b[39mraise\u001b[39;00m \u001b[39mAttributeError\u001b[39;00m(\n\u001b[0;32m   1124\u001b[0m         \u001b[39mf\u001b[39m\u001b[39m\"\u001b[39m\u001b[39mno field named \u001b[39m\u001b[39m{\u001b[39;00mwhere\u001b[39m!r}\u001b[39;00m\u001b[39m\"\u001b[39m \u001b[39m+\u001b[39m ak\u001b[39m.\u001b[39m_util\u001b[39m.\u001b[39mexception_suffix(\u001b[39m__file__\u001b[39m)\n\u001b[0;32m   1125\u001b[0m     )\n",
      "\u001b[1;31mAttributeError\u001b[0m: no field named 'mat'\n\n(https://github.com/scikit-hep/awkward-1.0/blob/1.10.0/src/awkward/highlevel.py#L1124)"
     ]
    }
   ],
   "source": [
    "mesh.elastic_stiffness_matrix()"
   ]
  },
  {
   "cell_type": "code",
   "execution_count": null,
   "metadata": {},
   "outputs": [
    {
     "ename": "",
     "evalue": "",
     "output_type": "error",
     "traceback": [
      "\u001b[1;31mCanceled future for execute_request message before replies were done"
     ]
    },
    {
     "ename": "",
     "evalue": "",
     "output_type": "error",
     "traceback": [
      "\u001b[1;31mThe Kernel crashed while executing code in the the current cell or a previous cell. Please review the code in the cell(s) to identify a possible cause of the failure. Click <a href='https://aka.ms/vscodeJupyterKernelCrash'>here</a> for more info. View Jupyter <a href='command:jupyter.viewOutput'>log</a> for further details."
     ]
    }
   ],
   "source": [
    "#structure.linsolve()\n",
    "#dofsol = structure.nodal_dof_solution(store='dofsol')"
   ]
  }
 ],
 "metadata": {
  "kernelspec": {
   "display_name": "Python 3.8.10 ('.sigeps': venv)",
   "language": "python",
   "name": "python3"
  },
  "language_info": {
   "codemirror_mode": {
    "name": "ipython",
    "version": 3
   },
   "file_extension": ".py",
   "mimetype": "text/x-python",
   "name": "python",
   "nbconvert_exporter": "python",
   "pygments_lexer": "ipython3",
   "version": "3.8.10"
  },
  "orig_nbformat": 4,
  "vscode": {
   "interpreter": {
    "hash": "5facf25dadae24d0f6f3d9b821e9851478f51388ee31821a60476e833f1169c6"
   }
  }
 },
 "nbformat": 4,
 "nbformat_minor": 2
}
