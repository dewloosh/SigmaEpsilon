{
 "cells": [
  {
   "cell_type": "markdown",
   "metadata": {},
   "source": [
    "# Stress Analysis in 3d"
   ]
  },
  {
   "cell_type": "code",
   "execution_count": 6,
   "metadata": {},
   "outputs": [],
   "source": [
    "h = 100.0  # height of the stand [mm]\n",
    "M = 1.5  # the mass of the ball [kg]\n",
    "\n",
    "E = 210.0  # Young's modulus\n",
    "nu = 0.3  # Poisson's ratio\n",
    "\n",
    "F = -10"
   ]
  },
  {
   "cell_type": "code",
   "execution_count": 7,
   "metadata": {},
   "outputs": [],
   "source": [
    "import awkward as ak\n",
    "import numpy as np\n",
    "from polymesh.space import CartesianFrame\n",
    "from polymesh.topo import detach_mesh_bulk\n",
    "from sigmaepsilon.solid import Structure, FemMesh, PointData\n",
    "from sigmaepsilon.solid.fem.cells import TET4 as CellData\n",
    "from neumann.array import repeat, minmax\n",
    "\n",
    "GlobalFrame = CartesianFrame(dim=3)\n",
    "\n",
    "pddb = ak.from_parquet('stand_pointdata.parquet')\n",
    "cddb = ak.from_parquet('stand_celldata.parquet')\n",
    "\n",
    "coords = pddb['x'].to_numpy()\n",
    "topo = cddb['nodes'].to_numpy().astype(int)\n",
    "coords, topo = detach_mesh_bulk(coords, topo[:, :4])\n",
    "\n",
    "A = np.array([\n",
    "    [1, nu, nu, 0, 0, 0],\n",
    "    [nu, 1, nu, 0, 0, 0],\n",
    "    [nu, nu, 1, 0, 0, 0],\n",
    "    [0., 0, 0, (1-nu)/2, 0, 0],\n",
    "    [0., 0, 0, 0, (1-nu)/2, 0],\n",
    "    [0., 0, 0, 0, 0, (1-nu)/2]]) * (E / (1-nu**2))\n",
    "\n",
    "zmin, zmax = minmax(coords[:, 2])\n",
    "h = zmax - zmin\n",
    "\n",
    "cond = coords[:, 2] <= 0.005\n",
    "ebcinds = np.where(cond)[0]\n",
    "fixity = np.zeros((coords.shape[0], 6), dtype=bool)\n",
    "fixity[ebcinds, :] = True\n",
    "\n",
    "cond = coords[:, 2] >= 0.995 * h\n",
    "nbcinds = np.where(cond)[0]\n",
    "loads = np.zeros((coords.shape[0], 6))\n",
    "loads[nbcinds, 2] = F/len(nbcinds)\n",
    "\n",
    "# pointdata\n",
    "pd = PointData(coords=coords, frame=GlobalFrame,\n",
    "               loads=loads, fixity=fixity)\n",
    "\n",
    "# celldata\n",
    "frames = repeat(GlobalFrame.show(), topo.shape[0])\n",
    "cd = CellData(topo=topo, frames=frames)\n",
    "\n",
    "# set up mesh and structure\n",
    "mesh = FemMesh(pd, cd, model=A, frame=GlobalFrame)\n",
    "structure = Structure(mesh=mesh)"
   ]
  }
 ],
 "metadata": {
  "kernelspec": {
   "display_name": "Python 3.8.10 ('.polymesh': venv)",
   "language": "python",
   "name": "python3"
  },
  "language_info": {
   "codemirror_mode": {
    "name": "ipython",
    "version": 3
   },
   "file_extension": ".py",
   "mimetype": "text/x-python",
   "name": "python",
   "nbconvert_exporter": "python",
   "pygments_lexer": "ipython3",
   "version": "3.8.10"
  },
  "orig_nbformat": 4,
  "vscode": {
   "interpreter": {
    "hash": "196717f9976529e91b541b41c9e9f5d31e7d5aa72506e34109ccbbf8eac01645"
   }
  }
 },
 "nbformat": 4,
 "nbformat_minor": 2
}
