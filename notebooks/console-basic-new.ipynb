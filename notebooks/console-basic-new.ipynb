{
 "cells": [
  {
   "cell_type": "markdown",
   "metadata": {},
   "source": [
    "# Simple Console"
   ]
  },
  {
   "cell_type": "code",
   "execution_count": 11,
   "metadata": {},
   "outputs": [],
   "source": [
    "from dewloosh.math.linalg.vector import Vector\n",
    "from dewloosh.math.linalg import linspace, Vector\n",
    "\n",
    "from dewloosh.mesh.space import StandardFrame, \\\n",
    "    PointCloud, frames_of_lines\n",
    "\n",
    "from dewloosh.solid.fem import PointData\n",
    "from dewloosh.solid.fem.cells import B2 as Bernoulli\n",
    "from dewloosh.solid.fem import LineMesh\n",
    "from dewloosh.solid.fem import Structure\n",
    "\n",
    "import numpy as np\n",
    "from numpy import pi as PI\n",
    "\n",
    "L = 3000.  # length of the console\n",
    "R = 25.0  # radius of the tube\n",
    "nElem = 20  # number of finite elements to use\n",
    "F = -1000.  # value of the vertical load at the free end\n",
    "E = 210000.0  # Young's modulus\n",
    "nu = 0.3  # Poisson's ratio\n",
    "angles = None\n",
    "tol = 1e-3\n",
    "\n",
    "# cross section\n",
    "A = PI * R**2\n",
    "Ix = PI * R**4 / 2\n",
    "Iy = PI * R**4 / 4\n",
    "Iz = PI * R**4 / 4\n",
    "\n",
    "# model stiffness matrix\n",
    "G = E / (2 * (1 + nu))\n",
    "Hooke = np.array([\n",
    "    [E*A, 0, 0, 0],\n",
    "    [0, G*Ix, 0, 0],\n",
    "    [0, 0, E*Iy, 0],\n",
    "    [0, 0, 0, E*Iz]\n",
    "])\n",
    "\n",
    "# space\n",
    "GlobalFrame = StandardFrame(dim=3)\n",
    "if angles is None:\n",
    "    angles = np.random.rand(3) * PI\n",
    "local_frame = GlobalFrame.fork('Body', angles, 'XYZ')\n",
    "\n",
    "# mesh\n",
    "p0 = np.array([0., 0., 0.])\n",
    "p1 = np.array([L, 0., 0.])\n",
    "coords = linspace(p0, p1, nElem+1)\n",
    "coords = PointCloud(coords, frame=local_frame).show()\n",
    "topo = np.zeros((nElem, 2), dtype=int)\n",
    "topo[:, 0] = np.arange(nElem)\n",
    "topo[:, 1] = np.arange(nElem) + 1\n",
    "\n",
    "# support at the leftmost, load at the rightmost node\n",
    "loads = np.zeros((coords.shape[0], 6))\n",
    "fixity = np.zeros((coords.shape[0], 6)).astype(bool)\n",
    "global_load_vector = Vector([0., F, F], frame=local_frame).show()\n",
    "loads[-1, :3] = global_load_vector\n",
    "fixity[0, :] = True\n",
    "\n",
    "# pointdata\n",
    "pd = PointData(coords=coords, frame=GlobalFrame,\n",
    "               loads=loads, fixity=fixity)\n",
    "\n",
    "# celldata\n",
    "frames = frames_of_lines(coords, topo)\n",
    "cd = Bernoulli(topo=topo, frames=frames)\n",
    "\n",
    "# set up mesh and structure\n",
    "mesh = LineMesh(pd, cd, model=Hooke, frame=GlobalFrame)\n",
    "structure = Structure(mesh=mesh)\n"
   ]
  },
  {
   "cell_type": "code",
   "execution_count": 12,
   "metadata": {},
   "outputs": [],
   "source": [
    "# solution\n",
    "structure.linsolve()\n"
   ]
  },
  {
   "cell_type": "code",
   "execution_count": 13,
   "metadata": {},
   "outputs": [],
   "source": [
    "# Bernoulli solution\n",
    "EI = E * Iy\n",
    "sol_exact = F * L**3 / (3 * EI)\n",
    "tol = np.abs(sol_exact / 1000)\n"
   ]
  },
  {
   "cell_type": "code",
   "execution_count": 14,
   "metadata": {},
   "outputs": [],
   "source": [
    "# postproc\n",
    "# 1) displace the mesh\n",
    "dofsol = structure.nodal_dof_solution()[:, :3]\n",
    "coords_new = coords + dofsol\n",
    "structure.mesh.pointdata['x'] = coords_new\n",
    "local_dof_solution = \\\n",
    "    Vector(dofsol[-1, :3], frame=GlobalFrame).show(local_frame)\n",
    "sol_fem_Y = local_dof_solution[1]\n",
    "sol_fem_Z = local_dof_solution[2]\n"
   ]
  },
  {
   "cell_type": "code",
   "execution_count": 15,
   "metadata": {},
   "outputs": [
    {
     "data": {
      "text/plain": [
       "(-139.70156718059263, -139.7015671856567, -139.69256719380073)"
      ]
     },
     "execution_count": 15,
     "metadata": {},
     "output_type": "execute_result"
    }
   ],
   "source": [
    "sol_fem_Y, sol_fem_Z, sol_exact\n"
   ]
  },
  {
   "cell_type": "code",
   "execution_count": 16,
   "metadata": {},
   "outputs": [],
   "source": [
    "from pyvistaqt import BackgroundPlotter\n",
    "plotter = BackgroundPlotter()\n",
    "structure.pvplot(plotter=plotter)\n",
    "plotter.show()\n"
   ]
  }
 ],
 "metadata": {
  "kernelspec": {
   "display_name": "Python 3.8.10 ('.venv': venv)",
   "language": "python",
   "name": "python3"
  },
  "language_info": {
   "codemirror_mode": {
    "name": "ipython",
    "version": 3
   },
   "file_extension": ".py",
   "mimetype": "text/x-python",
   "name": "python",
   "nbconvert_exporter": "python",
   "pygments_lexer": "ipython3",
   "version": "3.8.10"
  },
  "orig_nbformat": 4,
  "vscode": {
   "interpreter": {
    "hash": "8fdb1b8cc96b0d6e5614270c5d543a83dcb13430fb4a0248696f310c9526b3b4"
   }
  }
 },
 "nbformat": 4,
 "nbformat_minor": 2
}
