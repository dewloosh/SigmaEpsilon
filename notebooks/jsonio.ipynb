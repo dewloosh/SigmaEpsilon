{
 "cells": [
  {
   "cell_type": "markdown",
   "metadata": {},
   "source": [
    "# Read and Write Mesh Data"
   ]
  },
  {
   "cell_type": "code",
   "execution_count": 9,
   "metadata": {},
   "outputs": [],
   "source": [
    "from sigmaepsilon.solid import Structure\n",
    "from sigmaepsilon.solid.fem import BernoulliFrame\n",
    "import numpy as np\n",
    "from numpy import pi as PI\n"
   ]
  },
  {
   "cell_type": "markdown",
   "metadata": {},
   "source": [
    "## Import Mesh from JSON-like Data"
   ]
  },
  {
   "cell_type": "code",
   "execution_count": 10,
   "metadata": {},
   "outputs": [],
   "source": [
    "from sigmaepsilon.solid import BeamSection, get_section\n",
    "\n",
    "# all units in kN and cm\n",
    "\n",
    "L = 150.  # length of the console [cm]\n",
    "F = 1.  # value of the vertical load at the free end [kN]\n",
    "E = 21000.0  # Young's modulus [kN/cm3]\n",
    "nu = 0.3  # Poisson's ratio [-]\n",
    "fy = 23.5  # yield strength [kN/cm2]\n",
    "density = 7750.0 * 1e-6  # mass density [g/cm3]\n",
    "weight = density * 1e-3 * 9.81  # [kN/cm3]\n",
    "alpha = 1.2e-05\n",
    "nElem = 20  # number of subdivisons to use\n",
    "\n",
    "d_chs = 10.0  # diameter of the tube\n",
    "t_chs = 1.0  # thickness of the tube\n",
    "n_chs = 32  # number of subdivisions along the perimeter when discretizing the section\n",
    "section = get_section('CHS', d=d_chs, t=t_chs, n=n_chs)\n",
    "beam = BeamSection(wrap=section)\n",
    "beam.calculate_geometric_properties()\n",
    "props = beam.geometric_properties\n",
    "A = props['A']  # area\n",
    "Iy = props['Iy']  # second moment of inertia around the y axis\n",
    "Iz = props['Iz']  # second moment of inertia around the z axis\n",
    "Ix = props['Ix']  # torsional inertia\n"
   ]
  },
  {
   "cell_type": "code",
   "execution_count": 11,
   "metadata": {},
   "outputs": [],
   "source": [
    "from sigmaepsilon.io import json2dict, dict2json\n",
    "\n",
    "jsonpath = 'console_bernoulli.json'\n",
    "\n",
    "\n",
    "def solve_dict(d_in=None, jsonpath=None):\n",
    "    if jsonpath is not None:\n",
    "        if d_in is not None:\n",
    "            dict2json(jsonpath, d_in)\n",
    "        else:\n",
    "            d_in = json2dict(jsonpath)\n",
    "    d_out, mesh = BernoulliFrame.from_dict(d_in)\n",
    "    res = Structure(mesh=mesh).linsolve().nodal_dof_solution()[-1, 2, 2]\n",
    "    return d_out, res\n"
   ]
  },
  {
   "cell_type": "code",
   "execution_count": 12,
   "metadata": {},
   "outputs": [],
   "source": [
    "d_in = {\n",
    "    \"_version_\": \"0.0.1\",\n",
    "\n",
    "    \"materials\": {\n",
    "        \"Steel\": {\n",
    "            \"E\": E,\n",
    "            \"nu\": nu,\n",
    "            \"fy\": fy,\n",
    "            \"type\": \"steel\",\n",
    "            \"density\": density,\n",
    "            \"thermal-coefficient\": alpha\n",
    "        },\n",
    "        \"CustomMaterial\": {\n",
    "            \"A\": A,\n",
    "            \"Ix\": Ix,\n",
    "            \"Iy\": Iy,\n",
    "            \"Iz\": Iz,\n",
    "            \"fy\": fy,\n",
    "            \"type\": \"steel\",\n",
    "            \"density\": density,\n",
    "            \"thermal-coefficient\": alpha\n",
    "        }\n",
    "    },\n",
    "\n",
    "    \"sections\": {\n",
    "        \"SteelSection\": {\n",
    "            \"type\": \"CHS\",\n",
    "            \"d\": d_chs,\n",
    "            \"t\": t_chs,\n",
    "            \"material\": \"Steel\"\n",
    "        },\n",
    "        \"CustomSection\": {\n",
    "            \"type\": \"CHS\",\n",
    "            \"d\": d_chs,\n",
    "            \"t\": t_chs,\n",
    "        }\n",
    "    },\n",
    "\n",
    "    \"frames\": {\n",
    "        \"0\": [\n",
    "            [1.0, 0.0, 0.0],\n",
    "            [0.0, 1.0, 0.0],\n",
    "            [0.0, 0.0, 1.0]\n",
    "        ]\n",
    "    },\n",
    "\n",
    "    \"points\": {\n",
    "        \"0\": {\n",
    "            \"x\": [0.0, 0.0, 0.0],\n",
    "            \"fixity\": [True, ] * 6\n",
    "        },\n",
    "        \"1\": [L/3, 0.0, 0.0],\n",
    "        \"2\": {\n",
    "            \"x\": [2*L/3, 0.0, 0.0],\n",
    "        },\n",
    "        \"3\": {\n",
    "            \"x\": [L, 0.0, 0.0],\n",
    "            \"mass\": 1.0,\n",
    "            \"load\": {\n",
    "                \"Fx\": [F, 0.0, 0.0, 0.0, 0.0, 0.0],\n",
    "                \"Fy\": [0.0, F, 0.0, 0.0, 0.0, 0.0],\n",
    "                \"Fz\": [0.0, 0.0, F, 0.0, 0.0, 0.0]\n",
    "            },\n",
    "            \"fixity\": {\n",
    "                'UX' : False\n",
    "                }\n",
    "        }\n",
    "    },\n",
    "\n",
    "    \"cells\": {\n",
    "        \"0\": {\n",
    "            \"nodes\": [0, 1],\n",
    "            \"section\": \"SteelSection\",\n",
    "            \"density\": density,\n",
    "            \"frame\": [\n",
    "                [1.0, 0.0, 0.0],\n",
    "                [0.0, 1.0, 0.0],\n",
    "                [0.0, 0.0, 1.0]\n",
    "            ]\n",
    "        },\n",
    "        \"1\": {\n",
    "            \"nodes\": [1, 2],\n",
    "            \"section\": \"CustomSection\",\n",
    "            \"material\": \"Steel\",\n",
    "            \"density\": density,\n",
    "            \"frame\": \"auto\"\n",
    "        },\n",
    "        \"2\": {\n",
    "            \"nodes\": [2, 3],\n",
    "            \"section\": \"CustomSection\",\n",
    "            \"material\": \"CustomMaterial\",\n",
    "            \"density\": density,\n",
    "            \"frame\": \"auto\",\n",
    "            \"load\": {\n",
    "                \"Fx\": [F, 0.0, 0.0, 0.0, 0.0, 0.0],\n",
    "                \"Fy\": [0.0, F, 0.0, 0.0, 0.0, 0.0],\n",
    "                \"Fz\": [0.0, 0.0, F, 0.0, 0.0, 0.0]\n",
    "            },\n",
    "        }\n",
    "    },\n",
    "}\n"
   ]
  },
  {
   "cell_type": "code",
   "execution_count": 14,
   "metadata": {},
   "outputs": [
    {
     "name": "stdout",
     "output_type": "stream",
     "text": [
      "Tip displacement : 0.18544389555161656\n"
     ]
    }
   ],
   "source": [
    "d_out, uz = solve_dict(d_in)\n",
    "print(\"Tip displacement : {}\".format(uz))\n"
   ]
  },
  {
   "cell_type": "code",
   "execution_count": 5,
   "metadata": {},
   "outputs": [
    {
     "name": "stdout",
     "output_type": "stream",
     "text": [
      "Tip displacement : 0.1872413253058413\n"
     ]
    }
   ],
   "source": [
    "# Bernoulli solution\n",
    "EI = E * Iy\n",
    "sol_exact = F * L**3 / (3 * EI)\n",
    "print(\"Tip displacement : {}\".format(sol_exact))\n"
   ]
  },
  {
   "cell_type": "code",
   "execution_count": 15,
   "metadata": {},
   "outputs": [
    {
     "name": "stdout",
     "output_type": "stream",
     "text": [
      "Tip displacement : 0.18544389555161656\n",
      "Tip displacement : 0.18544389555161656\n"
     ]
    }
   ],
   "source": [
    "jsonpath = 'console_bernoulli.json'\n",
    "d_out, uz = solve_dict(d_in, jsonpath)\n",
    "print(\"Tip displacement : {}\".format(uz))\n",
    "\n",
    "d_out, uz = solve_dict(None, jsonpath)\n",
    "print(\"Tip displacement : {}\".format(uz))\n"
   ]
  },
  {
   "cell_type": "code",
   "execution_count": 16,
   "metadata": {},
   "outputs": [
    {
     "name": "stdout",
     "output_type": "stream",
     "text": [
      "Tip displacement : 0.18544389555161656\n"
     ]
    }
   ],
   "source": [
    "from sigmaepsilon.examples import download_bernoulli_console_json_20B2\n",
    "jsonpath = download_bernoulli_console_json_20B2()\n",
    "d_out, uz = solve_dict(None, jsonpath)\n",
    "print(\"Tip displacement : {}\".format(uz))\n"
   ]
  },
  {
   "cell_type": "markdown",
   "metadata": {},
   "source": [
    "## Write Finite Element Mesh to Parquet files"
   ]
  },
  {
   "cell_type": "code",
   "execution_count": null,
   "metadata": {},
   "outputs": [],
   "source": []
  },
  {
   "cell_type": "code",
   "execution_count": null,
   "metadata": {},
   "outputs": [],
   "source": []
  },
  {
   "cell_type": "markdown",
   "metadata": {},
   "source": [
    "## Read Finite Element Mesh from Parquet files"
   ]
  },
  {
   "cell_type": "code",
   "execution_count": null,
   "metadata": {},
   "outputs": [],
   "source": []
  },
  {
   "cell_type": "code",
   "execution_count": null,
   "metadata": {},
   "outputs": [],
   "source": []
  },
  {
   "cell_type": "code",
   "execution_count": 1,
   "metadata": {},
   "outputs": [
    {
     "data": {
      "text/plain": [
       "[(['bernoulli', 'B2'], sigmaepsilon.solid.fem.cells.bernoulli2.Bernoulli2),\n",
       " (['bernoulli', 'B3'], sigmaepsilon.solid.fem.cells.bernoulli3.Bernoulli3),\n",
       " (['membrane', 'T3'], sigmaepsilon.solid.fem.cells.cst.CSTM),\n",
       " (['membrane', 'T6'], sigmaepsilon.solid.fem.cells.lst.LSTM),\n",
       " (['membrane', 'Q4'], sigmaepsilon.solid.fem.cells.q4.Q4M),\n",
       " (['membrane', 'Q9'], sigmaepsilon.solid.fem.cells.q9.Q9M),\n",
       " (['mindlin', 'T3'], sigmaepsilon.solid.fem.cells.cst.CSTP),\n",
       " (['mindlin', 'T6'], sigmaepsilon.solid.fem.cells.lst.LSTP),\n",
       " (['mindlin', 'Q4'], sigmaepsilon.solid.fem.cells.q4.Q4P),\n",
       " (['mindlin', 'Q9'], sigmaepsilon.solid.fem.cells.q9.Q9P),\n",
       " (['3d', 'H8'], sigmaepsilon.solid.fem.cells.h8.H8),\n",
       " (['3d', 'H27'], sigmaepsilon.solid.fem.cells.h27.H27),\n",
       " (['3d', 'TET4'], sigmaepsilon.solid.fem.cells.tet4.TET4),\n",
       " (['3d', 'TET10'], sigmaepsilon.solid.fem.cells.tet10.TET10)]"
      ]
     },
     "execution_count": 1,
     "metadata": {},
     "output_type": "execute_result"
    }
   ],
   "source": [
    "from sigmaepsilon.solid.fem.cells import cells_dict\n",
    "cells = list(cells_dict.values(deep=True, return_address=True))\n",
    "cells"
   ]
  },
  {
   "cell_type": "code",
   "execution_count": 2,
   "metadata": {},
   "outputs": [
    {
     "data": {
      "text/plain": [
       "[['bernoulli', 'B2'],\n",
       " ['bernoulli', 'B3'],\n",
       " ['membrane', 'T3'],\n",
       " ['membrane', 'T6'],\n",
       " ['membrane', 'Q4'],\n",
       " ['membrane', 'Q9'],\n",
       " ['mindlin', 'T3'],\n",
       " ['mindlin', 'T6'],\n",
       " ['mindlin', 'Q4'],\n",
       " ['mindlin', 'Q9'],\n",
       " ['3d', 'H8'],\n",
       " ['3d', 'H27'],\n",
       " ['3d', 'TET4'],\n",
       " ['3d', 'TET10']]"
      ]
     },
     "execution_count": 2,
     "metadata": {},
     "output_type": "execute_result"
    }
   ],
   "source": [
    "list(cells_dict.keys(deep=True, return_address=True))"
   ]
  }
 ],
 "metadata": {
  "kernelspec": {
   "display_name": "Python 3.8.10 ('.sigeps': venv)",
   "language": "python",
   "name": "python3"
  },
  "language_info": {
   "codemirror_mode": {
    "name": "ipython",
    "version": 3
   },
   "file_extension": ".py",
   "mimetype": "text/x-python",
   "name": "python",
   "nbconvert_exporter": "python",
   "pygments_lexer": "ipython3",
   "version": "3.8.10"
  },
  "orig_nbformat": 4,
  "vscode": {
   "interpreter": {
    "hash": "28d81e0e1442962330764574f1956d80898814d1923baa1210fb6369a4e79b2a"
   }
  }
 },
 "nbformat": 4,
 "nbformat_minor": 2
}
