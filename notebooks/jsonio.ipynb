{
 "cells": [
  {
   "cell_type": "markdown",
   "metadata": {},
   "source": [
    "# Import a model from a JSON file"
   ]
  },
  {
   "cell_type": "code",
   "execution_count": 1,
   "metadata": {},
   "outputs": [],
   "source": [
    "from sigmaepsilon.solid import Structure\n",
    "from sigmaepsilon.solid.fem import BernoulliFrame\n",
    "import numpy as np\n",
    "from numpy import pi as PI\n"
   ]
  },
  {
   "cell_type": "code",
   "execution_count": 2,
   "metadata": {},
   "outputs": [],
   "source": [
    "from sigmaepsilon.solid import BeamSection, get_section\n",
    "\n",
    "# all units in kN and cm\n",
    "\n",
    "L = 150.  # length of the console [cm]\n",
    "F = 1.  # value of the vertical load at the free end [kN]\n",
    "E = 21000.0  # Young's modulus [kN/cm3]\n",
    "nu = 0.3  # Poisson's ratio [-]\n",
    "fy = 23.5  # yield strength [kN/cm2]\n",
    "density = 7750.0 * 1e-6  # mass density [g/cm3]\n",
    "weight = density * 1e-3 * 9.81  # [kN/cm3]\n",
    "alpha = 1.2e-05\n",
    "nElem = 20  # number of subdivisons to use\n",
    "\n",
    "d_chs = 10.0  # diameter of the tube\n",
    "t_chs = 1.0  # thickness of the tube\n",
    "n_chs = 32  # number of subdivisions along the perimeter when discretizing the section\n",
    "section = get_section('CHS', d=d_chs, t=t_chs, n=n_chs)\n",
    "beam = BeamSection(wrap=section)\n",
    "beam.calculate_geometric_properties()\n",
    "props = beam.geometric_properties\n",
    "A = props['A']  # area\n",
    "Iy = props['Iy']  # second moment of inertia around the y axis\n",
    "Iz = props['Iz']  # second moment of inertia around the z axis\n",
    "Ix = props['Ix']  # torsional inertia\n"
   ]
  },
  {
   "cell_type": "code",
   "execution_count": 3,
   "metadata": {},
   "outputs": [],
   "source": [
    "d_in = {\n",
    "    \"_version_\": \"0.0.1\",\n",
    "\n",
    "    \"materials\": {\n",
    "        \"Steel\": {\n",
    "            \"E\": E,\n",
    "            \"nu\": nu,\n",
    "            \"fy\": fy,\n",
    "            \"type\": \"steel\",\n",
    "            \"density\": density,\n",
    "            \"thermal-coefficient\": alpha\n",
    "        },\n",
    "        \"Custom\": {\n",
    "            \"A\": A,\n",
    "            \"Ix\": Ix,\n",
    "            \"Iy\": Iy,\n",
    "            \"Iz\": Iz,\n",
    "            \"density\": density,\n",
    "            \"thermal-coefficient\": alpha\n",
    "        }\n",
    "    },\n",
    "\n",
    "    \"sections\": {\n",
    "        \"Section\": {\n",
    "            \"type\": \"CHS\",\n",
    "            \"d\": d_chs,\n",
    "            \"t\": t_chs\n",
    "        }\n",
    "    },\n",
    "\n",
    "    \"frames\": {\n",
    "        \"0\": [\n",
    "            [1.0, 0.0, 0.0],\n",
    "            [0.0, 1.0, 0.0],\n",
    "            [0.0, 0.0, 1.0]\n",
    "        ]\n",
    "    },\n",
    "\n",
    "    \"fixity\": {\n",
    "        \"0\": [True, True, True, True, True, True]\n",
    "    },\n",
    "\n",
    "    \"loads\": {\n",
    "        \"Fx\": {\n",
    "            \"nodal\": {\n",
    "                \"3\": [F, 0.0, 0.0, 0.0, 0.0, 0.0]\n",
    "            },\n",
    "        },\n",
    "        \"Fy\": {\n",
    "            \"nodal\": {\n",
    "                \"3\": [0.0, F, 0.0, 0.0, 0.0, 0.0]\n",
    "            },\n",
    "        },\n",
    "        \"Fz\": {\n",
    "            \"nodal\": {\n",
    "                \"3\": [0.0, 0.0, F, 0.0, 0.0, 0.0]\n",
    "            }\n",
    "        }\n",
    "    },\n",
    "\n",
    "    \"nodes\": {\n",
    "        \"0\": [0.0, 0.0, 0.0],\n",
    "        \"1\": {\n",
    "            \"x\": [L/3, 0.0, 0.0],\n",
    "            \"fixity\": [False, False, False, False, False, False],\n",
    "        },\n",
    "        \"2\": {\n",
    "            \"x\": [2*L/3, 0.0, 0.0],\n",
    "        },\n",
    "        \"3\": {\n",
    "            \"x\": [L, 0.0, 0.0],\n",
    "            \"mass\": 1.0\n",
    "        }\n",
    "    },\n",
    "\n",
    "    \"cells\": {\n",
    "        \"0\": {\n",
    "            \"nodes\": [0, 1],\n",
    "            \"material\": \"Steel\",\n",
    "            \"section\": \"Section\",\n",
    "            \"density\": density,\n",
    "            \"frame\": [\n",
    "                [1.0, 0.0, 0.0],\n",
    "                [0.0, 1.0, 0.0],\n",
    "                [0.0, 0.0, 1.0]\n",
    "            ]\n",
    "        },\n",
    "        \"1\": {\n",
    "            \"nodes\": [1, 2],\n",
    "            \"material\": \"Steel\",\n",
    "            \"section\": \"Section\",\n",
    "            \"density\": density,\n",
    "            \"frame\": \"auto\"\n",
    "        },\n",
    "        \"2\": {\n",
    "            \"nodes\": [2, 3],\n",
    "            \"material\": {\n",
    "                \"E\": E,\n",
    "                \"nu\": nu,\n",
    "                \"fy\": fy,\n",
    "                \"type\": \"steel\",\n",
    "                \"density\": density,\n",
    "                \"thermal-coefficient\": alpha\n",
    "            },\n",
    "            \"section\": {\n",
    "                \"type\": \"CHS\",\n",
    "                \"d\": d_chs,\n",
    "                \"t\": t_chs\n",
    "            },\n",
    "            \"density\": \"material\",\n",
    "            \"frame\": \"auto\"\n",
    "        }\n",
    "    },\n",
    "\n",
    "    \"data\": {\n",
    "        \"nodes\": {},\n",
    "        \"cells\": {}\n",
    "    },\n",
    "\n",
    "}\n"
   ]
  },
  {
   "cell_type": "code",
   "execution_count": 4,
   "metadata": {},
   "outputs": [
    {
     "name": "stdout",
     "output_type": "stream",
     "text": [
      "Tip displacement : 0.18544389555161656\n"
     ]
    }
   ],
   "source": [
    "d_out, mesh = BernoulliFrame.from_dict(d_in)\n",
    "structure = Structure(mesh=mesh)\n",
    "structure.linsolve()\n",
    "dofsol = structure.nodal_dof_solution(store='dofsol')\n",
    "print(\"Tip displacement : {}\".format(dofsol[-1, 2, 2]))\n"
   ]
  },
  {
   "cell_type": "code",
   "execution_count": 5,
   "metadata": {},
   "outputs": [
    {
     "name": "stdout",
     "output_type": "stream",
     "text": [
      "Tip displacement : 0.1872413253058413\n"
     ]
    }
   ],
   "source": [
    "# Bernoulli solution\n",
    "EI = E * Iy\n",
    "sol_exact = F * L**3 / (3 * EI)\n",
    "print(\"Tip displacement : {}\".format(sol_exact))\n"
   ]
  },
  {
   "cell_type": "code",
   "execution_count": 6,
   "metadata": {},
   "outputs": [],
   "source": [
    "from sigmaepsilon.io import json2dict, dict2json\n",
    "\n",
    "jsonpath = 'console_bernoulli.json'\n",
    "dict2json(jsonpath, d_in)\n",
    "d_in = json2dict(jsonpath)\n"
   ]
  },
  {
   "cell_type": "code",
   "execution_count": 7,
   "metadata": {},
   "outputs": [
    {
     "name": "stdout",
     "output_type": "stream",
     "text": [
      "Tip displacement : 0.18544389555161656\n"
     ]
    }
   ],
   "source": [
    "d_out, mesh = BernoulliFrame.from_dict(d_in)\n",
    "structure = Structure(mesh=mesh)\n",
    "structure.linsolve()\n",
    "dofsol = structure.nodal_dof_solution(store='dofsol')\n",
    "print(\"Tip displacement : {}\".format(dofsol[-1, 2, 2]))\n"
   ]
  },
  {
   "cell_type": "code",
   "execution_count": null,
   "metadata": {},
   "outputs": [],
   "source": []
  },
  {
   "cell_type": "code",
   "execution_count": null,
   "metadata": {},
   "outputs": [],
   "source": []
  },
  {
   "cell_type": "code",
   "execution_count": null,
   "metadata": {},
   "outputs": [],
   "source": []
  },
  {
   "cell_type": "code",
   "execution_count": null,
   "metadata": {},
   "outputs": [],
   "source": []
  },
  {
   "cell_type": "code",
   "execution_count": null,
   "metadata": {},
   "outputs": [],
   "source": []
  }
 ],
 "metadata": {
  "kernelspec": {
   "display_name": "Python 3.8.10 ('.sigeps': venv)",
   "language": "python",
   "name": "python3"
  },
  "language_info": {
   "codemirror_mode": {
    "name": "ipython",
    "version": 3
   },
   "file_extension": ".py",
   "mimetype": "text/x-python",
   "name": "python",
   "nbconvert_exporter": "python",
   "pygments_lexer": "ipython3",
   "version": "3.8.10"
  },
  "orig_nbformat": 4,
  "vscode": {
   "interpreter": {
    "hash": "28d81e0e1442962330764574f1956d80898814d1923baa1210fb6369a4e79b2a"
   }
  }
 },
 "nbformat": 4,
 "nbformat_minor": 2
}
