{
 "cells": [
  {
   "cell_type": "markdown",
   "metadata": {},
   "source": [
    "# Read and Write Mesh Data"
   ]
  },
  {
   "cell_type": "code",
   "execution_count": 1,
   "metadata": {},
   "outputs": [],
   "source": [
    "from sigmaepsilon.solid import Structure\n",
    "from sigmaepsilon.solid.fem import BernoulliFrame\n",
    "import numpy as np\n",
    "from numpy import pi as PI\n"
   ]
  },
  {
   "cell_type": "markdown",
   "metadata": {},
   "source": [
    "## Import Mesh from JSON-like Data"
   ]
  },
  {
   "cell_type": "code",
   "execution_count": 2,
   "metadata": {},
   "outputs": [],
   "source": [
    "from sigmaepsilon.solid import BeamSection, get_section\n",
    "\n",
    "# all units in kN and cm\n",
    "\n",
    "L = 300.  # length of the console [cm]\n",
    "F = 2.  # value of the vertical load at the free end [kN]\n",
    "E = 21000.0  # Young's modulus [kN/cm3]\n",
    "nu = 0.3  # Poisson's ratio [-]\n",
    "fy = 23.5  # yield strength [kN/cm2]\n",
    "density = 7750.0 * 1e-6  # mass density [g/cm3]\n",
    "weight = density * 1e-3 * 9.81  # [kN/cm3]\n",
    "alpha = 1.2e-05\n",
    "\n",
    "d_chs = 10.0  # diameter of the tube\n",
    "t_chs = 1.0  # thickness of the tube\n",
    "n_chs = 32  # number of subdivisions along the perimeter when discretizing the section\n",
    "section = get_section('CHS', d=d_chs, t=t_chs, n=n_chs)\n",
    "beam = BeamSection(wrap=section)\n",
    "beam.calculate_geometric_properties()\n",
    "props = beam.geometric_properties\n",
    "A = props['A']  # area\n",
    "Ix = props['Ix']  # torsional inertia\n",
    "Iy = props['Iy']  # second moment of inertia around the y axis\n",
    "Iz = props['Iz']  # second moment of inertia around the z axis\n",
    "\n",
    "filename = 'console_bernoulli_linstat'"
   ]
  },
  {
   "cell_type": "code",
   "execution_count": 3,
   "metadata": {},
   "outputs": [],
   "source": [
    "from sigmaepsilon.io import json2dict, dict2json\n",
    "\n",
    "\n",
    "def read_dict(d_in=None, jsonpath=None):\n",
    "    if jsonpath is not None:\n",
    "        if d_in is not None:\n",
    "            dict2json(jsonpath, d_in)\n",
    "        else:\n",
    "            d_in = json2dict(jsonpath)\n",
    "    d_out, mesh = BernoulliFrame.from_dict(d_in)\n",
    "    return d_out, mesh\n",
    "\n",
    "\n",
    "def solve_dict(*args, **kwargs):\n",
    "    d_out, mesh = read_dict(*args, **kwargs)\n",
    "    res = Structure(mesh=mesh).linsolve().nodal_dof_solution()[-1, 2, 2]\n",
    "    return d_out, res\n"
   ]
  },
  {
   "cell_type": "code",
   "execution_count": 4,
   "metadata": {},
   "outputs": [],
   "source": [
    "d_in = {\n",
    "    \"_version_\": \"0.0.1\",\n",
    "\n",
    "    \"materials\": {\n",
    "        \"Steel\": {\n",
    "            \"E\": E,\n",
    "            \"nu\": nu,\n",
    "            \"fy\": fy,\n",
    "            \"type\": \"steel\",\n",
    "            \"density\": density,\n",
    "            \"thermal-coefficient\": alpha\n",
    "        },\n",
    "        \"CustomMaterial\": {\n",
    "            \"fy\": fy,\n",
    "            \"density\": density,\n",
    "            \"thermal-coefficient\": alpha\n",
    "        }\n",
    "    },\n",
    "\n",
    "    \"sections\": {\n",
    "        \"SteelSection\": {\n",
    "            \"type\": \"CHS\",\n",
    "            \"d\": d_chs,\n",
    "            \"t\": t_chs,\n",
    "        },\n",
    "        \"CustomSection\": {\n",
    "            \"A\": A, \"Ix\": Ix, \"Iy\": Iy, \"Iz\": Iz,\n",
    "        }\n",
    "    },\n",
    "\n",
    "    \"frames\": {\n",
    "        \"0\": [\n",
    "            [1.0, 0.0, 0.0],\n",
    "            [0.0, 1.0, 0.0],\n",
    "            [0.0, 0.0, 1.0]\n",
    "        ]\n",
    "    },\n",
    "\n",
    "    \"points\": {\n",
    "        \"0\": {\n",
    "            \"x\": [0.0, 0.0, 0.0],\n",
    "            \"fixity\": [True, ] * 6\n",
    "        },\n",
    "        \"1\": [L/3, 0.0, 0.0],\n",
    "        \"2\": {\n",
    "            \"x\": [2*L/3, 0.0, 0.0],\n",
    "        },\n",
    "        \"3\": {\n",
    "            \"x\": [L, 0.0, 0.0],\n",
    "            \"mass\": 1.0,\n",
    "            \"load\": {\n",
    "                \"Fx\": [F, 0.0, 0.0, 0.0, 0.0, 0.0],\n",
    "                \"Fy\": [0.0, F, 0.0, 0.0, 0.0, 0.0],\n",
    "                \"Fz\": [0.0, 0.0, F, 0.0, 0.0, 0.0]\n",
    "            },\n",
    "            \"fixity\": {\n",
    "                'UX': False\n",
    "            }\n",
    "        }\n",
    "    },\n",
    "\n",
    "    \"cells\": {\n",
    "        \"0\": {\n",
    "            \"nodes\": [0, 1],\n",
    "            \"section\": \"SteelSection\",\n",
    "            \"material\": \"Steel\",\n",
    "            \"density\": density,\n",
    "            \"frame\": \"0\"\n",
    "        },\n",
    "        \"1\": {\n",
    "            \"nodes\": [1, 2],\n",
    "            \"section\": \"SteelSection\",\n",
    "            \"material\": \"Steel\",\n",
    "            \"density\": density,\n",
    "        },\n",
    "        \"2\": {\n",
    "            \"nodes\": [2, 3],\n",
    "            \"section\": \"SteelSection\",\n",
    "            \"material\": \"Steel\",\n",
    "            \"density\": density,\n",
    "            \"load\": {\n",
    "                \"qx\": [F, 0.0, 0.0, 0.0, 0.0, 0.0],\n",
    "                \"qy\": [0.0, F, 0.0, 0.0, 0.0, 0.0],\n",
    "                \"qz\": [0.0, 0.0, F, 0.0, 0.0, 0.0]\n",
    "            },\n",
    "        }\n",
    "    },\n",
    "}\n"
   ]
  },
  {
   "cell_type": "code",
   "execution_count": 5,
   "metadata": {},
   "outputs": [],
   "source": [
    "d_out, mesh = read_dict(d_in)\n",
    "res = Structure(mesh=mesh).linsolve().nodal_dof_solution()[-1, 2, 2]\n"
   ]
  },
  {
   "cell_type": "code",
   "execution_count": 6,
   "metadata": {},
   "outputs": [
    {
     "data": {
      "text/plain": [
       "(4, 6, 6)"
      ]
     },
     "execution_count": 6,
     "metadata": {},
     "output_type": "execute_result"
    }
   ],
   "source": [
    "Structure(mesh=mesh).linsolve().nodal_dof_solution().shape"
   ]
  },
  {
   "cell_type": "code",
   "execution_count": 7,
   "metadata": {},
   "outputs": [
    {
     "name": "stdout",
     "output_type": "stream",
     "text": [
      "Tip displacement : 2.967102148811897\n"
     ]
    }
   ],
   "source": [
    "d_out, uz = solve_dict(d_in)\n",
    "print(\"Tip displacement : {}\".format(uz))\n"
   ]
  },
  {
   "cell_type": "code",
   "execution_count": 8,
   "metadata": {},
   "outputs": [
    {
     "name": "stdout",
     "output_type": "stream",
     "text": [
      "Tip displacement : 2.995861204893461\n"
     ]
    }
   ],
   "source": [
    "# Bernoulli solution\n",
    "EI = E * Iy\n",
    "sol_exact = F * L**3 / (3 * EI)\n",
    "print(\"Tip displacement : {}\".format(sol_exact))\n"
   ]
  },
  {
   "cell_type": "code",
   "execution_count": 9,
   "metadata": {},
   "outputs": [
    {
     "name": "stdout",
     "output_type": "stream",
     "text": [
      "Tip displacement : 2.967102148811897\n",
      "Tip displacement : 2.967102148811897\n"
     ]
    }
   ],
   "source": [
    "jsonpath = filename + \".json\"\n",
    "\n",
    "d_out, uz = solve_dict(d_in, jsonpath)\n",
    "print(\"Tip displacement : {}\".format(uz))\n",
    "\n",
    "d_out, uz = solve_dict(None, jsonpath)\n",
    "print(\"Tip displacement : {}\".format(uz))\n"
   ]
  },
  {
   "cell_type": "code",
   "execution_count": 10,
   "metadata": {},
   "outputs": [
    {
     "name": "stdout",
     "output_type": "stream",
     "text": [
      "Tip displacement : 2.967102148811897\n"
     ]
    }
   ],
   "source": [
    "from sigmaepsilon.examples import download_bernoulli_console_json_linstat\n",
    "from sigmaepsilon.io import json2dict\n",
    "jsonpath = download_bernoulli_console_json_linstat()\n",
    "d_in = json2dict(jsonpath)\n",
    "d_out, mesh = BernoulliFrame.from_dict(d_in)\n",
    "uz = Structure(mesh=mesh).linsolve().nodal_dof_solution()[-1, 2, 2]\n",
    "print(\"Tip displacement : {}\".format(uz))\n"
   ]
  },
  {
   "cell_type": "code",
   "execution_count": null,
   "metadata": {},
   "outputs": [],
   "source": []
  },
  {
   "cell_type": "code",
   "execution_count": null,
   "metadata": {},
   "outputs": [],
   "source": [
    "total_mass = L * A * density  # [g]\n",
    "total_weight = total_mass * 1e-3 * 9.81\n",
    "\n",
    "d_in['points']['3']['mass'] = total_mass\n",
    "\n",
    "d_out, uz = solve_dict(d_in)\n",
    "print(\"Tip displacement : {}\".format(uz))"
   ]
  },
  {
   "cell_type": "markdown",
   "metadata": {},
   "source": [
    "## Write Finite Element Mesh to Parquet files"
   ]
  },
  {
   "cell_type": "code",
   "execution_count": 11,
   "metadata": {},
   "outputs": [],
   "source": [
    "d_out, mesh = read_dict(d_in)\n",
    "structure = Structure(mesh=mesh)\n",
    "dofsol = structure.linsolve().nodal_dof_solution(store='dofsol')\n",
    "pdpath = \"pd_\" + filename + \".parquet\"\n",
    "cdpath = \"cd_\" + filename + \".parquet\"\n",
    "mesh.to_parquet(pdpath, cdpath)"
   ]
  },
  {
   "cell_type": "markdown",
   "metadata": {},
   "source": [
    "## Read Finite Element Mesh from Parquet files"
   ]
  },
  {
   "cell_type": "code",
   "execution_count": 12,
   "metadata": {},
   "outputs": [
    {
     "name": "stdout",
     "output_type": "stream",
     "text": [
      "Tip displacement : 2.967102148811897\n"
     ]
    }
   ],
   "source": [
    "from sigmaepsilon.solid import LineMesh, PointData\n",
    "from sigmaepsilon.solid.fem.cells import B2\n",
    "from polymesh.space import StandardFrame\n",
    "import awkward as ak\n",
    "\n",
    "GlobalFrame = StandardFrame(dim=3)\n",
    "\n",
    "pd = PointData(db=ak.from_parquet(pdpath))\n",
    "cd = B2(db=ak.from_parquet(cdpath))\n",
    "mesh = LineMesh(pd, cd, frame=GlobalFrame)\n",
    "structure = Structure(mesh=mesh)\n",
    "uz = pd.dofsol[-1, 2, 2]\n",
    "print(\"Tip displacement : {}\".format(uz))"
   ]
  },
  {
   "cell_type": "code",
   "execution_count": null,
   "metadata": {},
   "outputs": [],
   "source": []
  }
 ],
 "metadata": {
  "kernelspec": {
   "display_name": "Python 3.8.10 ('.sigeps': venv)",
   "language": "python",
   "name": "python3"
  },
  "language_info": {
   "codemirror_mode": {
    "name": "ipython",
    "version": 3
   },
   "file_extension": ".py",
   "mimetype": "text/x-python",
   "name": "python",
   "nbconvert_exporter": "python",
   "pygments_lexer": "ipython3",
   "version": "3.8.10"
  },
  "orig_nbformat": 4,
  "vscode": {
   "interpreter": {
    "hash": "5facf25dadae24d0f6f3d9b821e9851478f51388ee31821a60476e833f1169c6"
   }
  }
 },
 "nbformat": 4,
 "nbformat_minor": 2
}
