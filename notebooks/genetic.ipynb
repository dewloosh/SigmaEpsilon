{
 "cells": [
  {
   "cell_type": "markdown",
   "metadata": {},
   "source": [
    "# **Nonlinear Programming**"
   ]
  },
  {
   "cell_type": "markdown",
   "metadata": {},
   "source": [
    "## Binary Genetic Algorithm (BGA)"
   ]
  },
  {
   "cell_type": "code",
   "execution_count": 1,
   "metadata": {},
   "outputs": [
    {
     "data": {
      "text/plain": [
       "array([1.05738706, 1.11599512])"
      ]
     },
     "execution_count": 1,
     "metadata": {},
     "output_type": "execute_result"
    }
   ],
   "source": [
    "from sigmaepsilon.math.optimize import BinaryGeneticAlgorithm\n",
    "\n",
    "\n",
    "def Rosenbrock(x):\n",
    "    a, b = 1, 100\n",
    "    return (a-x[0])**2 + b*(x[1]-x[0]**2)**2\n",
    "\n",
    "\n",
    "ranges = [[-10, 10], [-10, 10]]\n",
    "BGA = BinaryGeneticAlgorithm(Rosenbrock, ranges, length=12, nPop=200)\n",
    "BGA.solve()\n"
   ]
  },
  {
   "cell_type": "markdown",
   "metadata": {},
   "source": [
    "## Iterative Solution using `BGA.evolve`"
   ]
  },
  {
   "cell_type": "markdown",
   "metadata": {},
   "source": [
    "Here we keep track of the best candidate and plot a history chart using `matplotlib`. The `evolve` call on the object performs a specified number of cycles, while `best_phenotype`\n",
    "returns the best candidate in general format."
   ]
  },
  {
   "cell_type": "code",
   "execution_count": 2,
   "metadata": {
    "tags": [
     "nbsphinx-thumbnail"
    ]
   },
   "outputs": [
    {
     "data": {
      "image/png": "[encoded data removed]",
      "text/plain": [
       "<Figure size 432x288 with 1 Axes>"
      ]
     },
     "metadata": {
      "needs_background": "light"
     },
     "output_type": "display_data"
    }
   ],
   "source": [
    "import matplotlib.pyplot as plt\n",
    "\n",
    "BGA = BinaryGeneticAlgorithm(Rosenbrock, ranges, length=12, nPop=200)\n",
    "history = [Rosenbrock(BGA.best_phenotype())]\n",
    "for _ in range(100):\n",
    "    BGA.evolve(1)\n",
    "    history.append(Rosenbrock(BGA.best_phenotype()))\n",
    "plt.plot(history)\n",
    "plt.show()\n",
    "x = BGA.best_phenotype()\n",
    "fx = Rosenbrock(x)"
   ]
  }
 ],
 "metadata": {
  "kernelspec": {
   "display_name": ".sigmaepsilon",
   "language": "python",
   "name": ".sigmaepsilon"
  },
  "language_info": {
   "codemirror_mode": {
    "name": "ipython",
    "version": 3
   },
   "file_extension": ".py",
   "mimetype": "text/x-python",
   "name": "python",
   "nbconvert_exporter": "python",
   "pygments_lexer": "ipython3",
   "version": "3.8.10"
  },
  "vscode": {
   "interpreter": {
    "hash": "81af22673e51a55db93ad07d3dd2d272490ff9da1a60e01b8f0931d11d215c80"
   }
  },
  "widgets": {
   "application/vnd.jupyter.widget-state+json": {
    "state": {},
    "version_major": 2,
    "version_minor": 0
   }
  }
 },
 "nbformat": 4,
 "nbformat_minor": 4
}
