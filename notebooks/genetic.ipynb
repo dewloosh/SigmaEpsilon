{
 "cells": [
  {
   "cell_type": "markdown",
   "metadata": {},
   "source": [
    "# Optimization of the Cross Section of a Beam"
   ]
  },
  {
   "cell_type": "code",
   "execution_count": 1,
   "metadata": {},
   "outputs": [],
   "source": [
    "L = 100.  # length of the console\n",
    "w, h = 10., 10.  # width and height of the rectangular cross section\n",
    "F = -1000.  # value of the vertical load at the free end\n",
    "E = 210000.0  # Young's modulus\n",
    "nu = 0.3  # Poisson's ratio\n"
   ]
  },
  {
   "cell_type": "code",
   "execution_count": 2,
   "metadata": {},
   "outputs": [],
   "source": [
    "from sigmaepsilon.solid import Structure, LineMesh, PointData\n",
    "from neumann.linalg import linspace, Vector\n",
    "from polymesh.space import StandardFrame, PointCloud, frames_of_lines\n",
    "from sigmaepsilon.solid.fem.cells import B2 as Beam\n",
    "\n",
    "import numpy as np\n",
    "from numpy import pi as PI\n",
    "\n",
    "# space\n",
    "GlobalFrame = StandardFrame(dim=3)\n",
    "\n",
    "# mesh\n",
    "nElem = 5  # number of finite elements to use\n",
    "p0 = np.array([0., 0., 0.])\n",
    "p1 = np.array([L, 0., 0.])\n",
    "coords = linspace(p0, p1, nElem+1)\n",
    "coords = PointCloud(coords, frame=GlobalFrame).show()\n",
    "topo = np.zeros((nElem, 2), dtype=int)\n",
    "topo[:, 0] = np.arange(nElem)\n",
    "topo[:, 1] = np.arange(nElem) + 1\n",
    "\n",
    "# support at the leftmost, load at the rightmost node\n",
    "loads = np.zeros((coords.shape[0], 6))\n",
    "fixity = np.zeros((coords.shape[0], 6)).astype(bool)\n",
    "global_load_vector = Vector([0., 0, F], frame=GlobalFrame).show()\n",
    "loads[-1, :3] = global_load_vector\n",
    "fixity[0, :] = True\n",
    "\n",
    "# pointdata\n",
    "pd = PointData(coords=coords, frame=GlobalFrame,\n",
    "               loads=loads, fixity=fixity)\n",
    "\n",
    "# celldata\n",
    "frames = frames_of_lines(coords, topo)\n",
    "cd = Beam(topo=topo, frames=frames)\n",
    "\n",
    "# set up mesh and structure\n",
    "def build(model:np.ndarray):\n",
    "    mesh = LineMesh(pd, cd, model=model, frame=GlobalFrame)\n",
    "    structure = Structure(mesh=mesh)\n",
    "    return structure\n",
    "\n",
    "def linsolve(structure:Structure):\n",
    "    structure.linsolve()\n",
    "    return structure\n",
    "\n",
    "def postproc(structure:Structure):    \n",
    "    dofsol = structure.nodal_dof_solution()[:, :3]\n",
    "    return dofsol[-1, :3]"
   ]
  },
  {
   "cell_type": "code",
   "execution_count": 3,
   "metadata": {},
   "outputs": [],
   "source": [
    "# cross section\n",
    "A = w * h  # area\n",
    "Iy = w * h**3 / 12  # second moment of inertia around the y axis\n",
    "Iz = w * h**3 / 12  # second moment of inertia around the z axis\n",
    "Ix = Iy + Iz  # torsional inertia\n",
    "\n",
    "# model stiffness matrix\n",
    "G = E / (2 * (1 + nu))\n",
    "Hooke = np.array([\n",
    "    [E*A, 0, 0, 0],\n",
    "    [0, G*Ix, 0, 0],\n",
    "    [0, 0, E*Iy, 0],\n",
    "    [0, 0, 0, E*Iz]\n",
    "])\n",
    "\n",
    "d = postproc(linsolve(build(Hooke)))"
   ]
  },
  {
   "cell_type": "code",
   "execution_count": 4,
   "metadata": {},
   "outputs": [],
   "source": [
    "from neumann.optimize import BinaryGeneticAlgorithm\n",
    "\n",
    "Vmax = w * h * L\n",
    "Wmax = np.abs(global_load_vector @ d)\n",
    "\n",
    "# Bernoulli solution\n",
    "def objective_analytic(x):\n",
    "    w, h = x\n",
    "    A = w * h  # area\n",
    "    Iy = w * h**3 / 12  # second moment of inertia around the y axis\n",
    "    EI = E * Iy\n",
    "    sol_exact = F * L**3 / (3 * EI)\n",
    "    res = np.abs(sol_exact * F)\n",
    "    \n",
    "    # check volume constraint\n",
    "    V = A * L\n",
    "    if V > Vmax:\n",
    "        res *= 1e10\n",
    "        \n",
    "    return res\n",
    "    \n",
    "    \n",
    "def objective_fem(x):\n",
    "    w, h = x\n",
    "    A = w * h  # area\n",
    "    Iy = w * h**3 / 12  # second moment of inertia around the y axis\n",
    "    Iz = w * h**3 / 12  # second moment of inertia around the z axis\n",
    "    Ix = Iy + Iz  # torsional inertia\n",
    "\n",
    "    # model stiffness matrix\n",
    "    G = E / (2 * (1 + nu))\n",
    "    Hooke = np.array([\n",
    "        [E*A, 0, 0, 0],\n",
    "        [0, G*Ix, 0, 0],\n",
    "        [0, 0, E*Iy, 0],\n",
    "        [0, 0, 0, E*Iz]\n",
    "    ])\n",
    "\n",
    "    d = postproc(linsolve(build(Hooke)))\n",
    "    res = np.abs(global_load_vector @ d)\n",
    "    \n",
    "    # check volume constraint\n",
    "    V = A * L\n",
    "    if V > Vmax:\n",
    "        res *= 1e10\n",
    "    \n",
    "    return res"
   ]
  },
  {
   "cell_type": "code",
   "execution_count": 5,
   "metadata": {},
   "outputs": [
    {
     "data": {
      "text/plain": [
       "(array([ 6.65811966, 14.995116  ]), 848.4760966743787)"
      ]
     },
     "execution_count": 5,
     "metadata": {},
     "output_type": "execute_result"
    }
   ],
   "source": [
    "ranges = [[5., 15.], [5., 15.]]\n",
    "BGA = BinaryGeneticAlgorithm(objective_analytic, ranges, length=12, nPop=100, maxiter=100)\n",
    "x = BGA.solve()\n",
    "x = BGA.best_phenotype()\n",
    "fx_analytic = objective_analytic(x)\n",
    "x, fx_analytic"
   ]
  },
  {
   "cell_type": "code",
   "execution_count": 6,
   "metadata": {},
   "outputs": [
    {
     "data": {
      "text/plain": [
       "(9983.927658286633, 10000.0)"
      ]
     },
     "execution_count": 6,
     "metadata": {},
     "output_type": "execute_result"
    }
   ],
   "source": [
    "w, h = x\n",
    "A = w * h  # area\n",
    "A * L, Vmax"
   ]
  },
  {
   "cell_type": "code",
   "execution_count": 7,
   "metadata": {},
   "outputs": [
    {
     "data": {
      "text/plain": [
       "(array([12.38217338,  7.77899878]), 1904.771905761849)"
      ]
     },
     "execution_count": 7,
     "metadata": {},
     "output_type": "execute_result"
    }
   ],
   "source": [
    "ranges = [[5., 15.], [5., 15.]]\n",
    "BGA = BinaryGeneticAlgorithm(objective_fem, ranges, length=12, nPop=20, maxiter=20)\n",
    "x = BGA.solve()\n",
    "x = BGA.best_phenotype()\n",
    "fx_fem = objective_fem(x)\n",
    "x, fx_fem"
   ]
  },
  {
   "cell_type": "code",
   "execution_count": 8,
   "metadata": {},
   "outputs": [
    {
     "data": {
      "text/plain": [
       "(9632.091162127794, 10000.0)"
      ]
     },
     "execution_count": 8,
     "metadata": {},
     "output_type": "execute_result"
    }
   ],
   "source": [
    "w, h = x\n",
    "A = w * h  # area\n",
    "A * L, Vmax"
   ]
  },
  {
   "cell_type": "code",
   "execution_count": 9,
   "metadata": {},
   "outputs": [
    {
     "data": {
      "text/plain": [
       "(1904.771905761849, 848.4760966743787, 1904.771905761849)"
      ]
     },
     "execution_count": 9,
     "metadata": {},
     "output_type": "execute_result"
    }
   ],
   "source": [
    "Wmax, fx_analytic, fx_fem"
   ]
  },
  {
   "cell_type": "markdown",
   "metadata": {},
   "source": [
    "## Optimization with `scipy`"
   ]
  },
  {
   "cell_type": "code",
   "execution_count": 10,
   "metadata": {},
   "outputs": [
    {
     "data": {
      "text/plain": [
       "(array([ 5., 15.]), 1128.747795414462)"
      ]
     },
     "execution_count": 10,
     "metadata": {},
     "output_type": "execute_result"
    }
   ],
   "source": [
    "from scipy.optimize import minimize\n",
    "\n",
    "x0 = [8.0, 8.0]\n",
    "bnds = ((5., 15.), (5., 15.))\n",
    "res = minimize(objective_analytic, x0, method='Nelder-Mead', bounds=bnds)\n",
    "res.x, objective_analytic(res.x)"
   ]
  },
  {
   "cell_type": "code",
   "execution_count": 11,
   "metadata": {},
   "outputs": [
    {
     "data": {
      "text/plain": [
       "(7500.0, 10000.0)"
      ]
     },
     "execution_count": 11,
     "metadata": {},
     "output_type": "execute_result"
    }
   ],
   "source": [
    "w, h = res.x\n",
    "A = w * h  # area\n",
    "A * L, Vmax"
   ]
  },
  {
   "cell_type": "code",
   "execution_count": 12,
   "metadata": {},
   "outputs": [
    {
     "data": {
      "text/plain": [
       "(array([ 6.66666667, 15.        ]), 846.5608465608369)"
      ]
     },
     "execution_count": 12,
     "metadata": {},
     "output_type": "execute_result"
    }
   ],
   "source": [
    "x0 = [8.0, 8.0]\n",
    "bnds = ((5., 15.), (5., 15.))\n",
    "\n",
    "def objective_analytic(x):\n",
    "    w, h = x\n",
    "    A = w * h  # area\n",
    "    Iy = w * h**3 / 12  # second moment of inertia around the y axis\n",
    "    EI = E * Iy\n",
    "    sol_exact = F * L**3 / (3 * EI)\n",
    "    return np.abs(sol_exact * F)\n",
    "\n",
    "cons = ({'type': 'ineq', 'fun': lambda x:  Vmax - x[0] * x[1] * L})\n",
    "\n",
    "res = minimize(objective_analytic, x0, method='SLSQP', bounds=bnds, constraints=cons)\n",
    "res.x, objective_analytic(res.x)"
   ]
  },
  {
   "cell_type": "code",
   "execution_count": 13,
   "metadata": {},
   "outputs": [
    {
     "data": {
      "text/plain": [
       "(10000.000000000113, 10000.0)"
      ]
     },
     "execution_count": 13,
     "metadata": {},
     "output_type": "execute_result"
    }
   ],
   "source": [
    "w, h = res.x\n",
    "A = w * h  # area\n",
    "A * L, Vmax"
   ]
  },
  {
   "cell_type": "code",
   "execution_count": 14,
   "metadata": {},
   "outputs": [
    {
     "data": {
      "text/plain": [
       "(array([8., 8.]), 1904.771905761849)"
      ]
     },
     "execution_count": 14,
     "metadata": {},
     "output_type": "execute_result"
    }
   ],
   "source": [
    "x0 = [8.0, 8.0]\n",
    "bnds = ((5., 15.), (5., 15.))\n",
    "\n",
    "def objective_fem(x):\n",
    "    w, h = x\n",
    "    A = w * h  # area\n",
    "    Iy = w * h**3 / 12  # second moment of inertia around the y axis\n",
    "    Iz = w * h**3 / 12  # second moment of inertia around the z axis\n",
    "    Ix = Iy + Iz  # torsional inertia\n",
    "\n",
    "    # model stiffness matrix\n",
    "    G = E / (2 * (1 + nu))\n",
    "    Hooke = np.array([\n",
    "        [E*A, 0, 0, 0],\n",
    "        [0, G*Ix, 0, 0],\n",
    "        [0, 0, E*Iy, 0],\n",
    "        [0, 0, 0, E*Iz]\n",
    "    ])\n",
    "\n",
    "    d = postproc(linsolve(build(Hooke)))\n",
    "    return np.abs(global_load_vector @ d)\n",
    "    \n",
    "cons = ({'type': 'ineq', 'fun': lambda x:  Vmax - x[0] * x[1] * L})\n",
    "\n",
    "res = minimize(objective_fem, x0, method='SLSQP', bounds=bnds, constraints=cons)\n",
    "res.x, objective_fem(res.x)"
   ]
  },
  {
   "cell_type": "code",
   "execution_count": 15,
   "metadata": {},
   "outputs": [
    {
     "data": {
      "text/plain": [
       "(6400.0, 10000.0)"
      ]
     },
     "execution_count": 15,
     "metadata": {},
     "output_type": "execute_result"
    }
   ],
   "source": [
    "w, h = res.x\n",
    "A = w * h  # area\n",
    "A * L, Vmax"
   ]
  },
  {
   "cell_type": "markdown",
   "metadata": {},
   "source": [
    "## Summary"
   ]
  },
  {
   "cell_type": "code",
   "execution_count": null,
   "metadata": {},
   "outputs": [],
   "source": [
    "from sigmaepsilon.solid import BeamSection\n",
    "import matplotlib.pyplot as plt\n",
    "from dewloosh.mpl import triplot\n",
    "mesh_params = dict(n_max=20)\n",
    "section = BeamSection('CHS', d=1.0, t=0.3, n=32, mesh_params=mesh_params)\n",
    "triobj = section.trimesh(T6=True).to_triobj()\n",
    "fig, ax = plt.subplots(figsize=(4, 2))\n",
    "triplot(triobj, fig=fig, ax=ax, lw=0.1)"
   ]
  }
 ],
 "metadata": {
  "kernelspec": {
   "display_name": "Python 3.8.10 ('.sigeps': venv)",
   "language": "python",
   "name": "python3"
  },
  "language_info": {
   "codemirror_mode": {
    "name": "ipython",
    "version": 3
   },
   "file_extension": ".py",
   "mimetype": "text/x-python",
   "name": "python",
   "nbconvert_exporter": "python",
   "pygments_lexer": "ipython3",
   "version": "3.8.10"
  },
  "orig_nbformat": 4,
  "vscode": {
   "interpreter": {
    "hash": "5facf25dadae24d0f6f3d9b821e9851478f51388ee31821a60476e833f1169c6"
   }
  }
 },
 "nbformat": 4,
 "nbformat_minor": 2
}
