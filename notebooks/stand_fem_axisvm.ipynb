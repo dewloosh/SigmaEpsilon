{
 "cells": [
  {
   "cell_type": "markdown",
   "metadata": {},
   "source": [
    "# Complex Workflow with AxisVM"
   ]
  },
  {
   "cell_type": "code",
   "execution_count": null,
   "metadata": {},
   "outputs": [],
   "source": [
    "from axisvm import examples\n",
    "import pyvista as pv\n",
    "import numpy as np\n",
    "\n",
    "from sigmaepsilon.mesh import PolyData, CartesianFrame, PointData\n",
    "from sigmaepsilon.mesh.cells import TET4 as CellData\n",
    "from sigmaepsilon.mesh.tri.triutils import edges_tri\n",
    "from sigmaepsilon.mesh.topo import unique_topo_data, detach\n",
    "\n",
    "vtkpath = examples.download_stand_vtk()\n",
    "pd = PolyData.read(vtkpath)\n",
    "c = pd.coords() / 1000\n",
    "t = pd.topology()[:, :4]\n",
    "c, t = detach(c, t)\n",
    "csys = CartesianFrame(dim=3)\n",
    "\n",
    "# pointdata and celldata\n",
    "pd = PointData(coords=c, frame=csys)\n",
    "cd = CellData(topo=t, frames=csys)\n",
    "\n",
    "mesh = PolyData(pd, cd, frame=csys)\n",
    "surface = mesh.surface()\n",
    "surface.nummrg()"
   ]
  },
  {
   "cell_type": "code",
   "execution_count": null,
   "metadata": {},
   "outputs": [],
   "source": [
    "surface.plot(notebook=False)"
   ]
  },
  {
   "cell_type": "code",
   "execution_count": null,
   "metadata": {},
   "outputs": [],
   "source": [
    "len(surface.pd), surface.pd.id, surface.pd.gid"
   ]
  },
  {
   "cell_type": "code",
   "execution_count": null,
   "metadata": {},
   "outputs": [],
   "source": [
    "from sigmaepsilon.mesh.topo import rewire, detach\n",
    "\n",
    "coords, topo = surface.coords(), surface.topology()\n",
    "edges, edgeIDs = unique_topo_data(edges_tri(topo))\n",
    "edges += 1\n",
    "edgeIDs += 1"
   ]
  },
  {
   "cell_type": "code",
   "execution_count": null,
   "metadata": {},
   "outputs": [],
   "source": [
    "from axisvm.com.client import start_AxisVM\n",
    "axvm = start_AxisVM(visible=True, daemon=True)"
   ]
  },
  {
   "cell_type": "code",
   "execution_count": null,
   "metadata": {},
   "outputs": [],
   "source": [
    "modelId = axvm.Models.New()\n",
    "axm = axvm.Models.Item[modelId]\n",
    "axm.Settings.EditingTolerance = -1\n",
    "wdir = \"\"\n",
    "\n",
    "from axisvm.com.tlb import RPoint3d\n",
    "foo = lambda x : RPoint3d(x=x[0], y=x[1], z=x[2])\n",
    "axm.BeginUpdate()\n",
    "axm.Nodes.BulkAdd(list(map(foo, coords)))\n",
    "axm.EndUpdate()\n",
    "\n",
    "from axisvm.com.tlb import lgtStraightLine, RLineData\n",
    "\n",
    "def gen_line(edge):\n",
    "    return RLineData(\n",
    "        NodeId1 = edge[0],\n",
    "        NodeId2 = edge[1],\n",
    "        GeomType = lgtStraightLine\n",
    "    )\n",
    "    \n",
    "axm.BeginUpdate()\n",
    "axm.Lines.BulkAdd(list(map(gen_line, edges)))\n",
    "axm.EndUpdate()\n",
    "\n",
    "from axisvm.com.tlb import vTop\n",
    "axm.View = vTop\n",
    "axm.FitInView()\n",
    "\n",
    "from axisvm.com.tlb import ndcEuroCode\n",
    "axm.Settings.NationalDesignCode = ndcEuroCode\n",
    "matId = axm.Materials.AddFromCatalog(ndcEuroCode, \"S 235\")\n",
    "\n",
    "from axisvm.com.tlb import RSurfaceAttr, lnlTensionAndCompression, \\\n",
    "    RResistancesXYZ, schLinear, stShell, RElasticFoundationXYZ, \\\n",
    "    RNonLinearityXYZ, RSurface\n",
    "    \n",
    "SurfaceAttr = RSurfaceAttr(\n",
    "    Thickness=1,\n",
    "    SurfaceType=stShell,\n",
    "    RefZId=0,\n",
    "    RefXId=0,\n",
    "    MaterialId=matId,\n",
    "    ElasticFoundation=RElasticFoundationXYZ(0, 0, 0),\n",
    "    NonLinearity=RNonLinearityXYZ(lnlTensionAndCompression,\n",
    "                                  lnlTensionAndCompression,\n",
    "                                  lnlTensionAndCompression),\n",
    "    Resistance=RResistancesXYZ(0, 0, 0),\n",
    "    Charactersitics=schLinear)\n",
    "\n",
    "def gen_surface(edges):\n",
    "    return RSurface(\n",
    "        N=3,\n",
    "        LineIndex1 = edges[0],\n",
    "        LineIndex2 = edges[1],\n",
    "        LineIndex3 = edges[2],\n",
    "        Attr = SurfaceAttr,\n",
    "        DomainIndex = 0\n",
    "    )\n",
    "axm.BeginUpdate()\n",
    "axm.Surfaces.BulkAdd(list(map(gen_surface, edgeIDs)))\n",
    "axm.EndUpdate()\n"
   ]
  },
  {
   "cell_type": "code",
   "execution_count": null,
   "metadata": {},
   "outputs": [],
   "source": [
    "attachments = axm.Nodes.Attachments\n",
    "gid = surface.pd.gid\n",
    "nN = axm.Nodes.Count\n",
    "for i in range(nN):\n",
    "    attachments.AddData('gid', i+1, [gid[i]])"
   ]
  },
  {
   "cell_type": "markdown",
   "metadata": {},
   "source": [
    "Select points of action"
   ]
  },
  {
   "cell_type": "code",
   "execution_count": null,
   "metadata": {},
   "outputs": [],
   "source": [
    "from axisvm.com.tlb import RPartItem, pitNode\n",
    "axvm.BringToFront()\n",
    "CustomParts = axm.CustomParts\n",
    "CustomPartsFolder = CustomParts.RootFolder\n",
    "i = CustomPartsFolder.AddSubFolder('SigmaEpsilon')\n",
    "Folder = CustomPartsFolder.SubFolder[i]\n",
    "iebc = Folder.AddPart('EBC', [])[-1]\n",
    "inbc = Folder.AddPart('NBC', [])[-1]"
   ]
  },
  {
   "cell_type": "code",
   "execution_count": null,
   "metadata": {},
   "outputs": [],
   "source": [
    "nodes_f = axm.Nodes.select_IDs(msg='Select nodes where nodal loads are to be imposed!')\n",
    "parts = list(map(lambda id : RPartItem(ItemType=pitNode, Id=id), nodes_f))\n",
    "Folder.AddPartItemsToPart(inbc, parts)\n",
    "axm.SelectAll(False)\n",
    "axm.Refresh()"
   ]
  },
  {
   "cell_type": "code",
   "execution_count": null,
   "metadata": {},
   "outputs": [],
   "source": [
    "nodes_u = axm.Nodes.select_IDs(msg='Select nodes where displacement penalties are to be enforced!')\n",
    "parts = list(map(lambda id : RPartItem(ItemType=pitNode, Id=id), nodes_u))\n",
    "Folder.AddPartItemsToPart(iebc, parts)\n",
    "axm.SelectAll(False)\n",
    "axm.Refresh()"
   ]
  },
  {
   "cell_type": "code",
   "execution_count": null,
   "metadata": {},
   "outputs": [],
   "source": [
    "nbc_items = Folder.GetPart(inbc)[0]\n",
    "nbc_ids = list(map(lambda i : i.Id, filter(lambda i : i.ItemType == 0, nbc_items)))\n",
    "ebc_items = Folder.GetPart(iebc)[0]\n",
    "ebc_ids = list(map(lambda i : i.Id, filter(lambda i : i.ItemType == 0, ebc_items)))"
   ]
  },
  {
   "cell_type": "code",
   "execution_count": null,
   "metadata": {},
   "outputs": [],
   "source": [
    "coords = mesh.coords()\n",
    "topo = mesh.topology()"
   ]
  },
  {
   "cell_type": "code",
   "execution_count": null,
   "metadata": {},
   "outputs": [],
   "source": [
    "from sigmaepsilon.solid import Structure, PointData, FemMesh\n",
    "from sigmaepsilon.mesh.space import StandardFrame\n",
    "from sigmaepsilon.solid.fem.cells import TET4 as CellData\n",
    "from sigmaepsilon.math.array import repeat\n",
    "\n",
    "GlobalFrame = StandardFrame(dim=3)\n",
    "\n",
    "# essential bc\n",
    "ebc_gids = [gid[id-1] for id in ebc_ids]\n",
    "fixity = np.zeros((coords.shape[0], 6), dtype=bool)\n",
    "fixity[ebc_gids, :3] = True\n",
    "fixity[:, 3:] = True\n",
    "\n",
    "# natural bc\n",
    "F = 10\n",
    "nbc_gids = [gid[id-1] for id in nbc_ids]\n",
    "loads = np.zeros((coords.shape[0], 6))\n",
    "loads[nbc_gids, 2] = -F\n",
    "\n",
    "# pointdata\n",
    "pd = PointData(coords=coords, frame=GlobalFrame,\n",
    "               loads=loads, fixity=fixity)\n",
    "\n",
    "# celldata\n",
    "frames = repeat(GlobalFrame.show(), topo.shape[0])\n",
    "cd = CellData(topo=topo, frames=frames)\n",
    "\n",
    "# set up mesh and structure\n",
    "E = 12000.\n",
    "nu = 0.2\n",
    "A = np.array([\n",
    "    [1, nu, nu, 0, 0, 0], \n",
    "    [nu, 1, nu, 0, 0, 0],\n",
    "    [nu, nu, 1, 0, 0, 0], \n",
    "    [0., 0, 0, (1-nu)/2, 0, 0],\n",
    "    [0., 0, 0, 0, (1-nu)/2, 0],\n",
    "    [0., 0, 0, 0, 0, (1-nu)/2]]) * (E / (1-nu**2))\n",
    "\n",
    "mesh = FemMesh(pd, cd, model=A, frame=GlobalFrame)\n",
    "\n",
    "structure = Structure(mesh=mesh)"
   ]
  },
  {
   "cell_type": "code",
   "execution_count": null,
   "metadata": {},
   "outputs": [],
   "source": [
    "structure.linsolve()"
   ]
  },
  {
   "cell_type": "code",
   "execution_count": null,
   "metadata": {},
   "outputs": [],
   "source": [
    "dofsol = structure.nodal_dof_solution()"
   ]
  },
  {
   "cell_type": "code",
   "execution_count": 23,
   "metadata": {},
   "outputs": [
    {
     "name": "stderr",
     "output_type": "stream",
     "text": [
      "f:\\GitHub\\sigmaepsilon\\.venv\\lib\\site-packages\\traittypes\\traittypes.py:97: UserWarning: Given trait value dtype \"float32\" does not match required type \"float32\". A coerced copy has been created.\n",
      "  warnings.warn(\n"
     ]
    },
    {
     "data": {
      "application/vnd.jupyter.widget-view+json": {
       "model_id": "7380fa3e90c34ec4a2f766c17cea3766",
       "version_major": 2,
       "version_minor": 0
      },
      "text/plain": [
       "Plot(antialias=3, axes=['x', 'y', 'z'], axes_helper=1.0, axes_helper_colors=[16711680, 65280, 255], background…"
      ]
     },
     "metadata": {},
     "output_type": "display_data"
    }
   ],
   "source": [
    "structure.mesh.plot(notebook=True, scalars=dofsol[:, 2], backend='k3d')"
   ]
  }
 ],
 "metadata": {
  "kernelspec": {
   "display_name": "Python 3.8.10 ('.venv': venv)",
   "language": "python",
   "name": "python3"
  },
  "language_info": {
   "codemirror_mode": {
    "name": "ipython",
    "version": 3
   },
   "file_extension": ".py",
   "mimetype": "text/x-python",
   "name": "python",
   "nbconvert_exporter": "python",
   "pygments_lexer": "ipython3",
   "version": "3.8.10"
  },
  "orig_nbformat": 4,
  "vscode": {
   "interpreter": {
    "hash": "81af22673e51a55db93ad07d3dd2d272490ff9da1a60e01b8f0931d11d215c80"
   }
  }
 },
 "nbformat": 4,
 "nbformat_minor": 2
}
