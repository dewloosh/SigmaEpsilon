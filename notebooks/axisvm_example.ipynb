{
 "cells": [
  {
   "cell_type": "markdown",
   "metadata": {},
   "source": [
    "# Preprocessing with AxisVM"
   ]
  },
  {
   "cell_type": "markdown",
   "metadata": {},
   "source": [
    "We are going to read a tetrahedral mesh from a .vtk file, send its surface into AxisVM to select points of applications for the applications of natural and essential boundary conditions, identify the selected items, build a finite element model, do a simple analysis and save the results in a simple, but powerful format."
   ]
  },
  {
   "cell_type": "markdown",
   "metadata": {},
   "source": [
    "The mesh for this tutorial is among the examples of AxisVM:"
   ]
  },
  {
   "cell_type": "code",
   "execution_count": 1,
   "metadata": {},
   "outputs": [
    {
     "data": {
      "text/plain": [
       "PolyData({})"
      ]
     },
     "execution_count": 1,
     "metadata": {},
     "output_type": "execute_result"
    }
   ],
   "source": [
    "from axisvm import examples\n",
    "import pyvista as pv\n",
    "import numpy as np\n",
    "\n",
    "from polymesh import PolyData, CartesianFrame, PointData\n",
    "from polymesh.cells import TET4 as CellData\n",
    "from polymesh.utils.tri import edges_tri\n",
    "from polymesh.utils.topology import unique_topo_data, detach\n",
    "\n",
    "vtkpath = examples.download_stand_vtk()\n",
    "pd = PolyData.read(vtkpath)\n",
    "c = pd.coords() / 1000\n",
    "t = pd.topology()[:, :4]\n",
    "c, t = detach(c, t)\n",
    "csys = CartesianFrame(dim=3)\n",
    "\n",
    "# pointdata and celldata\n",
    "pd = PointData(coords=c, frame=csys)\n",
    "cd = CellData(topo=t, frames=csys)\n",
    "\n",
    "mesh = PolyData(pd, cd, frame=csys)\n",
    "surface = mesh.surface()\n",
    "surface.nummrg()"
   ]
  },
  {
   "cell_type": "code",
   "execution_count": 2,
   "metadata": {},
   "outputs": [],
   "source": [
    "surface.plot(notebook=False)"
   ]
  },
  {
   "cell_type": "markdown",
   "metadata": {},
   "source": [
    "We can access the local and global indices of the surface mesh. This migh be handy if we want to convert data between the two sets."
   ]
  },
  {
   "cell_type": "code",
   "execution_count": 3,
   "metadata": {},
   "outputs": [
    {
     "data": {
      "text/plain": [
       "(2869,\n",
       " array([   0,    1,    2, ..., 2866, 2867, 2868]),\n",
       " <Array [0, 1, 2, 3, ... 2885, 2886, 2887, 2888] type='2869 * int32'>)"
      ]
     },
     "execution_count": 3,
     "metadata": {},
     "output_type": "execute_result"
    }
   ],
   "source": [
    "len(surface.pd), surface.pd.id, surface.pd.gid"
   ]
  },
  {
   "cell_type": "code",
   "execution_count": 4,
   "metadata": {},
   "outputs": [],
   "source": [
    "from polymesh.utils.topology import rewire, detach\n",
    "\n",
    "coords, topo = surface.coords(), surface.topology()\n",
    "edges, edgeIDs = unique_topo_data(edges_tri(topo))\n",
    "\n",
    "# in AxisVM, numbering starts with 1\n",
    "edges += 1\n",
    "edgeIDs += 1"
   ]
  },
  {
   "cell_type": "code",
   "execution_count": 5,
   "metadata": {},
   "outputs": [],
   "source": [
    "from axisvm.com.client import start_AxisVM\n",
    "\n",
    "axvm = start_AxisVM(visible=True, daemon=True)"
   ]
  },
  {
   "cell_type": "markdown",
   "metadata": {},
   "source": [
    "For the example at hand, we build the AxisVM model with an arbitrary material model."
   ]
  },
  {
   "cell_type": "code",
   "execution_count": 6,
   "metadata": {},
   "outputs": [
    {
     "data": {
      "text/plain": [
       "0"
      ]
     },
     "execution_count": 6,
     "metadata": {},
     "output_type": "execute_result"
    }
   ],
   "source": [
    "modelId = axvm.Models.New()\n",
    "axm = axvm.Models.Item[modelId]\n",
    "axm.Settings.EditingTolerance = -1\n",
    "wdir = \"\"\n",
    "\n",
    "from axisvm.com.tlb import RPoint3d\n",
    "\n",
    "foo = lambda x: RPoint3d(x=x[0], y=x[1], z=x[2])\n",
    "axm.BeginUpdate()\n",
    "axm.Nodes.BulkAdd(list(map(foo, coords)))\n",
    "axm.EndUpdate()\n",
    "\n",
    "from axisvm.com.tlb import lgtStraightLine, RLineData\n",
    "\n",
    "\n",
    "def gen_line(edge):\n",
    "    return RLineData(NodeId1=edge[0], NodeId2=edge[1], GeomType=lgtStraightLine)\n",
    "\n",
    "\n",
    "axm.BeginUpdate()\n",
    "axm.Lines.BulkAdd(list(map(gen_line, edges)))\n",
    "axm.EndUpdate()\n",
    "\n",
    "from axisvm.com.tlb import vTop\n",
    "\n",
    "axm.View = vTop\n",
    "axm.FitInView()\n",
    "\n",
    "from axisvm.com.tlb import ndcEuroCode\n",
    "\n",
    "axm.Settings.NationalDesignCode = ndcEuroCode\n",
    "matId = axm.Materials.AddFromCatalog(ndcEuroCode, \"S 235\")\n",
    "\n",
    "from axisvm.com.tlb import (\n",
    "    RSurfaceAttr,\n",
    "    lnlTensionAndCompression,\n",
    "    RResistancesXYZ,\n",
    "    schLinear,\n",
    "    stShell,\n",
    "    RElasticFoundationXYZ,\n",
    "    RNonLinearityXYZ,\n",
    "    RSurface,\n",
    ")\n",
    "\n",
    "SurfaceAttr = RSurfaceAttr(\n",
    "    Thickness=1,\n",
    "    SurfaceType=stShell,\n",
    "    RefZId=0,\n",
    "    RefXId=0,\n",
    "    MaterialId=matId,\n",
    "    ElasticFoundation=RElasticFoundationXYZ(0, 0, 0),\n",
    "    NonLinearity=RNonLinearityXYZ(\n",
    "        lnlTensionAndCompression, lnlTensionAndCompression, lnlTensionAndCompression\n",
    "    ),\n",
    "    Resistance=RResistancesXYZ(0, 0, 0),\n",
    "    Charactersitics=schLinear,\n",
    ")\n",
    "\n",
    "\n",
    "def gen_surface(edges):\n",
    "    return RSurface(\n",
    "        N=3,\n",
    "        LineIndex1=edges[0],\n",
    "        LineIndex2=edges[1],\n",
    "        LineIndex3=edges[2],\n",
    "        Attr=SurfaceAttr,\n",
    "        DomainIndex=0,\n",
    "    )\n",
    "\n",
    "\n",
    "axm.BeginUpdate()\n",
    "axm.Surfaces.BulkAdd(list(map(gen_surface, edgeIDs)))\n",
    "axm.EndUpdate()"
   ]
  },
  {
   "cell_type": "markdown",
   "metadata": {},
   "source": [
    "We can add data to the AxisVM Model. The following cell adds the global ids of the nodes to the model. The attached data is then stored with the model file in binary form."
   ]
  },
  {
   "cell_type": "code",
   "execution_count": 7,
   "metadata": {},
   "outputs": [],
   "source": [
    "attachments = axm.Nodes.Attachments\n",
    "gid = surface.pd.gid\n",
    "nN = axm.Nodes.Count\n",
    "for i in range(nN):\n",
    "    attachments.AddData(\"gid\", i + 1, [gid[i]])"
   ]
  },
  {
   "cell_type": "markdown",
   "metadata": {},
   "source": [
    "Use AxisVM to select points of applications for nodal loads and supports. You will be prompted to select node in AxisVM using the GUI. Each selection goes into a custom part folder."
   ]
  },
  {
   "cell_type": "code",
   "execution_count": 8,
   "metadata": {},
   "outputs": [],
   "source": [
    "from axisvm.com.tlb import RPartItem, pitNode\n",
    "\n",
    "axvm.BringToFront()\n",
    "CustomParts = axm.CustomParts\n",
    "CustomPartsFolder = CustomParts.RootFolder\n",
    "i = CustomPartsFolder.AddSubFolder(\"SigmaEpsilon\")\n",
    "Folder = CustomPartsFolder.SubFolder[i]\n",
    "iebc = Folder.AddPart(\"EBC\", [])[-1]\n",
    "inbc = Folder.AddPart(\"NBC\", [])[-1]"
   ]
  },
  {
   "cell_type": "code",
   "execution_count": 9,
   "metadata": {},
   "outputs": [
    {
     "data": {
      "text/plain": [
       "0"
      ]
     },
     "execution_count": 9,
     "metadata": {},
     "output_type": "execute_result"
    }
   ],
   "source": [
    "nodes_f = axm.Nodes.select_IDs(msg=\"Select nodes where nodal loads are to be imposed!\")\n",
    "parts = list(map(lambda id: RPartItem(ItemType=pitNode, Id=id), nodes_f))\n",
    "Folder.AddPartItemsToPart(inbc, parts)\n",
    "axm.SelectAll(False)\n",
    "axm.Refresh()"
   ]
  },
  {
   "cell_type": "code",
   "execution_count": 10,
   "metadata": {},
   "outputs": [
    {
     "data": {
      "text/plain": [
       "0"
      ]
     },
     "execution_count": 10,
     "metadata": {},
     "output_type": "execute_result"
    }
   ],
   "source": [
    "nodes_u = axm.Nodes.select_IDs(\n",
    "    msg=\"Select nodes where displacement penalties are to be enforced!\"\n",
    ")\n",
    "parts = list(map(lambda id: RPartItem(ItemType=pitNode, Id=id), nodes_u))\n",
    "Folder.AddPartItemsToPart(iebc, parts)\n",
    "axm.SelectAll(False)\n",
    "axm.Refresh()"
   ]
  },
  {
   "cell_type": "markdown",
   "metadata": {},
   "source": [
    "Read the selected nodes from their custom part folders."
   ]
  },
  {
   "cell_type": "code",
   "execution_count": 11,
   "metadata": {},
   "outputs": [],
   "source": [
    "nbc_items = Folder.GetPart(inbc)[0]\n",
    "nbc_ids = list(map(lambda i: i.Id, filter(lambda i: i.ItemType == 0, nbc_items)))\n",
    "ebc_items = Folder.GetPart(iebc)[0]\n",
    "ebc_ids = list(map(lambda i: i.Id, filter(lambda i: i.ItemType == 0, ebc_items)))"
   ]
  },
  {
   "cell_type": "markdown",
   "metadata": {},
   "source": [
    "Build the finite element model and perform a linear elastic analysis assuming small strains and displacements."
   ]
  },
  {
   "cell_type": "code",
   "execution_count": 12,
   "metadata": {},
   "outputs": [],
   "source": [
    "from sigmaepsilon import Structure, PointData, FemMesh\n",
    "from polymesh.space import StandardFrame\n",
    "from sigmaepsilon.fem.cells import TET4 as CellData\n",
    "from neumann import repeat\n",
    "\n",
    "# the global frame of the workspace\n",
    "GlobalFrame = StandardFrame(dim=3)\n",
    "\n",
    "# coordinates and topology\n",
    "coords = mesh.coords()\n",
    "topo = mesh.topology()\n",
    "\n",
    "# essential boundary conditions\n",
    "ebc_gids = [gid[id - 1] for id in ebc_ids]\n",
    "fixity = np.zeros((coords.shape[0], 6), dtype=bool)\n",
    "fixity[ebc_gids, :3] = True\n",
    "fixity[:, 3:] = True\n",
    "\n",
    "# natural boundary conditions\n",
    "F = 10\n",
    "nbc_gids = [gid[id - 1] for id in nbc_ids]\n",
    "loads = np.zeros((coords.shape[0], 6))\n",
    "loads[nbc_gids, 2] = -F\n",
    "\n",
    "# pointdata\n",
    "pd = PointData(coords=coords, frame=GlobalFrame, loads=loads, fixity=fixity)\n",
    "\n",
    "# celldata\n",
    "frames = repeat(GlobalFrame.show(), topo.shape[0])\n",
    "cd = CellData(topo=topo, frames=frames)\n",
    "\n",
    "# define a stiffness matrix for Hooke's model\n",
    "E = 12000.0\n",
    "nu = 0.2\n",
    "Hooke = np.array(\n",
    "    [\n",
    "        [1, nu, nu, 0, 0, 0],\n",
    "        [nu, 1, nu, 0, 0, 0],\n",
    "        [nu, nu, 1, 0, 0, 0],\n",
    "        [0.0, 0, 0, (1 - nu) / 2, 0, 0],\n",
    "        [0.0, 0, 0, 0, (1 - nu) / 2, 0],\n",
    "        [0.0, 0, 0, 0, 0, (1 - nu) / 2],\n",
    "    ]\n",
    ") * (E / (1 - nu**2))\n",
    "\n",
    "mesh = FemMesh(pd, cd, model=Hooke, frame=GlobalFrame)\n",
    "\n",
    "structure = Structure(mesh=mesh)\n",
    "\n",
    "structure.linear_static_analysis()\n",
    "dofsol = structure.nodal_dof_solution()"
   ]
  },
  {
   "cell_type": "markdown",
   "metadata": {},
   "source": [
    "Plot the model, coloured with vertical displacements:"
   ]
  },
  {
   "cell_type": "code",
   "execution_count": 13,
   "metadata": {},
   "outputs": [
    {
     "name": "stderr",
     "output_type": "stream",
     "text": [
      "f:\\GitHub\\sigmaepsilon\\.sigeps\\lib\\site-packages\\traittypes\\traittypes.py:97: UserWarning: Given trait value dtype \"float32\" does not match required type \"float32\". A coerced copy has been created.\n",
      "  warnings.warn(\n"
     ]
    },
    {
     "data": {
      "application/vnd.jupyter.widget-view+json": {
       "model_id": "134baac786b347299698cf6d4c1b9732",
       "version_major": 2,
       "version_minor": 0
      },
      "text/plain": [
       "Plot(antialias=3, axes=['x', 'y', 'z'], axes_helper=1.0, axes_helper_colors=[16711680, 65280, 255], background…"
      ]
     },
     "execution_count": 13,
     "metadata": {},
     "output_type": "execute_result"
    }
   ],
   "source": [
    "structure.mesh.plot(notebook=True, scalars=dofsol[:, 2], backend=\"k3d\")"
   ]
  }
 ],
 "metadata": {
  "kernelspec": {
   "display_name": ".sigeps",
   "language": "python",
   "name": "python3"
  },
  "language_info": {
   "codemirror_mode": {
    "name": "ipython",
    "version": 3
   },
   "file_extension": ".py",
   "mimetype": "text/x-python",
   "name": "python",
   "nbconvert_exporter": "python",
   "pygments_lexer": "ipython3",
   "version": "3.8.10"
  },
  "orig_nbformat": 4,
  "vscode": {
   "interpreter": {
    "hash": "28d81e0e1442962330764574f1956d80898814d1923baa1210fb6369a4e79b2a"
   }
  }
 },
 "nbformat": 4,
 "nbformat_minor": 2
}
