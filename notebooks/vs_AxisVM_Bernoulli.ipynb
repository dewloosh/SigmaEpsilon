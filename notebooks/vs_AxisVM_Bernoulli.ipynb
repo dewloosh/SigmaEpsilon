{
 "cells": [
  {
   "cell_type": "markdown",
   "metadata": {},
   "source": [
    "# **Frames**"
   ]
  },
  {
   "cell_type": "markdown",
   "metadata": {},
   "source": [
    "This notebook demonstrates how to use **SigmaEpsilon** to calculate 3d frames, and provides with some comparison to other parametric modelling frameworks."
   ]
  },
  {
   "cell_type": "markdown",
   "metadata": {},
   "source": [
    "## Input Data"
   ]
  },
  {
   "cell_type": "code",
   "execution_count": 1,
   "metadata": {},
   "outputs": [],
   "source": [
    "Lx, Ly, Lz = 40., 12., 8.\n",
    "nx, ny, nz = 8, 4, 4\n",
    "\n",
    "D = 0.1  # outer diameter of the tube\n",
    "t = 0.05  # thickness of the tube\n",
    "F = 100.0\n",
    "\n",
    "nCase = 15\n"
   ]
  },
  {
   "cell_type": "code",
   "execution_count": 2,
   "metadata": {},
   "outputs": [],
   "source": [
    "from polymesh.space import StandardFrame, PointCloud\n",
    "from polymesh.grid import gridH8 as grid\n",
    "from polymesh.utils.topology.tr import H8_to_L2\n",
    "import numpy as np\n",
    "\n",
    "# mesh\n",
    "gridparams = {\n",
    "    'size': (Lx, Ly, Lz),\n",
    "    'shape': (8, 4, 4),\n",
    "    'origo': (0, 0, 0),\n",
    "    'start': 0\n",
    "}\n",
    "\n",
    "coords, topo = grid(**gridparams)\n",
    "coords, topo = H8_to_L2(coords, topo)\n",
    "\n",
    "GlobalFrame = StandardFrame(dim=3)\n",
    "\n",
    "points = PointCloud(coords, frame=GlobalFrame).centralize()\n",
    "dx = - np.array([points[:, 0].min(), 0., 0.])\n",
    "points.move(dx)\n",
    "coords = points.show()\n"
   ]
  },
  {
   "cell_type": "code",
   "execution_count": 3,
   "metadata": {},
   "outputs": [],
   "source": [
    "from linkeddeepdict import LinkedDeepDict\n",
    "from time import time\n",
    "\n",
    "summary = LinkedDeepDict()\n"
   ]
  },
  {
   "cell_type": "markdown",
   "metadata": {},
   "source": [
    "## AxisVM"
   ]
  },
  {
   "cell_type": "code",
   "execution_count": 4,
   "metadata": {},
   "outputs": [
    {
     "ename": "ModuleNotFoundError",
     "evalue": "No module named 'sigmaepsilon.core'",
     "output_type": "error",
     "traceback": [
      "\u001b[1;31m---------------------------------------------------------------------------\u001b[0m",
      "\u001b[1;31mModuleNotFoundError\u001b[0m                       Traceback (most recent call last)",
      "\u001b[1;32mf:\\GitHub\\sigmaepsilon\\notebooks\\vs_AxisVM_Bernoulli.ipynb Cell 8\u001b[0m in \u001b[0;36m<cell line: 1>\u001b[1;34m()\u001b[0m\n\u001b[1;32m----> <a href='vscode-notebook-cell:/f%3A/GitHub/sigmaepsilon/notebooks/vs_AxisVM_Bernoulli.ipynb#X10sZmlsZQ%3D%3D?line=0'>1</a>\u001b[0m \u001b[39mfrom\u001b[39;00m \u001b[39maxisvm\u001b[39;00m\u001b[39m.\u001b[39;00m\u001b[39mcom\u001b[39;00m\u001b[39m.\u001b[39;00m\u001b[39mclient\u001b[39;00m \u001b[39mimport\u001b[39;00m start_AxisVM\n\u001b[0;32m      <a href='vscode-notebook-cell:/f%3A/GitHub/sigmaepsilon/notebooks/vs_AxisVM_Bernoulli.ipynb#X10sZmlsZQ%3D%3D?line=1'>2</a>\u001b[0m axvm \u001b[39m=\u001b[39m start_AxisVM(visible\u001b[39m=\u001b[39m\u001b[39mTrue\u001b[39;00m, daemon\u001b[39m=\u001b[39m\u001b[39mTrue\u001b[39;00m)\n\u001b[0;32m      <a href='vscode-notebook-cell:/f%3A/GitHub/sigmaepsilon/notebooks/vs_AxisVM_Bernoulli.ipynb#X10sZmlsZQ%3D%3D?line=2'>3</a>\u001b[0m axvm\n",
      "File \u001b[1;32mF:\\GitHub\\pyaxisvm\\src\\axisvm\\com\\client.py:4\u001b[0m, in \u001b[0;36m<module>\u001b[1;34m\u001b[0m\n\u001b[0;32m      1\u001b[0m \u001b[39m# -*- coding: utf-8 -*-\u001b[39;00m\n\u001b[0;32m      2\u001b[0m \u001b[39mfrom\u001b[39;00m \u001b[39mtime\u001b[39;00m \u001b[39mimport\u001b[39;00m sleep\n\u001b[1;32m----> 4\u001b[0m \u001b[39mfrom\u001b[39;00m \u001b[39m.\u001b[39;00m\u001b[39maxapp\u001b[39;00m \u001b[39mimport\u001b[39;00m IAxisVMApplication \u001b[39mas\u001b[39;00m AxApp\n\u001b[0;32m      7\u001b[0m __all__ \u001b[39m=\u001b[39m [\u001b[39m'\u001b[39m\u001b[39mstart_AxisVM\u001b[39m\u001b[39m'\u001b[39m]\n\u001b[0;32m     10\u001b[0m \u001b[39mdef\u001b[39;00m \u001b[39mstart_AxisVM\u001b[39m(\u001b[39m*\u001b[39margs, join\u001b[39m=\u001b[39m\u001b[39mFalse\u001b[39;00m, visible\u001b[39m=\u001b[39m\u001b[39mNone\u001b[39;00m, \n\u001b[0;32m     11\u001b[0m                  daemon\u001b[39m=\u001b[39m\u001b[39mFalse\u001b[39;00m, wrap\u001b[39m=\u001b[39m\u001b[39mTrue\u001b[39;00m, \u001b[39m*\u001b[39m\u001b[39m*\u001b[39mkwargs) \u001b[39m-\u001b[39m\u001b[39m>\u001b[39m AxApp:\n",
      "File \u001b[1;32mF:\\GitHub\\pyaxisvm\\src\\axisvm\\com\\axapp.py:6\u001b[0m, in \u001b[0;36m<module>\u001b[1;34m\u001b[0m\n\u001b[0;32m      2\u001b[0m \u001b[39mimport\u001b[39;00m \u001b[39mos\u001b[39;00m\n\u001b[0;32m      4\u001b[0m \u001b[39mimport\u001b[39;00m \u001b[39maxisvm\u001b[39;00m\n\u001b[1;32m----> 6\u001b[0m \u001b[39mfrom\u001b[39;00m \u001b[39m.\u001b[39;00m\u001b[39mcore\u001b[39;00m\u001b[39m.\u001b[39;00m\u001b[39mwrap\u001b[39;00m \u001b[39mimport\u001b[39;00m AxWrapper\n\u001b[0;32m      7\u001b[0m \u001b[39mfrom\u001b[39;00m \u001b[39m.\u001b[39;00m\u001b[39maxmodel\u001b[39;00m \u001b[39mimport\u001b[39;00m IAxisVMModel, IAxisVMModels\n\u001b[0;32m      8\u001b[0m \u001b[39mfrom\u001b[39;00m \u001b[39m.\u001b[39;00m\u001b[39maxcatalog\u001b[39;00m \u001b[39mimport\u001b[39;00m IAxisVMCatalog\n",
      "File \u001b[1;32mF:\\GitHub\\pyaxisvm\\src\\axisvm\\com\\core\\wrap.py:2\u001b[0m, in \u001b[0;36m<module>\u001b[1;34m\u001b[0m\n\u001b[0;32m      1\u001b[0m \u001b[39m# -*- coding: utf-8 -*-\u001b[39;00m\n\u001b[1;32m----> 2\u001b[0m \u001b[39mfrom\u001b[39;00m \u001b[39msigmaepsilon\u001b[39;00m\u001b[39m.\u001b[39;00m\u001b[39mcore\u001b[39;00m\u001b[39m.\u001b[39;00m\u001b[39mwrapping\u001b[39;00m \u001b[39mimport\u001b[39;00m Wrapper\n\u001b[0;32m      3\u001b[0m \u001b[39mfrom\u001b[39;00m \u001b[39mtyping\u001b[39;00m \u001b[39mimport\u001b[39;00m Callable, Iterable, Any\n\u001b[0;32m      6\u001b[0m __all__ \u001b[39m=\u001b[39m [\u001b[39m'\u001b[39m\u001b[39mAxWrapper\u001b[39m\u001b[39m'\u001b[39m, \u001b[39m'\u001b[39m\u001b[39mAxisVMModelItem\u001b[39m\u001b[39m'\u001b[39m, \u001b[39m'\u001b[39m\u001b[39mAxisVMModelItems\u001b[39m\u001b[39m'\u001b[39m]\n",
      "\u001b[1;31mModuleNotFoundError\u001b[0m: No module named 'sigmaepsilon.core'"
     ]
    }
   ],
   "source": [
    "from axisvm.com.client import start_AxisVM\n",
    "axvm = start_AxisVM(visible=True, daemon=True)\n",
    "axvm\n"
   ]
  },
  {
   "cell_type": "code",
   "execution_count": null,
   "metadata": {},
   "outputs": [],
   "source": [
    "import axisvm.com.tlb as axtlb\n",
    "\n",
    "# create new model\n",
    "modelId = axvm.Models.New()\n",
    "axm = axvm.Models[modelId]\n",
    "\n",
    "# material\n",
    "ndc, material = axtlb.ndcEuroCode, \"S 235\"\n",
    "axm.Settings.NationalDesignCode = ndc\n",
    "\n",
    "# cross section\n",
    "MaterialIndex = axm.Materials.AddFromCatalog(ndc, material)\n",
    "CrossSectionIndex = axm.CrossSections.AddCircleHollow('S1', D, t)\n",
    "\n",
    "# crate nodes\n",
    "fnc = axm.Nodes.Add\n",
    "list(map(lambda c: fnc(*c), coords))\n",
    "\n",
    "# create lines\n",
    "fnc = axm.Lines.Add\n",
    "GeomType = axtlb.lgtStraightLine\n",
    "list(map(lambda x: fnc(x[0], x[1], GeomType), topo + 1))\n",
    "\n",
    "# set material and cross section\n",
    "LineAttr = axtlb.RLineAttr(\n",
    "    LineType=axtlb.ltBeam,\n",
    "    MaterialIndex=MaterialIndex,\n",
    "    StartCrossSectionIndex=CrossSectionIndex,\n",
    "    EndCrossSectionIndex=CrossSectionIndex\n",
    ")\n",
    "lineIDs = [i+1 for i in range(axm.Lines.Count)]\n",
    "attributes = [LineAttr for _ in range(axm.Lines.Count)]\n",
    "axm.Lines.BulkSetAttr(lineIDs, attributes)\n",
    "\n",
    "# essential boundary conditions\n",
    "spring = axtlb.RStiffnesses(x=1e12, y=1e12, z=1e12, xx=1e12, yy=1e12, zz=1e12)\n",
    "RNonLinearity = axtlb.RNonLinearity(\n",
    "    x=axtlb.lnlTensionAndCompression,\n",
    "    y=axtlb.lnlTensionAndCompression,\n",
    "    z=axtlb.lnlTensionAndCompression,\n",
    "    xx=axtlb.lnlTensionAndCompression,\n",
    "    yy=axtlb.lnlTensionAndCompression,\n",
    "    zz=axtlb.lnlTensionAndCompression\n",
    ")\n",
    "RResistances = axtlb.RResistances(x=0, y=0, z=0, xx=0, yy=0, zz=0)\n",
    "ebcinds = np.where(coords[:, 0] < 1e-12)[0]\n",
    "for i in ebcinds:\n",
    "    axm.NodalSupports.AddNodalGlobal(spring, RNonLinearity, RResistances, i+1)\n",
    "\n",
    "# natural boundary conditions\n",
    "load_cases = {}\n",
    "LoadCaseType = axtlb.lctStandard\n",
    "inds = np.where(coords[:, 0] > Lx - 1e-12)[0] + 1\n",
    "axm.BeginUpdate()\n",
    "for case in range(nCase):\n",
    "    name = 'LC{}'.format(case+1)\n",
    "    lcid = axm.LoadCases.Add(name, LoadCaseType)\n",
    "    pid = np.random.choice(inds)\n",
    "    Fx, Fy, Fz = 0, 0, -F\n",
    "    force = axtlb.RLoadNodalForce(\n",
    "        LoadCaseId=lcid,\n",
    "        NodeId=pid,\n",
    "        Fx=Fx, Fy=Fy, Fz=Fz,\n",
    "        Mx=0., My=0., Mz=0.,\n",
    "        ReferenceId=0\n",
    "    )\n",
    "    axm.Loads.AddNodalForce(force)\n",
    "    load_cases[lcid] = dict(name=name, id=case)\n",
    "    summary['AxisVM', name] = LinkedDeepDict(lcid=lcid, fid=pid, f=[Fx, Fy, Fz])\n",
    "axm.EndUpdate()\n",
    "\n",
    "fpath = 'console_H8_L2.axs'\n",
    "axm.SaveToFile(fpath, False)\n",
    "summary['AxisVM', 'path'] = fpath\n",
    "axm\n"
   ]
  },
  {
   "cell_type": "code",
   "execution_count": null,
   "metadata": {},
   "outputs": [],
   "source": [
    "t0 = time()\n",
    "axm.Calculation.LinearAnalysis(axtlb.cuiNoUserInteractionWithAutoCorrectNoShow)\n",
    "dt = time() - t0\n",
    "summary['AxisVM', 'proc', 'time'] = dt\n"
   ]
  },
  {
   "cell_type": "code",
   "execution_count": null,
   "metadata": {},
   "outputs": [],
   "source": [
    "nIDs = [i+1 for i in range(axm.Nodes.Count)]\n",
    "disps = axm.Results.Displacements\n",
    "disps.DisplacementSystem = axtlb.dsGlobal\n",
    "for lcid, lcdata in load_cases.items():\n",
    "    lcname = lcdata['name']\n",
    "    dofsol_case = np.zeros((axm.Nodes.Count, 3))\n",
    "    disps.LoadCaseId = lcid\n",
    "    disps.LoadLevelOrModeShapeOrTimeStep = 1\n",
    "    def fnc(i): return disps.NodalDisplacementByLoadCaseId(i)[0].ex\n",
    "    dofsol_case[:, 0] = np.array(list(map(fnc, nIDs)))\n",
    "    def fnc(i): return disps.NodalDisplacementByLoadCaseId(i)[0].ey\n",
    "    dofsol_case[:, 1] = np.array(list(map(fnc, nIDs)))\n",
    "    def fnc(i): return disps.NodalDisplacementByLoadCaseId(i)[0].ez\n",
    "    dofsol_case[:, 2] = np.array(list(map(fnc, nIDs)))\n",
    "    summary['AxisVM', lcname, 'dofsol'] = np.copy(dofsol_case)\n"
   ]
  },
  {
   "cell_type": "code",
   "execution_count": null,
   "metadata": {},
   "outputs": [],
   "source": [
    "axm.View = axtlb.vFront\n",
    "axvm.MainFormTab = axtlb.mftGeometry\n",
    "axm.FitInView()\n",
    "axm.Windows[1].screenshot()\n"
   ]
  },
  {
   "cell_type": "code",
   "execution_count": null,
   "metadata": {},
   "outputs": [],
   "source": [
    "# we want the domain to fill up the screen entirely\n",
    "axm.View = axtlb.vFront\n",
    "axvm.MainFormTab = axtlb.mftStatic\n",
    "axm.FitInView()\n",
    "\n",
    "# turn off the grid\n",
    "GridOptions = axtlb.RGridOptions(DisplayGrid=False)\n",
    "axm.Settings.SetGridOptions(GridOptions)\n",
    "\n",
    "WriteValuesTo = axtlb.RWriteValuesTo(\n",
    "    Nodes=True,\n",
    "    Lines=False,\n",
    "    Surfaces=False,\n",
    "    MinMaxOnly=True\n",
    ")\n",
    "\n",
    "BasicDispParams = axtlb.RBasicDisplayParameters_V153(\n",
    "    ResultComponent=axtlb.rc_d_eZ,\n",
    "    Scale=1.0,\n",
    "    DisplayMode=axtlb.dmDiagram,\n",
    "    DisplayShape=axtlb.dsDeformed,\n",
    "    WriteValuesTo=WriteValuesTo\n",
    ")\n",
    "\n",
    "ExtDispParams = axtlb.RExtendedDisplayParameters_V153(\n",
    "    BasicDispParams=BasicDispParams,\n",
    "    DisplayAnalysisType=axtlb.datLinear,\n",
    "    ResultType=axtlb.rtLoadCombination\n",
    ")\n",
    "\n",
    "axm.Windows.SetStaticDisplayParameters_V153(1, ExtDispParams, 2, [])\n",
    "\n",
    "axm.Windows.ReDraw()\n",
    "axvm.BringToFront()\n"
   ]
  },
  {
   "cell_type": "code",
   "execution_count": null,
   "metadata": {},
   "outputs": [],
   "source": [
    "axm.Windows[1].screenshot()\n"
   ]
  },
  {
   "cell_type": "markdown",
   "metadata": {},
   "source": [
    "## SigmaEpsilon"
   ]
  },
  {
   "cell_type": "code",
   "execution_count": null,
   "metadata": {},
   "outputs": [],
   "source": [
    "from sigmaepsilon import Structure, LineMesh, PointData\n",
    "from polymesh.space import StandardFrame\n",
    "from polymesh.utils.space import frames_of_lines\n",
    "from sigmaepsilon.fem.cells import B2 as Beam\n",
    "import numpy as np\n",
    "\n",
    "# model stiffness matrix\n",
    "material = axm.Materials.Item[MaterialIndex]\n",
    "E, nu = material.Ex, material.Nux\n",
    "section = axm.CrossSections.Item[CrossSectionIndex]\n",
    "A, Iy, Iz, Ix = section.Ax, section.Iy, section.Iz, section.Iyz\n",
    "G = E / (2 * (1 + nu))\n",
    "Hooke = np.array([\n",
    "    [E*A, 0, 0, 0],\n",
    "    [0, G*Ix, 0, 0],\n",
    "    [0, 0, E*Iy, 0],\n",
    "    [0, 0, 0, E*Iz]\n",
    "])\n",
    "\n",
    "# space\n",
    "GlobalFrame = StandardFrame(dim=3)\n",
    "\n",
    "# essential boundary conditions\n",
    "ebcinds = np.where(coords[:, 0] < 1e-12)[0]\n",
    "fixity = np.zeros((coords.shape[0], 6)).astype(bool)\n",
    "fixity[ebcinds, :] = True\n",
    "\n",
    "# natural boundary conditions\n",
    "loads = np.zeros((coords.shape[0], 6, nCase))\n",
    "for lcdata in load_cases.values():\n",
    "    lcname = lcdata['name']\n",
    "    id = lcdata['id']\n",
    "    fid = summary['AxisVM', lcname, 'fid'] - 1\n",
    "    f = summary['AxisVM', lcname, 'f']\n",
    "    loads[fid, :len(f), id] = f\n",
    "loads = loads.reshape(coords.shape[0] * 6, nCase)\n",
    "\n",
    "# pointdata\n",
    "pd = PointData(coords=coords, frame=GlobalFrame,\n",
    "               loads=loads, fixity=fixity)\n",
    "\n",
    "# celldata\n",
    "frames = frames_of_lines(coords, topo)\n",
    "cd = Beam(topo=topo, material=Hooke, frames=frames)\n",
    "\n",
    "# set up mesh and structure\n",
    "mesh = LineMesh(pd, cd, frame=GlobalFrame)\n",
    "structure = Structure(mesh=mesh)\n"
   ]
  },
  {
   "cell_type": "code",
   "execution_count": null,
   "metadata": {},
   "outputs": [],
   "source": [
    "t0 = time()\n",
    "structure.linsolve(summary=True)\n",
    "dt = time() - t0\n",
    "summary['SigEps', 'proc', 'time'] = dt\n"
   ]
  },
  {
   "cell_type": "code",
   "execution_count": null,
   "metadata": {},
   "outputs": [],
   "source": [
    "dofsol = structure.nodal_dof_solution()[:, :3, :]\n",
    "\n",
    "for lcdata in load_cases.values():\n",
    "    lcname = lcdata['name']\n",
    "    id = lcdata['id']\n",
    "    summary['SigEps', lcname, 'dofsol'] = dofsol[:, :, id]\n"
   ]
  },
  {
   "cell_type": "code",
   "execution_count": null,
   "metadata": {},
   "outputs": [],
   "source": [
    "from dewloosh.core.tools import float_to_str_sig\n",
    "from neumann import minmax\n",
    "def f4(v): return float_to_str_sig(v, sig=4)\n",
    "\n",
    "\n",
    "load_case_names = list(load_cases.values())\n",
    "\n",
    "diffs = []\n",
    "for lcdata in load_cases.values():\n",
    "    lcname = lcdata['name']\n",
    "    id = lcdata['id']\n",
    "    r_axvm = summary['AxisVM', lcname, 'dofsol'].min()\n",
    "    r_sigeps = summary['SigEps', lcname, 'dofsol'].min()\n",
    "    diffp = 100 * np.abs(r_axvm - r_sigeps) / \\\n",
    "        np.min(np.abs([r_axvm, r_sigeps]))\n",
    "    diffs.append(diffp)\n",
    "print('min : {} % \\nmax : {} %'.format(\n",
    "    *list(map(f4, minmax(np.array(diffs))))))\n"
   ]
  },
  {
   "cell_type": "code",
   "execution_count": null,
   "metadata": {},
   "outputs": [],
   "source": [
    "t_sigeps = summary['SigEps', 'proc', 'time']\n",
    "t_axvm = summary['AxisVM', 'proc', 'time']\n",
    "t_axvm / t_sigeps\n"
   ]
  }
 ],
 "metadata": {
  "kernelspec": {
   "display_name": ".sigeps",
   "language": "python",
   "name": "python3"
  },
  "language_info": {
   "codemirror_mode": {
    "name": "ipython",
    "version": 3
   },
   "file_extension": ".py",
   "mimetype": "text/x-python",
   "name": "python",
   "nbconvert_exporter": "python",
   "pygments_lexer": "ipython3",
   "version": "3.8.10"
  },
  "orig_nbformat": 4,
  "vscode": {
   "interpreter": {
    "hash": "28d81e0e1442962330764574f1956d80898814d1923baa1210fb6369a4e79b2a"
   }
  }
 },
 "nbformat": 4,
 "nbformat_minor": 2
}
