{
 "cells": [
  {
   "cell_type": "markdown",
   "metadata": {},
   "source": [
    "# **Frames**"
   ]
  },
  {
   "cell_type": "markdown",
   "metadata": {},
   "source": [
    "This notebook demonstrates how to use **SigmaEpsilon** to calculate 3d frames, and provides with some comparison to other parametric modelling frameworks."
   ]
  },
  {
   "cell_type": "markdown",
   "metadata": {},
   "source": [
    "## Input Data"
   ]
  },
  {
   "cell_type": "code",
   "execution_count": null,
   "metadata": {},
   "outputs": [],
   "source": [
    "Lx, Ly, Lz = 40., 12., 8.\n",
    "nx, ny, nz = 8, 4, 4\n",
    "\n",
    "D = 0.1  # outer diameter of the tube\n",
    "t = 0.05  # thickness of the tube\n",
    "F = 100.0\n",
    "\n",
    "nCase = 15\n"
   ]
  },
  {
   "cell_type": "code",
   "execution_count": null,
   "metadata": {},
   "outputs": [],
   "source": [
    "from polymesh.space import StandardFrame, PointCloud\n",
    "from polymesh.grid import gridH8 as grid\n",
    "from polymesh.topo.tr import H8_to_L2\n",
    "import numpy as np\n",
    "\n",
    "# mesh\n",
    "gridparams = {\n",
    "    'size': (Lx, Ly, Lz),\n",
    "    'shape': (8, 4, 4),\n",
    "    'origo': (0, 0, 0),\n",
    "    'start': 0\n",
    "}\n",
    "\n",
    "coords, topo = grid(**gridparams)\n",
    "coords, topo = H8_to_L2(coords, topo)\n",
    "\n",
    "GlobalFrame = StandardFrame(dim=3)\n",
    "\n",
    "points = PointCloud(coords, frame=GlobalFrame).centralize()\n",
    "dx = - np.array([points[:, 0].min(), 0., 0.])\n",
    "points.move(dx)\n",
    "coords = points.show()\n"
   ]
  },
  {
   "cell_type": "code",
   "execution_count": null,
   "metadata": {},
   "outputs": [],
   "source": [
    "from linkeddeepdict import LinkedDeepDict\n",
    "from time import time\n",
    "\n",
    "summary = LinkedDeepDict()\n"
   ]
  },
  {
   "cell_type": "markdown",
   "metadata": {},
   "source": [
    "## AxisVM"
   ]
  },
  {
   "cell_type": "code",
   "execution_count": null,
   "metadata": {},
   "outputs": [],
   "source": [
    "from axisvm.com.client import start_AxisVM\n",
    "axvm = start_AxisVM(visible=True, daemon=True)\n",
    "axvm\n"
   ]
  },
  {
   "cell_type": "code",
   "execution_count": null,
   "metadata": {},
   "outputs": [],
   "source": [
    "import axisvm.com.tlb as axtlb\n",
    "\n",
    "# create new model\n",
    "modelId = axvm.Models.New()\n",
    "axm = axvm.Models[modelId]\n",
    "\n",
    "# material\n",
    "ndc, material = axtlb.ndcEuroCode, \"S 235\"\n",
    "axm.Settings.NationalDesignCode = ndc\n",
    "\n",
    "# cross section\n",
    "MaterialIndex = axm.Materials.AddFromCatalog(ndc, material)\n",
    "CrossSectionIndex = axm.CrossSections.AddCircleHollow('S1', D, t)\n",
    "\n",
    "# crate nodes\n",
    "fnc = axm.Nodes.Add\n",
    "list(map(lambda c: fnc(*c), coords))\n",
    "\n",
    "# create lines\n",
    "fnc = axm.Lines.Add\n",
    "GeomType = axtlb.lgtStraightLine\n",
    "list(map(lambda x: fnc(x[0], x[1], GeomType), topo + 1))\n",
    "\n",
    "# set material and cross section\n",
    "LineAttr = axtlb.RLineAttr(\n",
    "    LineType=axtlb.ltBeam,\n",
    "    MaterialIndex=MaterialIndex,\n",
    "    StartCrossSectionIndex=CrossSectionIndex,\n",
    "    EndCrossSectionIndex=CrossSectionIndex\n",
    ")\n",
    "lineIDs = [i+1 for i in range(axm.Lines.Count)]\n",
    "attributes = [LineAttr for _ in range(axm.Lines.Count)]\n",
    "axm.Lines.BulkSetAttr(lineIDs, attributes)\n",
    "\n",
    "# essential boundary conditions\n",
    "spring = axtlb.RStiffnesses(x=1e12, y=1e12, z=1e12, xx=1e12, yy=1e12, zz=1e12)\n",
    "RNonLinearity = axtlb.RNonLinearity(\n",
    "    x=axtlb.lnlTensionAndCompression,\n",
    "    y=axtlb.lnlTensionAndCompression,\n",
    "    z=axtlb.lnlTensionAndCompression,\n",
    "    xx=axtlb.lnlTensionAndCompression,\n",
    "    yy=axtlb.lnlTensionAndCompression,\n",
    "    zz=axtlb.lnlTensionAndCompression\n",
    ")\n",
    "RResistances = axtlb.RResistances(x=0, y=0, z=0, xx=0, yy=0, zz=0)\n",
    "ebcinds = np.where(coords[:, 0] < 1e-12)[0]\n",
    "for i in ebcinds:\n",
    "    axm.NodalSupports.AddNodalGlobal(spring, RNonLinearity, RResistances, i+1)\n",
    "\n",
    "# natural boundary conditions\n",
    "load_cases = {}\n",
    "LoadCaseType = axtlb.lctStandard\n",
    "inds = np.where(coords[:, 0] > Lx - 1e-12)[0] + 1\n",
    "axm.BeginUpdate()\n",
    "for case in range(nCase):\n",
    "    name = 'LC{}'.format(case+1)\n",
    "    lcid = axm.LoadCases.Add(name, LoadCaseType)\n",
    "    pid = np.random.choice(inds)\n",
    "    Fx, Fy, Fz = 0, 0, -F\n",
    "    force = axtlb.RLoadNodalForce(\n",
    "        LoadCaseId=lcid,\n",
    "        NodeId=pid,\n",
    "        Fx=Fx, Fy=Fy, Fz=Fz,\n",
    "        Mx=0., My=0., Mz=0.,\n",
    "        ReferenceId=0\n",
    "    )\n",
    "    axm.Loads.AddNodalForce(force)\n",
    "    load_cases[lcid] = dict(name=name, id=case)\n",
    "    summary['AxisVM', name] = LinkedDeepDict(lcid=lcid, fid=pid, f=[Fx, Fy, Fz])\n",
    "axm.EndUpdate()\n",
    "\n",
    "fpath = 'console_H8_L2.axs'\n",
    "axm.SaveToFile(fpath, False)\n",
    "summary['AxisVM', 'path'] = fpath\n",
    "axm\n"
   ]
  },
  {
   "cell_type": "code",
   "execution_count": null,
   "metadata": {},
   "outputs": [],
   "source": [
    "t0 = time()\n",
    "axm.Calculation.LinearAnalysis(axtlb.cuiNoUserInteractionWithAutoCorrectNoShow)\n",
    "dt = time() - t0\n",
    "summary['AxisVM', 'proc', 'time'] = dt\n"
   ]
  },
  {
   "cell_type": "code",
   "execution_count": null,
   "metadata": {},
   "outputs": [],
   "source": [
    "nIDs = [i+1 for i in range(axm.Nodes.Count)]\n",
    "disps = axm.Results.Displacements\n",
    "disps.DisplacementSystem = axtlb.dsGlobal\n",
    "for lcid, lcdata in load_cases.items():\n",
    "    lcname = lcdata['name']\n",
    "    dofsol_case = np.zeros((axm.Nodes.Count, 3))\n",
    "    disps.LoadCaseId = lcid\n",
    "    disps.LoadLevelOrModeShapeOrTimeStep = 1\n",
    "    def fnc(i): return disps.NodalDisplacementByLoadCaseId(i)[0].ex\n",
    "    dofsol_case[:, 0] = np.array(list(map(fnc, nIDs)))\n",
    "    def fnc(i): return disps.NodalDisplacementByLoadCaseId(i)[0].ey\n",
    "    dofsol_case[:, 1] = np.array(list(map(fnc, nIDs)))\n",
    "    def fnc(i): return disps.NodalDisplacementByLoadCaseId(i)[0].ez\n",
    "    dofsol_case[:, 2] = np.array(list(map(fnc, nIDs)))\n",
    "    summary['AxisVM', lcname, 'dofsol'] = np.copy(dofsol_case)\n"
   ]
  },
  {
   "cell_type": "code",
   "execution_count": null,
   "metadata": {},
   "outputs": [],
   "source": [
    "axm.View = axtlb.vFront\n",
    "axvm.MainFormTab = axtlb.mftGeometry\n",
    "axm.FitInView()\n",
    "axm.Windows[1].screenshot()\n"
   ]
  },
  {
   "cell_type": "code",
   "execution_count": null,
   "metadata": {},
   "outputs": [],
   "source": [
    "# we want the domain to fill up the screen entirely\n",
    "axm.View = axtlb.vFront\n",
    "axvm.MainFormTab = axtlb.mftStatic\n",
    "axm.FitInView()\n",
    "\n",
    "# turn off the grid\n",
    "GridOptions = axtlb.RGridOptions(DisplayGrid=False)\n",
    "axm.Settings.SetGridOptions(GridOptions)\n",
    "\n",
    "WriteValuesTo = axtlb.RWriteValuesTo(\n",
    "    Nodes=True,\n",
    "    Lines=False,\n",
    "    Surfaces=False,\n",
    "    MinMaxOnly=True\n",
    ")\n",
    "\n",
    "BasicDispParams = axtlb.RBasicDisplayParameters_V153(\n",
    "    ResultComponent=axtlb.rc_d_eZ,\n",
    "    Scale=1.0,\n",
    "    DisplayMode=axtlb.dmDiagram,\n",
    "    DisplayShape=axtlb.dsDeformed,\n",
    "    WriteValuesTo=WriteValuesTo\n",
    ")\n",
    "\n",
    "ExtDispParams = axtlb.RExtendedDisplayParameters_V153(\n",
    "    BasicDispParams=BasicDispParams,\n",
    "    DisplayAnalysisType=axtlb.datLinear,\n",
    "    ResultType=axtlb.rtLoadCombination\n",
    ")\n",
    "\n",
    "axm.Windows.SetStaticDisplayParameters_V153(1, ExtDispParams, 2, [])\n",
    "\n",
    "axm.Windows.ReDraw()\n",
    "axvm.BringToFront()\n"
   ]
  },
  {
   "cell_type": "code",
   "execution_count": null,
   "metadata": {},
   "outputs": [],
   "source": [
    "axm.Windows[1].screenshot()\n"
   ]
  },
  {
   "cell_type": "markdown",
   "metadata": {},
   "source": [
    "## AxisVM Experimental"
   ]
  },
  {
   "cell_type": "code",
   "execution_count": null,
   "metadata": {},
   "outputs": [],
   "source": [
    "coords = axm.coords()\n",
    "topo_members = axm.Members.topology()\n"
   ]
  },
  {
   "cell_type": "markdown",
   "metadata": {},
   "source": [
    "## SigmaEpsilon"
   ]
  },
  {
   "cell_type": "code",
   "execution_count": null,
   "metadata": {},
   "outputs": [],
   "source": [
    "from sigmaepsilon.solid import Structure, LineMesh, PointData\n",
    "from polymesh.space import StandardFrame, frames_of_lines\n",
    "from sigmaepsilon.solid.fem.cells import B2 as Beam\n",
    "import numpy as np\n",
    "\n",
    "# model stiffness matrix\n",
    "material = axm.Materials.Item[MaterialIndex]\n",
    "E, nu = material.Ex, material.Nux\n",
    "section = axm.CrossSections.Item[CrossSectionIndex]\n",
    "A, Iy, Iz, Ix = section.Ax, section.Iy, section.Iz, section.Iyz\n",
    "G = E / (2 * (1 + nu))\n",
    "Hooke = np.array([\n",
    "    [E*A, 0, 0, 0],\n",
    "    [0, G*Ix, 0, 0],\n",
    "    [0, 0, E*Iy, 0],\n",
    "    [0, 0, 0, E*Iz]\n",
    "])\n",
    "\n",
    "# space\n",
    "GlobalFrame = StandardFrame(dim=3)\n",
    "\n",
    "# essential boundary conditions\n",
    "ebcinds = np.where(coords[:, 0] < 1e-12)[0]\n",
    "fixity = np.zeros((coords.shape[0], 6)).astype(bool)\n",
    "fixity[ebcinds, :] = True\n",
    "\n",
    "# natural boundary conditions\n",
    "loads = np.zeros((coords.shape[0], 6, nCase))\n",
    "for lcdata in load_cases.values():\n",
    "    lcname = lcdata['name']\n",
    "    id = lcdata['id']\n",
    "    fid = summary['AxisVM', lcname, 'fid'] - 1\n",
    "    f = summary['AxisVM', lcname, 'f']\n",
    "    loads[fid, :len(f), id] = f\n",
    "loads = loads.reshape(coords.shape[0] * 6, nCase)\n",
    "\n",
    "# pointdata\n",
    "pd = PointData(coords=coords, frame=GlobalFrame,\n",
    "               loads=loads, fixity=fixity)\n",
    "\n",
    "# celldata\n",
    "frames = frames_of_lines(coords, topo)\n",
    "cd = Beam(topo=topo, frames=frames)\n",
    "\n",
    "# set up mesh and structure\n",
    "mesh = LineMesh(pd, cd, model=Hooke, frame=GlobalFrame)\n",
    "structure = Structure(mesh=mesh)\n"
   ]
  },
  {
   "cell_type": "code",
   "execution_count": null,
   "metadata": {},
   "outputs": [],
   "source": [
    "t0 = time()\n",
    "structure.linsolve(summary=True)\n",
    "dt = time() - t0\n",
    "summary['SigEps', 'proc', 'time'] = dt\n"
   ]
  },
  {
   "cell_type": "code",
   "execution_count": null,
   "metadata": {},
   "outputs": [],
   "source": [
    "dofsol = structure.nodal_dof_solution()[:, :3, :]\n",
    "\n",
    "for lcdata in load_cases.values():\n",
    "    lcname = lcdata['name']\n",
    "    id = lcdata['id']\n",
    "    summary['SigEps', lcname, 'dofsol'] = dofsol[:, :, id]\n"
   ]
  },
  {
   "cell_type": "code",
   "execution_count": null,
   "metadata": {},
   "outputs": [],
   "source": [
    "from dewloosh.core.tools import float_to_str_sig\n",
    "from neumann.array import minmax\n",
    "def f4(v): return float_to_str_sig(v, sig=4)\n",
    "\n",
    "\n",
    "load_case_names = list(load_cases.values())\n",
    "\n",
    "diffs = []\n",
    "for lcdata in load_cases.values():\n",
    "    lcname = lcdata['name']\n",
    "    id = lcdata['id']\n",
    "    r_axvm = summary['AxisVM', lcname, 'dofsol'].min()\n",
    "    r_sigeps = summary['SigEps', lcname, 'dofsol'].min()\n",
    "    diffp = 100 * np.abs(r_axvm - r_sigeps) / \\\n",
    "        np.min(np.abs([r_axvm, r_sigeps]))\n",
    "    diffs.append(diffp)\n",
    "print('min : {} % \\nmax : {} %'.format(\n",
    "    *list(map(f4, minmax(np.array(diffs))))))\n"
   ]
  },
  {
   "cell_type": "code",
   "execution_count": null,
   "metadata": {},
   "outputs": [],
   "source": [
    "t_sigeps = summary['SigEps', 'proc', 'time']\n",
    "t_axvm = summary['AxisVM', 'proc', 'time']\n",
    "t_axvm / t_sigeps\n"
   ]
  },
  {
   "cell_type": "markdown",
   "metadata": {},
   "source": [
    "# **Plotting**"
   ]
  },
  {
   "cell_type": "markdown",
   "metadata": {},
   "source": [
    "## Plotly"
   ]
  },
  {
   "cell_type": "code",
   "execution_count": null,
   "metadata": {},
   "outputs": [],
   "source": [
    "mesh.plot_dof_solution(case=0)\n"
   ]
  },
  {
   "cell_type": "markdown",
   "metadata": {},
   "source": [
    "### Plotly with JupyterDash"
   ]
  },
  {
   "cell_type": "markdown",
   "metadata": {},
   "source": [
    "This requires ``jupyter-dash`` to be installed!"
   ]
  },
  {
   "cell_type": "code",
   "execution_count": null,
   "metadata": {},
   "outputs": [],
   "source": [
    "import plotly.express as px\n",
    "from jupyter_dash import JupyterDash\n",
    "from dash import dcc, html\n",
    "from dash.dependencies import Input, Output\n",
    "from polymesh.plotting.plotly import plot_lines_3d\n",
    "\n",
    "# Build App\n",
    "app = JupyterDash(__name__)\n",
    "app.layout = html.Div([\n",
    "    html.H1(\"Plotly | JupyterDash\"),\n",
    "    dcc.Graph(id='graph'),\n",
    "    html.Label([\n",
    "        \"colorscale\",\n",
    "        dcc.Dropdown(\n",
    "            id='colorscale-dropdown', clearable=False,\n",
    "            value='plasma', options=[\n",
    "                {'label': c, 'value': c}\n",
    "                for c in px.colors.named_colorscales()\n",
    "            ])\n",
    "    ]),\n",
    "])\n",
    "\n",
    "# Define callback to update graph\n",
    "@app.callback(\n",
    "    Output('graph', 'figure'),\n",
    "    [Input(\"colorscale-dropdown\", \"value\")]\n",
    ")\n",
    "def update_figure(colorscale):\n",
    "    return mesh.plot_dof_solution(case=0)\n",
    "\n",
    "\n",
    "# Run app and display result inline in the notebook\n",
    "app.run_server(mode='inline')\n"
   ]
  },
  {
   "cell_type": "markdown",
   "metadata": {},
   "source": [
    "### Plotly with JupyterDash and VTK"
   ]
  },
  {
   "cell_type": "markdown",
   "metadata": {},
   "source": [
    "This requires ``dash-vtk`` to be installed!"
   ]
  },
  {
   "cell_type": "code",
   "execution_count": null,
   "metadata": {},
   "outputs": [],
   "source": [
    "from jupyter_dash import JupyterDash\n",
    "from dash import html\n",
    "\n",
    "import dash_vtk\n",
    "from dash_vtk.utils import to_mesh_state\n",
    "\n",
    "# Use VTK to get some data\n",
    "ugrid = mesh.to_vtk()\n",
    "mesh_state = to_mesh_state(ugrid)\n",
    "vtk_content = dash_vtk.View([\n",
    "    dash_vtk.GeometryRepresentation(\n",
    "        children=[dash_vtk.Mesh(state=mesh_state)],\n",
    "        property={\n",
    "            \"lineWidth \": 10,\n",
    "            \"representation\": 1,\n",
    "            \"edgeColor\": (0, 0, 0),\n",
    "            \"color\": (1, 1, 1),\n",
    "            \"edgeVisibility \": True\n",
    "        },\n",
    "    ),\n",
    "],\n",
    "    background=[1, 1, 1])\n",
    "\n",
    "# Build App\n",
    "app = JupyterDash(__name__)\n",
    "app.layout = html.Div(\n",
    "    style={\"width\": \"100%\", \"height\": \"400px\"},\n",
    "    children=[\n",
    "        html.H1(\"Plotly | JupyterDash | VTK\"),\n",
    "        vtk_content\n",
    "    ],\n",
    ")\n",
    "\n",
    "# Run app and display result inline in the notebook\n",
    "app.run_server(mode='inline')\n"
   ]
  }
 ],
 "metadata": {
  "kernelspec": {
   "display_name": "Python 3.8.10 ('.venv': venv)",
   "language": "python",
   "name": "python3"
  },
  "language_info": {
   "codemirror_mode": {
    "name": "ipython",
    "version": 3
   },
   "file_extension": ".py",
   "mimetype": "text/x-python",
   "name": "python",
   "nbconvert_exporter": "python",
   "pygments_lexer": "ipython3",
   "version": "3.8.10"
  },
  "orig_nbformat": 4,
  "vscode": {
   "interpreter": {
    "hash": "81af22673e51a55db93ad07d3dd2d272490ff9da1a60e01b8f0931d11d215c80"
   }
  }
 },
 "nbformat": 4,
 "nbformat_minor": 2
}
