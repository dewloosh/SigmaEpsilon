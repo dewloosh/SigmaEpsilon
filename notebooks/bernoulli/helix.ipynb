{
 "cells": [
  {
   "cell_type": "markdown",
   "metadata": {},
   "source": [
    "# Helix"
   ]
  },
  {
   "cell_type": "code",
   "execution_count": 1,
   "metadata": {},
   "outputs": [
    {
     "data": {
      "text/plain": [
       "(0.5403023058681398, 0.8414709848078965, 5)"
      ]
     },
     "execution_count": 1,
     "metadata": {},
     "output_type": "execute_result"
    }
   ],
   "source": [
    "from polymesh.recipes import circular_helix\n",
    "fnc = circular_helix(1, 5)\n",
    "fnc(1)"
   ]
  },
  {
   "cell_type": "code",
   "execution_count": 2,
   "metadata": {},
   "outputs": [],
   "source": [
    "from polymesh.space import CartesianFrame\n",
    "from polymesh import PolyData, LineData\n",
    "import numpy as np\n",
    "\n",
    "frame = CartesianFrame(dim=3)\n",
    "\n",
    "space = np.linspace(0, 20*np.pi, 300)\n",
    "coords = np.array(list(map(circular_helix(8, 2), space)))\n",
    "topo = np.zeros((coords.shape[0]-1, 2))\n",
    "topo[:, 0] = np.arange(topo.shape[0])\n",
    "topo[:, 1] = topo[:, 0] + 1\n",
    "topo = topo.astype(int)\n",
    "\n",
    "mesh = PolyData(coords=coords, frame=frame)\n",
    "mesh['helix'] = LineData(topo=topo, frame=frame)\n",
    "\n",
    "mesh.plot(notebook=False)"
   ]
  },
  {
   "cell_type": "code",
   "execution_count": 3,
   "metadata": {},
   "outputs": [
    {
     "data": {
      "text/plain": [
       "(array([8., 0., 0.]),\n",
       " array([ 8.00000000e+00, -1.95943488e-14,  1.25663706e+02]))"
      ]
     },
     "execution_count": 3,
     "metadata": {},
     "output_type": "execute_result"
    }
   ],
   "source": [
    "coords[0], coords[-1]"
   ]
  },
  {
   "cell_type": "code",
   "execution_count": 4,
   "metadata": {},
   "outputs": [],
   "source": [
    "from sigmaepsilon import Structure, LineMesh, PointData\n",
    "from neumann.linalg import linspace, Vector\n",
    "from polymesh.space import StandardFrame, PointCloud\n",
    "from polymesh.utils.space import frames_of_lines\n",
    "from sigmaepsilon.fem.cells import B2 as Beam\n",
    "\n",
    "import numpy as np\n",
    "from numpy import pi as PI\n",
    "\n",
    "w, h = 10., 10.  # width and height of the rectangular cross section\n",
    "F = 10000.  # value of the vertical load at the free end\n",
    "E = 210000.0  # Young's modulus\n",
    "nu = 0.3  # Poisson's ratio\n",
    "\n",
    "# cross section\n",
    "A = w * h  # area\n",
    "Iy = w * h**3 / 12  # second moment of inertia around the y axis\n",
    "Iz = w * h**3 / 12  # second moment of inertia around the z axis\n",
    "Ix = Iy + Iz  # torsional inertia\n",
    "\n",
    "# model stiffness matrix\n",
    "G = E / (2 * (1 + nu))\n",
    "Hooke = np.array([\n",
    "    [E*A, 0, 0, 0],\n",
    "    [0, G*Ix, 0, 0],\n",
    "    [0, 0, E*Iy, 0],\n",
    "    [0, 0, 0, E*Iz]\n",
    "])\n",
    "\n",
    "# space\n",
    "GlobalFrame = StandardFrame(dim=3)\n",
    "\n",
    "# support at the first, load at the last node\n",
    "loads = np.zeros((coords.shape[0], 6))\n",
    "fixity = np.zeros((coords.shape[0], 6)).astype(bool)\n",
    "global_load_vector = Vector([0., 0, F], frame=GlobalFrame).show()\n",
    "loads[-1, :3] = global_load_vector\n",
    "fixity[0, :] = True\n",
    "\n",
    "# pointdata\n",
    "pd = PointData(coords=coords, frame=GlobalFrame,\n",
    "               loads=loads, fixity=fixity)\n",
    "\n",
    "# celldata\n",
    "frames = frames_of_lines(coords, topo)\n",
    "cd = Beam(topo=topo, frames=frames)\n",
    "\n",
    "# set up mesh and structure\n",
    "mesh = LineMesh(pd, cd, model=Hooke, frame=GlobalFrame)\n",
    "structure = Structure(mesh=mesh)\n",
    "structure.linsolve()\n",
    "\n",
    "# postproc\n",
    "# 1) displace the mesh\n",
    "dofsol = structure.nodal_dof_solution(store='dofsol')\n",
    "forces = structure.nodal_forces()\n",
    "reactions = structure.reaction_forces()\n"
   ]
  },
  {
   "cell_type": "code",
   "execution_count": 5,
   "metadata": {},
   "outputs": [
    {
     "data": {
      "text/plain": [
       "(array([-1.69533299e+01,  7.70038552e-01,  4.57891296e+00, -1.05684463e-10,\n",
       "        -2.69820626e-01,  1.66253126e-02]),\n",
       " array([    0.,     0., 10000.,     0.,     0.,     0.]),\n",
       " array([-2.66161003e-06, -1.50777678e-07, -1.00000000e+04,  3.10896019e-05,\n",
       "        -3.76386212e-04, -1.35950297e-05]))"
      ]
     },
     "execution_count": 5,
     "metadata": {},
     "output_type": "execute_result"
    }
   ],
   "source": [
    "dofsol[-1], forces[-1], reactions[0]"
   ]
  },
  {
   "cell_type": "code",
   "execution_count": 6,
   "metadata": {},
   "outputs": [
    {
     "data": {
      "text/plain": [
       "(10000.0, -10000.000005007245)"
      ]
     },
     "execution_count": 6,
     "metadata": {},
     "output_type": "execute_result"
    }
   ],
   "source": [
    "forces[-1, 2], reactions[0, 2]"
   ]
  }
 ],
 "metadata": {
  "kernelspec": {
   "display_name": ".sigeps",
   "language": "python",
   "name": "python3"
  },
  "language_info": {
   "codemirror_mode": {
    "name": "ipython",
    "version": 3
   },
   "file_extension": ".py",
   "mimetype": "text/x-python",
   "name": "python",
   "nbconvert_exporter": "python",
   "pygments_lexer": "ipython3",
   "version": "3.8.10"
  },
  "orig_nbformat": 4,
  "vscode": {
   "interpreter": {
    "hash": "28d81e0e1442962330764574f1956d80898814d1923baa1210fb6369a4e79b2a"
   }
  }
 },
 "nbformat": 4,
 "nbformat_minor": 2
}
