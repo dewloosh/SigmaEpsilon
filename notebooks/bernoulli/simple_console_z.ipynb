{
 "cells": [
  {
   "cell_type": "code",
   "execution_count": 1,
   "metadata": {},
   "outputs": [],
   "source": [
    "from sigmaepsilon.solid.fem.cells import B2 as Beam\n",
    "#from sigmaepsilon.solid.fem.cells import B3 as Beam\n",
    "import numpy as np\n",
    "\n",
    "L, d, t = 1000.0, 700.0, 10.0\n",
    "E, nu = 210000.0, 0.25\n",
    "F = 1000.0\n",
    "n = 2  # number of element\n",
    "penalty = 1e20  # penalty value"
   ]
  },
  {
   "cell_type": "code",
   "execution_count": 2,
   "metadata": {},
   "outputs": [],
   "source": [
    "from linkeddeepdict import LinkedDeepDict\n",
    "from linkeddeepdict.tools import getallfromkwargs\n",
    "from neumann.linalg import Vector\n",
    "from neumann.linalg import linspace\n",
    "from neumann import repeat\n",
    "from polymesh.space import StandardFrame, PointCloud, frames_of_lines\n",
    "from polymesh.utils.space import index_of_closest_point, index_of_furthest_point\n",
    "from polymesh.utils.topology import L2_to_L3\n",
    "from sigmaepsilon.solid import Structure, LineMesh, PointData\n",
    "from sigmaepsilon.solid import BeamSection\n",
    "\n",
    "# section\n",
    "section = BeamSection('CHS', d=d, t=t, n=32)\n",
    "section.calculate_section_properties()\n",
    "section_props = section.section_properties\n",
    "A, Ix, Iy, Iz = getallfromkwargs(['A', 'Ix', 'Iy', 'Iz'], **section_props)\n",
    "\n",
    "# material\n",
    "G = E / (2 * (1 + nu))\n",
    "Hooke = np.array([\n",
    "    [E*A, 0, 0, 0],\n",
    "    [0, G*Ix, 0, 0],\n",
    "    [0, 0, E*Iy, 0],\n",
    "    [0, 0, 0, E*Iz]\n",
    "])\n",
    "\n",
    "# space\n",
    "GlobalFrame = StandardFrame(dim=3)\n",
    "\n",
    "# mesh\n",
    "p0 = np.array([0., 0., 0.])\n",
    "p1 = np.array([0., 0., L])\n",
    "coords = linspace(p0, p1, n+1)\n",
    "topo = np.zeros((n, 2), dtype=int)\n",
    "topo[:, 0] = np.arange(n)\n",
    "topo[:, 1] = np.arange(n) + 1\n",
    "if Beam.NNODE == 3:\n",
    "    coords, topo = L2_to_L3(coords, topo)\n",
    "i_first = index_of_closest_point(coords, np.array([0., 0., 0.]))\n",
    "i_last = index_of_furthest_point(coords, np.array([0., 0., 0.]))\n",
    "\n",
    "# essential boundary conditions\n",
    "fixity = np.zeros((coords.shape[0], 6)).astype(bool)\n",
    "fixity[i_first, :] = True\n",
    "fixity = fixity.astype(float) * penalty\n",
    "\n",
    "# natural boundary conditions\n",
    "nodal_loads = np.zeros((coords.shape[0], 6))\n",
    "nodal_loads[i_last, 0] = -F\n",
    "\n",
    "# pointdata\n",
    "pd = PointData(coords=coords, frame=GlobalFrame,\n",
    "               loads=nodal_loads, fixity=fixity)\n",
    "\n",
    "# celldata\n",
    "frame = np.array([[0., 0., 1.], \n",
    "                  [0., 1., 0.], \n",
    "                  [-1., 0., 0.]])\n",
    "frames = repeat(frame, topo.shape[0])\n",
    "cd = Beam(topo=topo, frames=frames)\n",
    "\n",
    "# set up mesh and structure\n",
    "mesh = LineMesh(pd, cd, model=Hooke, frame=GlobalFrame)\n",
    "structure = Structure(mesh=mesh)\n",
    "\n",
    "structure.linsolve()\n",
    "dofsol = structure.nodal_dof_solution(store='dofsol')"
   ]
  },
  {
   "cell_type": "code",
   "execution_count": 3,
   "metadata": {},
   "outputs": [
    {
     "data": {
      "text/plain": [
       "(-0.0012460796665290223, -0.0012460796765290329)"
      ]
     },
     "execution_count": 3,
     "metadata": {},
     "output_type": "execute_result"
    }
   ],
   "source": [
    "-F * L**3 / (3 * E * Iz), dofsol[i_last, 0]\n"
   ]
  },
  {
   "cell_type": "code",
   "execution_count": 4,
   "metadata": {},
   "outputs": [
    {
     "data": {
      "text/plain": [
       "(1.8691194997935332e-06, 1.8691195097935335e-06)"
      ]
     },
     "execution_count": 4,
     "metadata": {},
     "output_type": "execute_result"
    }
   ],
   "source": [
    "F * L**2 / (2 * E * Iz), dofsol[i_last, 4]"
   ]
  }
 ],
 "metadata": {
  "kernelspec": {
   "display_name": "Python 3.8.10 ('.sigeps': venv)",
   "language": "python",
   "name": "python3"
  },
  "language_info": {
   "codemirror_mode": {
    "name": "ipython",
    "version": 3
   },
   "file_extension": ".py",
   "mimetype": "text/x-python",
   "name": "python",
   "nbconvert_exporter": "python",
   "pygments_lexer": "ipython3",
   "version": "3.8.10"
  },
  "orig_nbformat": 4,
  "vscode": {
   "interpreter": {
    "hash": "28d81e0e1442962330764574f1956d80898814d1923baa1210fb6369a4e79b2a"
   }
  }
 },
 "nbformat": 4,
 "nbformat_minor": 2
}
