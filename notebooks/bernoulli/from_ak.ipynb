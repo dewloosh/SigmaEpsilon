{
 "cells": [
  {
   "cell_type": "markdown",
   "metadata": {},
   "source": [
    "# Title"
   ]
  },
  {
   "cell_type": "code",
   "execution_count": 69,
   "metadata": {},
   "outputs": [],
   "source": [
    "from sigmaepsilon import Structure, LineMesh, PointData\n",
    "from sigmaepsilon.fem.cells import B3 as Beam\n",
    "from polymesh.space import StandardFrame\n",
    "import numpy as np\n",
    "import awkward as ak"
   ]
  },
  {
   "cell_type": "code",
   "execution_count": 70,
   "metadata": {},
   "outputs": [],
   "source": [
    "pddb = ak.from_parquet('pd.pa')\n",
    "cddb = ak.from_parquet('cd.pa')"
   ]
  },
  {
   "cell_type": "code",
   "execution_count": 71,
   "metadata": {},
   "outputs": [],
   "source": [
    "GlobalFrame = StandardFrame(dim=3)\n",
    "\n",
    "pd = PointData(db=pddb, frame=GlobalFrame)\n",
    "\n",
    "# celldata\n",
    "cd = Beam(db=cddb)\n",
    "\n",
    "# set up mesh and structure\n",
    "mesh = LineMesh(pd, cd, frame=GlobalFrame)\n",
    "structure = Structure(mesh=mesh)\n",
    "\n",
    "# \n",
    "structure.linsolve()\n",
    "d = structure.nodal_dof_solution(store='dofsol')\n",
    "r = structure.reaction_forces()\n",
    "f = structure.internal_forces()"
   ]
  },
  {
   "cell_type": "code",
   "execution_count": 72,
   "metadata": {},
   "outputs": [],
   "source": [
    "coords = pd.x\n",
    "i = np.where(coords[:, 0] == coords[:, 0].max())[0]"
   ]
  },
  {
   "cell_type": "code",
   "execution_count": 73,
   "metadata": {},
   "outputs": [
    {
     "data": {
      "text/plain": [
       "(0.0, 0.0)"
      ]
     },
     "execution_count": 73,
     "metadata": {},
     "output_type": "execute_result"
    }
   ],
   "source": [
    "from neumann import minmax\n",
    "minmax(d)"
   ]
  }
 ],
 "metadata": {
  "kernelspec": {
   "display_name": ".sigeps",
   "language": "python",
   "name": "python3"
  },
  "language_info": {
   "codemirror_mode": {
    "name": "ipython",
    "version": 3
   },
   "file_extension": ".py",
   "mimetype": "text/x-python",
   "name": "python",
   "nbconvert_exporter": "python",
   "pygments_lexer": "ipython3",
   "version": "3.8.10"
  },
  "orig_nbformat": 4,
  "vscode": {
   "interpreter": {
    "hash": "28d81e0e1442962330764574f1956d80898814d1923baa1210fb6369a4e79b2a"
   }
  }
 },
 "nbformat": 4,
 "nbformat_minor": 2
}
