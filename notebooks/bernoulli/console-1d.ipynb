{
    "cells": [
        {
            "cell_type": "markdown",
            "metadata": {},
            "source": [
                "# Linear Elastic Console in 1d"
            ]
        },
        {
            "cell_type": "code",
            "execution_count": 2,
            "metadata": {},
            "outputs": [],
            "source": [
                "from sigmaepsilon import Structure, LineMesh, PointData\n",
                "from neumann.linalg import linspace, Vector\n",
                "from polymesh.space import StandardFrame, PointCloud\n",
                "from polymesh.utils.space import frames_of_lines\n",
                "from sigmaepsilon.fem.cells import B2\n",
                "import numpy as np\n",
                "\n",
                "L = 100.  # length of the console\n",
                "w, h = 10., 10.  # width and height of the rectangular cross section\n",
                "F = -100.  # value of the vertical load at the free end\n",
                "E = 210000.0  # Young's modulus\n",
                "nu = 0.3  # Poisson's ratio\n",
                "\n",
                "# cross section\n",
                "A = w * h  # area\n",
                "Iy = w * h**3 / 12  # second moment of inertia around the y axis\n",
                "Iz = h * w**3 / 12  # second moment of inertia around the z axis\n",
                "Ix = Iy + Iz  # torsional inertia\n",
                "\n",
                "# model stiffness matrix\n",
                "G = E / (2 * (1 + nu))\n",
                "Hooke = np.array([\n",
                "    [E*A, 0, 0, 0],\n",
                "    [0, G*Ix, 0, 0],\n",
                "    [0, 0, E*Iy, 0],\n",
                "    [0, 0, 0, E*Iz]\n",
                "])\n",
                "\n",
                "# space\n",
                "GlobalFrame = StandardFrame(dim=3)\n",
                "\n",
                "# mesh\n",
                "nElem = 20  # number of finite elements to use\n",
                "p0 = np.array([0., 0., 0.])\n",
                "p1 = np.array([L, 0., 0.])\n",
                "coords = linspace(p0, p1, nElem+1)\n",
                "coords = PointCloud(coords, frame=GlobalFrame).show()\n",
                "topo = np.zeros((nElem, 2), dtype=int)\n",
                "topo[:, 0] = np.arange(nElem)\n",
                "topo[:, 1] = np.arange(nElem) + 1\n",
                "\n",
                "# support at the leftmost, load at the rightmost node\n",
                "nodal_loads = np.zeros((coords.shape[0], 6))\n",
                "cell_loads = np.zeros((topo.shape[0], topo.shape[1], 6))\n",
                "fixity = np.zeros((coords.shape[0], 6)).astype(bool)\n",
                "global_load_vector = Vector([0., 0, F], frame=GlobalFrame).show()\n",
                "nodal_loads[-1, :3] = global_load_vector\n",
                "fixity[0, :] = True\n",
                "\n",
                "# pointdata\n",
                "pd = PointData(coords=coords, frame=GlobalFrame,\n",
                "               loads=nodal_loads, fixity=fixity)\n",
                "\n",
                "# celldata\n",
                "frames = frames_of_lines(coords, topo)\n",
                "cd = B2(topo=topo, frames=frames, loads=cell_loads)\n",
                "\n",
                "# set up mesh and structure\n",
                "mesh = LineMesh(pd, cd, model=Hooke, frame=GlobalFrame)\n",
                "structure = Structure(mesh=mesh)\n",
                "\n",
                "structure.linsolve()\n",
                "dofsol = structure.nodal_dof_solution()\n"
            ]
        }
    ],
    "metadata": {
        "kernelspec": {
            "display_name": "Python 3.8.10 ('.sigeps': venv)",
            "language": "python",
            "name": "python3"
        },
        "language_info": {
            "codemirror_mode": {
                "name": "ipython",
                "version": 3
            },
            "file_extension": ".py",
            "mimetype": "text/x-python",
            "name": "python",
            "nbconvert_exporter": "python",
            "pygments_lexer": "ipython3",
            "version": "3.8.10"
        },
        "orig_nbformat": 4,
        "vscode": {
            "interpreter": {
                "hash": "5facf25dadae24d0f6f3d9b821e9851478f51388ee31821a60476e833f1169c6"
            }
        }
    },
    "nbformat": 4,
    "nbformat_minor": 2
}
