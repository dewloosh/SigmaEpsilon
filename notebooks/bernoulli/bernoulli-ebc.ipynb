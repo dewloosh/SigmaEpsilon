{
    "cells": [
        {
            "cell_type": "markdown",
            "metadata": {},
            "source": [
                "# Essential Boundary Conditions"
            ]
        },
        {
            "cell_type": "markdown",
            "metadata": {},
            "source": [
                "The following snippets illustrates different ways of defining essential boundary conditions. First we create a mesh of a simple beam with a rectangular cross section:"
            ]
        },
        {
            "cell_type": "code",
            "execution_count": 1,
            "metadata": {},
            "outputs": [],
            "source": [
                "from neumann.linalg import linspace\n",
                "from neumann.array import repeat, minmax\n",
                "from polymesh.space import (StandardFrame, PointCloud)\n",
                "from sigmaepsilon.solid.fem import (Structure, LineMesh, \n",
                "                                    PointData, NodalSupport)\n",
                "from sigmaepsilon.solid.fem.cells import B2\n",
                "import numpy as np\n",
                "\n",
                "L = 100.  # length of the console\n",
                "w, h = 10., 10.  # width and height of the rectangular cross section\n",
                "F = -100.  # value of the vertical load at the free end\n",
                "E = 210000.0  # Young's modulus\n",
                "nu = 0.3  # Poisson's ratio\n",
                "\n",
                "# cross section\n",
                "A = w * h  # area\n",
                "Iy = w * h**3 / 12  # second moment of inertia around the y axis\n",
                "Iz = h * w**3 / 12  # second moment of inertia around the z axis\n",
                "Ix = Iy + Iz  # torsional inertia\n",
                "\n",
                "# model stiffness matrix\n",
                "G = E / (2 * (1 + nu))\n",
                "Hooke = np.array([\n",
                "    [E*A, 0, 0, 0],\n",
                "    [0, G*Ix, 0, 0],\n",
                "    [0, 0, E*Iy, 0],\n",
                "    [0, 0, 0, E*Iz]\n",
                "])\n",
                "\n",
                "# space\n",
                "GlobalFrame = StandardFrame(dim=3)\n",
                "\n",
                "# mesh\n",
                "nElem = 20  # number of finite elements to use\n",
                "p0 = np.array([0., 0., 0.])\n",
                "p1 = np.array([L, 0., 0.])\n",
                "coords = linspace(p0, p1, nElem+1)\n",
                "coords = PointCloud(coords, frame=GlobalFrame).show()\n",
                "topo = np.zeros((nElem, 2), dtype=int)\n",
                "topo[:, 0] = np.arange(nElem)\n",
                "topo[:, 1] = np.arange(nElem) + 1\n",
                "\n",
                "# load at the rightmost node\n",
                "nodal_loads = np.zeros((coords.shape[0], 6))\n",
                "nodal_loads[-1, 2] = F"
            ]
        },
        {
            "cell_type": "markdown",
            "metadata": {},
            "source": [
                "One way to define the boundary conditions is through a boolean array called 'fixity' on the associated pointcloud:"
            ]
        },
        {
            "cell_type": "code",
            "execution_count": 2,
            "metadata": {},
            "outputs": [
                {
                    "data": {
                        "text/plain": [
                            "(-0.19047719057601065, 0.0028571528571387592)"
                        ]
                    },
                    "execution_count": 2,
                    "metadata": {},
                    "output_type": "execute_result"
                }
            ],
            "source": [
                "# support at the leftmost node\n",
                "fixity = np.zeros((coords.shape[0], 6)).astype(bool)\n",
                "fixity[0, :] = True\n",
                "\n",
                "# pointdata\n",
                "pd = PointData(coords=coords, frame=GlobalFrame,\n",
                "               loads=nodal_loads, fixity=fixity)\n",
                "\n",
                "# celldata\n",
                "frames = repeat(GlobalFrame.show(), topo.shape[0])\n",
                "cd = B2(topo=topo, frames=frames)\n",
                "\n",
                "# set up mesh and structure\n",
                "mesh = LineMesh(pd, cd, model=Hooke, frame=GlobalFrame)\n",
                "structure = Structure(mesh=mesh)\n",
                "\n",
                "structure.linsolve()\n",
                "dofsol = structure.nodal_dof_solution()\n",
                "minmax(dofsol)"
            ]
        },
        {
            "cell_type": "markdown",
            "metadata": {},
            "source": [
                "Definition of the same condition using classes:"
            ]
        },
        {
            "cell_type": "code",
            "execution_count": 3,
            "metadata": {},
            "outputs": [
                {
                    "data": {
                        "text/plain": [
                            "(-0.19047719057601065, 0.0028571528571387592)"
                        ]
                    },
                    "execution_count": 3,
                    "metadata": {},
                    "output_type": "execute_result"
                }
            ],
            "source": [
                "# support at the leftmost node\n",
                "support = NodalSupport(x=[0, 0, 0], \n",
                "                       UX = 0., UY=0., UZ=0., \n",
                "                       UXX = 0., UYY=0., UZZ=0.)\n",
                "\n",
                "# pointdata\n",
                "pd = PointData(coords=coords, frame=GlobalFrame,\n",
                "               loads=nodal_loads)\n",
                "\n",
                "# celldata\n",
                "frames = repeat(GlobalFrame.show(), topo.shape[0])\n",
                "cd = B2(topo=topo, frames=frames)\n",
                "\n",
                "# set up mesh and structure\n",
                "mesh = LineMesh(pd, cd, model=Hooke, frame=GlobalFrame)\n",
                "structure = Structure(mesh=mesh)\n",
                "# add the nodal constraints\n",
                "structure.constraints.append(support)\n",
                "\n",
                "structure.linsolve()\n",
                "dofsol = structure.nodal_dof_solution()\n",
                "minmax(dofsol)"
            ]
        },
        {
            "cell_type": "markdown",
            "metadata": {},
            "source": [
                "The object oriented approach can also be used to define inclined supports, by passing an arbitrary frame. The following blocks define a simply supported beam with the support on the right side being inclined:"
            ]
        },
        {
            "cell_type": "code",
            "execution_count": 4,
            "metadata": {},
            "outputs": [
                {
                    "data": {
                        "text/plain": [
                            "(-0.011944444511127686, 0.00035793650827022115)"
                        ]
                    },
                    "execution_count": 4,
                    "metadata": {},
                    "output_type": "execute_result"
                }
            ],
            "source": [
                "from numpy import pi\n",
                "from polymesh.space import index_of_closest_point\n",
                "\n",
                "# hinged support at the leftmost node\n",
                "support_left = NodalSupport(x=[0, 0, 0], UX = 0., UY=0., \n",
                "                            UZ=0., UZZ=0., UXX=0.)\n",
                "\n",
                "# inclined roller support at the rightmost node\n",
                "angle = - 30 * pi / 180\n",
                "frame = GlobalFrame.rotate_new('Body', [0, angle, 0], 'XYZ')\n",
                "support_right = NodalSupport(x=[L, 0, 0], frame=frame, UZ=0.)\n",
                "\n",
                "# concentrated load at the middle\n",
                "x_middle = np.array([L/2, 0, 0], dtype=float)\n",
                "i = index_of_closest_point(coords, x_middle)\n",
                "nodal_loads = np.zeros((coords.shape[0], 6))\n",
                "nodal_loads[i, 2] = F\n",
                "\n",
                "# pointdata\n",
                "pd = PointData(coords=coords, frame=GlobalFrame,\n",
                "               loads=nodal_loads)\n",
                "\n",
                "# celldata\n",
                "frames = repeat(GlobalFrame.show(), topo.shape[0])\n",
                "cd = B2(topo=topo, frames=frames)\n",
                "\n",
                "# set up mesh and structure\n",
                "mesh = LineMesh(pd, cd, model=Hooke, frame=GlobalFrame)\n",
                "structure = Structure(mesh=mesh)\n",
                "# add the nodal constraints\n",
                "structure.constraints.append(support_left)\n",
                "structure.constraints.append(support_right)\n",
                "\n",
                "structure.linsolve()\n",
                "dofsol = structure.nodal_dof_solution()\n",
                "minmax(dofsol)"
            ]
        },
        {
            "cell_type": "code",
            "execution_count": 5,
            "metadata": {},
            "outputs": [
                {
                    "data": {
                        "text/plain": [
                            "(-28.86751346795713, -28.86751346795692)"
                        ]
                    },
                    "execution_count": 5,
                    "metadata": {},
                    "output_type": "execute_result"
                }
            ],
            "source": [
                "minmax(structure.internal_forces(flatten=False)[:, :, 0])  # -28.867"
            ]
        }
    ],
    "metadata": {
        "kernelspec": {
            "display_name": "Python 3.8.10 ('.sigeps': venv)",
            "language": "python",
            "name": "python3"
        },
        "language_info": {
            "codemirror_mode": {
                "name": "ipython",
                "version": 3
            },
            "file_extension": ".py",
            "mimetype": "text/x-python",
            "name": "python",
            "nbconvert_exporter": "python",
            "pygments_lexer": "ipython3",
            "version": "3.8.10"
        },
        "orig_nbformat": 4,
        "vscode": {
            "interpreter": {
                "hash": "5facf25dadae24d0f6f3d9b821e9851478f51388ee31821a60476e833f1169c6"
            }
        }
    },
    "nbformat": 4,
    "nbformat_minor": 2
}
