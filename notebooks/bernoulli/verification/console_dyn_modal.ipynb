{
    "cells": [
        {
            "cell_type": "markdown",
            "metadata": {},
            "source": [
                "# Modal Analysis of a Bernoulli Console"
            ]
        },
        {
            "cell_type": "code",
            "execution_count": 293,
            "metadata": {},
            "outputs": [],
            "source": [
                "# Import required module\n",
                "import texttable\n",
                "import numpy as np\n",
                "\n",
                "\n",
                "def print_frequencies(m_eff, freq, tol=10):\n",
                "    tableObj = texttable.Texttable()\n",
                "    rows = [['', \"mx\", \"my\", \"mz\", \"freq\"]]\n",
                "    for i in range(freq.shape[0]):\n",
                "        if np.max(m_eff[i]) > tol:\n",
                "            rows.append([i+1, m_eff[i, 0], m_eff[i, 1], m_eff[i, 2], freq[i]])\n",
                "    tableObj.add_rows(rows)\n",
                "    print(tableObj.draw())"
            ]
        },
        {
            "cell_type": "markdown",
            "metadata": {},
            "source": [
                "A short comparison of different modeling techniques of a simple console. The beam has a rectangular prismatic cross-section and a linear elastic material model, governed by the following parameters:"
            ]
        },
        {
            "cell_type": "code",
            "execution_count": 294,
            "metadata": {},
            "outputs": [],
            "source": [
                "# all units in kN and cm\n",
                "L = 150.  # length of the console [cm]\n",
                "F = 1.  # value of the vertical load at the free end [kN]\n",
                "E = 21000.0  # Young's modulus [kN/cm3]\n",
                "nu = 0.3  # Poisson's ratio [-]\n",
                "w, h = 5., 15.  # width and height of the rectangular cross section\n",
                "g = 9.81  # gravitational acceleration [m/s2]\n",
                "density = 7750.0 * 1e-6 # mass density [g/cm3]\n",
                "nElem = 20  # number of subdivisons to use"
            ]
        },
        {
            "cell_type": "code",
            "execution_count": 295,
            "metadata": {},
            "outputs": [],
            "source": [
                "A = w * h  # area\n",
                "Iy = w * h**3 / 12  # second moment of inertia around the y axis\n",
                "Iz = h * w**3 / 12  # second moment of inertia around the z axis\n",
                "Ix = Iy + Iz  # torsional inertia\n",
                "weight = density * 1e-3 * g  # [kN/cm3]\n",
                "dpa = density * A  # density per area [g/cm]\n",
                "wpa = weight * A  # weight per area [kN/cm]\n",
                "mass = L * dpa  # total mass"
            ]
        },
        {
            "cell_type": "code",
            "execution_count": 296,
            "metadata": {},
            "outputs": [],
            "source": [
                "from sigmaepsilon.solid import Structure, LineMesh, PointData\n",
                "from neumann.linalg import linspace, Vector\n",
                "from neumann.array import repeat\n",
                "from polymesh.space import StandardFrame, PointCloud, frames_of_lines\n",
                "from sigmaepsilon.solid.fem.cells import B2 as Beam\n",
                "import numpy as np\n",
                "\n",
                "# model stiffness matrix\n",
                "G = E / (2 * (1 + nu))\n",
                "Hooke = np.array([\n",
                "    [E*A, 0, 0, 0],\n",
                "    [0, G*Ix, 0, 0],\n",
                "    [0, 0, E*Iy, 0],\n",
                "    [0, 0, 0, E*Iz]\n",
                "])\n",
                "\n",
                "# space\n",
                "GlobalFrame = StandardFrame(dim=3)\n",
                "\n",
                "# mesh\n",
                "p0 = np.array([0., 0., 0.])\n",
                "p1 = np.array([L, 0., 0.])\n",
                "coords = linspace(p0, p1, nElem+1)\n",
                "coords = PointCloud(coords, frame=GlobalFrame).show()\n",
                "topo = np.zeros((nElem, 2), dtype=int)\n",
                "topo[:, 0] = np.arange(nElem)\n",
                "topo[:, 1] = np.arange(nElem) + 1\n",
                "\n",
                "# load at the rightmost node in Y and Z directions\n",
                "nodal_loads = np.zeros((coords.shape[0], 6, 3))\n",
                "global_load_vector = Vector([F,  0, 0.], frame=GlobalFrame).show()\n",
                "nodal_loads[-1, :3, 0] = global_load_vector\n",
                "global_load_vector = Vector([0., F, 0.], frame=GlobalFrame).show()\n",
                "nodal_loads[-1, :3, 1] = global_load_vector\n",
                "global_load_vector = Vector([0., 0, F], frame=GlobalFrame).show()\n",
                "nodal_loads[-1, :3, 2] = global_load_vector\n",
                "\n",
                "# support at the leftmost node (all degrees)\n",
                "fixity = np.zeros((coords.shape[0], 6)).astype(bool)\n",
                "fixity[0, :] = True\n",
                "fixity=fixity.astype(float) * 1e40\n",
                "\n",
                "# mass and density\n",
                "nodal_masses = np.zeros((coords.shape[0],))\n",
                "densities = np.full((topo.shape[0],), dpa)\n",
                "\n",
                "# pointdata\n",
                "pd = PointData(coords=coords, loads=nodal_loads, \n",
                "               fixity=fixity, mass=nodal_masses)\n",
                "\n",
                "# celldata\n",
                "#frames = frames_of_lines(coords, topo)\n",
                "frames = repeat(GlobalFrame.show(), topo.shape[0])\n",
                "cd = Beam(topo=topo, frames=frames, density=densities)\n",
                "\n",
                "# set up mesh and structure\n",
                "mesh = LineMesh(pd, cd, model=Hooke, frame=GlobalFrame)\n",
                "structure = Structure(mesh=mesh)\n",
                "\n",
                "# perform linear analysis\n",
                "structure.linsolve()\n",
                "\n",
                "# calculate the mass matrix\n",
                "structure.consistent_mass_matrix()\n",
                "\n",
                "# postproc\n",
                "dofsol = structure.nodal_dof_solution()"
            ]
        },
        {
            "cell_type": "markdown",
            "metadata": {},
            "source": [
                "## Dunkerley's Approximation\n",
                "\n",
                "Lower bound estimations on the smallest natural circular frequencies by *splitting the masses*."
            ]
        },
        {
            "cell_type": "code",
            "execution_count": 297,
            "metadata": {},
            "outputs": [
                {
                    "data": {
                        "text/plain": [
                            "(15.14564891325506, 0.3483830229642758, 1.0451490688928273)"
                        ]
                    },
                    "execution_count": 297,
                    "metadata": {},
                    "output_type": "execute_result"
                }
            ],
            "source": [
                "def Dunkerley(N:int=1):\n",
                "    mi = mass / N\n",
                "    h = L / N\n",
                "    i1 = np.sum(list(range(1, N + 1)))\n",
                "    i3 = np.sum([i**3 for i in range(1, N + 1)])\n",
                "    acc_x = i1 * mi * h / (E * A)\n",
                "    acc_y = i3 * mi * h**3 / (3 * E * Iz)\n",
                "    acc_z = i3 * mi * h**3 / (3 * E * Iy)\n",
                "    return np.sqrt(1/acc_x), np.sqrt(1/acc_y), np.sqrt(1/acc_z)\n",
                "\n",
                "\n",
                "Dunkerley(20)"
            ]
        },
        {
            "cell_type": "markdown",
            "metadata": {},
            "source": [
                "## Rayleigh's Approximtion\n",
                "\n",
                "Upper bound estimations of the smallest natural circular frequencies using the equivalence of elastic internal energy and kinetic energy of undamped conservative systems."
            ]
        },
        {
            "cell_type": "code",
            "execution_count": 298,
            "metadata": {},
            "outputs": [
                {
                    "data": {
                        "text/plain": [
                            "array([19.00763853,  0.37668143,  1.13004428])"
                        ]
                    },
                    "execution_count": 298,
                    "metadata": {},
                    "output_type": "execute_result"
                }
            ],
            "source": [
                "from sigmaepsilon.solid.fem.dyn import Rayleigh_quotient\n",
                "\n",
                "\n",
                "def Rayleigh(structure):\n",
                "    M = structure.Solver.M\n",
                "    u = structure.Solver.u\n",
                "    f = structure.Solver.f\n",
                "    return np.sqrt(Rayleigh_quotient(M, u=u, f=f))\n",
                "\n",
                "\n",
                "Rayleigh(structure)"
            ]
        },
        {
            "cell_type": "markdown",
            "metadata": {},
            "source": [
                "## FEM Approximation"
            ]
        },
        {
            "cell_type": "markdown",
            "metadata": {},
            "source": [
                "By solving the eigenvalue problem using dense matrices:"
            ]
        },
        {
            "cell_type": "code",
            "execution_count": 299,
            "metadata": {},
            "outputs": [
                {
                    "data": {
                        "text/plain": [
                            "array([ 0.37124583,  1.        ,  1.        ,  1.        ,  1.        ,\n",
                            "        1.        ,  1.        ,  1.11373749,  2.32512847,  6.50404542,\n",
                            "        6.9753854 , 12.72744002, 17.24245222, 19.51213625, 21.00211656,\n",
                            "       31.30769665, 38.18232007, 43.62340972, 48.80808164, 51.83376998])"
                        ]
                    },
                    "execution_count": 299,
                    "metadata": {},
                    "output_type": "execute_result"
                }
            ],
            "source": [
                "structure.consistent_mass_matrix()\n",
                "freks, modes = structure.natural_circular_frequencies(normalize=True, as_dense=True, \n",
                "                                                      return_vectors=True)\n",
                "freks[:20]"
            ]
        },
        {
            "cell_type": "code",
            "execution_count": 300,
            "metadata": {},
            "outputs": [
                {
                    "data": {
                        "text/plain": [
                            "array([ 0.37124583,  1.        ,  1.        ,  1.        ,  1.        ,\n",
                            "        1.00000001,  1.11373749,  2.32512847,  6.50404542,  6.9753854 ,\n",
                            "       12.72744002, 17.24245222, 19.51213625, 21.00211656, 31.30769665,\n",
                            "       38.18232007, 43.62340972, 48.80808164, 51.83376998, 57.92776753])"
                        ]
                    },
                    "execution_count": 300,
                    "metadata": {},
                    "output_type": "execute_result"
                }
            ],
            "source": [
                "around = min(Rayleigh(structure))\n",
                "freks, modes = structure.natural_circular_frequencies(k=40, return_vectors=True, \n",
                "                                                      which='SM')\n",
                "freks[np.where(np.abs(freks) < 1e-3)] = 0.\n",
                "freks[:20]"
            ]
        },
        {
            "cell_type": "markdown",
            "metadata": {},
            "source": [
                "Using Rayleigh's approximation to help the sparse solver:"
            ]
        },
        {
            "cell_type": "code",
            "execution_count": 301,
            "metadata": {},
            "outputs": [
                {
                    "data": {
                        "text/plain": [
                            "array([ 0.37124583,  1.        ,  1.        ,  1.        ,  1.        ,\n",
                            "        1.        ,  1.        ,  1.11373749,  2.32512847,  6.50404542,\n",
                            "        6.9753854 , 12.72744002, 17.24245222, 19.51213625, 21.00211656,\n",
                            "       31.30769665, 38.18232007, 43.62340972, 48.80808164, 51.83376998])"
                        ]
                    },
                    "execution_count": 301,
                    "metadata": {},
                    "output_type": "execute_result"
                }
            ],
            "source": [
                "around = min(Rayleigh(structure))**2\n",
                "freks, modes = structure.natural_circular_frequencies(k=40, around=around, \n",
                "                                                      return_vectors=True, which='LM')\n",
                "freks[np.where(np.abs(freks) < 1e-3)] = 0.\n",
                "freks[:20]"
            ]
        },
        {
            "cell_type": "markdown",
            "metadata": {},
            "source": [
                "## Effective Modal Masses"
            ]
        },
        {
            "cell_type": "code",
            "execution_count": 302,
            "metadata": {},
            "outputs": [
                {
                    "name": "stdout",
                    "output_type": "stream",
                    "text": [
                        "+----+--------+--------+--------+--------+\n",
                        "|    |   mx   |   my   |   mz   |  freq  |\n",
                        "+====+========+========+========+========+\n",
                        "| 1  | 0.000  | 53.441 | 0.000  | 0.371  |\n",
                        "+----+--------+--------+--------+--------+\n",
                        "| 8  | 0.000  | 0.000  | 53.441 | 1.114  |\n",
                        "+----+--------+--------+--------+--------+\n",
                        "| 13 | 70.671 | 0.000  | 0.000  | 17.242 |\n",
                        "+----+--------+--------+--------+--------+\n"
                    ]
                }
            ],
            "source": [
                "from sigmaepsilon.solid.fem.dyn import effective_modal_masses\n",
                "\n",
                "nN, nD, nR = dofsol.shape\n",
                "\n",
                "action_x = np.zeros((nN, nD))\n",
                "action_x[:, 0] = 1.0\n",
                "action_x = action_x.reshape(nN * nD)\n",
                "action_y = np.zeros((nN, nD))\n",
                "action_y[:, 1] = 1.0\n",
                "action_y = action_y.reshape(nN * nD)\n",
                "action_z = np.zeros((nN, nD))\n",
                "action_z[:, 2] = 1.0\n",
                "action_z = action_z.reshape(nN * nD)\n",
                "actions = np.stack([action_x, action_y, action_z], axis=1)\n",
                "\n",
                "M = structure.Solver.M\n",
                "m_eff = effective_modal_masses(M, actions, modes)\n",
                "\n",
                "print_frequencies(m_eff, freks, 30)"
            ]
        },
        {
            "cell_type": "markdown",
            "metadata": {},
            "source": [
                "The sum of effective masses for an action converges to the total mass of the structure as the mesh is refined, but since some masses get distributed to fixed supports, it will never reach the total mass. "
            ]
        },
        {
            "cell_type": "code",
            "execution_count": 303,
            "metadata": {},
            "outputs": [
                {
                    "data": {
                        "text/plain": [
                            "(87.1875, (84.65499271095823, 84.85304490619971, 83.19370931217405))"
                        ]
                    },
                    "execution_count": 303,
                    "metadata": {},
                    "output_type": "execute_result"
                }
            ],
            "source": [
                "mass_fem = np.sum(m_eff[:, 0]), np.sum(m_eff[:, 1]), np.sum(m_eff[:, 2])\n",
                "mass, mass_fem"
            ]
        },
        {
            "cell_type": "markdown",
            "metadata": {},
            "source": [
                "The percetage of the sums of effective masses to the total mass:"
            ]
        },
        {
            "cell_type": "code",
            "execution_count": 304,
            "metadata": {},
            "outputs": [
                {
                    "data": {
                        "text/plain": [
                            "['97.10%', '97.32%', '95.42%']"
                        ]
                    },
                    "execution_count": 304,
                    "metadata": {},
                    "output_type": "execute_result"
                }
            ],
            "source": [
                "[\"{:.2f}%\".format(100 * m / mass) for m in mass_fem]"
            ]
        },
        {
            "cell_type": "markdown",
            "metadata": {},
            "source": [
                "## Bonus"
            ]
        },
        {
            "cell_type": "markdown",
            "metadata": {},
            "source": [
                "In the previous FEM approximation we represented the mass by defining density values for the cells. Although we always have to define a density distribution for the cells, this can be augmented by nodal masses. The following block distributes the masses to the nodes, and cell-densities are used to guarantee that the diagonal of the mass matrix is always filled up.\n",
                "\n",
                "Note that this calculation is inferior to the variational approach, since rotational masses are neglected, as all the mass is delegated to translational DOFs."
            ]
        },
        {
            "cell_type": "code",
            "execution_count": 305,
            "metadata": {},
            "outputs": [],
            "source": [
                "# mass and density\n",
                "nN = coords.shape[0]  # the number of nodes in the model\n",
                "min_cell_mass = mass / 1000\n",
                "cell_density = min_cell_mass / L\n",
                "densities = np.full((topo.shape[0],), cell_density)\n",
                "mass_on_nodes = (mass - min_cell_mass) / nN\n",
                "nodal_masses = np.full((coords.shape[0],), mass_on_nodes)\n",
                "\n",
                "# pointdata\n",
                "pd = PointData(coords=coords, frame=GlobalFrame, loads=nodal_loads, \n",
                "               fixity=fixity, mass=nodal_masses)\n",
                "\n",
                "# celldata\n",
                "frames = repeat(GlobalFrame.show(), topo.shape[0])\n",
                "cd = Beam(topo=topo, frames=frames, density=densities)\n",
                "\n",
                "# set up mesh and structure\n",
                "mesh = LineMesh(pd, cd, model=Hooke, frame=GlobalFrame)\n",
                "structure = Structure(mesh=mesh)\n",
                "structure.linsolve()\n",
                "\n",
                "# postproc\n",
                "dofsol = structure.nodal_dof_solution()"
            ]
        },
        {
            "cell_type": "code",
            "execution_count": 306,
            "metadata": {},
            "outputs": [
                {
                    "name": "stdout",
                    "output_type": "stream",
                    "text": [
                        "+----+--------+--------+--------+--------+\n",
                        "|    |   mx   |   my   |   mz   |  freq  |\n",
                        "+====+========+========+========+========+\n",
                        "| 1  | 0.000  | 52.205 | 0.000  | 0.362  |\n",
                        "+----+--------+--------+--------+--------+\n",
                        "| 8  | 0.000  | 0.000  | 52.205 | 1.087  |\n",
                        "+----+--------+--------+--------+--------+\n",
                        "| 13 | 68.923 | 0.000  | 0.000  | 17.229 |\n",
                        "+----+--------+--------+--------+--------+\n"
                    ]
                }
            ],
            "source": [
                "structure.consistent_mass_matrix()\n",
                "freks, modes = structure.natural_circular_frequencies(normalize=True, as_dense=True, \n",
                "                                                      return_vectors=True)\n",
                "M = structure.Solver.M\n",
                "u = structure.Solver.u\n",
                "f = structure.Solver.f\n",
                "f = f.reshape(u.shape)\n",
                "\n",
                "nN, nD, nR = dofsol.shape\n",
                "\n",
                "action_x = np.zeros((nN, nD))\n",
                "action_x[:, 0] = 1.0\n",
                "action_x = action_x.reshape(nN * nD)\n",
                "action_y = np.zeros((nN, nD))\n",
                "action_y[:, 1] = 1.0\n",
                "action_y = action_y.reshape(nN * nD)\n",
                "action_z = np.zeros((nN, nD))\n",
                "action_z[:, 2] = 1.0\n",
                "action_z = action_z.reshape(nN * nD)\n",
                "actions = np.stack([action_x, action_y, action_z], axis=1)\n",
                "\n",
                "m_eff = effective_modal_masses(M, actions, modes)\n",
                "mtot = np.sum(m_eff[:, 0]), np.sum(m_eff[:, 1]), np.sum(m_eff[:, 2])\n",
                "\n",
                "print_frequencies(m_eff, freks, 30)"
            ]
        },
        {
            "cell_type": "code",
            "execution_count": 307,
            "metadata": {},
            "outputs": [
                {
                    "data": {
                        "text/plain": [
                            "['95.24%', '95.24%', '95.24%']"
                        ]
                    },
                    "execution_count": 307,
                    "metadata": {},
                    "output_type": "execute_result"
                }
            ],
            "source": [
                "mass_fem = np.sum(m_eff[:, 0]), np.sum(m_eff[:, 1]), np.sum(m_eff[:, 2])\n",
                "[\"{:.2f}%\".format(100 * m / mass) for m in mass_fem]"
            ]
        },
        {
            "cell_type": "markdown",
            "metadata": {},
            "source": [
                "Check Rayleigh's approximation with the new mass matrix:"
            ]
        },
        {
            "cell_type": "code",
            "execution_count": 308,
            "metadata": {},
            "outputs": [
                {
                    "data": {
                        "text/plain": [
                            "array([18.7746361 ,  0.36662324,  1.09986973])"
                        ]
                    },
                    "execution_count": 308,
                    "metadata": {},
                    "output_type": "execute_result"
                }
            ],
            "source": [
                "Rayleigh(structure)"
            ]
        }
    ],
    "metadata": {
        "kernelspec": {
            "display_name": "Python 3.8.10 ('.sigeps': venv)",
            "language": "python",
            "name": "python3"
        },
        "language_info": {
            "codemirror_mode": {
                "name": "ipython",
                "version": 3
            },
            "file_extension": ".py",
            "mimetype": "text/x-python",
            "name": "python",
            "nbconvert_exporter": "python",
            "pygments_lexer": "ipython3",
            "version": "3.8.10"
        },
        "orig_nbformat": 4,
        "vscode": {
            "interpreter": {
                "hash": "28d81e0e1442962330764574f1956d80898814d1923baa1210fb6369a4e79b2a"
            }
        }
    },
    "nbformat": 4,
    "nbformat_minor": 2
}
