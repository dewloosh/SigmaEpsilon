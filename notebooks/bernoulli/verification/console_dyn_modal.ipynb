{
    "cells": [
        {
            "cell_type": "markdown",
            "metadata": {},
            "source": [
                "# Modal Analysis of a Bernoulli Console"
            ]
        },
        {
            "cell_type": "markdown",
            "metadata": {},
            "source": [
                "A short comparison of different modeling techniques of a simple console. The beam has a rectangular prismatic cross-section and a linear elastic material model, governed by the following parameters:"
            ]
        },
        {
            "cell_type": "code",
            "execution_count": 1,
            "metadata": {},
            "outputs": [],
            "source": [
                "# all units in kN and cm\n",
                "L = 150.  # length of the console [cm]\n",
                "F = 1.  # value of the vertical load at the free end [kN]\n",
                "E = 21000.0  # Young's modulus [kN/cm3]\n",
                "nu = 0.3  # Poisson's ratio [-]\n",
                "w, h = 5., 15.  # width and height of the rectangular cross section\n",
                "g = 9.81  # gravitational acceleration [m/s2]\n",
                "density = 7750.0 * 1e-6 # mass density [g/cm3]\n",
                "nElem = 20  # number of subdivisons to use"
            ]
        },
        {
            "cell_type": "code",
            "execution_count": 2,
            "metadata": {},
            "outputs": [],
            "source": [
                "A = w * h  # area\n",
                "Iy = w * h**3 / 12  # second moment of inertia around the y axis\n",
                "Iz = h * w**3 / 12  # second moment of inertia around the z axis\n",
                "Ix = Iy + Iz  # torsional inertia\n",
                "weight = density * 1e-3 * g  # [kN/cm3]\n",
                "dpa = density * A  # density per area [g/cm]\n",
                "wpa = weight * A  # weight per area [kN/cm]\n",
                "mass = L * dpa  # total mass"
            ]
        },
        {
            "cell_type": "code",
            "execution_count": 3,
            "metadata": {},
            "outputs": [],
            "source": [
                "from sigmaepsilon.solid import Structure, LineMesh, PointData\n",
                "from neumann.linalg import linspace, Vector\n",
                "from polymesh.space import StandardFrame, PointCloud, frames_of_lines\n",
                "from sigmaepsilon.solid.fem.cells import B2 as Beam\n",
                "import numpy as np\n",
                "\n",
                "# model stiffness matrix\n",
                "G = E / (2 * (1 + nu))\n",
                "Hooke = np.array([\n",
                "    [E*A, 0, 0, 0],\n",
                "    [0, G*Ix, 0, 0],\n",
                "    [0, 0, E*Iy, 0],\n",
                "    [0, 0, 0, E*Iz]\n",
                "])\n",
                "\n",
                "# space\n",
                "GlobalFrame = StandardFrame(dim=3)\n",
                "\n",
                "# mesh\n",
                "p0 = np.array([0., 0., 0.])\n",
                "p1 = np.array([L, 0., 0.])\n",
                "coords = linspace(p0, p1, nElem+1)\n",
                "coords = PointCloud(coords, frame=GlobalFrame).show()\n",
                "topo = np.zeros((nElem, 2), dtype=int)\n",
                "topo[:, 0] = np.arange(nElem)\n",
                "topo[:, 1] = np.arange(nElem) + 1\n",
                "\n",
                "# load at the rightmost node in Y and Z directions\n",
                "nodal_loads = np.zeros((coords.shape[0], 6, 3))\n",
                "global_load_vector = Vector([F,  0, 0.], frame=GlobalFrame).show()\n",
                "nodal_loads[-1, :3, 0] = global_load_vector\n",
                "global_load_vector = Vector([0., F, 0.], frame=GlobalFrame).show()\n",
                "nodal_loads[-1, :3, 1] = global_load_vector\n",
                "global_load_vector = Vector([0., 0, F], frame=GlobalFrame).show()\n",
                "nodal_loads[-1, :3, 2] = global_load_vector\n",
                "\n",
                "# support at the leftmost node (all degrees)\n",
                "fixity = np.zeros((coords.shape[0], 6)).astype(bool)\n",
                "fixity[0, :] = True\n",
                "\n",
                "# mass and density\n",
                "nodal_masses = np.zeros((coords.shape[0],))\n",
                "densities = np.full((topo.shape[0],), dpa)\n",
                "\n",
                "# pointdata\n",
                "pd = PointData(coords=coords, loads=nodal_loads, \n",
                "               fixity=fixity, mass=nodal_masses)\n",
                "\n",
                "# celldata\n",
                "frames = frames_of_lines(coords, topo)\n",
                "cd = Beam(topo=topo, frames=frames, density=densities)\n",
                "\n",
                "# set up mesh and structure\n",
                "mesh = LineMesh(pd, cd, model=Hooke, frame=GlobalFrame)\n",
                "structure = Structure(mesh=mesh)\n",
                "\n",
                "# perform linear analysis\n",
                "structure.linsolve()\n",
                "\n",
                "# calculate the mass matrix\n",
                "structure.consistent_mass_matrix()\n",
                "\n",
                "# postproc\n",
                "dofsol = structure.nodal_dof_solution()"
            ]
        },
        {
            "cell_type": "markdown",
            "metadata": {},
            "source": [
                "## Dunkerley's Approximation\n",
                "\n",
                "Lower bound estimations on the smallest natural circular frequencies by *splitting the masses*."
            ]
        },
        {
            "cell_type": "code",
            "execution_count": 4,
            "metadata": {},
            "outputs": [
                {
                    "data": {
                        "text/plain": [
                            "(15.14564891325506, 1.0451490688928273, 0.3483830229642758)"
                        ]
                    },
                    "execution_count": 4,
                    "metadata": {},
                    "output_type": "execute_result"
                }
            ],
            "source": [
                "def Dunkerley(N:int=1):\n",
                "    mi = mass / N\n",
                "    h = L / N\n",
                "    i1 = np.sum(list(range(1, N + 1)))\n",
                "    i3 = np.sum([i**3 for i in range(1, N + 1)])\n",
                "    acc_x = i1 * mi * h / (E * A)\n",
                "    acc_y = i3 * mi * h**3 / (3 * E * Iy)\n",
                "    acc_z = i3 * mi * h**3 / (3 * E * Iz)\n",
                "    return np.sqrt(1/acc_x), np.sqrt(1/acc_y), np.sqrt(1/acc_z)\n",
                "\n",
                "\n",
                "Dunkerley(20)"
            ]
        },
        {
            "cell_type": "markdown",
            "metadata": {},
            "source": [
                "## Rayleigh's Approximtion\n",
                "\n",
                "Upper bound estimations of the smallest natural circular frequencies using the equivalence of elastic internal energy and kinetic energy of undamped conservative systems."
            ]
        },
        {
            "cell_type": "code",
            "execution_count": 5,
            "metadata": {},
            "outputs": [
                {
                    "data": {
                        "text/plain": [
                            "array([19.00763833,  1.13004384,  0.37668141])"
                        ]
                    },
                    "execution_count": 5,
                    "metadata": {},
                    "output_type": "execute_result"
                }
            ],
            "source": [
                "from sigmaepsilon.solid.fem.dyn import Rayleigh_quotient\n",
                "\n",
                "\n",
                "def Rayleigh(structure):\n",
                "    M = structure.Solver.M\n",
                "    u = structure.Solver.u\n",
                "    f = structure.Solver.f\n",
                "    return np.sqrt(Rayleigh_quotient(M, u=u, f=f))\n",
                "\n",
                "\n",
                "Rayleigh(structure)"
            ]
        },
        {
            "cell_type": "markdown",
            "metadata": {},
            "source": [
                "## FEM Approximation"
            ]
        },
        {
            "cell_type": "markdown",
            "metadata": {},
            "source": [
                "By solving the eigenvalue problem using dense matrices:"
            ]
        },
        {
            "cell_type": "code",
            "execution_count": 6,
            "metadata": {},
            "outputs": [
                {
                    "data": {
                        "text/plain": [
                            "array([0.37124576, 1.11373705, 2.32512818, 6.50404484, 6.97538265])"
                        ]
                    },
                    "execution_count": 6,
                    "metadata": {},
                    "output_type": "execute_result"
                }
            ],
            "source": [
                "structure.consistent_mass_matrix()\n",
                "freks, modes = structure.natural_circular_frequencies(normalize=True, as_dense=True, \n",
                "                                                      return_vectors=True)\n",
                "freks[:5]"
            ]
        },
        {
            "cell_type": "code",
            "execution_count": 7,
            "metadata": {},
            "outputs": [
                {
                    "data": {
                        "text/plain": [
                            "array([0.37124581, 1.11373705, 2.32512837, 6.50404513, 6.97538265])"
                        ]
                    },
                    "execution_count": 7,
                    "metadata": {},
                    "output_type": "execute_result"
                }
            ],
            "source": [
                "around = min(Rayleigh(structure))\n",
                "freks, modes = structure.natural_circular_frequencies(k=40, return_vectors=True, \n",
                "                                                      which='SM')\n",
                "freks[np.where(np.abs(freks) < 1e-3)] = 0.\n",
                "freks[:5]"
            ]
        },
        {
            "cell_type": "markdown",
            "metadata": {},
            "source": [
                "Using Rayleigh's approximation to help the sparse solver:"
            ]
        },
        {
            "cell_type": "code",
            "execution_count": 8,
            "metadata": {},
            "outputs": [
                {
                    "data": {
                        "text/plain": [
                            "array([0.37124581, 1.11373705, 2.32512836, 6.50404513, 6.97538265])"
                        ]
                    },
                    "execution_count": 8,
                    "metadata": {},
                    "output_type": "execute_result"
                }
            ],
            "source": [
                "around = min(Rayleigh(structure))**2\n",
                "freks, modes = structure.natural_circular_frequencies(k=20, around=around, \n",
                "                                                      return_vectors=True, which='LM')\n",
                "freks[np.where(np.abs(freks) < 1e-3)] = 0.\n",
                "freks[:5]"
            ]
        },
        {
            "cell_type": "markdown",
            "metadata": {},
            "source": [
                "## Effective Modal Masses"
            ]
        },
        {
            "cell_type": "code",
            "execution_count": 9,
            "metadata": {},
            "outputs": [
                {
                    "name": "stdout",
                    "output_type": "stream",
                    "text": [
                        "[ 0.          0.         53.44103997] 0.3712458129958959\n",
                        "[ 0.         53.44104933  0.        ] 1.113737049154143\n",
                        "[ 0.          0.         16.41110569] 2.3251283643995957\n",
                        "[0.         0.         5.63602212] 6.504045132114754\n",
                        "[ 0.         16.41110859  0.        ] 6.975382651082683\n",
                        "[0.         0.         2.87706282] 12.72743946381008\n",
                        "[70.67150017  0.          0.        ] 17.242452035296814\n",
                        "[0.         5.63602315 0.        ] 19.512128559977167\n",
                        "[0.         0.         1.73728562] 21.002115632827188\n",
                        "[0.         0.         1.16046247] 31.307695276172957\n"
                    ]
                }
            ],
            "source": [
                "from sigmaepsilon.solid.fem.dyn import effective_modal_masses\n",
                "\n",
                "nN, nD, nR = dofsol.shape\n",
                "\n",
                "action_x = np.zeros((nN, nD))\n",
                "action_x[:, 0] = 1.0\n",
                "action_x = action_x.reshape(nN * nD)\n",
                "action_y = np.zeros((nN, nD))\n",
                "action_y[:, 1] = 1.0\n",
                "action_y = action_y.reshape(nN * nD)\n",
                "action_z = np.zeros((nN, nD))\n",
                "action_z[:, 2] = 1.0\n",
                "action_z = action_z.reshape(nN * nD)\n",
                "actions = np.stack([action_x, action_y, action_z], axis=1)\n",
                "\n",
                "M = structure.Solver.M\n",
                "m_eff = effective_modal_masses(M, actions, modes)\n",
                "\n",
                "m_eff[np.where(m_eff <= 1e-5)] = 0.\n",
                "for i in range(10):\n",
                "    print(m_eff[i], freks[i])"
            ]
        },
        {
            "cell_type": "markdown",
            "metadata": {},
            "source": [
                "The sum of effective masses for an action converges to the total mass of the structure as the mesh is refined, but since some masses get distributed to fixed supports, it will never reach the total mass. "
            ]
        },
        {
            "cell_type": "code",
            "execution_count": 10,
            "metadata": {},
            "outputs": [
                {
                    "data": {
                        "text/plain": [
                            "(87.1875, (81.3498524777421, 81.2629932099404, 83.57762006238761))"
                        ]
                    },
                    "execution_count": 10,
                    "metadata": {},
                    "output_type": "execute_result"
                }
            ],
            "source": [
                "mass_fem = np.sum(m_eff[:, 0]), np.sum(m_eff[:, 1]), np.sum(m_eff[:, 2])\n",
                "mass, mass_fem"
            ]
        },
        {
            "cell_type": "markdown",
            "metadata": {},
            "source": [
                "The percetage of the sums of effective masses to the total mass:"
            ]
        },
        {
            "cell_type": "code",
            "execution_count": 11,
            "metadata": {},
            "outputs": [
                {
                    "data": {
                        "text/plain": [
                            "['93.30%', '93.20%', '95.86%']"
                        ]
                    },
                    "execution_count": 11,
                    "metadata": {},
                    "output_type": "execute_result"
                }
            ],
            "source": [
                "[\"{:.2f}%\".format(100 * m / mass) for m in mass_fem]"
            ]
        },
        {
            "cell_type": "markdown",
            "metadata": {},
            "source": [
                "## Bonus"
            ]
        },
        {
            "cell_type": "markdown",
            "metadata": {},
            "source": [
                "In the previous FEM approximation we represented the mass by defining density values for the cells. Although we always have to define a density distribution for the cells, this can be augmented by nodal masses. The following block distributes the masses to the nodes, and cell-densities are used to guarantee that the diagonal of the mass matrix is always filled up.\n",
                "\n",
                "Note that this calculation is inferior to the variational approach, since rotational masses are neglected, as all the mass is delegated to translational DOFs."
            ]
        },
        {
            "cell_type": "code",
            "execution_count": 12,
            "metadata": {},
            "outputs": [],
            "source": [
                "# mass and density\n",
                "nN = coords.shape[0]  # the number of nodes in the model\n",
                "min_cell_mass = mass / 1000\n",
                "cell_density = min_cell_mass / L\n",
                "densities = np.full((topo.shape[0],), cell_density)\n",
                "mass_on_nodes = (mass - min_cell_mass) / nN\n",
                "nodal_masses = np.full((coords.shape[0],), mass_on_nodes)\n",
                "\n",
                "# pointdata\n",
                "pd = PointData(coords=coords, frame=GlobalFrame, loads=nodal_loads, \n",
                "               fixity=fixity, mass=nodal_masses)\n",
                "\n",
                "# celldata\n",
                "frames = frames_of_lines(coords, topo)\n",
                "cd = Beam(topo=topo, frames=frames, density=densities)\n",
                "\n",
                "# set up mesh and structure\n",
                "mesh = LineMesh(pd, cd, model=Hooke, frame=GlobalFrame)\n",
                "structure = Structure(mesh=mesh)\n",
                "structure.linsolve()\n",
                "\n",
                "# postproc\n",
                "dofsol = structure.nodal_dof_solution()"
            ]
        },
        {
            "cell_type": "code",
            "execution_count": 13,
            "metadata": {},
            "outputs": [
                {
                    "name": "stdout",
                    "output_type": "stream",
                    "text": [
                        "[ 0.         11.20967175 40.29152448] 0.5979959737488234\n",
                        "[ 0.         40.99848629 11.2436472 ] 0.9777954186084489\n",
                        "[0.00000000e+00 2.91389119e-03 1.66822764e+01] 2.2735307177352477\n",
                        "[0.         0.         5.52062605] 6.374141992513992\n",
                        "[ 0.         16.01825595  0.        ] 6.821159228051858\n",
                        "[0.         0.         2.81608947] 12.505791384469797\n",
                        "[68.92295576  0.          0.        ] 17.22876308195084\n",
                        "[0.         5.50934657 0.        ] 19.122414488855828\n",
                        "[0.         0.         1.70239872] 20.696305910850615\n",
                        "[0.         0.         1.13869864] 30.947495975147174\n"
                    ]
                }
            ],
            "source": [
                "structure.consistent_mass_matrix()\n",
                "freks, modes = structure.natural_circular_frequencies(normalize=True, as_dense=True, \n",
                "                                                      return_vectors=True)\n",
                "M = structure.Solver.M\n",
                "u = structure.Solver.u\n",
                "f = structure.Solver.f\n",
                "f = f.reshape(u.shape)\n",
                "\n",
                "nN, nD, nR = dofsol.shape\n",
                "\n",
                "action_x = np.zeros((nN, nD))\n",
                "action_x[:, 0] = 1.0\n",
                "action_x = action_x.reshape(nN * nD)\n",
                "action_y = np.zeros((nN, nD))\n",
                "action_y[:, 1] = 1.0\n",
                "action_y = action_y.reshape(nN * nD)\n",
                "action_z = np.zeros((nN, nD))\n",
                "action_z[:, 2] = 1.0\n",
                "action_z = action_z.reshape(nN * nD)\n",
                "actions = np.stack([action_x, action_y, action_z], axis=1)\n",
                "\n",
                "m_eff = effective_modal_masses(M, actions, modes)\n",
                "mtot = np.sum(m_eff[:, 0]), np.sum(m_eff[:, 1]), np.sum(m_eff[:, 2])\n",
                "L * dpa, mtot\n",
                "\n",
                "m_eff[np.where(m_eff <= 1e-5)] = 0.\n",
                "for i in range(10):\n",
                "    print(m_eff[i], freks[i])"
            ]
        },
        {
            "cell_type": "code",
            "execution_count": 14,
            "metadata": {},
            "outputs": [
                {
                    "data": {
                        "text/plain": [
                            "['100.00%', '100.00%', '100.00%']"
                        ]
                    },
                    "execution_count": 14,
                    "metadata": {},
                    "output_type": "execute_result"
                }
            ],
            "source": [
                "mass_fem = np.sum(m_eff[:, 0]), np.sum(m_eff[:, 1]), np.sum(m_eff[:, 2])\n",
                "[\"{:.2f}%\".format(100 * m / mass) for m in mass_fem]"
            ]
        },
        {
            "cell_type": "markdown",
            "metadata": {},
            "source": [
                "Check Rayleigh's approximation with the new mass matrix:"
            ]
        },
        {
            "cell_type": "code",
            "execution_count": 15,
            "metadata": {},
            "outputs": [
                {
                    "data": {
                        "text/plain": [
                            "array([18.77463591,  1.09986931,  0.36662323])"
                        ]
                    },
                    "execution_count": 15,
                    "metadata": {},
                    "output_type": "execute_result"
                }
            ],
            "source": [
                "Rayleigh(structure)"
            ]
        },
        {
            "cell_type": "code",
            "execution_count": null,
            "metadata": {},
            "outputs": [],
            "source": [
                "# Import required module\n",
                "import texttable\n",
                "\n",
                "# Create texttable object\n",
                "tableObj = texttable.Texttable()\n",
                "\n",
                "# Set columns\n",
                "tableObj.set_cols_align([\"l\", \"r\", \"c\"])\n",
                "\n",
                "# Set datatype of each column\n",
                "tableObj.set_cols_dtype([\"a\", \"i\", \"t\"])\n",
                "\n",
                "# Adjust columns\n",
                "tableObj.set_cols_valign([\"t\", \"m\", \"b\"])\n",
                "\n",
                "# Insert rows\n",
                "tableObj.add_rows([\n",
                "\t\t[\"ORGANIZATION\", \"ESTABLISHED\", \"CEO\"],\n",
                "\t\t[\"Google\", 1998, \"Sundar Pichai\"],\n",
                "\t\t[\"Microsoft\", 1975, \"Satya Nadella\"],\n",
                "\t\t[\"Nokia\", 1865, \"Rajeev Suri\"],\n",
                "\t\t[\"Geeks for Geeks\", 2008, \"Sandeep Jain\"],\n",
                "\t\t[None, 2007, \"Vivek Ravisankar\"]\n",
                "\t\t])\n",
                "\n",
                "# Display table\n",
                "print(tableObj.draw())"
            ]
        }
    ],
    "metadata": {
        "kernelspec": {
            "display_name": "Python 3.8.10 ('.sigeps': venv)",
            "language": "python",
            "name": "python3"
        },
        "language_info": {
            "codemirror_mode": {
                "name": "ipython",
                "version": 3
            },
            "file_extension": ".py",
            "mimetype": "text/x-python",
            "name": "python",
            "nbconvert_exporter": "python",
            "pygments_lexer": "ipython3",
            "version": "3.8.10"
        },
        "orig_nbformat": 4,
        "vscode": {
            "interpreter": {
                "hash": "5facf25dadae24d0f6f3d9b821e9851478f51388ee31821a60476e833f1169c6"
            }
        }
    },
    "nbformat": 4,
    "nbformat_minor": 2
}
