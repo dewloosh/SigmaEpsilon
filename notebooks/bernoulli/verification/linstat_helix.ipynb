{
 "cells": [
  {
   "cell_type": "markdown",
   "metadata": {},
   "source": [
    "# Bernoulli Verification Example - Helix"
   ]
  },
  {
   "cell_type": "markdown",
   "metadata": {},
   "source": [
    "Linear elastic solution of a helix in 3d. The starting and ending points of the helix lie on the X axis. One of the ends is fully constrained, and a force is applied on the free end in X direction. The test is succesful if:\n",
    "\n",
    "- the free end makes motion only in X direction\n",
    "- on the constrained end, only a force in X direction is invoked, despite all dofs being constrained"
   ]
  },
  {
   "cell_type": "code",
   "execution_count": 1,
   "metadata": {},
   "outputs": [
    {
     "data": {
      "image/png": "[encoded data removed]",
      "text/plain": [
       "<PIL.Image.Image image mode=RGB size=1024x768>"
      ]
     },
     "metadata": {},
     "output_type": "display_data"
    }
   ],
   "source": [
    "from polymesh.space import CartesianFrame\n",
    "from polymesh import PolyData, LineData\n",
    "from polymesh.recipes import circular_helix\n",
    "import numpy as np\n",
    "\n",
    "frame = CartesianFrame(dim=3)\n",
    "\n",
    "L = 8.0\n",
    "\n",
    "space = np.linspace(0, 20*np.pi, 300)\n",
    "coords = np.array(list(map(circular_helix(L, 2), space)))\n",
    "topo = np.zeros((coords.shape[0] - 1  , 2))\n",
    "topo[:, 0] = np.arange(topo.shape[0])\n",
    "topo[:, 1] = topo[:, 0] + 1\n",
    "topo = topo.astype(int)\n",
    "\n",
    "mesh = PolyData(coords=coords, frame=frame)\n",
    "mesh['helix'] = LineData(topo=topo, frame=frame)\n",
    "\n",
    "mesh.plot(notebook=True, jupyter_backend='static')"
   ]
  },
  {
   "cell_type": "code",
   "execution_count": 2,
   "metadata": {},
   "outputs": [],
   "source": [
    "from sigmaepsilon import Structure, LineMesh, PointData\n",
    "from sigmaepsilon.fem.cells import B2 as Beam\n",
    "from neumann.linalg import Vector\n",
    "from polymesh.space import StandardFrame\n",
    "from polymesh.utils.topology import L2_to_L3\n",
    "from polymesh.utils.space import index_of_closest_point, frames_of_lines\n",
    "  \n",
    "import numpy as np\n",
    "\n",
    "xEnd = coords[-1]\n",
    "if Beam.NNODE == 3:\n",
    "    coords, topo = L2_to_L3(coords, topo)\n",
    "iN = index_of_closest_point(coords, xEnd)\n",
    "\n",
    "w, h = 1., 1.  # width and height of the rectangular cross section\n",
    "F = 100.  # value of the vertical load at the free end\n",
    "E = 210000.0  # Young's modulus\n",
    "nu = 0.3  # Poisson's ratio\n",
    "\n",
    "# cross section\n",
    "A = w * h  # area\n",
    "Iy = w * h**3 / 12  # second moment of inertia around the y axis\n",
    "Iz = h * w**3 / 12  # second moment of inertia around the z axis\n",
    "Ix = Iy + Iz  # torsional inertia\n",
    "\n",
    "# model stiffness matrix\n",
    "G = E / (2 * (1 + nu))\n",
    "Hooke = np.array([\n",
    "    [E*A, 0, 0, 0],\n",
    "    [0, G*Ix, 0, 0],\n",
    "    [0, 0, E*Iy, 0],\n",
    "    [0, 0, 0, E*Iz]\n",
    "])\n",
    "\n",
    "# space\n",
    "GlobalFrame = StandardFrame(dim=3)\n",
    "\n",
    "# support at the first, load at the last node\n",
    "loads = np.zeros((coords.shape[0], 6))\n",
    "fixity = np.zeros((coords.shape[0], 6)).astype(bool)\n",
    "global_load_vector = Vector([0., 0, F], frame=GlobalFrame).show()\n",
    "loads[iN, :3] = global_load_vector\n",
    "fixity[0, :3] = True\n",
    "\n",
    "# pointdata\n",
    "pd = PointData(coords=coords, frame=GlobalFrame,\n",
    "               loads=loads, fixity=fixity)\n",
    "mesh = LineMesh(pd, frame=GlobalFrame)\n",
    "\n",
    "# celldata\n",
    "frames = frames_of_lines(coords, topo)\n",
    "cd1 = Beam(topo=topo[:10], material=Hooke, frames=frames[:10])\n",
    "cd2 = Beam(topo=topo[10:], material=Hooke, frames=frames[10:])\n",
    "mesh['helix', 'A'] = LineMesh(cd1)\n",
    "mesh['helix', 'B'] = LineMesh(cd2)\n",
    "structure = Structure(mesh=mesh)\n",
    "structure.linear_static_analysis()\n",
    "\n",
    "# postproc\n",
    "# 1) displace the mesh\n",
    "dofsol = structure.nodal_dof_solution()\n",
    "internal_forces = structure.internal_forces()\n",
    "reactions = structure.reaction_forces()\n"
   ]
  },
  {
   "cell_type": "code",
   "execution_count": 3,
   "metadata": {},
   "outputs": [
    {
     "data": {
      "text/plain": [
       "(array([-1.55414455e-08, -1.67856342e-08, -1.00000000e+02,  7.27595761e-12,\n",
       "         2.91038305e-11,  2.91038305e-11]),\n",
       " array([1.53264744e-08, 1.67777368e-08, 1.00000000e+02]))"
      ]
     },
     "execution_count": 3,
     "metadata": {},
     "output_type": "execute_result"
    }
   ],
   "source": [
    "frame0 = StandardFrame(frames[0])\n",
    "forces = Vector(internal_forces[0, 0, :3], frame=frame0).show(GlobalFrame)\n",
    "reactions[0], forces"
   ]
  },
  {
   "cell_type": "code",
   "execution_count": 4,
   "metadata": {},
   "outputs": [
    {
     "data": {
      "text/plain": [
       "(-99.9999999604042, 99.99999996040081)"
      ]
     },
     "execution_count": 4,
     "metadata": {},
     "output_type": "execute_result"
    }
   ],
   "source": [
    "reactions[0, 2], forces[2]"
   ]
  },
  {
   "cell_type": "code",
   "execution_count": 5,
   "metadata": {},
   "outputs": [
    {
     "data": {
      "text/plain": [
       "array([ 1.53264743e-08,  1.67777365e-08,  1.00000000e+02,  6.29834251e-12,\n",
       "       -3.02767280e-11,  2.44317822e-11])"
      ]
     },
     "execution_count": 5,
     "metadata": {},
     "output_type": "execute_result"
    }
   ],
   "source": [
    "structure.internal_forces(target='global')[0, 0]"
   ]
  },
  {
   "cell_type": "code",
   "execution_count": 6,
   "metadata": {},
   "outputs": [
    {
     "data": {
      "text/plain": [
       "array([ 1.53264743e-08,  1.67777365e-08,  1.00000000e+02,  6.29834251e-12,\n",
       "       -3.02767280e-11,  2.44317822e-11])"
      ]
     },
     "execution_count": 6,
     "metadata": {},
     "output_type": "execute_result"
    }
   ],
   "source": [
    "structure.internal_forces(target=GlobalFrame)[0, 0]"
   ]
  },
  {
   "cell_type": "code",
   "execution_count": 7,
   "metadata": {},
   "outputs": [],
   "source": [
    "structure.internal_forces(target='global')\n",
    "structure.internal_forces(target='local')\n",
    "structure.internal_forces(target='global', cells=[0, 5])\n",
    "structure.mesh['helix', 'A'].cd.internal_forces(target='global', cells=[0, 5])\n",
    "structure.external_forces(target='global')\n",
    "structure.external_forces(target='local')\n",
    "structure.external_forces(target='global', cells=[0, 5])\n",
    "structure.mesh['helix', 'A'].cd.external_forces(target='local', cells=[0, 5])\n",
    "structure.internal_forces(target=GlobalFrame)\n",
    "structure.internal_forces(target=StandardFrame(frames[0]))\n",
    "structure.mesh['helix', 'A'].cd.internal_forces(target=GlobalFrame, cells=[0]);\n"
   ]
  }
 ],
 "metadata": {
  "kernelspec": {
   "display_name": ".sigeps",
   "language": "python",
   "name": "python3"
  },
  "language_info": {
   "codemirror_mode": {
    "name": "ipython",
    "version": 3
   },
   "file_extension": ".py",
   "mimetype": "text/x-python",
   "name": "python",
   "nbconvert_exporter": "python",
   "pygments_lexer": "ipython3",
   "version": "3.8.10 (tags/v3.8.10:3d8993a, May  3 2021, 11:48:03) [MSC v.1928 64 bit (AMD64)]"
  },
  "orig_nbformat": 4,
  "vscode": {
   "interpreter": {
    "hash": "28d81e0e1442962330764574f1956d80898814d1923baa1210fb6369a4e79b2a"
   }
  }
 },
 "nbformat": 4,
 "nbformat_minor": 2
}
