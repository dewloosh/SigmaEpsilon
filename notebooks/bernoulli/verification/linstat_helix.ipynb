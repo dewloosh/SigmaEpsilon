{
 "cells": [
  {
   "cell_type": "markdown",
   "metadata": {},
   "source": [
    "# Bernoulli Verification Example - Helix"
   ]
  },
  {
   "cell_type": "markdown",
   "metadata": {},
   "source": [
    "Linear elastic solution of a helix in 3d. The starting and ending points of the helix lie on the X axis. One of the ends is fully constrained, and a force is applied on the free end in X direction. The test is succesful if:\n",
    "\n",
    "- the free end makes motion only in X direction\n",
    "- on the constrained end, only a force in X direction is invoked, despite all dofs being constrained"
   ]
  },
  {
   "cell_type": "code",
   "execution_count": 1,
   "metadata": {},
   "outputs": [
    {
     "data": {
      "text/plain": [
       "(0.5403023058681398, 0.8414709848078965, 5)"
      ]
     },
     "execution_count": 1,
     "metadata": {},
     "output_type": "execute_result"
    }
   ],
   "source": [
    "from polymesh.recipes import circular_helix\n",
    "fnc = circular_helix(1, 5)\n",
    "fnc(1)"
   ]
  },
  {
   "cell_type": "code",
   "execution_count": 2,
   "metadata": {},
   "outputs": [],
   "source": [
    "from polymesh.space import CartesianFrame\n",
    "from polymesh import PolyData, LineData\n",
    "import numpy as np\n",
    "\n",
    "frame = CartesianFrame(dim=3)\n",
    "\n",
    "L = 8.0\n",
    "\n",
    "space = np.linspace(0, 20*np.pi, 300)\n",
    "coords = np.array(list(map(circular_helix(L, 2), space)))\n",
    "topo = np.zeros((coords.shape[0] - 1  , 2))\n",
    "topo[:, 0] = np.arange(topo.shape[0])\n",
    "topo[:, 1] = topo[:, 0] + 1\n",
    "topo = topo.astype(int)\n",
    "\n",
    "mesh = PolyData(coords=coords, frame=frame)\n",
    "mesh['helix'] = LineData(topo=topo, frame=frame)\n",
    "\n",
    "mesh.plot(notebook=False)"
   ]
  },
  {
   "cell_type": "code",
   "execution_count": 3,
   "metadata": {},
   "outputs": [
    {
     "data": {
      "text/plain": [
       "(array([8., 0., 0.]),\n",
       " array([ 8.00000000e+00, -1.95943488e-14,  1.25663706e+02]))"
      ]
     },
     "execution_count": 3,
     "metadata": {},
     "output_type": "execute_result"
    }
   ],
   "source": [
    "coords[0], coords[-1]"
   ]
  },
  {
   "cell_type": "code",
   "execution_count": 4,
   "metadata": {},
   "outputs": [],
   "source": [
    "from sigmaepsilon.solid import Structure, LineMesh, PointData\n",
    "from sigmaepsilon.solid.fem.cells import B2 as Beam\n",
    "from neumann.linalg import Vector\n",
    "from polymesh.space import StandardFrame, frames_of_lines\n",
    "from polymesh.topo.tr import L2_to_L3\n",
    "from polymesh.space.utils import index_of_closest_point\n",
    "  \n",
    "import numpy as np\n",
    "\n",
    "xEnd = coords[-1]\n",
    "if Beam.NNODE == 3:\n",
    "    coords, topo = L2_to_L3(coords, topo)\n",
    "iN = index_of_closest_point(coords, xEnd)\n",
    "\n",
    "w, h = 1., 1.  # width and height of the rectangular cross section\n",
    "F = 100.  # value of the vertical load at the free end\n",
    "E = 210000.0  # Young's modulus\n",
    "nu = 0.3  # Poisson's ratio\n",
    "\n",
    "# cross section\n",
    "A = w * h  # area\n",
    "Iy = w * h**3 / 12  # second moment of inertia around the y axis\n",
    "Iz = w * h**3 / 12  # second moment of inertia around the z axis\n",
    "Ix = Iy + Iz  # torsional inertia\n",
    "\n",
    "# model stiffness matrix\n",
    "G = E / (2 * (1 + nu))\n",
    "Hooke = np.array([\n",
    "    [E*A, 0, 0, 0],\n",
    "    [0, G*Ix, 0, 0],\n",
    "    [0, 0, E*Iy, 0],\n",
    "    [0, 0, 0, E*Iz]\n",
    "])\n",
    "\n",
    "# space\n",
    "GlobalFrame = StandardFrame(dim=3)\n",
    "\n",
    "# support at the first, load at the last node\n",
    "loads = np.zeros((coords.shape[0], 6))\n",
    "fixity = np.zeros((coords.shape[0], 6)).astype(bool)\n",
    "global_load_vector = Vector([0., 0, F], frame=GlobalFrame).show()\n",
    "loads[iN, :3] = global_load_vector\n",
    "fixity[0, :3] = True\n",
    "\n",
    "# pointdata\n",
    "pd = PointData(coords=coords, frame=GlobalFrame,\n",
    "               loads=loads, fixity=fixity)\n",
    "mesh = LineMesh(pd, frame=GlobalFrame)\n",
    "\n",
    "# celldata\n",
    "frames = frames_of_lines(coords, topo)\n",
    "cd1 = Beam(topo=topo[:10], frames=frames[:10])\n",
    "cd2 = Beam(topo=topo[10:], frames=frames[10:])\n",
    "mesh['helix1'] = LineMesh(cd1, model=Hooke)\n",
    "mesh['helix2', 'a'] = LineMesh(cd2, model=Hooke)\n",
    "structure = Structure(mesh=mesh)\n",
    "structure.linsolve()\n",
    "\n",
    "# postproc\n",
    "# 1) displace the mesh\n",
    "dofsol = structure.nodal_dof_solution(store='dofsol')\n",
    "internal_forces = structure.internal_forces()\n",
    "reactions = structure.reaction_forces()\n"
   ]
  },
  {
   "cell_type": "code",
   "execution_count": 5,
   "metadata": {},
   "outputs": [
    {
     "data": {
      "text/plain": [
       "(array([-9.37870936e-09, -3.17540980e-08, -1.00000000e+02,  5.11590770e-12,\n",
       "        -1.09139364e-11,  1.81898940e-11]),\n",
       " array([9.47028971e-09, 3.17686440e-08, 1.00000000e+02]))"
      ]
     },
     "execution_count": 5,
     "metadata": {},
     "output_type": "execute_result"
    }
   ],
   "source": [
    "frame0 = StandardFrame(frames[0])\n",
    "forces = Vector(internal_forces[0, 0, :3], frame=frame0).show(GlobalFrame)\n",
    "reactions[0], forces"
   ]
  },
  {
   "cell_type": "code",
   "execution_count": 6,
   "metadata": {},
   "outputs": [
    {
     "data": {
      "text/plain": [
       "(-99.99999998896237, 99.99999998893318)"
      ]
     },
     "execution_count": 6,
     "metadata": {},
     "output_type": "execute_result"
    }
   ],
   "source": [
    "reactions[0, 2], forces[2]"
   ]
  },
  {
   "cell_type": "code",
   "execution_count": 7,
   "metadata": {},
   "outputs": [
    {
     "data": {
      "text/plain": [
       "array([ 9.47028989e-09,  3.17686428e-08,  1.00000000e+02, -4.88201581e-11,\n",
       "        1.84679292e-11,  4.65113826e-12])"
      ]
     },
     "execution_count": 7,
     "metadata": {},
     "output_type": "execute_result"
    }
   ],
   "source": [
    "structure.internal_forces(target='global')[0, 0]"
   ]
  },
  {
   "cell_type": "code",
   "execution_count": 8,
   "metadata": {},
   "outputs": [
    {
     "data": {
      "text/plain": [
       "array([ 9.47028989e-09,  3.17686428e-08,  1.00000000e+02, -4.88201581e-11,\n",
       "        1.84679292e-11,  4.65113826e-12])"
      ]
     },
     "execution_count": 8,
     "metadata": {},
     "output_type": "execute_result"
    }
   ],
   "source": [
    "structure.internal_forces(target=GlobalFrame)[0, 0]"
   ]
  },
  {
   "cell_type": "code",
   "execution_count": 10,
   "metadata": {},
   "outputs": [],
   "source": [
    "structure.internal_forces(target='global')\n",
    "structure.internal_forces(target='local')\n",
    "structure.mesh['helix1'].cd.internal_forces(target='global', cells=[0, 5])\n",
    "structure.external_forces(target='global')\n",
    "structure.external_forces(target='local')\n",
    "structure.mesh['helix1'].cd.external_forces(target='local', cells=[0, 5])\n",
    "structure.internal_forces(target=GlobalFrame)\n",
    "structure.internal_forces(target=StandardFrame(frames[0]))\n",
    "structure.mesh['helix1'].cd.internal_forces(target=GlobalFrame, cells=[0]);\n"
   ]
  },
  {
   "cell_type": "code",
   "execution_count": 11,
   "metadata": {},
   "outputs": [
    {
     "data": {
      "text/plain": [
       "{5: PolyData({})}"
      ]
     },
     "execution_count": 11,
     "metadata": {},
     "output_type": "execute_result"
    }
   ],
   "source": [
    "structure.mesh.blocks_of_cells(i=5)"
   ]
  },
  {
   "cell_type": "code",
   "execution_count": 12,
   "metadata": {},
   "outputs": [
    {
     "data": {
      "text/plain": [
       "{5: PolyData({}), 20: PolyData({})}"
      ]
     },
     "execution_count": 12,
     "metadata": {},
     "output_type": "execute_result"
    }
   ],
   "source": [
    "structure.mesh.blocks_of_cells(i=[5, 20])"
   ]
  },
  {
   "cell_type": "code",
   "execution_count": 15,
   "metadata": {},
   "outputs": [
    {
     "data": {
      "text/plain": [
       "array([ 2.42956102e+01,  9.69577615e+01,  2.98593431e+00,  1.88054232e+00,\n",
       "        4.32359473e-02, -1.67053183e+01,  2.42956102e+01,  9.69577615e+01,\n",
       "        2.98593431e+00,  1.88054232e+00,  5.20848319e+00, -1.84428637e+02])"
      ]
     },
     "execution_count": 15,
     "metadata": {},
     "output_type": "execute_result"
    }
   ],
   "source": [
    "mapper = structure.mesh.blocks_of_cells(i=20)\n",
    "mapper[20].cd.internal_forces(cells=20)"
   ]
  }
 ],
 "metadata": {
  "kernelspec": {
   "display_name": "Python 3.8.10 ('.sigeps': venv)",
   "language": "python",
   "name": "python3"
  },
  "language_info": {
   "codemirror_mode": {
    "name": "ipython",
    "version": 3
   },
   "file_extension": ".py",
   "mimetype": "text/x-python",
   "name": "python",
   "nbconvert_exporter": "python",
   "pygments_lexer": "ipython3",
   "version": "3.8.10"
  },
  "orig_nbformat": 4,
  "vscode": {
   "interpreter": {
    "hash": "5facf25dadae24d0f6f3d9b821e9851478f51388ee31821a60476e833f1169c6"
   }
  }
 },
 "nbformat": 4,
 "nbformat_minor": 2
}
