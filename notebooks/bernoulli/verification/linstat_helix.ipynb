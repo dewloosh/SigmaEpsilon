{
 "cells": [
  {
   "cell_type": "markdown",
   "metadata": {},
   "source": [
    "# Bernoulli Verification Example - Helix"
   ]
  },
  {
   "cell_type": "markdown",
   "metadata": {},
   "source": [
    "Linear elastic solution of a helix in 3d. The starting and ending points of the helix lie on the X axis. One of the ends is fully constrained, and a force is applied on the free end in X direction. The test is succesful if:\n",
    "\n",
    "- the free end makes motion only in X direction\n",
    "- on the constrained end, only a force in X direction is invoked, despite all dofs being constrained"
   ]
  },
  {
   "cell_type": "code",
   "execution_count": 70,
   "metadata": {},
   "outputs": [
    {
     "data": {
      "text/plain": [
       "(0.5403023058681398, 0.8414709848078965, 5)"
      ]
     },
     "execution_count": 70,
     "metadata": {},
     "output_type": "execute_result"
    }
   ],
   "source": [
    "from polymesh.recipes import circular_helix\n",
    "fnc = circular_helix(1, 5)\n",
    "fnc(1)"
   ]
  },
  {
   "cell_type": "code",
   "execution_count": 71,
   "metadata": {},
   "outputs": [],
   "source": [
    "from polymesh.space import CartesianFrame\n",
    "from polymesh import PolyData, LineData\n",
    "import numpy as np\n",
    "\n",
    "frame = CartesianFrame(dim=3)\n",
    "\n",
    "L = 8.0\n",
    "\n",
    "space = np.linspace(0, 20*np.pi, 300)\n",
    "coords = np.array(list(map(circular_helix(L, 2), space)))\n",
    "topo = np.zeros((coords.shape[0] - 1  , 2))\n",
    "topo[:, 0] = np.arange(topo.shape[0])\n",
    "topo[:, 1] = topo[:, 0] + 1\n",
    "topo = topo.astype(int)\n",
    "\n",
    "mesh = PolyData(coords=coords, frame=frame)\n",
    "mesh['helix'] = LineData(topo=topo, frame=frame)\n",
    "\n",
    "mesh.plot(notebook=False)"
   ]
  },
  {
   "cell_type": "code",
   "execution_count": 72,
   "metadata": {},
   "outputs": [
    {
     "data": {
      "text/plain": [
       "(array([8., 0., 0.]),\n",
       " array([ 8.00000000e+00, -1.95943488e-14,  1.25663706e+02]))"
      ]
     },
     "execution_count": 72,
     "metadata": {},
     "output_type": "execute_result"
    }
   ],
   "source": [
    "coords[0], coords[-1]"
   ]
  },
  {
   "cell_type": "code",
   "execution_count": 73,
   "metadata": {},
   "outputs": [],
   "source": [
    "from sigmaepsilon.solid import Structure, LineMesh, PointData\n",
    "from sigmaepsilon.solid.fem.cells import B2 as Beam\n",
    "from neumann.linalg import linspace, Vector\n",
    "from polymesh.space import StandardFrame, PointCloud, frames_of_lines\n",
    "from polymesh.topo.tr import L2_to_L3\n",
    "from polymesh.space.utils import index_of_closest_point\n",
    "  \n",
    "import numpy as np\n",
    "from numpy import pi as PI\n",
    "\n",
    "xEnd = coords[-1]\n",
    "if Beam.NNODE == 3:\n",
    "    coords, topo = L2_to_L3(coords, topo)\n",
    "iN = index_of_closest_point(coords, xEnd)\n",
    "\n",
    "w, h = 1., 1.  # width and height of the rectangular cross section\n",
    "F = 100.  # value of the vertical load at the free end\n",
    "E = 210000.0  # Young's modulus\n",
    "nu = 0.3  # Poisson's ratio\n",
    "\n",
    "# cross section\n",
    "A = w * h  # area\n",
    "Iy = w * h**3 / 12  # second moment of inertia around the y axis\n",
    "Iz = w * h**3 / 12  # second moment of inertia around the z axis\n",
    "Ix = Iy + Iz  # torsional inertia\n",
    "\n",
    "# model stiffness matrix\n",
    "G = E / (2 * (1 + nu))\n",
    "Hooke = np.array([\n",
    "    [E*A, 0, 0, 0],\n",
    "    [0, G*Ix, 0, 0],\n",
    "    [0, 0, E*Iy, 0],\n",
    "    [0, 0, 0, E*Iz]\n",
    "])\n",
    "\n",
    "# space\n",
    "GlobalFrame = StandardFrame(dim=3)\n",
    "\n",
    "# support at the first, load at the last node\n",
    "loads = np.zeros((coords.shape[0], 6))\n",
    "fixity = np.zeros((coords.shape[0], 6)).astype(bool)\n",
    "global_load_vector = Vector([0., 0, F], frame=GlobalFrame).show()\n",
    "loads[iN, :3] = global_load_vector\n",
    "fixity[0, :] = True\n",
    "\n",
    "# pointdata\n",
    "pd = PointData(coords=coords, frame=GlobalFrame,\n",
    "               loads=loads, fixity=fixity)\n",
    "\n",
    "# celldata\n",
    "frames = frames_of_lines(coords, topo)\n",
    "cd = Beam(topo=topo, frames=frames)\n",
    "\n",
    "# set up mesh and structure\n",
    "mesh = LineMesh(pd, cd, model=Hooke, frame=GlobalFrame)\n",
    "structure = Structure(mesh=mesh)\n",
    "structure.linsolve()\n",
    "\n",
    "# postproc\n",
    "# 1) displace the mesh\n",
    "dofsol = structure.nodal_dof_solution(store='dofsol')\n",
    "forces = structure.nodal_forces()\n",
    "cell_forces_i = structure.internal_forces()\n",
    "cell_forces_e = structure.external_forces()\n",
    "reactions = structure.reaction_forces()\n"
   ]
  },
  {
   "cell_type": "code",
   "execution_count": 74,
   "metadata": {},
   "outputs": [
    {
     "data": {
      "text/plain": [
       "(array([-1.69533298e+03,  7.70038245e+01,  4.56451985e+02,  3.50513013e-07,\n",
       "        -2.69820624e+01,  1.66253132e+00]),\n",
       " array([  0.,   0., 100.,   0.,   0.,   0.]),\n",
       " array([-1.93562284e-07,  2.05861052e-07, -9.99999999e+01, -2.27832846e-05,\n",
       "        -1.77396703e-05, -4.24137523e-06]))"
      ]
     },
     "execution_count": 74,
     "metadata": {},
     "output_type": "execute_result"
    }
   ],
   "source": [
    "dofsol[iN], forces[iN], reactions[0]"
   ]
  },
  {
   "cell_type": "code",
   "execution_count": 75,
   "metadata": {},
   "outputs": [
    {
     "data": {
      "text/plain": [
       "(100.0, -99.99999993797951)"
      ]
     },
     "execution_count": 75,
     "metadata": {},
     "output_type": "execute_result"
    }
   ],
   "source": [
    "forces[iN, 2], reactions[0, 2]"
   ]
  },
  {
   "cell_type": "code",
   "execution_count": 76,
   "metadata": {},
   "outputs": [
    {
     "data": {
      "text/plain": [
       "array([[ 2.42956102e+01,  2.42956102e+01],\n",
       "       [ 9.69719039e+01,  9.69719039e+01],\n",
       "       [-2.48458984e+00, -2.48458984e+00],\n",
       "       [-2.65428705e-09, -2.65428705e-09],\n",
       "       [ 4.29799168e+00, -7.95807864e-09],\n",
       "       [ 1.67747782e+02,  3.97903932e-09]])"
      ]
     },
     "execution_count": 76,
     "metadata": {},
     "output_type": "execute_result"
    }
   ],
   "source": [
    "structure.internal_forces(target='global')[-1]"
   ]
  },
  {
   "cell_type": "code",
   "execution_count": 77,
   "metadata": {},
   "outputs": [
    {
     "data": {
      "text/plain": [
       "array([[ 2.42956102e+01,  2.42956102e+01],\n",
       "       [ 9.69719039e+01,  9.69719039e+01],\n",
       "       [-2.48458984e+00, -2.48458984e+00],\n",
       "       [-2.65428705e-09, -2.65428705e-09],\n",
       "       [ 4.29799168e+00, -7.95807864e-09],\n",
       "       [ 1.67747782e+02,  3.97903932e-09]])"
      ]
     },
     "execution_count": 77,
     "metadata": {},
     "output_type": "execute_result"
    }
   ],
   "source": [
    "structure.internal_forces(target=GlobalFrame)[-1]"
   ]
  },
  {
   "cell_type": "code",
   "execution_count": 78,
   "metadata": {},
   "outputs": [
    {
     "data": {
      "text/plain": [
       "{0: array([[[ 2.42956099e+01,  2.42956099e+01]],\n",
       " \n",
       "        [[ 9.69719039e+01,  9.69719039e+01]],\n",
       " \n",
       "        [[ 2.48459002e+00,  2.48459002e+00]],\n",
       " \n",
       "        [[ 1.58258673e-05,  1.58258673e-05]],\n",
       " \n",
       "        [[-2.19497280e-07,  4.29799178e+00]],\n",
       " \n",
       "        [[ 2.45205418e-05, -1.67747758e+02]]])}"
      ]
     },
     "execution_count": 78,
     "metadata": {},
     "output_type": "execute_result"
    }
   ],
   "source": [
    "\n",
    "structure.internal_forces(target='global')\n",
    "structure.internal_forces(target='local')\n",
    "structure.internal_forces(target='global', cells=[0, 5])\n",
    "structure.external_forces(target='global')\n",
    "structure.external_forces(target='local')\n",
    "structure.external_forces(target='local', cells=[0, 5])\n",
    "structure.internal_forces(target=GlobalFrame)\n",
    "structure.internal_forces(target=GlobalFrame, cells=[0])\n"
   ]
  }
 ],
 "metadata": {
  "kernelspec": {
   "display_name": "Python 3.8.10 ('.sigeps': venv)",
   "language": "python",
   "name": "python3"
  },
  "language_info": {
   "codemirror_mode": {
    "name": "ipython",
    "version": 3
   },
   "file_extension": ".py",
   "mimetype": "text/x-python",
   "name": "python",
   "nbconvert_exporter": "python",
   "pygments_lexer": "ipython3",
   "version": "3.8.10"
  },
  "orig_nbformat": 4,
  "vscode": {
   "interpreter": {
    "hash": "5facf25dadae24d0f6f3d9b821e9851478f51388ee31821a60476e833f1169c6"
   }
  }
 },
 "nbformat": 4,
 "nbformat_minor": 2
}
