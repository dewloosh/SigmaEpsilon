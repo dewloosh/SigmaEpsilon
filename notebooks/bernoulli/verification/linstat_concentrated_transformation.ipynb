{
 "cells": [
  {
   "cell_type": "markdown",
   "metadata": {
    "pycharm": {
     "name": "#%% md\n"
    }
   },
   "source": [
    "# Bernoulli Console With Random Orientation"
   ]
  },
  {
   "cell_type": "code",
   "execution_count": 152,
   "metadata": {
    "pycharm": {
     "name": "#%%\n"
    }
   },
   "outputs": [],
   "source": [
    "L, d, t = 1000.0, 100.0, 5.0\n",
    "Ex, nu = 210000.0, 0.25\n",
    "penalty = 1e20  # penalty value\n"
   ]
  },
  {
   "cell_type": "code",
   "execution_count": 153,
   "metadata": {},
   "outputs": [],
   "source": [
    "seed = 0  # integer or None\n",
    "seed = None\n"
   ]
  },
  {
   "cell_type": "markdown",
   "metadata": {
    "pycharm": {
     "name": "#%% md\n"
    }
   },
   "source": [
    "## Linear Solution"
   ]
  },
  {
   "cell_type": "code",
   "execution_count": 154,
   "metadata": {
    "pycharm": {
     "name": "#%%\n"
    }
   },
   "outputs": [],
   "source": [
    "from linkeddeepdict import LinkedDeepDict\n",
    "from linkeddeepdict.tools import getallfromkwargs\n",
    "from neumann.linalg import Vector, linspace\n",
    "from neumann.array import repeat\n",
    "from polymesh.space import StandardFrame, PointCloud, frames_of_lines\n",
    "from polymesh.space.utils import index_of_closest_point, index_of_furthest_point\n",
    "from polymesh.topo.tr import L2_to_L3\n",
    "from sigmaepsilon.solid.fem.cells import B2, B3\n",
    "from sigmaepsilon.solid import Structure, LineMesh, PointData, BeamSection\n",
    "import numpy as np\n",
    "from latexdocs.utils import floatformatter\n",
    "\n",
    "rs = np.random.RandomState()\n",
    "if isinstance(seed, int):\n",
    "    rs.seed(seed)\n",
    "\n",
    "formatter = floatformatter(sig=6)\n",
    "def f2s(x): return formatter.format(x)\n",
    "\n",
    "\n",
    "# section\n",
    "section = BeamSection('CHS', d=d, t=t, n=32)\n",
    "section.calculate_section_properties()\n",
    "section_props = section.section_properties\n",
    "A, Ix, Iy, Iz = getallfromkwargs(['A', 'Ix', 'Iy', 'Iz'], **section_props)\n",
    "\n",
    "# material\n",
    "G = Ex / (2 * (1 + nu))\n",
    "Hooke = np.array([\n",
    "    [Ex*A, 0, 0, 0],\n",
    "    [0, G*Ix, 0, 0],\n",
    "    [0, 0, Ex*Iy, 0],\n",
    "    [0, 0, 0, Ex*Iz]\n",
    "])\n",
    "\n",
    "\n",
    "def solve(n, angles, loads, celltype=B2):\n",
    "    # space\n",
    "    GlobalFrame = StandardFrame(dim=3)\n",
    "    TargetFrame = GlobalFrame.rotate('Body', angles, 'XYZ', inplace=False)\n",
    "\n",
    "    # mesh\n",
    "    p0 = np.array([0., 0., 0.])\n",
    "    p1 = np.array([L, 0., 0.])\n",
    "    coords = linspace(p0, p1, n+1)\n",
    "    points = PointCloud(coords, frame=TargetFrame)\n",
    "    coords = points.show(GlobalFrame)\n",
    "    topo = np.zeros((n, 2), dtype=int)\n",
    "    topo[:, 0] = np.arange(n)\n",
    "    topo[:, 1] = np.arange(n) + 1\n",
    "    if celltype.NNODE == 3:\n",
    "        coords, topo = L2_to_L3(coords, topo)\n",
    "    i_first = index_of_closest_point(coords, np.array([0., 0., 0.]))\n",
    "    i_last = index_of_furthest_point(coords, np.array([0., 0., 0.]))\n",
    "\n",
    "    # essential boundary conditions\n",
    "    fixity = np.zeros((coords.shape[0], 6)).astype(bool)\n",
    "    fixity[i_first, :] = True\n",
    "    fixity = fixity.astype(float) * penalty\n",
    "\n",
    "    # natural boundary conditions\n",
    "    loads = np.array(loads)\n",
    "    nodal_loads = np.zeros((coords.shape[0], 6))\n",
    "    vF = Vector(loads[:3], frame=TargetFrame).show(GlobalFrame)\n",
    "    vM = Vector(loads[3:], frame=TargetFrame).show(GlobalFrame)\n",
    "    nodal_loads[i_last, :3] = vF\n",
    "    nodal_loads[i_last, 3:] = vM\n",
    "\n",
    "    # pointdata\n",
    "    pd = PointData(coords=coords, frame=GlobalFrame,\n",
    "                   loads=nodal_loads, fixity=fixity)\n",
    "\n",
    "    # celldata\n",
    "    frames = repeat(TargetFrame.axes, topo.shape[0])\n",
    "    cd = celltype(topo=topo, frames=frames)\n",
    "\n",
    "    # set up mesh and structure\n",
    "    mesh = LineMesh(pd, cd, model=Hooke, frame=GlobalFrame)\n",
    "    structure = Structure(mesh=mesh)\n",
    "\n",
    "    structure.linsolve()\n",
    "\n",
    "    dofsol = structure.nodal_dof_solution(store='dofsol')\n",
    "    u = np.zeros(6)\n",
    "    u[:3] = Vector(dofsol[i_last, :3], frame=GlobalFrame).show(TargetFrame)\n",
    "    u[3:] = Vector(dofsol[i_last, 3:], frame=GlobalFrame).show(TargetFrame)\n",
    "\n",
    "    reactions = structure.reaction_forces()\n",
    "    r = np.zeros(6)\n",
    "    r[:3] = Vector(reactions[i_first, :3], frame=GlobalFrame).show(TargetFrame)\n",
    "    r[3:] = Vector(reactions[i_first, 3:], frame=GlobalFrame).show(TargetFrame)\n",
    "\n",
    "    forces = structure.internal_forces()\n",
    "    f = np.zeros(6)\n",
    "    f[:3] = forces[0, 0, :3]\n",
    "    f[3:] = forces[0, 0, 3:]\n",
    "\n",
    "    return u, r, f\n"
   ]
  },
  {
   "cell_type": "markdown",
   "metadata": {},
   "source": [
    "## Tests"
   ]
  },
  {
   "cell_type": "code",
   "execution_count": 155,
   "metadata": {},
   "outputs": [],
   "source": [
    "def absolute_relative_error(v_analytic, v_fem):\n",
    "    return np.abs(100 * (v_analytic - v_fem) / v_analytic)"
   ]
  },
  {
   "cell_type": "markdown",
   "metadata": {},
   "source": [
    "### Concentrated forces at the free end"
   ]
  },
  {
   "cell_type": "code",
   "execution_count": 156,
   "metadata": {},
   "outputs": [],
   "source": [
    "n = 2  # number of elements"
   ]
  },
  {
   "cell_type": "markdown",
   "metadata": {},
   "source": [
    "Concentrated force in local X"
   ]
  },
  {
   "cell_type": "code",
   "execution_count": 157,
   "metadata": {},
   "outputs": [],
   "source": [
    "Fx = 1.0\n",
    "loads = [Fx, 0, 0, 0, 0, 0]\n",
    "\n",
    "# analytical solutions\n",
    "UX = Fx * L / (Ex * A)  # displacement at the free end\n",
    "RX = -Fx  # reaction force\n",
    "FX = Fx  # internal force at the support"
   ]
  },
  {
   "cell_type": "code",
   "execution_count": 158,
   "metadata": {},
   "outputs": [
    {
     "name": "stdout",
     "output_type": "stream",
     "text": [
      "UX  | Analytic : 3.21167e-06, FEM : 3.21167e-06\n",
      "RX  | Analytic : -1, FEM : -1\n",
      "FX  | Analytic : 1, FEM : 1\n",
      "\n",
      "\n",
      "UX  | Analytic : 3.21167e-06, FEM : 3.21167e-06\n",
      "RX  | Analytic : -1, FEM : -1\n",
      "FX  | Analytic : 1, FEM : 1\n",
      "\n",
      "\n",
      "UX  | Analytic : 3.21167e-06, FEM : 3.21167e-06\n",
      "RX  | Analytic : -1, FEM : -1\n",
      "FX  | Analytic : 1, FEM : 1\n",
      "\n",
      "\n"
     ]
    }
   ],
   "source": [
    "for i in range(3):\n",
    "    angles = np.random.rand(3) * np.pi * 2\n",
    "    u, r, f = solve(n, angles, loads, B2)\n",
    "    UX_fem = u[0]\n",
    "    RX_fem = r[0]\n",
    "    FX_fem = f[0]\n",
    "    print(\"UX  | Analytic : {}, FEM : {}\".format(f2s(UX), f2s(UX_fem)))\n",
    "    print(\"RX  | Analytic : {}, FEM : {}\".format(f2s(RX), f2s(RX_fem)))\n",
    "    print(\"FX  | Analytic : {}, FEM : {}\".format(f2s(FX), f2s(FX_fem)))\n",
    "    print(\"\\n\")\n"
   ]
  },
  {
   "cell_type": "code",
   "execution_count": 159,
   "metadata": {},
   "outputs": [
    {
     "name": "stdout",
     "output_type": "stream",
     "text": [
      "UX  | Analytic : 3.21167e-06, FEM : 3.21167e-06\n",
      "RX  | Analytic : -1, FEM : -1\n",
      "FX  | Analytic : 1, FEM : 1\n",
      "\n",
      "\n",
      "UX  | Analytic : 3.21167e-06, FEM : 3.21167e-06\n",
      "RX  | Analytic : -1, FEM : -1\n",
      "FX  | Analytic : 1, FEM : 1\n",
      "\n",
      "\n",
      "UX  | Analytic : 3.21167e-06, FEM : 3.21167e-06\n",
      "RX  | Analytic : -1, FEM : -1\n",
      "FX  | Analytic : 1, FEM : 1\n",
      "\n",
      "\n"
     ]
    }
   ],
   "source": [
    "for i in range(3):\n",
    "    angles = np.random.rand(3) * np.pi * 2\n",
    "    u, r, f = solve(n, angles, loads, B3)\n",
    "    UX_fem = u[0]\n",
    "    RX_fem = r[0]\n",
    "    FX_fem = f[0]\n",
    "    print(\"UX  | Analytic : {}, FEM : {}\".format(f2s(UX), f2s(UX_fem)))\n",
    "    print(\"RX  | Analytic : {}, FEM : {}\".format(f2s(RX), f2s(RX_fem)))\n",
    "    print(\"FX  | Analytic : {}, FEM : {}\".format(f2s(FX), f2s(FX_fem)))\n",
    "    print(\"\\n\")"
   ]
  },
  {
   "cell_type": "markdown",
   "metadata": {},
   "source": [
    "Contentrated force in local Y"
   ]
  },
  {
   "cell_type": "code",
   "execution_count": 160,
   "metadata": {},
   "outputs": [],
   "source": [
    "Fy = 1.0\n",
    "loads = [0, Fy, 0, 0, 0, 0]\n",
    "\n",
    "# analytical solutions\n",
    "UY = Fy * L**3 / (3 * Ex * Iz)  # displacement at the free end\n",
    "UZZ = Fy * L**2 / (2 * Ex * Iz)  # rotation at the free end\n",
    "RY = -Fy  # reaction force\n",
    "RZZ = -Fy * L  # reaction moment\n",
    "FY = Fy  # internal force at the support\n",
    "FZZ = Fy * L  # internal moment at the support"
   ]
  },
  {
   "cell_type": "code",
   "execution_count": 161,
   "metadata": {},
   "outputs": [
    {
     "name": "stdout",
     "output_type": "stream",
     "text": [
      "UY  | Analytic : 0.00095245, FEM : 0.00095245\n",
      "UZZ | Analytic : 1.42867e-06, FEM : 1.42867e-06\n",
      "RY  | Analytic : -1, FEM : -1\n",
      "RZZ | Analytic : -1000, FEM : -1000\n",
      "FY  | Analytic : 1, FEM : 1\n",
      "FZZ | Analytic : 1000, FEM : 1000\n",
      "\n",
      "\n",
      "UY  | Analytic : 0.00095245, FEM : 0.00095245\n",
      "UZZ | Analytic : 1.42867e-06, FEM : 1.42867e-06\n",
      "RY  | Analytic : -1, FEM : -1\n",
      "RZZ | Analytic : -1000, FEM : -1000\n",
      "FY  | Analytic : 1, FEM : 1\n",
      "FZZ | Analytic : 1000, FEM : 1000\n",
      "\n",
      "\n",
      "UY  | Analytic : 0.00095245, FEM : 0.00095245\n",
      "UZZ | Analytic : 1.42867e-06, FEM : 1.42867e-06\n",
      "RY  | Analytic : -1, FEM : -1\n",
      "RZZ | Analytic : -1000, FEM : -1000\n",
      "FY  | Analytic : 1, FEM : 1\n",
      "FZZ | Analytic : 1000, FEM : 1000\n",
      "\n",
      "\n"
     ]
    }
   ],
   "source": [
    "for i in range(3):\n",
    "    angles = np.random.rand(3) * np.pi * 2\n",
    "    u, r, f = solve(n, angles, loads, B2)\n",
    "    UY_fem, UZZ_fem = u[1], u[5]\n",
    "    RY_fem, RZZ_fem = r[1], r[5]\n",
    "    FY_fem, FZZ_fem = f[1], f[5]\n",
    "    print(\"UY  | Analytic : {}, FEM : {}\".format(f2s(UY), f2s(UY_fem)))\n",
    "    print(\"UZZ | Analytic : {}, FEM : {}\".format(f2s(UZZ), f2s(UZZ_fem)))\n",
    "    print(\"RY  | Analytic : {}, FEM : {}\".format(f2s(RY), f2s(RY_fem)))\n",
    "    print(\"RZZ | Analytic : {}, FEM : {}\".format(f2s(RZZ), f2s(RZZ_fem)))\n",
    "    print(\"FY  | Analytic : {}, FEM : {}\".format(f2s(FY), f2s(FY_fem)))\n",
    "    print(\"FZZ | Analytic : {}, FEM : {}\".format(f2s(FZZ), f2s(FZZ_fem)))\n",
    "    print(\"\\n\")"
   ]
  },
  {
   "cell_type": "code",
   "execution_count": 162,
   "metadata": {},
   "outputs": [
    {
     "name": "stdout",
     "output_type": "stream",
     "text": [
      "UY  | Analytic : 0.00095245, FEM : 0.00095245\n",
      "UZZ | Analytic : 1.42867e-06, FEM : 1.42867e-06\n",
      "RY  | Analytic : -1, FEM : -1\n",
      "RZZ | Analytic : -1000, FEM : -1000\n",
      "FY  | Analytic : 1, FEM : 1\n",
      "FZZ | Analytic : 1000, FEM : 1000\n",
      "\n",
      "\n",
      "UY  | Analytic : 0.00095245, FEM : 0.00095245\n",
      "UZZ | Analytic : 1.42867e-06, FEM : 1.42867e-06\n",
      "RY  | Analytic : -1, FEM : -1\n",
      "RZZ | Analytic : -1000, FEM : -1000\n",
      "FY  | Analytic : 1, FEM : 1\n",
      "FZZ | Analytic : 1000, FEM : 1000\n",
      "\n",
      "\n",
      "UY  | Analytic : 0.00095245, FEM : 0.00095245\n",
      "UZZ | Analytic : 1.42867e-06, FEM : 1.42867e-06\n",
      "RY  | Analytic : -1, FEM : -1\n",
      "RZZ | Analytic : -1000, FEM : -1000\n",
      "FY  | Analytic : 1, FEM : 1\n",
      "FZZ | Analytic : 1000, FEM : 1000\n",
      "\n",
      "\n"
     ]
    }
   ],
   "source": [
    "for i in range(3):\n",
    "    angles = np.random.rand(3) * np.pi * 2\n",
    "    u, r, f = solve(n, angles, loads, B3)\n",
    "    UY_fem, UZZ_fem = u[1], u[5]\n",
    "    RY_fem, RZZ_fem = r[1], r[5]\n",
    "    FY_fem, FZZ_fem = f[1], f[5]\n",
    "    print(\"UY  | Analytic : {}, FEM : {}\".format(f2s(UY), f2s(UY_fem)))\n",
    "    print(\"UZZ | Analytic : {}, FEM : {}\".format(f2s(UZZ), f2s(UZZ_fem)))\n",
    "    print(\"RY  | Analytic : {}, FEM : {}\".format(f2s(RY), f2s(RY_fem)))\n",
    "    print(\"RZZ | Analytic : {}, FEM : {}\".format(f2s(RZZ), f2s(RZZ_fem)))\n",
    "    print(\"FY  | Analytic : {}, FEM : {}\".format(f2s(FY), f2s(FY_fem)))\n",
    "    print(\"FZZ | Analytic : {}, FEM : {}\".format(f2s(FZZ), f2s(FZZ_fem)))\n",
    "    print(\"\\n\")"
   ]
  },
  {
   "cell_type": "markdown",
   "metadata": {},
   "source": [
    "Contentrated force in local Z"
   ]
  },
  {
   "cell_type": "code",
   "execution_count": 163,
   "metadata": {},
   "outputs": [],
   "source": [
    "Fz = 1.0\n",
    "loads = [0, 0, Fz, 0, 0, 0]\n",
    "\n",
    "# analytical solutions\n",
    "UZ = Fz * L**3 / (3 * Ex * Iy)  # displacement at the free end\n",
    "UYY = -Fz * L**2 / (2 * Ex * Iy)  # rotation at the free end\n",
    "RZ = -Fz  # reaction force\n",
    "RYY = Fz * L  # reaction moment\n",
    "FZ = Fz  # internal force at the support\n",
    "FYY = -Fz * L  # internal moment at the support"
   ]
  },
  {
   "cell_type": "code",
   "execution_count": 164,
   "metadata": {},
   "outputs": [
    {
     "name": "stdout",
     "output_type": "stream",
     "text": [
      "UZ  | Analytic : 0.00095245, FEM : 0.00095245\n",
      "UYY | Analytic : -1.42867e-06, FEM : -1.42867e-06\n",
      "RZ  | Analytic : -1, FEM : -1\n",
      "RYY | Analytic : 1000, FEM : 1000\n",
      "FZ  | Analytic : 1, FEM : 1\n",
      "FYY | Analytic : -1000, FEM : -1000\n",
      "\n",
      "\n",
      "UZ  | Analytic : 0.00095245, FEM : 0.00095245\n",
      "UYY | Analytic : -1.42867e-06, FEM : -1.42867e-06\n",
      "RZ  | Analytic : -1, FEM : -1\n",
      "RYY | Analytic : 1000, FEM : 1000\n",
      "FZ  | Analytic : 1, FEM : 1\n",
      "FYY | Analytic : -1000, FEM : -1000\n",
      "\n",
      "\n",
      "UZ  | Analytic : 0.00095245, FEM : 0.00095245\n",
      "UYY | Analytic : -1.42867e-06, FEM : -1.42867e-06\n",
      "RZ  | Analytic : -1, FEM : -1\n",
      "RYY | Analytic : 1000, FEM : 1000\n",
      "FZ  | Analytic : 1, FEM : 1\n",
      "FYY | Analytic : -1000, FEM : -1000\n",
      "\n",
      "\n"
     ]
    }
   ],
   "source": [
    "for i in range(3):\n",
    "    angles = np.random.rand(3) * np.pi * 2\n",
    "    u, r, f = solve(n, angles, loads, B2)\n",
    "    UZ_fem, UYY_fem = u[2], u[4]\n",
    "    RZ_fem, RYY_fem = r[2], r[4]\n",
    "    FZ_fem, FYY_fem = f[2], f[4]\n",
    "    print(\"UZ  | Analytic : {}, FEM : {}\".format(f2s(UZ), f2s(UZ_fem)))\n",
    "    print(\"UYY | Analytic : {}, FEM : {}\".format(f2s(UYY), f2s(UYY_fem)))\n",
    "    print(\"RZ  | Analytic : {}, FEM : {}\".format(f2s(RZ), f2s(RZ_fem)))\n",
    "    print(\"RYY | Analytic : {}, FEM : {}\".format(f2s(RYY), f2s(RYY_fem)))\n",
    "    print(\"FZ  | Analytic : {}, FEM : {}\".format(f2s(FZ), f2s(FZ_fem)))\n",
    "    print(\"FYY | Analytic : {}, FEM : {}\".format(f2s(FYY), f2s(FYY_fem)))\n",
    "    print(\"\\n\")\n"
   ]
  },
  {
   "cell_type": "code",
   "execution_count": 165,
   "metadata": {},
   "outputs": [
    {
     "name": "stdout",
     "output_type": "stream",
     "text": [
      "UZ  | Analytic : 0.00095245, FEM : 0.00095245\n",
      "UYY | Analytic : -1.42867e-06, FEM : -1.42867e-06\n",
      "RZ  | Analytic : -1, FEM : -1\n",
      "RYY | Analytic : 1000, FEM : 1000\n",
      "FZ  | Analytic : 1, FEM : 1\n",
      "FYY | Analytic : -1000, FEM : -1000\n",
      "\n",
      "\n",
      "UZ  | Analytic : 0.00095245, FEM : 0.00095245\n",
      "UYY | Analytic : -1.42867e-06, FEM : -1.42867e-06\n",
      "RZ  | Analytic : -1, FEM : -1\n",
      "RYY | Analytic : 1000, FEM : 1000\n",
      "FZ  | Analytic : 1, FEM : 1\n",
      "FYY | Analytic : -1000, FEM : -1000\n",
      "\n",
      "\n",
      "UZ  | Analytic : 0.00095245, FEM : 0.00095245\n",
      "UYY | Analytic : -1.42867e-06, FEM : -1.42867e-06\n",
      "RZ  | Analytic : -1, FEM : -1\n",
      "RYY | Analytic : 1000, FEM : 1000\n",
      "FZ  | Analytic : 1, FEM : 1\n",
      "FYY | Analytic : -1000, FEM : -1000\n",
      "\n",
      "\n"
     ]
    }
   ],
   "source": [
    "for i in range(3):\n",
    "    angles = np.random.rand(3) * np.pi * 2\n",
    "    u, r, f = solve(n, angles, loads, B3)\n",
    "    UZ_fem, UYY_fem = u[2], u[4]\n",
    "    RZ_fem, RYY_fem = r[2], r[4]\n",
    "    FZ_fem, FYY_fem = f[2], f[4]\n",
    "    print(\"UZ  | Analytic : {}, FEM : {}\".format(f2s(UZ), f2s(UZ_fem)))\n",
    "    print(\"UYY | Analytic : {}, FEM : {}\".format(f2s(UYY), f2s(UYY_fem)))\n",
    "    print(\"RZ  | Analytic : {}, FEM : {}\".format(f2s(RZ), f2s(RZ_fem)))\n",
    "    print(\"RYY | Analytic : {}, FEM : {}\".format(f2s(RYY), f2s(RYY_fem)))\n",
    "    print(\"FZ  | Analytic : {}, FEM : {}\".format(f2s(FZ), f2s(FZ_fem)))\n",
    "    print(\"FYY | Analytic : {}, FEM : {}\".format(f2s(FYY), f2s(FYY_fem)))\n",
    "    print(\"\\n\")\n"
   ]
  },
  {
   "cell_type": "markdown",
   "metadata": {},
   "source": [
    "### Concentrated moments at the free end"
   ]
  },
  {
   "cell_type": "markdown",
   "metadata": {},
   "source": [
    "Moment around local X"
   ]
  },
  {
   "cell_type": "code",
   "execution_count": 166,
   "metadata": {},
   "outputs": [],
   "source": [
    "Mx = 1.0\n",
    "loads = [0, 0, 0, Mx, 0, 0]\n",
    "\n",
    "# analytical solutions\n",
    "UXX = Mx * L / (G * Ix)  # rotation at the free end\n",
    "RXX = -Mx  # reaction moment\n",
    "FXX = Mx  # internal moment at the support"
   ]
  },
  {
   "cell_type": "code",
   "execution_count": 167,
   "metadata": {},
   "outputs": [
    {
     "name": "stdout",
     "output_type": "stream",
     "text": [
      "UXX | Analytic : 3.57169e-09, FEM : 3.57169e-09\n",
      "RXX | Analytic : -1, FEM : -1\n",
      "FXX | Analytic : 1, FEM : 1\n",
      "\n",
      "\n",
      "UXX | Analytic : 3.57169e-09, FEM : 3.57169e-09\n",
      "RXX | Analytic : -1, FEM : -1\n",
      "FXX | Analytic : 1, FEM : 1\n",
      "\n",
      "\n",
      "UXX | Analytic : 3.57169e-09, FEM : 3.57169e-09\n",
      "RXX | Analytic : -1, FEM : -1\n",
      "FXX | Analytic : 1, FEM : 1\n",
      "\n",
      "\n"
     ]
    }
   ],
   "source": [
    "for i in range(3):\n",
    "    angles = np.random.rand(3) * np.pi * 2\n",
    "    u, r, f = solve(n, angles, loads, B2)\n",
    "    UXX_fem = u[3]\n",
    "    RXX_fem = r[3]\n",
    "    FXX_fem = f[3]\n",
    "    print(\"UXX | Analytic : {}, FEM : {}\".format(f2s(UXX), f2s(UXX_fem)))\n",
    "    print(\"RXX | Analytic : {}, FEM : {}\".format(f2s(RXX), f2s(RXX_fem)))\n",
    "    print(\"FXX | Analytic : {}, FEM : {}\".format(f2s(FXX), f2s(FXX_fem)))\n",
    "    print(\"\\n\")"
   ]
  },
  {
   "cell_type": "code",
   "execution_count": 168,
   "metadata": {},
   "outputs": [
    {
     "name": "stdout",
     "output_type": "stream",
     "text": [
      "UXX | Analytic : 3.57169e-09, FEM : 3.57169e-09\n",
      "RXX | Analytic : -1, FEM : -1\n",
      "FXX | Analytic : 1, FEM : 1\n",
      "\n",
      "\n",
      "UXX | Analytic : 3.57169e-09, FEM : 3.57169e-09\n",
      "RXX | Analytic : -1, FEM : -1\n",
      "FXX | Analytic : 1, FEM : 1\n",
      "\n",
      "\n",
      "UXX | Analytic : 3.57169e-09, FEM : 3.57169e-09\n",
      "RXX | Analytic : -1, FEM : -1\n",
      "FXX | Analytic : 1, FEM : 1\n",
      "\n",
      "\n"
     ]
    }
   ],
   "source": [
    "for i in range(3):\n",
    "    angles = np.random.rand(3) * np.pi * 2\n",
    "    u, r, f = solve(n, angles, loads, B3)\n",
    "    UXX_fem = u[3]\n",
    "    RXX_fem = r[3]\n",
    "    FXX_fem = f[3]\n",
    "    print(\"UXX | Analytic : {}, FEM : {}\".format(f2s(UXX), f2s(UXX_fem)))\n",
    "    print(\"RXX | Analytic : {}, FEM : {}\".format(f2s(RXX), f2s(RXX_fem)))\n",
    "    print(\"FXX | Analytic : {}, FEM : {}\".format(f2s(FXX), f2s(FXX_fem)))\n",
    "    print(\"\\n\")"
   ]
  },
  {
   "cell_type": "markdown",
   "metadata": {},
   "source": [
    "Moment around local Y"
   ]
  },
  {
   "cell_type": "code",
   "execution_count": 169,
   "metadata": {},
   "outputs": [],
   "source": [
    "My = 1.0\n",
    "loads = [0, 0, 0, 0, My, 0]\n",
    "\n",
    "# analytical solutions\n",
    "UZ = -My * L**2 / (2 * Ex * Iy)  # displacement at the free end\n",
    "UYY = My * L / (Ex * Iy)  # rotation at the free end\n",
    "RZ = 0.  # reaction force\n",
    "RYY = -My  # reaction moment\n",
    "FZ = 0  # internal force at the support\n",
    "FYY = My  # internal moment at the support"
   ]
  },
  {
   "cell_type": "code",
   "execution_count": 170,
   "metadata": {},
   "outputs": [
    {
     "name": "stdout",
     "output_type": "stream",
     "text": [
      "UZ  | Analytic : -1.42867e-06, FEM : -1.42867e-06\n",
      "UYY | Analytic : 2.85735e-09, FEM : 2.85735e-09\n",
      "RZ  | Analytic : 0, FEM : 7.09544e-19\n",
      "RYY | Analytic : -1, FEM : -1\n",
      "FZ  | Analytic : 0, FEM : -1.06455e-18\n",
      "FYY | Analytic : 1, FEM : 1\n",
      "\n",
      "\n",
      "UZ  | Analytic : -1.42867e-06, FEM : -1.42867e-06\n",
      "UYY | Analytic : 2.85735e-09, FEM : 2.85735e-09\n",
      "RZ  | Analytic : 0, FEM : 3.34456e-17\n",
      "RYY | Analytic : -1, FEM : -1\n",
      "FZ  | Analytic : 0, FEM : -2.75684e-17\n",
      "FYY | Analytic : 1, FEM : 1\n",
      "\n",
      "\n",
      "UZ  | Analytic : -1.42867e-06, FEM : -1.42867e-06\n",
      "UYY | Analytic : 2.85735e-09, FEM : 2.85735e-09\n",
      "RZ  | Analytic : 0, FEM : 1.9128e-17\n",
      "RYY | Analytic : -1, FEM : -1\n",
      "FZ  | Analytic : 0, FEM : -2.31511e-17\n",
      "FYY | Analytic : 1, FEM : 1\n",
      "\n",
      "\n"
     ]
    }
   ],
   "source": [
    "for i in range(3):\n",
    "    angles = np.random.rand(3) * np.pi * 2\n",
    "    u, r, f = solve(n, angles, loads, B2)\n",
    "    UZ_fem, UYY_fem = u[2], u[4]\n",
    "    RZ_fem, RYY_fem = r[2], r[4]\n",
    "    FZ_fem, FYY_fem = f[2], f[4]\n",
    "    print(\"UZ  | Analytic : {}, FEM : {}\".format(f2s(UZ), f2s(UZ_fem)))\n",
    "    print(\"UYY | Analytic : {}, FEM : {}\".format(f2s(UYY), f2s(UYY_fem)))\n",
    "    print(\"RZ  | Analytic : {}, FEM : {}\".format(f2s(RZ), f2s(RZ_fem)))\n",
    "    print(\"RYY | Analytic : {}, FEM : {}\".format(f2s(RYY), f2s(RYY_fem)))\n",
    "    print(\"FZ  | Analytic : {}, FEM : {}\".format(f2s(FZ), f2s(FZ_fem)))\n",
    "    print(\"FYY | Analytic : {}, FEM : {}\".format(f2s(FYY), f2s(FYY_fem)))\n",
    "    print(\"\\n\")"
   ]
  },
  {
   "cell_type": "code",
   "execution_count": 171,
   "metadata": {},
   "outputs": [
    {
     "name": "stdout",
     "output_type": "stream",
     "text": [
      "UZ  | Analytic : -1.42867e-06, FEM : -1.42867e-06\n",
      "UYY | Analytic : 2.85735e-09, FEM : 2.85735e-09\n",
      "RZ  | Analytic : 0, FEM : 1.47625e-16\n",
      "RYY | Analytic : -1, FEM : -1\n",
      "FZ  | Analytic : 0, FEM : -1.33227e-15\n",
      "FYY | Analytic : 1, FEM : 1\n",
      "\n",
      "\n",
      "UZ  | Analytic : -1.42867e-06, FEM : -1.42867e-06\n",
      "UYY | Analytic : 2.85735e-09, FEM : 2.85735e-09\n",
      "RZ  | Analytic : 0, FEM : -3.00589e-17\n",
      "RYY | Analytic : -1, FEM : -1\n",
      "FZ  | Analytic : 0, FEM : -1.94289e-16\n",
      "FYY | Analytic : 1, FEM : 1\n",
      "\n",
      "\n",
      "UZ  | Analytic : -1.42867e-06, FEM : -1.42867e-06\n",
      "UYY | Analytic : 2.85735e-09, FEM : 2.85735e-09\n",
      "RZ  | Analytic : 0, FEM : 1.20208e-16\n",
      "RYY | Analytic : -1, FEM : -1\n",
      "FZ  | Analytic : 0, FEM : -1.66533e-16\n",
      "FYY | Analytic : 1, FEM : 1\n",
      "\n",
      "\n"
     ]
    }
   ],
   "source": [
    "for i in range(3):\n",
    "    angles = np.random.rand(3) * np.pi * 2\n",
    "    u, r, f = solve(n, angles, loads, B3)\n",
    "    UZ_fem, UYY_fem = u[2], u[4]\n",
    "    RZ_fem, RYY_fem = r[2], r[4]\n",
    "    FZ_fem, FYY_fem = f[2], f[4]\n",
    "    print(\"UZ  | Analytic : {}, FEM : {}\".format(f2s(UZ), f2s(UZ_fem)))\n",
    "    print(\"UYY | Analytic : {}, FEM : {}\".format(f2s(UYY), f2s(UYY_fem)))\n",
    "    print(\"RZ  | Analytic : {}, FEM : {}\".format(f2s(RZ), f2s(RZ_fem)))\n",
    "    print(\"RYY | Analytic : {}, FEM : {}\".format(f2s(RYY), f2s(RYY_fem)))\n",
    "    print(\"FZ  | Analytic : {}, FEM : {}\".format(f2s(FZ), f2s(FZ_fem)))\n",
    "    print(\"FYY | Analytic : {}, FEM : {}\".format(f2s(FYY), f2s(FYY_fem)))\n",
    "    print(\"\\n\")"
   ]
  },
  {
   "cell_type": "markdown",
   "metadata": {},
   "source": [
    "Moment around local Z"
   ]
  },
  {
   "cell_type": "code",
   "execution_count": 172,
   "metadata": {},
   "outputs": [],
   "source": [
    "Mz = 1.0\n",
    "loads = [0, 0, 0, 0, 0, Mz]\n",
    "\n",
    "# analytical solutions\n",
    "UY = Mz * L**2 / (2 * Ex * Iz)  # displacement at the free end\n",
    "UZZ = Mz * L / (Ex * Iz)  # rotation at the free end\n",
    "RY = 0.  # reaction force\n",
    "RZZ = -Mz  # reaction moment\n",
    "FY = 0.  # internal force at the support\n",
    "FZZ = Mz  # internal moment at the support"
   ]
  },
  {
   "cell_type": "code",
   "execution_count": 173,
   "metadata": {},
   "outputs": [
    {
     "name": "stdout",
     "output_type": "stream",
     "text": [
      "UY  | Analytic : 0.00142867, FEM : 0.00142867\n",
      "UZZ | Analytic : 2.85735e-06, FEM : 2.85735e-06\n",
      "RY  | Analytic : 0, FEM : 1.36659e-14\n",
      "RZZ | Analytic : -1000, FEM : -1000\n",
      "FY  | Analytic : 0, FEM : -1.17633e-14\n",
      "FZZ | Analytic : 1000, FEM : 1000\n",
      "\n",
      "\n",
      "UY  | Analytic : 0.00142867, FEM : 0.00142867\n",
      "UZZ | Analytic : 2.85735e-06, FEM : 2.85735e-06\n",
      "RY  | Analytic : 0, FEM : -5.7422e-14\n",
      "RZZ | Analytic : -1000, FEM : -1000\n",
      "FY  | Analytic : 0, FEM : 4.93015e-14\n",
      "FZZ | Analytic : 1000, FEM : 1000\n",
      "\n",
      "\n",
      "UY  | Analytic : 0.00142867, FEM : 0.00142867\n",
      "UZZ | Analytic : 2.85735e-06, FEM : 2.85735e-06\n",
      "RY  | Analytic : 0, FEM : -3.80936e-15\n",
      "RZZ | Analytic : -1000, FEM : -1000\n",
      "FY  | Analytic : 0, FEM : 1.53766e-14\n",
      "FZZ | Analytic : 1000, FEM : 1000\n",
      "\n",
      "\n"
     ]
    }
   ],
   "source": [
    "for i in range(3):\n",
    "    angles = np.random.rand(3) * np.pi * 2\n",
    "    u, r, f = solve(n, angles, loads, B2)\n",
    "    UY_fem, UZZ_fem = u[1], u[5]\n",
    "    RY_fem, RZZ_fem = r[1], r[5]\n",
    "    FY_fem, FZZ_fem = f[1], f[5]\n",
    "    print(\"UY  | Analytic : {}, FEM : {}\".format(f2s(UY), f2s(UY_fem)))\n",
    "    print(\"UZZ | Analytic : {}, FEM : {}\".format(f2s(UZZ), f2s(UZZ_fem)))\n",
    "    print(\"RY  | Analytic : {}, FEM : {}\".format(f2s(RY), f2s(RY_fem)))\n",
    "    print(\"RZZ | Analytic : {}, FEM : {}\".format(f2s(RZZ), f2s(RZZ_fem)))\n",
    "    print(\"FY  | Analytic : {}, FEM : {}\".format(f2s(FY), f2s(FY_fem)))\n",
    "    print(\"FZZ | Analytic : {}, FEM : {}\".format(f2s(FZZ), f2s(FZZ_fem)))\n",
    "    print(\"\\n\")"
   ]
  },
  {
   "cell_type": "code",
   "execution_count": 174,
   "metadata": {},
   "outputs": [
    {
     "name": "stdout",
     "output_type": "stream",
     "text": [
      "UY  | Analytic : 0.00142867, FEM : 0.00142867\n",
      "UZZ | Analytic : 2.85735e-06, FEM : 2.85735e-06\n",
      "RY  | Analytic : 0, FEM : 6.5267e-13\n",
      "RZZ | Analytic : -1000, FEM : -1000\n",
      "FY  | Analytic : 0, FEM : -2.10321e-12\n",
      "FZZ | Analytic : 1000, FEM : 1000\n",
      "\n",
      "\n",
      "UY  | Analytic : 0.00142867, FEM : 0.00142867\n",
      "UZZ | Analytic : 2.85735e-06, FEM : 2.85735e-06\n",
      "RY  | Analytic : 0, FEM : 1.51802e-14\n",
      "RZZ | Analytic : -1000, FEM : -1000\n",
      "FY  | Analytic : 0, FEM : 5.68434e-14\n",
      "FZZ | Analytic : 1000, FEM : 1000\n",
      "\n",
      "\n",
      "UY  | Analytic : 0.00142867, FEM : 0.00142867\n",
      "UZZ | Analytic : 2.85735e-06, FEM : 2.85735e-06\n",
      "RY  | Analytic : 0, FEM : -6.6815e-14\n",
      "RZZ | Analytic : -1000, FEM : -1000\n",
      "FY  | Analytic : 0, FEM : 8.2423e-13\n",
      "FZZ | Analytic : 1000, FEM : 1000\n",
      "\n",
      "\n"
     ]
    }
   ],
   "source": [
    "for i in range(3):\n",
    "    angles = np.random.rand(3) * np.pi * 2\n",
    "    u, r, f = solve(n, angles, loads, B3)\n",
    "    UY_fem, UZZ_fem = u[1], u[5]\n",
    "    RY_fem, RZZ_fem = r[1], r[5]\n",
    "    FY_fem, FZZ_fem = f[1], f[5]\n",
    "    print(\"UY  | Analytic : {}, FEM : {}\".format(f2s(UY), f2s(UY_fem)))\n",
    "    print(\"UZZ | Analytic : {}, FEM : {}\".format(f2s(UZZ), f2s(UZZ_fem)))\n",
    "    print(\"RY  | Analytic : {}, FEM : {}\".format(f2s(RY), f2s(RY_fem)))\n",
    "    print(\"RZZ | Analytic : {}, FEM : {}\".format(f2s(RZZ), f2s(RZZ_fem)))\n",
    "    print(\"FY  | Analytic : {}, FEM : {}\".format(f2s(FY), f2s(FY_fem)))\n",
    "    print(\"FZZ | Analytic : {}, FEM : {}\".format(f2s(FZZ), f2s(FZZ_fem)))\n",
    "    print(\"\\n\")"
   ]
  }
 ],
 "metadata": {
  "kernelspec": {
   "display_name": "Python 3.8.10 ('.sigeps': venv)",
   "language": "python",
   "name": "python3"
  },
  "language_info": {
   "codemirror_mode": {
    "name": "ipython",
    "version": 3
   },
   "file_extension": ".py",
   "mimetype": "text/x-python",
   "name": "python",
   "nbconvert_exporter": "python",
   "pygments_lexer": "ipython3",
   "version": "3.8.10"
  },
  "vscode": {
   "interpreter": {
    "hash": "28d81e0e1442962330764574f1956d80898814d1923baa1210fb6369a4e79b2a"
   }
  }
 },
 "nbformat": 4,
 "nbformat_minor": 2
}
