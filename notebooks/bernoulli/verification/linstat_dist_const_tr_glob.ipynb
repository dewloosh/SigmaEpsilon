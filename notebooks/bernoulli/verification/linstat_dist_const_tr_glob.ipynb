{
  "cells": [
    {
      "cell_type": "markdown",
      "metadata": {},
      "source": [
        "# Bernoulli Console With Random Orientation and Global Distributed Loads"
      ]
    },
    {
      "cell_type": "code",
      "execution_count": 1,
      "metadata": {
        "execution": {
          "iopub.execute_input": "2022-11-02T23:30:07.317Z",
          "iopub.status.busy": "2022-11-02T23:30:07.309Z",
          "iopub.status.idle": "2022-11-02T23:30:07.326Z",
          "shell.execute_reply": "2022-11-02T23:30:07.353Z"
        }
      },
      "outputs": [],
      "source": [
        "L, d, t = 1000.0, 100.0, 5.0\n",
        "Ex, nu = 210000.0, 0.25"
      ]
    },
    {
      "cell_type": "code",
      "execution_count": 2,
      "metadata": {
        "execution": {
          "iopub.execute_input": "2022-11-02T23:30:07.344Z",
          "iopub.status.busy": "2022-11-02T23:30:07.340Z",
          "iopub.status.idle": "2022-11-02T23:30:12.875Z",
          "shell.execute_reply": "2022-11-02T23:30:12.892Z"
        }
      },
      "outputs": [],
      "source": [
        "from linkeddeepdict.tools import getallfromkwargs\n",
        "from neumann.linalg import Vector, linspace\n",
        "from neumann.array import repeat\n",
        "from polymesh.space import StandardFrame, PointCloud\n",
        "from polymesh.space.utils import index_of_closest_point, index_of_furthest_point\n",
        "from polymesh.topo.tr import L2_to_L3\n",
        "from sigmaepsilon.solid.fem.cells import B2, B3\n",
        "from sigmaepsilon.solid import Structure, LineMesh, PointData, BeamSection\n",
        "import numpy as np\n",
        "from latexdocs.utils import floatformatter\n",
        "\n",
        "seed = 0  # integer or None\n",
        "seed = None\n",
        "\n",
        "rs = np.random.RandomState()\n",
        "if isinstance(seed, int):\n",
        "    rs.seed(seed)\n",
        "\n",
        "formatter = floatformatter(sig=4)\n",
        "def f2s(x): return formatter.format(x)\n",
        "\n",
        "\n",
        "# section\n",
        "section = BeamSection('CHS', d=d, t=t, n=32)\n",
        "section.calculate_section_properties()\n",
        "section_props = section.section_properties\n",
        "A, Ix, Iy, Iz = getallfromkwargs(['A', 'Ix', 'Iy', 'Iz'], **section_props)\n",
        "\n",
        "\n",
        "# material\n",
        "G = Ex / (2 * (1 + nu))\n",
        "Hooke = np.array([\n",
        "    [Ex*A, 0, 0, 0],\n",
        "    [0, G*Ix, 0, 0],\n",
        "    [0, 0, Ex*Iy, 0],\n",
        "    [0, 0, 0, Ex*Iz]\n",
        "])\n",
        "\n",
        "\n",
        "def solve(n, angles, loads, celltype=B2):\n",
        "    # space\n",
        "    GlobalFrame = StandardFrame(dim=3)\n",
        "    TargetFrame = GlobalFrame.rotate('Body', angles, 'XYZ', inplace=False)\n",
        "\n",
        "    # mesh\n",
        "    p0 = np.array([0., 0., 0.])\n",
        "    p1 = np.array([L, 0., 0.])\n",
        "    coords = linspace(p0, p1, n+1)\n",
        "    points = PointCloud(coords, frame=TargetFrame)\n",
        "    coords = points.show(GlobalFrame)\n",
        "    topo = np.zeros((n, 2), dtype=int)\n",
        "    topo[:, 0] = np.arange(n)\n",
        "    topo[:, 1] = np.arange(n) + 1\n",
        "    if celltype.NNODE == 3:\n",
        "        coords, topo = L2_to_L3(coords, topo)\n",
        "    i_first = index_of_closest_point(coords, np.array([0., 0., 0.]))\n",
        "    i_last = index_of_furthest_point(coords, np.array([0., 0., 0.]))\n",
        "\n",
        "    # essential boundary conditions\n",
        "    penalty = 1e40  # penalty value\n",
        "    fixity = np.zeros((coords.shape[0], 6)).astype(bool)\n",
        "    fixity[i_first, :] = True\n",
        "    fixity = fixity.astype(float) * penalty\n",
        "\n",
        "    # natural boundary conditions\n",
        "    loads = np.array(loads)\n",
        "    loads[:3] = Vector(loads[:3], frame=GlobalFrame).show(TargetFrame)\n",
        "    nodal_loads = np.zeros((coords.shape[0], 6))\n",
        "    cell_loads = np.zeros((topo.shape[0], topo.shape[1], 6))\n",
        "    cell_loads[:, :, :] = loads\n",
        "\n",
        "    # pointdata\n",
        "    pd = PointData(coords=coords, frame=GlobalFrame,\n",
        "                   loads=nodal_loads, fixity=fixity)\n",
        "\n",
        "    # celldata\n",
        "    frames = repeat(TargetFrame.axes, topo.shape[0])\n",
        "    cd = celltype(topo=topo, loads=cell_loads, frames=frames)\n",
        "\n",
        "    # set up mesh and structure\n",
        "    mesh = LineMesh(pd, cd, model=Hooke, frame=GlobalFrame)\n",
        "    structure = Structure(mesh=mesh)\n",
        "\n",
        "    structure.linsolve()\n",
        "    structure.nodal_dof_solution()\n",
        "    reactions = structure.reaction_forces()\n",
        "    return reactions[i_first]\n"
      ]
    },
    {
      "cell_type": "code",
      "execution_count": 3,
      "metadata": {
        "execution": {
          "iopub.execute_input": "2022-11-02T23:30:12.885Z",
          "iopub.status.busy": "2022-11-02T23:30:12.881Z",
          "iopub.status.idle": "2022-11-02T23:30:18.257Z",
          "shell.execute_reply": "2022-11-02T23:30:18.324Z"
        }
      },
      "outputs": [
        {
          "name": "stdout",
          "output_type": "stream",
          "text": [
            "['-9.767e-12', '3.212e-12', '-1000']\n",
            "['4.791e-14', '-1.644e-12', '-1000']\n",
            "['-2.145e-13', '2.588e-12', '-1000']\n",
            "['-1.087e-13', '-1.397e-13', '-1000']\n",
            "['-5.452e-12', '1.652e-13', '-1000']\n",
            "['2.183e-13', '-3.575e-13', '-1000']\n",
            "['-3.414e-12', '-1.882e-12', '-1000']\n",
            "['-3.362e-13', '-5.572e-13', '-1000']\n",
            "['7.562e-13', '3.147e-12', '-1000']\n",
            "['8.846e-13', '3.644e-12', '-1000']\n",
            "['8.457e-12', '2.583e-11', '-1000']\n",
            "['1.961e-11', '8.616e-12', '-1000']\n",
            "['4.218e-11', '3.71e-11', '-1000']\n",
            "['1.289e-12', '6.729e-13', '-1000']\n",
            "['-6.286e-11', '3.186e-11', '-1000']\n",
            "['-1.07e-10', '3.852e-11', '-1000']\n",
            "['3.735e-11', '-2.616e-11', '-1000']\n",
            "['3.565e-12', '-6.143e-12', '-1000']\n",
            "['-6.69e-12', '-3.787e-11', '-1000']\n",
            "['9.801e-11', '-1.121e-11', '-1000']\n"
          ]
        }
      ],
      "source": [
        "loads = [0, 0, 1.0, 0, 0, 0]\n",
        "n = 2  # number of elements\n",
        "cells = [B2, B3]\n",
        "\n",
        "for cell in cells:\n",
        "    for _ in range(10):\n",
        "        angles = np.random.rand(3) * np.pi * 2\n",
        "        r = solve(n, angles, loads, cell)\n",
        "        print([f2s(v) for v in r[:3]])"
      ]
    },
    {
      "cell_type": "code",
      "execution_count": 4,
      "metadata": {
        "execution": {
          "iopub.execute_input": "2022-11-02T23:30:18.286Z",
          "iopub.status.busy": "2022-11-02T23:30:18.279Z",
          "iopub.status.idle": "2022-11-02T23:30:18.297Z",
          "shell.execute_reply": "2022-11-02T23:30:18.328Z"
        }
      },
      "outputs": [],
      "source": [
        "def solve(n, angles, loads, celltype=B2):\n",
        "    # space\n",
        "    GlobalFrame = StandardFrame(dim=3)\n",
        "    angles[1:] = 0.\n",
        "    TargetFrame = GlobalFrame.rotate('Body', angles, 'XYZ', inplace=False)\n",
        "\n",
        "    # mesh\n",
        "    p0 = np.array([0., 0., 0.])\n",
        "    p1 = np.array([L, 0., 0.])\n",
        "    coords = linspace(p0, p1, n+1)\n",
        "    topo = np.zeros((n, 2), dtype=int)\n",
        "    topo[:, 0] = np.arange(n)\n",
        "    topo[:, 1] = np.arange(n) + 1\n",
        "    if celltype.NNODE == 3:\n",
        "        coords, topo = L2_to_L3(coords, topo)\n",
        "    i_first = index_of_closest_point(coords, np.array([0., 0., 0.]))\n",
        "    i_last = index_of_furthest_point(coords, np.array([0., 0., 0.]))\n",
        "\n",
        "    # essential boundary conditions\n",
        "    penalty = 1e40  # penalty value\n",
        "    fixity = np.zeros((coords.shape[0], 6)).astype(bool)\n",
        "    fixity[i_first, :] = True\n",
        "    fixity = fixity.astype(float) * penalty\n",
        "\n",
        "    # natural boundary conditions\n",
        "    loads = np.array(loads)\n",
        "    loads[:3] = Vector(loads[:3], frame=GlobalFrame).show(TargetFrame)\n",
        "    nodal_loads = np.zeros((coords.shape[0], 6))\n",
        "    cell_loads = np.zeros((topo.shape[0], topo.shape[1], 6))\n",
        "    cell_loads[:, :, :] = loads\n",
        "\n",
        "    # pointdata\n",
        "    pd = PointData(coords=coords, frame=GlobalFrame,\n",
        "                   loads=nodal_loads, fixity=fixity)\n",
        "\n",
        "    # celldata\n",
        "    frames = repeat(TargetFrame.axes, topo.shape[0])\n",
        "    cd = celltype(topo=topo, loads=cell_loads, frames=frames)\n",
        "\n",
        "    # set up mesh and structure\n",
        "    mesh = LineMesh(pd, cd, model=Hooke, frame=GlobalFrame)\n",
        "    structure = Structure(mesh=mesh)\n",
        "\n",
        "    structure.linsolve()\n",
        "\n",
        "    dofsol = structure.nodal_dof_solution(store='dofsol')\n",
        "    \n",
        "    reactions = structure.reaction_forces()\n",
        "    return reactions[i_first]"
      ]
    },
    {
      "cell_type": "code",
      "execution_count": 5,
      "metadata": {
        "execution": {
          "iopub.execute_input": "2022-11-02T23:30:18.311Z",
          "iopub.status.busy": "2022-11-02T23:30:18.307Z",
          "iopub.status.idle": "2022-11-02T23:30:19.410Z",
          "shell.execute_reply": "2022-11-02T23:30:19.405Z"
        }
      },
      "outputs": [
        {
          "name": "stdout",
          "output_type": "stream",
          "text": [
            "['0', '2.842e-14', '-1000']\n",
            "['0', '1.776e-15', '-1000']\n",
            "['0', '1.137e-13', '-1000']\n",
            "['0', '-1.421e-14', '-1000']\n",
            "['0', '-1.776e-15', '-1000']\n",
            "['0', '1.421e-14', '-1000']\n",
            "['0', '1.421e-14', '-1000']\n",
            "['0', '0', '-1000']\n",
            "['0', '8.078e-28', '-1000']\n",
            "['0', '0', '-1000']\n",
            "['0', '2.796e-11', '-1000']\n",
            "['0', '2.881e-11', '-1000']\n",
            "['0', '-6.533e-11', '-1000']\n",
            "['0', '-6.056e-12', '-1000']\n",
            "['0', '5.03e-11', '-1000']\n",
            "['0', '1.338e-11', '-1000']\n",
            "['0', '4.265e-11', '-1000']\n",
            "['0', '2.829e-11', '-1000']\n",
            "['0', '2.667e-11', '-1000']\n",
            "['0', '9.789e-12', '-1000']\n"
          ]
        }
      ],
      "source": [
        "loads = [0, 0, 1.0, 0, 0, 0]\n",
        "n = 2  # number of elements\n",
        "cells = [B2, B3]\n",
        "\n",
        "for cell in cells:\n",
        "    for _ in range(10):\n",
        "        angles = np.random.rand(3) * np.pi * 2\n",
        "        r = solve(n, angles, loads, cell)\n",
        "        print([f2s(v) for v in r[:3]])"
      ]
    }
  ],
  "metadata": {
    "kernelspec": {
      "display_name": "Python 3.8.10 ('.sigeps': venv)",
      "language": "python",
      "name": "python3"
    },
    "language_info": {
      "codemirror_mode": {
        "name": "ipython",
        "version": 3
      },
      "file_extension": ".py",
      "mimetype": "text/x-python",
      "name": "python",
      "nbconvert_exporter": "python",
      "pygments_lexer": "ipython3",
      "version": "3.8.10"
    },
    "nteract": {
      "version": "0.28.0"
    },
    "orig_nbformat": 4,
    "vscode": {
      "interpreter": {
        "hash": "5facf25dadae24d0f6f3d9b821e9851478f51388ee31821a60476e833f1169c6"
      }
    }
  },
  "nbformat": 4,
  "nbformat_minor": 2
}
