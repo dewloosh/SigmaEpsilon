{
 "cells": [
  {
   "cell_type": "markdown",
   "metadata": {
    "pycharm": {
     "name": "#%% md\n"
    }
   },
   "source": [
    "# Bernoulli Console With Random Orientation"
   ]
  },
  {
   "cell_type": "code",
   "execution_count": 1,
   "metadata": {
    "pycharm": {
     "name": "#%%\n"
    }
   },
   "outputs": [],
   "source": [
    "L, d, t = 1000.0, 100.0, 5.0\n",
    "Ex, nu = 210000.0, 0.25\n",
    "Fz = 1000.0\n",
    "n = 2  # number of element\n",
    "penalty = 1e20  # penalty value\n"
   ]
  },
  {
   "cell_type": "code",
   "execution_count": 2,
   "metadata": {},
   "outputs": [],
   "source": [
    "seed = 0  # integer or None\n",
    "seed = None\n"
   ]
  },
  {
   "cell_type": "markdown",
   "metadata": {
    "pycharm": {
     "name": "#%% md\n"
    }
   },
   "source": [
    "## Linear Solution"
   ]
  },
  {
   "cell_type": "code",
   "execution_count": 3,
   "metadata": {
    "pycharm": {
     "name": "#%%\n"
    }
   },
   "outputs": [],
   "source": [
    "from linkeddeepdict import LinkedDeepDict\n",
    "from linkeddeepdict.tools import getallfromkwargs\n",
    "from neumann.linalg import Vector, linspace\n",
    "from neumann.array import repeat\n",
    "from polymesh.space import StandardFrame, PointCloud, frames_of_lines\n",
    "from polymesh.space.utils import index_of_closest_point, index_of_furthest_point\n",
    "from polymesh.topo.tr import L2_to_L3\n",
    "from sigmaepsilon.solid.fem.cells import B2, B3\n",
    "from sigmaepsilon.solid import Structure, LineMesh, PointData, BeamSection\n",
    "import numpy as np\n",
    "from latexdocs.utils import floatformatter\n",
    "\n",
    "rs = np.random.RandomState()\n",
    "if isinstance(seed, int):\n",
    "    rs.seed(seed)\n",
    "\n",
    "formatter = floatformatter(sig=6)\n",
    "def f2s(x): return formatter.format(x)\n",
    "\n",
    "\n",
    "# section\n",
    "section = BeamSection('CHS', d=d, t=t, n=32)\n",
    "section.calculate_section_properties()\n",
    "section_props = section.section_properties\n",
    "A, Ix, Iy, Iz = getallfromkwargs(['A', 'Ix', 'Iy', 'Iz'], **section_props)\n",
    "\n",
    "# material\n",
    "G = Ex / (2 * (1 + nu))\n",
    "Hooke = np.array([\n",
    "    [Ex*A, 0, 0, 0],\n",
    "    [0, G*Ix, 0, 0],\n",
    "    [0, 0, Ex*Iy, 0],\n",
    "    [0, 0, 0, Ex*Iz]\n",
    "])\n",
    "\n",
    "\n",
    "def solve(n, angles, celltype=B2):\n",
    "    # space\n",
    "    GlobalFrame = StandardFrame(dim=3)\n",
    "    TargetFrame = GlobalFrame.rotate('Body', angles, 'XYZ', inplace=False)\n",
    "\n",
    "    # mesh\n",
    "    p0 = np.array([0., 0., 0.])\n",
    "    p1 = np.array([L, 0., 0.])\n",
    "    coords = linspace(p0, p1, n+1)\n",
    "    points = PointCloud(coords, frame=TargetFrame)\n",
    "    coords = points.show(GlobalFrame)\n",
    "    topo = np.zeros((n, 2), dtype=int)\n",
    "    topo[:, 0] = np.arange(n)\n",
    "    topo[:, 1] = np.arange(n) + 1\n",
    "    if celltype.NNODE == 3:\n",
    "        coords, topo = L2_to_L3(coords, topo)\n",
    "    i_first = index_of_closest_point(coords, np.array([0., 0., 0.]))\n",
    "    i_last = index_of_furthest_point(coords, np.array([0., 0., 0.]))\n",
    "\n",
    "    # essential boundary conditions\n",
    "    fixity = np.zeros((coords.shape[0], 6)).astype(bool)\n",
    "    fixity[i_first, :] = True\n",
    "    fixity = fixity.astype(float) * penalty\n",
    "\n",
    "    # natural boundary conditions\n",
    "    nodal_loads = np.zeros((coords.shape[0], 6))\n",
    "    values = Vector([0, 0, Fz], frame=TargetFrame).show(GlobalFrame)\n",
    "    nodal_loads[i_last, :3] = values\n",
    "\n",
    "    # pointdata\n",
    "    pd = PointData(coords=coords, frame=GlobalFrame,\n",
    "                   loads=nodal_loads, fixity=fixity)\n",
    "\n",
    "    # celldata\n",
    "    frames = repeat(TargetFrame.axes, topo.shape[0])\n",
    "    cd = celltype(topo=topo, frames=frames)\n",
    "\n",
    "    # set up mesh and structure\n",
    "    mesh = LineMesh(pd, cd, model=Hooke, frame=GlobalFrame)\n",
    "    structure = Structure(mesh=mesh)\n",
    "\n",
    "    structure.linsolve()\n",
    "\n",
    "    dofsol = structure.nodal_dof_solution(store='dofsol')\n",
    "    u = np.zeros(6)\n",
    "    u[:3] = Vector(dofsol[i_last, :3], frame=GlobalFrame).show(TargetFrame)\n",
    "    u[3:] = Vector(dofsol[i_last, 3:], frame=GlobalFrame).show(TargetFrame)\n",
    "\n",
    "    reactions = structure.reaction_forces()\n",
    "    r = np.zeros(6)\n",
    "    r[:3] = Vector(reactions[i_first, :3], frame=GlobalFrame).show(TargetFrame)\n",
    "    r[3:] = Vector(reactions[i_first, 3:], frame=GlobalFrame).show(TargetFrame)\n",
    "\n",
    "    forces = structure.internal_forces()\n",
    "    f = np.zeros(6)\n",
    "    f[:3] = forces[0, 0, :3]\n",
    "    f[3:] = forces[0, 0, 3:]\n",
    "\n",
    "    return u, r, f\n"
   ]
  },
  {
   "cell_type": "markdown",
   "metadata": {},
   "source": [
    "Analytical Solutions"
   ]
  },
  {
   "cell_type": "code",
   "execution_count": 4,
   "metadata": {},
   "outputs": [],
   "source": [
    "UZ = Fz * L**3 / (3 * Ex * Iz)\n",
    "UYY = -Fz * L**2 / (2 * Ex * Iz)\n",
    "RZ = -Fz\n",
    "RYY = Fz * L\n",
    "FZ = Fz\n",
    "FYY = -Fz * L\n"
   ]
  },
  {
   "cell_type": "markdown",
   "metadata": {},
   "source": [
    "Testing Frame Objectivity"
   ]
  },
  {
   "cell_type": "code",
   "execution_count": 5,
   "metadata": {},
   "outputs": [
    {
     "name": "stdout",
     "output_type": "stream",
     "text": [
      "UZ  | Analytic : 0.95245, FEM : 0.95245\n",
      "UYY | Analytic : -0.00142867, FEM : -0.00142867\n",
      "RZ  | Analytic : -1000, FEM : -1000\n",
      "RYY | Analytic : 1e+06, FEM : 1e+06\n",
      "FZ  | Analytic : 1000, FEM : 1000\n",
      "FYY | Analytic : -1e+06, FEM : -1e+06\n",
      "\n",
      "\n",
      "UZ  | Analytic : 0.95245, FEM : 0.95245\n",
      "UYY | Analytic : -0.00142867, FEM : -0.00142867\n",
      "RZ  | Analytic : -1000, FEM : -1000\n",
      "RYY | Analytic : 1e+06, FEM : 1e+06\n",
      "FZ  | Analytic : 1000, FEM : 1000\n",
      "FYY | Analytic : -1e+06, FEM : -1e+06\n",
      "\n",
      "\n",
      "UZ  | Analytic : 0.95245, FEM : 0.95245\n",
      "UYY | Analytic : -0.00142867, FEM : -0.00142867\n",
      "RZ  | Analytic : -1000, FEM : -1000\n",
      "RYY | Analytic : 1e+06, FEM : 1e+06\n",
      "FZ  | Analytic : 1000, FEM : 1000\n",
      "FYY | Analytic : -1e+06, FEM : -1e+06\n",
      "\n",
      "\n"
     ]
    }
   ],
   "source": [
    "for i in range(3):\n",
    "    angles = np.random.rand(3) * np.pi * 2\n",
    "    u, r, f = solve(n, angles, B2)\n",
    "    UZ_fem, UYY_fem = u[2], u[4]\n",
    "    RZ_fem, RYY_fem = r[2], r[4]\n",
    "    FZ_fem, FYY_fem = f[2], f[4]\n",
    "    print(\"UZ  | Analytic : {}, FEM : {}\".format(f2s(UZ), f2s(UZ_fem)))\n",
    "    print(\"UYY | Analytic : {}, FEM : {}\".format(f2s(UYY), f2s(UYY_fem)))\n",
    "    print(\"RZ  | Analytic : {}, FEM : {}\".format(f2s(RZ), f2s(RZ_fem)))\n",
    "    print(\"RYY | Analytic : {}, FEM : {}\".format(f2s(RYY), f2s(RYY_fem)))\n",
    "    print(\"FZ  | Analytic : {}, FEM : {}\".format(f2s(FZ), f2s(FZ_fem)))\n",
    "    print(\"FYY | Analytic : {}, FEM : {}\".format(f2s(FYY), f2s(FYY_fem)))\n",
    "    print(\"\\n\")\n"
   ]
  },
  {
   "cell_type": "code",
   "execution_count": 6,
   "metadata": {},
   "outputs": [
    {
     "name": "stdout",
     "output_type": "stream",
     "text": [
      "UZ  | Analytic : 0.95245, FEM : 0.95245\n",
      "UYY | Analytic : -0.00142867, FEM : -0.00142867\n",
      "RZ  | Analytic : -1000, FEM : -1000\n",
      "RYY | Analytic : 1e+06, FEM : 1e+06\n",
      "FZ  | Analytic : 1000, FEM : 1000\n",
      "FYY | Analytic : -1e+06, FEM : -1e+06\n",
      "\n",
      "\n",
      "UZ  | Analytic : 0.95245, FEM : 0.95245\n",
      "UYY | Analytic : -0.00142867, FEM : -0.00142867\n",
      "RZ  | Analytic : -1000, FEM : -1000\n",
      "RYY | Analytic : 1e+06, FEM : 1e+06\n",
      "FZ  | Analytic : 1000, FEM : 1000\n",
      "FYY | Analytic : -1e+06, FEM : -1e+06\n",
      "\n",
      "\n",
      "UZ  | Analytic : 0.95245, FEM : 0.95245\n",
      "UYY | Analytic : -0.00142867, FEM : -0.00142867\n",
      "RZ  | Analytic : -1000, FEM : -1000\n",
      "RYY | Analytic : 1e+06, FEM : 1e+06\n",
      "FZ  | Analytic : 1000, FEM : 1000\n",
      "FYY | Analytic : -1e+06, FEM : -1e+06\n",
      "\n",
      "\n"
     ]
    }
   ],
   "source": [
    "for i in range(3):\n",
    "    angles = np.random.rand(3) * np.pi * 2\n",
    "    u, r, f = solve(n, angles, B3)\n",
    "    UZ_fem, UYY_fem = u[2], u[4]\n",
    "    RZ_fem, RYY_fem = r[2], r[4]\n",
    "    FZ_fem, FYY_fem = f[2], f[4]\n",
    "    print(\"UZ  | Analytic : {}, FEM : {}\".format(f2s(UZ), f2s(UZ_fem)))\n",
    "    print(\"UYY | Analytic : {}, FEM : {}\".format(f2s(UYY), f2s(UYY_fem)))\n",
    "    print(\"RZ  | Analytic : {}, FEM : {}\".format(f2s(RZ), f2s(RZ_fem)))\n",
    "    print(\"RYY | Analytic : {}, FEM : {}\".format(f2s(RYY), f2s(RYY_fem)))\n",
    "    print(\"FZ  | Analytic : {}, FEM : {}\".format(f2s(FZ), f2s(FZ_fem)))\n",
    "    print(\"FYY | Analytic : {}, FEM : {}\".format(f2s(FYY), f2s(FYY_fem)))\n",
    "    print(\"\\n\")\n"
   ]
  }
 ],
 "metadata": {
  "kernelspec": {
   "display_name": "Python 3.8.10 ('.sigeps': venv)",
   "language": "python",
   "name": "python3"
  },
  "language_info": {
   "codemirror_mode": {
    "name": "ipython",
    "version": 3
   },
   "file_extension": ".py",
   "mimetype": "text/x-python",
   "name": "python",
   "nbconvert_exporter": "python",
   "pygments_lexer": "ipython3",
   "version": "3.8.10"
  },
  "vscode": {
   "interpreter": {
    "hash": "28d81e0e1442962330764574f1956d80898814d1923baa1210fb6369a4e79b2a"
   }
  }
 },
 "nbformat": 4,
 "nbformat_minor": 2
}
