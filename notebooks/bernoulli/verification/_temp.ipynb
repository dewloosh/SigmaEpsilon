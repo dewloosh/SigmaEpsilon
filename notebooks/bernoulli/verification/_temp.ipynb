{
 "cells": [
  {
   "cell_type": "markdown",
   "metadata": {},
   "source": [
    "# Bernoulli Verification Example - Distributed Loads on a Console"
   ]
  },
  {
   "cell_type": "markdown",
   "metadata": {},
   "source": [
    "Concentrated actions at the free end of a console for all dofs. Displacements of the free end, reaction dynams and internal dynams at the support are checked agains analytical solutions. The console has a length of $L$, tube section of diameter $d$ and thickness $t$ and an isotropic material definition."
   ]
  },
  {
   "cell_type": "code",
   "execution_count": 156,
   "metadata": {},
   "outputs": [],
   "source": [
    "from sigmaepsilon.solid.fem.cells import B3 as Beam\n",
    "from sigmaepsilon.solid import BeamSection\n",
    "\n",
    "# units in kN, cm\n",
    "\n",
    "# geometry\n",
    "L = 2500.\n",
    "\n",
    "# material\n",
    "Ex, nu = 210000.0, 0.3\n",
    "\n",
    "# load\n",
    "q = 1.0\n",
    "\n",
    "# mesh\n",
    "n = 25\n",
    "\n",
    "# section\n",
    "d, t = 500, 25\n",
    "section = BeamSection('CHS', d=d, t=t, n=32)\n",
    "\n",
    "# orientation\n"
   ]
  },
  {
   "cell_type": "markdown",
   "metadata": {},
   "source": [
    "## Linear Solution"
   ]
  },
  {
   "cell_type": "code",
   "execution_count": 157,
   "metadata": {},
   "outputs": [],
   "source": [
    "from sigmaepsilon.solid import Structure, LineMesh, PointData\n",
    "from polymesh.space import StandardFrame, PointCloud, frames_of_lines\n",
    "from polymesh.space.utils import index_of_closest_point\n",
    "from polymesh.topo.tr import L2_to_L3\n",
    "from linkeddeepdict import LinkedDeepDict\n",
    "from linkeddeepdict.tools import getallfromkwargs\n",
    "from neumann.linalg import linspace\n",
    "from neumann.array import repeat\n",
    "import numpy as np\n",
    "import awkward as ak\n",
    "\n",
    "iN = None  # index of the node at the free end\n",
    "\n",
    "# section\n",
    "section.calculate_section_properties()\n",
    "section_props = section.section_properties\n",
    "A, Ix, Iy, Iz = getallfromkwargs(['A', 'Ix', 'Iy', 'Iz'], **section_props)\n",
    "\n",
    "# material\n",
    "G = Ex / (2 * (1 + nu))\n",
    "Hooke = np.array([\n",
    "    [Ex*A, 0, 0, 0],\n",
    "    [0, G*Ix, 0, 0],\n",
    "    [0, 0, Ex*Iy, 0],\n",
    "    [0, 0, 0, Ex*Iz]\n",
    "])\n",
    "\n",
    "nLoadCase = 3\n",
    "\n",
    "# space\n",
    "GlobalFrame = StandardFrame(dim=3)\n",
    "\n",
    "# mesh\n",
    "p0 = np.array([0., 0., 0.])\n",
    "p1 = np.array([L, 0., 0])\n",
    "coords = linspace(p0, p1, n+1)\n",
    "coords = PointCloud(coords, frame=GlobalFrame).show()\n",
    "topo = np.zeros((n, 2), dtype=int)\n",
    "topo[:, 0] = np.arange(n)\n",
    "topo[:, 1] = np.arange(n) + 1\n",
    "\n",
    "if Beam.NNODE == 3:\n",
    "    coords, topo = L2_to_L3(coords, topo)\n",
    "iN = index_of_closest_point(coords, np.array([L, 0, 0]))\n",
    "\n",
    "# essential boundary conditions\n",
    "ebcinds = np.where(coords[:, 0] < 1e-12)[0]\n",
    "fixity = np.zeros((coords.shape[0], 6)).astype(bool)\n",
    "fixity[ebcinds, :] = True\n",
    "\n",
    "# natural boundary conditions\n",
    "nodal_loads = np.zeros((coords.shape[0], 6, nLoadCase))\n",
    "cell_loads = np.zeros((topo.shape[0], topo.shape[1], 6, nLoadCase))\n",
    "cell_loads[:, :, 0, 0] = q\n",
    "\n",
    "# pointdata\n",
    "fixity = fixity.astype(float) * 1e12\n",
    "pd = PointData(coords=coords, fixity=fixity, loads=nodal_loads,\n",
    "               frame=GlobalFrame)\n",
    "\n",
    "# celldata\n",
    "frames = repeat(GlobalFrame.show(), topo.shape[0])\n",
    "areas = np.full(topo.shape[0], section.A)\n",
    "cd = Beam(topo=topo, loads=cell_loads, frames=frames)\n",
    "\n",
    "# set up mesh and structure\n",
    "mesh = LineMesh(pd, cd, model=Hooke, frame=GlobalFrame)\n",
    "structure = Structure(mesh=mesh)\n"
   ]
  },
  {
   "cell_type": "code",
   "execution_count": 158,
   "metadata": {},
   "outputs": [],
   "source": [
    "structure.linsolve()\n",
    "d = structure.nodal_dof_solution(store='dofsol')\n",
    "r = structure.reaction_forces()\n",
    "f = structure.internal_forces()\n"
   ]
  },
  {
   "cell_type": "code",
   "execution_count": 159,
   "metadata": {},
   "outputs": [
    {
     "data": {
      "text/plain": [
       "array([[ 1.81629090e+08,  0.00000000e+00,  0.00000000e+00,\n",
       "         0.00000000e+00,  0.00000000e+00,  0.00000000e+00,\n",
       "        -2.07576103e+08,  0.00000000e+00,  0.00000000e+00,\n",
       "         0.00000000e+00,  0.00000000e+00,  0.00000000e+00,\n",
       "         2.59470128e+07,  0.00000000e+00,  0.00000000e+00,\n",
       "         0.00000000e+00,  0.00000000e+00,  0.00000000e+00],\n",
       "       [ 0.00000000e+00,  3.18226990e+10,  0.00000000e+00,\n",
       "         0.00000000e+00,  0.00000000e+00,  7.11198575e+11,\n",
       "         0.00000000e+00, -2.23983804e+10,  0.00000000e+00,\n",
       "         0.00000000e+00,  0.00000000e+00,  1.19991324e+12,\n",
       "         0.00000000e+00, -9.42431856e+09,  0.00000000e+00,\n",
       "         0.00000000e+00,  0.00000000e+00,  1.51239064e+11],\n",
       "       [ 0.00000000e+00,  0.00000000e+00,  3.18226990e+10,\n",
       "         0.00000000e+00, -7.11198575e+11,  0.00000000e+00,\n",
       "         0.00000000e+00,  0.00000000e+00, -2.23983804e+10,\n",
       "         0.00000000e+00, -1.19991324e+12,  0.00000000e+00,\n",
       "         0.00000000e+00,  0.00000000e+00, -9.42431856e+09,\n",
       "         0.00000000e+00, -1.51239064e+11,  0.00000000e+00],\n",
       "       [ 0.00000000e+00,  0.00000000e+00,  0.00000000e+00,\n",
       "         3.92599817e+12,  0.00000000e+00,  0.00000000e+00,\n",
       "         0.00000000e+00,  0.00000000e+00,  0.00000000e+00,\n",
       "        -4.48685506e+12,  0.00000000e+00,  0.00000000e+00,\n",
       "         0.00000000e+00,  0.00000000e+00,  0.00000000e+00,\n",
       "         5.60856882e+11,  0.00000000e+00,  0.00000000e+00],\n",
       "       [ 0.00000000e+00,  0.00000000e+00, -7.11198575e+11,\n",
       "         0.00000000e+00,  2.07484997e+13,  0.00000000e+00,\n",
       "         0.00000000e+00,  0.00000000e+00,  5.59959511e+11,\n",
       "         0.00000000e+00,  1.99985540e+13,  0.00000000e+00,\n",
       "         0.00000000e+00,  0.00000000e+00,  1.51239064e+11,\n",
       "         0.00000000e+00,  2.37482828e+12,  0.00000000e+00],\n",
       "       [ 0.00000000e+00,  7.11198575e+11,  0.00000000e+00,\n",
       "         0.00000000e+00,  0.00000000e+00,  2.07484997e+13,\n",
       "         0.00000000e+00, -5.59959511e+11,  0.00000000e+00,\n",
       "         0.00000000e+00,  0.00000000e+00,  1.99985540e+13,\n",
       "         0.00000000e+00, -1.51239064e+11,  0.00000000e+00,\n",
       "         0.00000000e+00,  0.00000000e+00,  2.37482828e+12],\n",
       "       [-2.07576103e+08,  0.00000000e+00,  0.00000000e+00,\n",
       "         0.00000000e+00,  0.00000000e+00,  0.00000000e+00,\n",
       "         4.15152205e+08,  0.00000000e+00,  0.00000000e+00,\n",
       "         0.00000000e+00,  0.00000000e+00,  0.00000000e+00,\n",
       "        -2.07576103e+08,  0.00000000e+00,  0.00000000e+00,\n",
       "         0.00000000e+00,  0.00000000e+00,  0.00000000e+00],\n",
       "       [ 0.00000000e+00, -2.23983804e+10,  0.00000000e+00,\n",
       "         0.00000000e+00,  0.00000000e+00, -5.59959511e+11,\n",
       "         0.00000000e+00,  4.47967609e+10,  0.00000000e+00,\n",
       "         0.00000000e+00,  0.00000000e+00, -6.10351562e-05,\n",
       "         0.00000000e+00, -2.23983804e+10,  0.00000000e+00,\n",
       "         0.00000000e+00,  0.00000000e+00,  5.59959511e+11],\n",
       "       [ 0.00000000e+00,  0.00000000e+00, -2.23983804e+10,\n",
       "         0.00000000e+00,  5.59959511e+11,  0.00000000e+00,\n",
       "         0.00000000e+00,  0.00000000e+00,  4.47967609e+10,\n",
       "         0.00000000e+00, -1.22070312e-04,  0.00000000e+00,\n",
       "         0.00000000e+00,  0.00000000e+00, -2.23983804e+10,\n",
       "         0.00000000e+00, -5.59959511e+11,  0.00000000e+00],\n",
       "       [ 0.00000000e+00,  0.00000000e+00,  0.00000000e+00,\n",
       "        -4.48685506e+12,  0.00000000e+00,  0.00000000e+00,\n",
       "         0.00000000e+00,  0.00000000e+00,  0.00000000e+00,\n",
       "         8.97371011e+12,  0.00000000e+00,  0.00000000e+00,\n",
       "         0.00000000e+00,  0.00000000e+00,  0.00000000e+00,\n",
       "        -4.48685506e+12,  0.00000000e+00,  0.00000000e+00],\n",
       "       [ 0.00000000e+00,  0.00000000e+00, -1.19991324e+12,\n",
       "         0.00000000e+00,  1.99985540e+13,  0.00000000e+00,\n",
       "         0.00000000e+00,  0.00000000e+00,  6.10351562e-05,\n",
       "         0.00000000e+00,  7.99942159e+13,  0.00000000e+00,\n",
       "         0.00000000e+00,  0.00000000e+00,  1.19991324e+12,\n",
       "         0.00000000e+00,  1.99985540e+13,  0.00000000e+00],\n",
       "       [ 0.00000000e+00,  1.19991324e+12,  0.00000000e+00,\n",
       "         0.00000000e+00,  0.00000000e+00,  1.99985540e+13,\n",
       "         0.00000000e+00, -6.10351562e-05,  0.00000000e+00,\n",
       "         0.00000000e+00,  0.00000000e+00,  7.99942159e+13,\n",
       "         0.00000000e+00, -1.19991324e+12,  0.00000000e+00,\n",
       "         0.00000000e+00,  0.00000000e+00,  1.99985540e+13],\n",
       "       [ 2.59470128e+07,  0.00000000e+00,  0.00000000e+00,\n",
       "         0.00000000e+00,  0.00000000e+00,  0.00000000e+00,\n",
       "        -2.07576103e+08,  0.00000000e+00,  0.00000000e+00,\n",
       "         0.00000000e+00,  0.00000000e+00,  0.00000000e+00,\n",
       "         1.81629090e+08,  0.00000000e+00,  0.00000000e+00,\n",
       "         0.00000000e+00,  0.00000000e+00,  0.00000000e+00],\n",
       "       [ 0.00000000e+00, -9.42431856e+09,  0.00000000e+00,\n",
       "         0.00000000e+00,  0.00000000e+00, -1.51239064e+11,\n",
       "         0.00000000e+00, -2.23983804e+10,  0.00000000e+00,\n",
       "         0.00000000e+00,  0.00000000e+00, -1.19991324e+12,\n",
       "         0.00000000e+00,  3.18226990e+10,  0.00000000e+00,\n",
       "         0.00000000e+00,  0.00000000e+00, -7.11198575e+11],\n",
       "       [ 0.00000000e+00,  0.00000000e+00, -9.42431856e+09,\n",
       "         0.00000000e+00,  1.51239064e+11,  0.00000000e+00,\n",
       "         0.00000000e+00,  0.00000000e+00, -2.23983804e+10,\n",
       "         0.00000000e+00,  1.19991324e+12,  0.00000000e+00,\n",
       "         0.00000000e+00,  0.00000000e+00,  3.18226990e+10,\n",
       "         0.00000000e+00,  7.11198575e+11,  0.00000000e+00],\n",
       "       [ 0.00000000e+00,  0.00000000e+00,  0.00000000e+00,\n",
       "         5.60856882e+11,  0.00000000e+00,  0.00000000e+00,\n",
       "         0.00000000e+00,  0.00000000e+00,  0.00000000e+00,\n",
       "        -4.48685506e+12,  0.00000000e+00,  0.00000000e+00,\n",
       "         0.00000000e+00,  0.00000000e+00,  0.00000000e+00,\n",
       "         3.92599817e+12,  0.00000000e+00,  0.00000000e+00],\n",
       "       [ 0.00000000e+00,  0.00000000e+00, -1.51239064e+11,\n",
       "         0.00000000e+00,  2.37482828e+12,  0.00000000e+00,\n",
       "         0.00000000e+00,  0.00000000e+00, -5.59959511e+11,\n",
       "         0.00000000e+00,  1.99985540e+13,  0.00000000e+00,\n",
       "         0.00000000e+00,  0.00000000e+00,  7.11198575e+11,\n",
       "         0.00000000e+00,  2.07484997e+13,  0.00000000e+00],\n",
       "       [ 0.00000000e+00,  1.51239064e+11,  0.00000000e+00,\n",
       "         0.00000000e+00,  0.00000000e+00,  2.37482828e+12,\n",
       "         0.00000000e+00,  5.59959511e+11,  0.00000000e+00,\n",
       "         0.00000000e+00,  0.00000000e+00,  1.99985540e+13,\n",
       "         0.00000000e+00, -7.11198575e+11,  0.00000000e+00,\n",
       "         0.00000000e+00,  0.00000000e+00,  2.07484997e+13]])"
      ]
     },
     "execution_count": 159,
     "metadata": {},
     "output_type": "execute_result"
    }
   ],
   "source": [
    "cd.db.K.to_numpy()[0]"
   ]
  },
  {
   "cell_type": "code",
   "execution_count": 160,
   "metadata": {},
   "outputs": [],
   "source": [
    "ak.to_parquet(pd.db, 'pd.pa')\n",
    "ak.to_parquet(cd.db, 'cd.pa')"
   ]
  },
  {
   "cell_type": "code",
   "execution_count": 161,
   "metadata": {},
   "outputs": [
    {
     "data": {
      "text/plain": [
       "(37067.16118306447, 2083182704.9778206, 1041591352.4889101, 1041591352.4889106)"
      ]
     },
     "execution_count": 161,
     "metadata": {},
     "output_type": "execute_result"
    }
   ],
   "source": [
    "A, Ix, Iy, Iz\n"
   ]
  },
  {
   "cell_type": "code",
   "execution_count": 162,
   "metadata": {},
   "outputs": [
    {
     "data": {
      "text/plain": [
       "0.0004014591866763"
      ]
     },
     "execution_count": 162,
     "metadata": {},
     "output_type": "execute_result"
    }
   ],
   "source": [
    "u_x_exact = 0.5 * q * L**2 / (Ex * A)\n",
    "u_x_exact"
   ]
  },
  {
   "cell_type": "code",
   "execution_count": 163,
   "metadata": {},
   "outputs": [
    {
     "data": {
      "text/plain": [
       "array([0.00040146, 0.        , 0.        ])"
      ]
     },
     "execution_count": 163,
     "metadata": {},
     "output_type": "execute_result"
    }
   ],
   "source": [
    "d[iN, 0]\n"
   ]
  },
  {
   "cell_type": "code",
   "execution_count": 164,
   "metadata": {},
   "outputs": [
    {
     "data": {
      "text/plain": [
       "array([-2500.,     0.,     0.,     0.,     0.,     0.])"
      ]
     },
     "execution_count": 164,
     "metadata": {},
     "output_type": "execute_result"
    }
   ],
   "source": [
    "r[0, :, 0]"
   ]
  },
  {
   "cell_type": "code",
   "execution_count": 165,
   "metadata": {},
   "outputs": [
    {
     "data": {
      "text/plain": [
       "array([2500.,    0.,    0.,    0.,    0.,    0.])"
      ]
     },
     "execution_count": 165,
     "metadata": {},
     "output_type": "execute_result"
    }
   ],
   "source": [
    "f[0, 0, :, 0]"
   ]
  },
  {
   "cell_type": "code",
   "execution_count": 166,
   "metadata": {},
   "outputs": [
    {
     "data": {
      "text/plain": [
       "array([0.00040146, 0.        , 0.        ])"
      ]
     },
     "execution_count": 166,
     "metadata": {},
     "output_type": "execute_result"
    }
   ],
   "source": [
    "d[iN, 0]"
   ]
  },
  {
   "cell_type": "code",
   "execution_count": 167,
   "metadata": {},
   "outputs": [
    {
     "data": {
      "text/plain": [
       "array([[ 0, 26,  1],\n",
       "       [ 1, 27,  2],\n",
       "       [ 2, 28,  3],\n",
       "       [ 3, 29,  4],\n",
       "       [ 4, 30,  5],\n",
       "       [ 5, 31,  6],\n",
       "       [ 6, 32,  7],\n",
       "       [ 7, 33,  8],\n",
       "       [ 8, 34,  9],\n",
       "       [ 9, 35, 10],\n",
       "       [10, 36, 11],\n",
       "       [11, 37, 12],\n",
       "       [12, 38, 13],\n",
       "       [13, 39, 14],\n",
       "       [14, 40, 15],\n",
       "       [15, 41, 16],\n",
       "       [16, 42, 17],\n",
       "       [17, 43, 18],\n",
       "       [18, 44, 19],\n",
       "       [19, 45, 20],\n",
       "       [20, 46, 21],\n",
       "       [21, 47, 22],\n",
       "       [22, 48, 23],\n",
       "       [23, 49, 24],\n",
       "       [24, 50, 25]], dtype=int64)"
      ]
     },
     "execution_count": 167,
     "metadata": {},
     "output_type": "execute_result"
    }
   ],
   "source": [
    "cd.nodes"
   ]
  }
 ],
 "metadata": {
  "kernelspec": {
   "display_name": "Python 3.8.10 ('.sigeps': venv)",
   "language": "python",
   "name": "python3"
  },
  "language_info": {
   "codemirror_mode": {
    "name": "ipython",
    "version": 3
   },
   "file_extension": ".py",
   "mimetype": "text/x-python",
   "name": "python",
   "nbconvert_exporter": "python",
   "pygments_lexer": "ipython3",
   "version": "3.8.10"
  },
  "orig_nbformat": 4,
  "vscode": {
   "interpreter": {
    "hash": "28d81e0e1442962330764574f1956d80898814d1923baa1210fb6369a4e79b2a"
   }
  }
 },
 "nbformat": 4,
 "nbformat_minor": 2
}
