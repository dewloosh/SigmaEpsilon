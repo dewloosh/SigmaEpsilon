{
 "cells": [
  {
   "cell_type": "markdown",
   "metadata": {},
   "source": [
    "# Bernoulli Verification Example - End Releases"
   ]
  },
  {
   "cell_type": "markdown",
   "metadata": {},
   "source": [
    "A beam with a hinge at the middle around Y is fixed at both ends. It is loaded with a contcentrated force at the middle and constant distributed loads in Z direction. Peak displacement is measured as the mesh is refined."
   ]
  },
  {
   "cell_type": "markdown",
   "metadata": {},
   "source": [
    "## Linear Solution"
   ]
  },
  {
   "cell_type": "code",
   "execution_count": 5,
   "metadata": {},
   "outputs": [],
   "source": [
    "from sigmaepsilon import Structure, LineMesh, PointData, BeamSection\n",
    "from sigmaepsilon.fem.cells import B2, B3\n",
    "from polymesh.space import StandardFrame, PointCloud\n",
    "from polymesh.utils.space import index_of_closest_point\n",
    "from polymesh.utils.topology import L2_to_L3\n",
    "from linkeddeepdict.tools import getallfromkwargs\n",
    "from neumann.linalg import linspace\n",
    "from neumann import repeat\n",
    "import numpy as np\n",
    "\n",
    "# units in kN, cm\n",
    "L, d, t = 100.0, 1.2, 0.4\n",
    "Ex, nu = 21000.0, 0.25\n",
    "F = 1.0\n",
    "q = 1.0\n",
    "\n",
    "# section\n",
    "section = BeamSection('CHS', d=d, t=t, n=16)\n",
    "section.calculate_section_properties()\n",
    "section_props = section.section_properties\n",
    "A, Ix, Iy, Iz = getallfromkwargs(['A', 'Ix', 'Iy', 'Iz'], **section_props)\n",
    "\n",
    "# material\n",
    "G = Ex / (2 * (1 + nu))\n",
    "Hooke = np.array([\n",
    "    [Ex*A, 0, 0, 0],\n",
    "    [0, G*Ix, 0, 0],\n",
    "    [0, 0, Ex*Iy, 0],\n",
    "    [0, 0, 0, Ex*Iz]\n",
    "])\n",
    "\n",
    "# index of the middle node, this is calcualted inside the function\n",
    "i_middle = None\n",
    "\n",
    "\n",
    "def build_structure(n: int, Beam:B2):\n",
    "    global i_middle\n",
    "    \n",
    "    # space\n",
    "    GlobalFrame = StandardFrame(dim=3)\n",
    "\n",
    "    # mesh\n",
    "    p0 = np.array([0., 0., 0.])\n",
    "    p1 = np.array([L, 0., 0.])\n",
    "    coords = linspace(p0, p1, n+1)\n",
    "    coords = PointCloud(coords, frame=GlobalFrame).show()\n",
    "    topo = np.zeros((n, 2), dtype=int)\n",
    "    topo[:, 0] = np.arange(n)\n",
    "    topo[:, 1] = np.arange(n) + 1\n",
    "    if Beam.NNODE == 3:\n",
    "        coords, topo = L2_to_L3(coords, topo)\n",
    "    i_first = index_of_closest_point(coords, np.array([0, 0, 0]))\n",
    "    i_last = index_of_closest_point(coords, np.array([L, 0, 0]))\n",
    "    i_middle = index_of_closest_point(coords, np.array([L/2, 0, 0]))\n",
    "    \n",
    "    # essential boundary conditions\n",
    "    fixity = np.zeros((coords.shape[0], 6)).astype(bool)\n",
    "    fixity[i_first, :] = True\n",
    "    fixity[i_last, :] = True\n",
    "\n",
    "    # natural boundary conditions\n",
    "    nLoadCase = 2\n",
    "    # nodal loads\n",
    "    nodal_loads = np.zeros((coords.shape[0], 6, nLoadCase))\n",
    "    nodal_loads[i_middle, 2, 0] = F\n",
    "    # cell loads\n",
    "    cell_loads = np.zeros((topo.shape[0], topo.shape[1], 6, nLoadCase))\n",
    "    cell_loads[:, :, 2, 1] = q\n",
    "    \n",
    "    # cell fixity / end releases\n",
    "    cell_fixity = np.full((topo.shape[0], topo.shape[1], 6), True)\n",
    "    cell_fixity[int(n/2 - 1), -1, 4] = False\n",
    "    \n",
    "    # pointdata\n",
    "    pd = PointData(coords=coords, fixity=fixity, loads=nodal_loads, \n",
    "                   frame=GlobalFrame)\n",
    "\n",
    "    # celldata\n",
    "    frames = repeat(GlobalFrame.show(), topo.shape[0])\n",
    "    cd = Beam(topo=topo, loads=cell_loads, fixity=cell_fixity, \n",
    "              frames=frames, material=Hooke)\n",
    "\n",
    "    # set up mesh and structure\n",
    "    mesh = LineMesh(pd, cd, frame=GlobalFrame)\n",
    "    structure = Structure(mesh=mesh)\n",
    "    return structure\n"
   ]
  },
  {
   "cell_type": "markdown",
   "metadata": {},
   "source": [
    "### Verification"
   ]
  },
  {
   "cell_type": "code",
   "execution_count": 6,
   "metadata": {},
   "outputs": [],
   "source": [
    "from neumann.logical import allclose\n",
    "\n",
    "structure = build_structure(10, B3)\n",
    "structure.linear_static_analysis()\n",
    "dofsol = structure.nodal_dof_solution()\n",
    "\n",
    "# results from the concentrated load\n",
    "uz_exact = 0.5 * F * (L/2)**3 / (3 * Ex * Iy)\n",
    "uz_fem = dofsol[i_middle, 2, 0]\n",
    "assert allclose(uz_exact, uz_fem, atol=None, rtol=1e-3)\n",
    "\n",
    "# results from the distributed load\n",
    "uz_exact = q * (L/2)**4 / (8 * Ex * Iy)\n",
    "uz_fem = dofsol[i_middle, 2, 1]\n",
    "assert allclose(uz_exact, uz_fem, atol=None, rtol=1e-2)"
   ]
  },
  {
   "cell_type": "markdown",
   "metadata": {},
   "source": [
    "## Convergence Study"
   ]
  },
  {
   "cell_type": "code",
   "execution_count": 7,
   "metadata": {},
   "outputs": [],
   "source": [
    "ns = [2, 4, 6, 8, 10, 20, 40, 60, 80]\n",
    "uz_conc, uz_dist = [], []\n",
    "uz_conc_control = 0.5 * F * (L/2)**3 / (3 * Ex * Iy)\n",
    "uz_dens_control = q * (L/2)**4 / (8 * Ex * Iy)\n",
    "for n in ns:\n",
    "    structure = build_structure(n, B3)\n",
    "    structure.linear_static_analysis()\n",
    "    dofsol = structure.nodal_dof_solution()\n",
    "    uz_conc.append(dofsol[i_middle, 2, 0] / uz_conc_control)\n",
    "    uz_dist.append(dofsol[i_middle, 2, 1] / uz_dens_control)"
   ]
  },
  {
   "cell_type": "markdown",
   "metadata": {},
   "source": [
    "### Plotting with `MatPlotlib`"
   ]
  },
  {
   "cell_type": "code",
   "execution_count": 8,
   "metadata": {},
   "outputs": [
    {
     "data": {
      "image/png": "[encoded data removed]",
      "text/plain": [
       "<Figure size 700x300 with 2 Axes>"
      ]
     },
     "metadata": {},
     "output_type": "display_data"
    }
   ],
   "source": [
    "from matplotlib import gridspec\n",
    "import matplotlib.pyplot as plt\n",
    "\n",
    "fig = plt.figure(figsize=(7, 3))  # in inches\n",
    "\n",
    "gs = gridspec.GridSpec(2, 1, hspace=1.2)\n",
    "axes = []\n",
    "\n",
    "ax1 = fig.add_subplot(gs[0, 0])\n",
    "ax1.set_ylabel('UZ')\n",
    "ax1.plot(ns, uz_conc, 'b*')\n",
    "ax1.set_title('Concentrated Load')\n",
    "\n",
    "ax2 = fig.add_subplot(gs[1, 0])\n",
    "ax2.set_ylabel('UZ')\n",
    "ax2.plot(ns, uz_dist, 'b*')\n",
    "ax2.set_title('Distributed Load')\n",
    "\n",
    "axes.append(ax1)\n",
    "axes.append(ax2)\n",
    "for ax in axes:\n",
    "    ax.axhline(y=1.02, color='g', linestyle='--')\n",
    "    ax.axhline(y=1, color='g', linestyle='-')\n",
    "    ax.axhline(y=0.98, color='g', linestyle='--')\n",
    "    ax.set_ylim([0.95, 1.05])\n",
    "    ax.set_xlabel('number of elements')\n"
   ]
  }
 ],
 "metadata": {
  "kernelspec": {
   "display_name": ".sigeps",
   "language": "python",
   "name": "python3"
  },
  "language_info": {
   "codemirror_mode": {
    "name": "ipython",
    "version": 3
   },
   "file_extension": ".py",
   "mimetype": "text/x-python",
   "name": "python",
   "nbconvert_exporter": "python",
   "pygments_lexer": "ipython3",
   "version": "3.8.10"
  },
  "orig_nbformat": 4,
  "vscode": {
   "interpreter": {
    "hash": "28d81e0e1442962330764574f1956d80898814d1923baa1210fb6369a4e79b2a"
   }
  }
 },
 "nbformat": 4,
 "nbformat_minor": 2
}
