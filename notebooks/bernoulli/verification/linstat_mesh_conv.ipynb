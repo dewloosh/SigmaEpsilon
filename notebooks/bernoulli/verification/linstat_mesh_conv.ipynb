{
 "cells": [
  {
   "cell_type": "markdown",
   "metadata": {},
   "source": [
    "# Bernoulli Verification Example - Mesh Convergence Study"
   ]
  },
  {
   "cell_type": "code",
   "execution_count": 1,
   "metadata": {},
   "outputs": [],
   "source": [
    "# units in kN, cm\n",
    "L, d, t = 100.0, 5., 2.\n",
    "Ex, nu = 21000.0, 0.25\n",
    "q = 1.0"
   ]
  },
  {
   "cell_type": "markdown",
   "metadata": {},
   "source": [
    "## Linear Solution"
   ]
  },
  {
   "cell_type": "code",
   "execution_count": 2,
   "metadata": {},
   "outputs": [],
   "source": [
    "from sigmaepsilon.solid import Structure, LineMesh, PointData\n",
    "from sigmaepsilon.solid.fem.cells import B2, B3\n",
    "from polymesh.space import StandardFrame, PointCloud\n",
    "from polymesh.space.utils import index_of_closest_point\n",
    "from polymesh.topo.tr import L2_to_L3\n",
    "from sigmaepsilon.solid import BeamSection\n",
    "from linkeddeepdict.tools import getallfromkwargs\n",
    "from neumann.linalg import linspace\n",
    "from neumann.array import repeat\n",
    "import numpy as np\n",
    "\n",
    "iN = None  # index of the node at the free end\n",
    "\n",
    "# section\n",
    "section = BeamSection('CHS', d=d, t=t, n=16)\n",
    "section.calculate_section_properties()\n",
    "section_props = section.section_properties\n",
    "A, Ix, Iy, Iz = getallfromkwargs(['A', 'Ix', 'Iy', 'Iz'], **section_props)\n",
    "\n",
    "# material\n",
    "G = Ex / (2 * (1 + nu))\n",
    "Hooke = np.array([\n",
    "    [Ex*A, 0, 0, 0],\n",
    "    [0, G*Ix, 0, 0],\n",
    "    [0, 0, Ex*Iy, 0],\n",
    "    [0, 0, 0, Ex*Iz]\n",
    "])\n",
    "\n",
    "\n",
    "def build_structure(n: int, celltype=B3):\n",
    "    global iN\n",
    "\n",
    "    # space\n",
    "    GlobalFrame = StandardFrame(dim=3)\n",
    "\n",
    "    # mesh\n",
    "    p0 = np.array([0., 0., 0.])\n",
    "    p1 = np.array([L, 0., 0.])\n",
    "    coords = linspace(p0, p1, n+1)\n",
    "    coords = PointCloud(coords, frame=GlobalFrame).show()\n",
    "    topo = np.zeros((n, 2), dtype=int)\n",
    "    topo[:, 0] = np.arange(n)\n",
    "    topo[:, 1] = np.arange(n) + 1\n",
    "\n",
    "    if celltype.NNODE == 3:\n",
    "        coords, topo = L2_to_L3(coords, topo)\n",
    "    iN = index_of_closest_point(coords, np.array([L, 0, 0]))\n",
    "\n",
    "    # essential boundary conditions\n",
    "    ebcinds = np.where(coords[:, 0] < 1e-12)[0]\n",
    "    fixity = np.zeros((coords.shape[0], 6)).astype(bool)\n",
    "    fixity[ebcinds, :] = True\n",
    "\n",
    "    # natural boundary conditions\n",
    "    nodal_loads = np.zeros((coords.shape[0], 6))\n",
    "    cell_loads = np.zeros((topo.shape[0], topo.shape[1], 6))\n",
    "    cell_loads[:, :, :] = [0.0, 1.0, 0.0, 0.0, 0.0, 0.0]\n",
    "\n",
    "    # pointdata\n",
    "    pd = PointData(coords=coords, fixity=fixity, loads=nodal_loads,\n",
    "                   frame=GlobalFrame)\n",
    "\n",
    "    # celldata\n",
    "    frames = repeat(GlobalFrame.show(), topo.shape[0])\n",
    "    cd = celltype(topo=topo, loads=cell_loads, frames=frames)\n",
    "\n",
    "    # set up mesh and structure\n",
    "    mesh = LineMesh(pd, cd, model=Hooke, frame=GlobalFrame)\n",
    "    structure = Structure(mesh=mesh)\n",
    "    return structure\n",
    "\n",
    "\n",
    "def calc_dofsol(n: int = 2, *, structure=None):\n",
    "    if structure is None:\n",
    "        structure = build_structure(n)\n",
    "        structure.linsolve()\n",
    "    return structure.nodal_dof_solution(store='dofsol')\n",
    "\n",
    "\n",
    "def calc_dofsol_at_free_end(n: int = 2, *, structure=None):\n",
    "    if structure is None:\n",
    "        structure = build_structure(n)\n",
    "        structure.linsolve()\n",
    "        d = structure.nodal_dof_solution(store='dofsol')\n",
    "    else:\n",
    "        d = calc_dofsol(structure=structure)\n",
    "    return d[iN]\n",
    "\n",
    "\n",
    "def calc_reaction_forces(n: int = 2, *, structure=None):\n",
    "    if structure is None:\n",
    "        structure = build_structure(n)\n",
    "        structure.linsolve()\n",
    "        structure.nodal_dof_solution(store='dofsol')\n",
    "    r = structure.reaction_forces()\n",
    "    return r[0]\n",
    "\n",
    "\n",
    "def calc_internal_forces(n: int = 2, *, structure=None):\n",
    "    if structure is None:\n",
    "        structure = build_structure(n)\n",
    "        structure.linsolve()\n",
    "        structure.nodal_dof_solution(store='dofsol')\n",
    "    r = structure.internal_forces()\n",
    "    return r[0]\n",
    "\n",
    "def calc_external_forces(n: int = 2, *, structure=None):\n",
    "    if structure is None:\n",
    "        structure = build_structure(n)\n",
    "        structure.linsolve()\n",
    "        structure.nodal_dof_solution(store='dofsol')\n",
    "    r = structure.external_forces()\n",
    "    return r[0]\n"
   ]
  },
  {
   "cell_type": "code",
   "execution_count": 3,
   "metadata": {},
   "outputs": [
    {
     "data": {
      "text/plain": [
       "array([ 0.        , 20.70417285,  0.        ,  0.        ,  0.        ,\n",
       "        0.27767949])"
      ]
     },
     "execution_count": 3,
     "metadata": {},
     "output_type": "execute_result"
    }
   ],
   "source": [
    "calc_dofsol_at_free_end(2)\n"
   ]
  },
  {
   "cell_type": "code",
   "execution_count": 4,
   "metadata": {},
   "outputs": [
    {
     "data": {
      "text/plain": [
       "array([    0.,  -100.,     0.,     0.,     0., -5000.])"
      ]
     },
     "execution_count": 4,
     "metadata": {},
     "output_type": "execute_result"
    }
   ],
   "source": [
    "calc_reaction_forces(2)\n"
   ]
  },
  {
   "cell_type": "code",
   "execution_count": 5,
   "metadata": {},
   "outputs": [
    {
     "data": {
      "text/plain": [
       "array([[   0.        ,   92.85714286,    0.        ,    0.        ,\n",
       "           0.        , 4970.23809524],\n",
       "       [   0.        ,   75.        ,    0.        ,    0.        ,\n",
       "           0.        , 2872.02380952],\n",
       "       [   0.        ,   57.14285714,    0.        ,    0.        ,\n",
       "           0.        , 1220.23809524]])"
      ]
     },
     "execution_count": 5,
     "metadata": {},
     "output_type": "execute_result"
    }
   ],
   "source": [
    "calc_internal_forces(2)\n"
   ]
  },
  {
   "cell_type": "code",
   "execution_count": 6,
   "metadata": {},
   "outputs": [
    {
     "data": {
      "text/plain": [
       "array([[ 0.00000000e+00, -8.45238095e+01,  0.00000000e+00,\n",
       "         0.00000000e+00,  0.00000000e+00, -4.94047619e+03],\n",
       "       [ 0.00000000e+00,  1.90476190e+01,  0.00000000e+00,\n",
       "         0.00000000e+00,  0.00000000e+00,  2.18278728e-11],\n",
       "       [ 0.00000000e+00,  6.54761905e+01,  0.00000000e+00,\n",
       "         0.00000000e+00,  0.00000000e+00,  1.19047619e+03]])"
      ]
     },
     "execution_count": 6,
     "metadata": {},
     "output_type": "execute_result"
    }
   ],
   "source": [
    "calc_external_forces(2)"
   ]
  },
  {
   "cell_type": "markdown",
   "metadata": {},
   "source": [
    "## Analytic Solution"
   ]
  },
  {
   "cell_type": "code",
   "execution_count": 7,
   "metadata": {},
   "outputs": [],
   "source": [
    "UY_exact = q * L**4 / (8 * Ex * Iy)\n",
    "RY_exact = - q * L\n",
    "FY_exact = - RY_exact"
   ]
  },
  {
   "cell_type": "markdown",
   "metadata": {},
   "source": [
    "## Mesh Convergence"
   ]
  },
  {
   "cell_type": "code",
   "execution_count": 8,
   "metadata": {},
   "outputs": [],
   "source": [
    "ns = [2, 4, 10, 20, 40, 60, 80, 100]\n",
    "#ns = [2, 4, 10]"
   ]
  },
  {
   "cell_type": "code",
   "execution_count": 9,
   "metadata": {},
   "outputs": [],
   "source": [
    "uyB2, ryB2, fyB2 = [], [], []\n",
    "for n in ns:\n",
    "    s = build_structure(n, B2)\n",
    "    s.linsolve()\n",
    "    u_n = calc_dofsol_at_free_end(structure=s)\n",
    "    r_n = calc_reaction_forces(structure=s)\n",
    "    f_n = calc_internal_forces(structure=s)\n",
    "    uyB2.append(u_n[1] / UY_exact)\n",
    "    ryB2.append(r_n[1] / RY_exact)\n",
    "    fyB2.append(f_n[0, 1] / FY_exact)\n",
    "    \n",
    "uyB3, ryB3, fyB3 = [], [], []\n",
    "for n in ns:\n",
    "    s = build_structure(n, B3)\n",
    "    s.linsolve()\n",
    "    u_n = calc_dofsol_at_free_end(structure=s)\n",
    "    r_n = calc_reaction_forces(structure=s)\n",
    "    f_n = calc_internal_forces(structure=s)\n",
    "    uyB3.append(u_n[1] / UY_exact)\n",
    "    ryB3.append(r_n[1] / RY_exact)\n",
    "    fyB3.append(f_n[0, 1] / FY_exact)\n",
    "    "
   ]
  },
  {
   "cell_type": "code",
   "execution_count": 10,
   "metadata": {},
   "outputs": [
    {
     "data": {
      "image/png": "[encoded data removed]",
      "text/plain": [
       "<Figure size 700x600 with 3 Axes>"
      ]
     },
     "metadata": {},
     "output_type": "display_data"
    }
   ],
   "source": [
    "from matplotlib import gridspec\n",
    "import matplotlib as mpl\n",
    "import matplotlib.pyplot as plt\n",
    "\n",
    "fig = plt.figure(figsize=(7, 6))  # in inches\n",
    "gs = gridspec.GridSpec(3, 1, hspace=0.7, wspace=0.5)\n",
    "axes = []\n",
    "\n",
    "ax1 = fig.add_subplot(gs[0, 0])\n",
    "ax1.set_ylabel('UY')\n",
    "ax1.plot(ns, uyB2, 'b*')\n",
    "ax1.plot(ns, uyB3, 'r*')\n",
    "\n",
    "ax2 = fig.add_subplot(gs[1, 0])\n",
    "ax2.set_ylabel('RY')\n",
    "ax2.plot(ns, ryB2, 'b*')\n",
    "ax2.plot(ns, ryB3, 'r*')\n",
    "\n",
    "ax3 = fig.add_subplot(gs[2, 0])\n",
    "ax3.set_ylabel('FY')\n",
    "ax3.plot(ns, fyB2, 'b*')\n",
    "ax3.plot(ns, fyB3, 'r*')\n",
    "\n",
    "axes.append(ax1)\n",
    "axes.append(ax2)\n",
    "axes.append(ax3)\n",
    "\n",
    "for ax in axes:\n",
    "    ax.axhline(y=1.02, color='g', linestyle='--')\n",
    "    ax.axhline(y=1, color='g', linestyle='-')\n",
    "    ax.axhline(y=0.98, color='g', linestyle='--')\n",
    "    #ax.set_ylim([0.95, 1.05])"
   ]
  }
 ],
 "metadata": {
  "kernelspec": {
   "display_name": "Python 3.8.10 ('.sigeps': venv)",
   "language": "python",
   "name": "python3"
  },
  "language_info": {
   "codemirror_mode": {
    "name": "ipython",
    "version": 3
   },
   "file_extension": ".py",
   "mimetype": "text/x-python",
   "name": "python",
   "nbconvert_exporter": "python",
   "pygments_lexer": "ipython3",
   "version": "3.8.10"
  },
  "orig_nbformat": 4,
  "vscode": {
   "interpreter": {
    "hash": "5facf25dadae24d0f6f3d9b821e9851478f51388ee31821a60476e833f1169c6"
   }
  }
 },
 "nbformat": 4,
 "nbformat_minor": 2
}
