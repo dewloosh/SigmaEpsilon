{
 "cells": [
  {
   "cell_type": "markdown",
   "metadata": {},
   "source": [
    "# Bernoulli Console with Random Geometry"
   ]
  },
  {
   "cell_type": "code",
   "execution_count": 1,
   "metadata": {},
   "outputs": [],
   "source": [
    "seed = 0  # integer or None\n",
    "seed = None"
   ]
  },
  {
   "cell_type": "code",
   "execution_count": 2,
   "metadata": {},
   "outputs": [],
   "source": [
    "import numpy as np\n",
    "\n",
    "rs = np.random.RandomState()\n",
    "if isinstance(seed, int):\n",
    "    rs.seed(seed)\n",
    "\n",
    "\n",
    "def brownian1d(T=1, N=100, mu=0.1, sigma=0.01, S0=20):\n",
    "    dt = float(T)/N\n",
    "    t = np.linspace(0, T, N)\n",
    "    W = rs.standard_normal(size=N)\n",
    "    W = np.cumsum(W)*np.sqrt(dt)  # standard brownian motion\n",
    "    X = (mu-0.5*sigma**2)*t + sigma*W\n",
    "    S = S0*np.exp(X)  # geometric brownian motion\n",
    "    return S\n",
    "\n",
    "\n",
    "params = dict(T=0.1, N=100, mu=0.5, sigma=0.1)\n",
    "\n",
    "x = brownian1d(**params)\n",
    "y = brownian1d(**params)\n",
    "z = brownian1d(**params)\n"
   ]
  },
  {
   "cell_type": "code",
   "execution_count": 3,
   "metadata": {},
   "outputs": [],
   "source": [
    "from polymesh import PolyData, CartesianFrame, LineData\n",
    "import numpy as np\n",
    "\n",
    "frame = CartesianFrame(dim=3)\n",
    "\n",
    "coords = np.stack([x, y, z], axis=1)\n",
    "coords[:] -= coords[0]\n",
    "coords = np.vstack((coords, np.array([1., 0., 0.])))\n",
    "\n",
    "topo = np.zeros((coords.shape[0]-1, 2)).astype(int)\n",
    "topo[:, 0] = np.arange(topo.shape[0])\n",
    "topo[:, 1] = topo[:, 0] + 1\n",
    "\n",
    "mesh = PolyData(coords=coords, frame=frame)\n",
    "mesh['lines'] = LineData(topo=topo, frame=frame)\n",
    "\n",
    "mesh.plot(notebook=False)\n"
   ]
  },
  {
   "cell_type": "markdown",
   "metadata": {},
   "source": [
    "Index and coordinate of the last node. Later, when the 2-noded mesh is transformed into a mesh of 3-noded elements, this information is going to be necessary to identify the free end."
   ]
  },
  {
   "cell_type": "code",
   "execution_count": 4,
   "metadata": {},
   "outputs": [
    {
     "data": {
      "text/plain": [
       "(100, array([1., 0., 0.]))"
      ]
     },
     "execution_count": 4,
     "metadata": {},
     "output_type": "execute_result"
    }
   ],
   "source": [
    "i_last = len(coords) - 1\n",
    "i_last, coords[i_last]"
   ]
  },
  {
   "cell_type": "markdown",
   "metadata": {},
   "source": [
    "The parameters of the following cell are up for manipulation. They define a simple rectangular cross section and an isotropic Hooke model governed by Young's modulus and Poisson's ratio."
   ]
  },
  {
   "cell_type": "code",
   "execution_count": 5,
   "metadata": {},
   "outputs": [],
   "source": [
    "# INPUT DATA\n",
    "w, h = 10., 10.  # width and height of the rectangular cross section\n",
    "F = -100.  # value of the vertical load at the free end\n",
    "E = 210000.0  # Young's modulus\n",
    "nu = 0.3  # Poisson's ratio"
   ]
  },
  {
   "cell_type": "markdown",
   "metadata": {},
   "source": [
    "The model stiffness matrix is calculated automatically here:"
   ]
  },
  {
   "cell_type": "code",
   "execution_count": 6,
   "metadata": {},
   "outputs": [],
   "source": [
    "import numpy as np\n",
    "from numpy import pi as PI\n",
    "\n",
    "# cross section\n",
    "A = w * h  # area\n",
    "Iy = w * h**3 / 12  # second moment of inertia around the y axis\n",
    "Iz = w * h**3 / 12  # second moment of inertia around the z axis\n",
    "Ix = Iy + Iz  # torsional inertia\n",
    "\n",
    "# model stiffness matrix\n",
    "G = E / (2 * (1 + nu))\n",
    "Hooke = np.array([\n",
    "    [E*A, 0, 0, 0],\n",
    "    [0, G*Ix, 0, 0],\n",
    "    [0, 0, E*Iy, 0],\n",
    "    [0, 0, 0, E*Iz]\n",
    "])"
   ]
  },
  {
   "cell_type": "markdown",
   "metadata": {},
   "source": [
    "## Solution with 2-Node Bernoulli Element"
   ]
  },
  {
   "cell_type": "markdown",
   "metadata": {},
   "source": [
    "Run a linear analysis and do some postprocessing using 2-Noded Bernoulli members."
   ]
  },
  {
   "cell_type": "code",
   "execution_count": 7,
   "metadata": {},
   "outputs": [],
   "source": [
    "from sigmaepsilon.solid import Structure, LineMesh, PointData\n",
    "from sigmaepsilon.solid.fem.cells import B2 as Beam\n",
    "from neumann.linalg import linspace, Vector\n",
    "from polymesh.space import StandardFrame, PointCloud, frames_of_lines\n",
    "from polymesh.space.utils import index_of_closest_point\n",
    "\n",
    "# space\n",
    "GlobalFrame = StandardFrame(dim=3)\n",
    "\n",
    "i_first = index_of_closest_point(coords, np.array([0., 0., 0.]))\n",
    "i_last = index_of_closest_point(coords, np.array([1., 0., 0.]))\n",
    "\n",
    "# support at the first, load at the last node\n",
    "loads = np.zeros((coords.shape[0], 6))\n",
    "fixity = np.zeros((coords.shape[0], 6)).astype(bool)\n",
    "global_load_vector = Vector([0., 0, F], frame=GlobalFrame).show()\n",
    "loads[i_last, :3] = global_load_vector\n",
    "fixity[i_first, :] = True\n",
    "\n",
    "# pointdata\n",
    "pd = PointData(coords=coords, frame=GlobalFrame,\n",
    "               loads=loads, fixity=fixity)\n",
    "\n",
    "# celldata\n",
    "frames = frames_of_lines(coords, topo)\n",
    "cd = Beam(topo=topo, frames=frames)\n",
    "\n",
    "# set up mesh and structure\n",
    "mesh = LineMesh(pd, cd, model=Hooke, frame=GlobalFrame)\n",
    "structure = Structure(mesh=mesh)\n",
    "structure.linsolve()\n",
    "\n",
    "# postproc\n",
    "# 1) displace the mesh\n",
    "dofsol = structure.nodal_dof_solution(store='dofsol')\n",
    "forces = structure.nodal_forces()\n",
    "reactions = structure.reaction_forces()\n",
    "internal_forces = structure.internal_forces()"
   ]
  },
  {
   "cell_type": "code",
   "execution_count": 8,
   "metadata": {},
   "outputs": [
    {
     "data": {
      "text/plain": [
       "(array([0., 0., 0.]), array([1., 0., 0.]))"
      ]
     },
     "execution_count": 8,
     "metadata": {},
     "output_type": "execute_result"
    }
   ],
   "source": [
    "coords[i_first], coords[i_last]"
   ]
  },
  {
   "cell_type": "code",
   "execution_count": 9,
   "metadata": {},
   "outputs": [
    {
     "data": {
      "text/plain": [
       "((-100.0, -99.99999973788547, 99.99999973788726),\n",
       " (99.99999972967505, -99.99999972967458))"
      ]
     },
     "execution_count": 9,
     "metadata": {},
     "output_type": "execute_result"
    }
   ],
   "source": [
    "frame0 = StandardFrame(frames[0])\n",
    "RZ = reactions[i_first, 2]\n",
    "RYY = reactions[i_first, 4]\n",
    "FZ = Vector(internal_forces[0, 0, :3], frame=frame0).show(GlobalFrame)[2]\n",
    "FYY = Vector(internal_forces[0, 0, 3:], frame=frame0).show(GlobalFrame)[1]\n",
    "(F, FZ, RZ), (FYY, RYY)"
   ]
  },
  {
   "cell_type": "markdown",
   "metadata": {},
   "source": [
    "## Solution with 3-Node Bernoulli Elements"
   ]
  },
  {
   "cell_type": "markdown",
   "metadata": {},
   "source": [
    "We transform the mesh using the appropriate transformation function from `PolyMesh`."
   ]
  },
  {
   "cell_type": "code",
   "execution_count": 10,
   "metadata": {},
   "outputs": [],
   "source": [
    "from polymesh.topo.tr import L2_to_L3\n",
    "coords, topo = L2_to_L3(coords, topo)"
   ]
  },
  {
   "cell_type": "markdown",
   "metadata": {},
   "source": [
    "Rebuild and calculate the mesh using 3-Node elements."
   ]
  },
  {
   "cell_type": "code",
   "execution_count": 11,
   "metadata": {},
   "outputs": [],
   "source": [
    "from sigmaepsilon.solid.fem.cells import B3 as Beam\n",
    "\n",
    "i_first = index_of_closest_point(coords, np.array([0., 0., 0.]))\n",
    "i_last = index_of_closest_point(coords, np.array([1., 0., 0.]))\n",
    "\n",
    "# support at the first, load at the last node\n",
    "loads = np.zeros((coords.shape[0], 6))\n",
    "fixity = np.zeros((coords.shape[0], 6)).astype(bool)\n",
    "global_load_vector = Vector([0., 0, F], frame=GlobalFrame).show()\n",
    "loads[i_last, :3] = global_load_vector\n",
    "fixity[i_first, :] = True\n",
    "\n",
    "# pointdata\n",
    "pd = PointData(coords=coords, frame=GlobalFrame,\n",
    "               loads=loads, fixity=fixity)\n",
    "\n",
    "# celldata\n",
    "frames = frames_of_lines(coords, topo)\n",
    "cd = Beam(topo=topo, frames=frames)\n",
    "\n",
    "# set up mesh and structure\n",
    "mesh = LineMesh(pd, cd, model=Hooke, frame=GlobalFrame)\n",
    "structure = Structure(mesh=mesh)\n",
    "structure.linsolve()\n",
    "\n",
    "# postproc\n",
    "# 1) displace the mesh\n",
    "dofsol = structure.nodal_dof_solution(store='dofsol')\n",
    "forces = structure.nodal_forces()\n",
    "reactions = structure.reaction_forces()\n",
    "internal_forces = structure.internal_forces()"
   ]
  },
  {
   "cell_type": "code",
   "execution_count": 12,
   "metadata": {},
   "outputs": [
    {
     "data": {
      "text/plain": [
       "(array([0., 0., 0.]), array([1., 0., 0.]))"
      ]
     },
     "execution_count": 12,
     "metadata": {},
     "output_type": "execute_result"
    }
   ],
   "source": [
    "coords[i_first], coords[i_last]"
   ]
  },
  {
   "cell_type": "code",
   "execution_count": 13,
   "metadata": {},
   "outputs": [
    {
     "data": {
      "text/plain": [
       "((-100.0, -99.99998838475845, 99.99998838406736),\n",
       " (99.99999945374424, -99.99999945374162))"
      ]
     },
     "execution_count": 13,
     "metadata": {},
     "output_type": "execute_result"
    }
   ],
   "source": [
    "frame0 = StandardFrame(frames[0])\n",
    "RZ = reactions[i_first, 2]\n",
    "RYY = reactions[i_first, 4]\n",
    "FZ = Vector(internal_forces[0, 0, :3], frame=frame0).show(GlobalFrame)[2]\n",
    "FYY = Vector(internal_forces[0, 0, 3:], frame=frame0).show(GlobalFrame)[1]\n",
    "(F, FZ, RZ), (FYY, RYY)"
   ]
  }
 ],
 "metadata": {
  "kernelspec": {
   "display_name": "Python 3.8.10 ('.sigeps': venv)",
   "language": "python",
   "name": "python3"
  },
  "language_info": {
   "codemirror_mode": {
    "name": "ipython",
    "version": 3
   },
   "file_extension": ".py",
   "mimetype": "text/x-python",
   "name": "python",
   "nbconvert_exporter": "python",
   "pygments_lexer": "ipython3",
   "version": "3.8.10"
  },
  "orig_nbformat": 4,
  "vscode": {
   "interpreter": {
    "hash": "5facf25dadae24d0f6f3d9b821e9851478f51388ee31821a60476e833f1169c6"
   }
  }
 },
 "nbformat": 4,
 "nbformat_minor": 2
}
