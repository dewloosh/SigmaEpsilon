{
 "cells": [
  {
   "cell_type": "markdown",
   "metadata": {},
   "source": [
    "# Linear Statics of a Bernoulli Console with Random Geometry"
   ]
  },
  {
   "cell_type": "markdown",
   "metadata": {},
   "source": [
    "A console of length 1 is created. The support is located at (0, 0, 0) and the free end is located at (1, 0, 0). The locations of points between these two follow Brownian motion, resulting in a random geometry. The console is loaded with a  concentrated force at the free end in global Z direction. The point of the example is that the support forces and moments should be the same, regardless of the path between the support and the free end."
   ]
  },
  {
   "cell_type": "markdown",
   "metadata": {},
   "source": [
    "Create the mesh:"
   ]
  },
  {
   "cell_type": "code",
   "execution_count": 27,
   "metadata": {},
   "outputs": [],
   "source": [
    "import numpy as np\n",
    "from polymesh import PolyData, CartesianFrame, LineData\n",
    "\n",
    "N = 5  # the number of elements to create\n",
    "\n",
    "rs = np.random.RandomState()\n",
    "\n",
    "# uncomment the following line to fix seed value\n",
    "#rs.seed(0)\n",
    "\n",
    "def brownian1d(T=1, N=100, mu=0.1, sigma=0.01, S0=20):\n",
    "    dt = float(T)/N\n",
    "    t = np.linspace(0, T, N)\n",
    "    W = rs.standard_normal(size=N)\n",
    "    W = np.cumsum(W)*np.sqrt(dt)  # standard brownian motion\n",
    "    X = (mu-0.5*sigma**2)*t + sigma*W\n",
    "    S = S0*np.exp(X)  # geometric brownian motion\n",
    "    return S\n",
    "\n",
    "# generate points\n",
    "params = dict(T=0.1, N=N, mu=0.5, sigma=0.1)\n",
    "x = brownian1d(**params)\n",
    "y = brownian1d(**params)\n",
    "z = brownian1d(**params)\n",
    "\n",
    "# create the mesh\n",
    "frame = CartesianFrame(dim=3)\n",
    "coords = np.stack([x, y, z], axis=1)\n",
    "coords[:] -= coords[0]\n",
    "coords = np.vstack((coords, np.array([1., 0., 0.])))\n",
    "topo = np.zeros((coords.shape[0]-1, 2)).astype(int)\n",
    "topo[:, 0] = np.arange(topo.shape[0])\n",
    "topo[:, 1] = topo[:, 0] + 1\n",
    "mesh = PolyData(coords=coords, frame=frame)\n",
    "mesh['lines'] = LineData(topo=topo, frame=frame)\n",
    "mesh.plot(notebook=False)"
   ]
  },
  {
   "cell_type": "markdown",
   "metadata": {},
   "source": [
    "Material and load data:"
   ]
  },
  {
   "cell_type": "code",
   "execution_count": 28,
   "metadata": {},
   "outputs": [],
   "source": [
    "w, h = 10., 10.  # width and height of the rectangular cross section\n",
    "F = -100.  # value of the vertical load at the free end\n",
    "E = 210000.0  # Young's modulus\n",
    "nu = 0.3  # Poisson's ratio\n",
    "\n",
    "# cross section\n",
    "A = w * h  # area\n",
    "Iy = w * h**3 / 12  # second moment of inertia around the y axis\n",
    "Iz = h * w**3 / 12  # second moment of inertia around the z axis\n",
    "Ix = Iy + Iz  # torsional inertia\n",
    "\n",
    "# model stiffness matrix\n",
    "G = E / (2 * (1 + nu))\n",
    "Hooke = np.array([\n",
    "    [E*A, 0, 0, 0],\n",
    "    [0, G*Ix, 0, 0],\n",
    "    [0, 0, E*Iy, 0],\n",
    "    [0, 0, 0, E*Iz]\n",
    "])"
   ]
  },
  {
   "cell_type": "markdown",
   "metadata": {},
   "source": [
    "## Solution with 2-Node Bernoulli Element"
   ]
  },
  {
   "cell_type": "markdown",
   "metadata": {},
   "source": [
    "Run a linear analysis and do some postprocessing using 2-Noded Bernoulli members."
   ]
  },
  {
   "cell_type": "code",
   "execution_count": 29,
   "metadata": {},
   "outputs": [],
   "source": [
    "from sigmaepsilon.solid import Structure, LineMesh, PointData\n",
    "from sigmaepsilon.solid.fem.cells import B2 as Beam\n",
    "from neumann.linalg import Vector\n",
    "from polymesh.space import StandardFrame, frames_of_lines\n",
    "from polymesh.space.utils import index_of_closest_point\n",
    "\n",
    "# space\n",
    "GlobalFrame = StandardFrame(dim=3)\n",
    "\n",
    "i_first = index_of_closest_point(coords, np.array([0., 0., 0.]))\n",
    "i_last = index_of_closest_point(coords, np.array([1., 0., 0.]))\n",
    "\n",
    "# support at the first, load at the last node\n",
    "loads = np.zeros((coords.shape[0], 6))\n",
    "fixity = np.zeros((coords.shape[0], 6)).astype(bool)\n",
    "global_load_vector = Vector([0., 0, F], frame=GlobalFrame).show()\n",
    "loads[i_last, :3] = global_load_vector\n",
    "fixity[i_first, :] = True\n",
    "\n",
    "# pointdata\n",
    "pd = PointData(coords=coords, frame=GlobalFrame,\n",
    "               loads=loads, fixity=fixity)\n",
    "\n",
    "# celldata\n",
    "frames = frames_of_lines(coords, topo)\n",
    "cd = Beam(topo=topo, frames=frames)\n",
    "\n",
    "# set up mesh and structure\n",
    "mesh = LineMesh(pd, cd, model=Hooke, frame=GlobalFrame)\n",
    "structure = Structure(mesh=mesh)\n",
    "structure.linear_static_analysis()\n",
    "reactions = structure.reaction_forces()\n",
    "internal_forces = structure.internal_forces()"
   ]
  },
  {
   "cell_type": "markdown",
   "metadata": {},
   "source": [
    "Check support dynams and internal dynams at the support against the actions induced by the concentrated load:"
   ]
  },
  {
   "cell_type": "code",
   "execution_count": 30,
   "metadata": {},
   "outputs": [],
   "source": [
    "from neumann.logical import allclose\n",
    "frame0 = StandardFrame(frames[0])\n",
    "RZ = reactions[i_first, 2]\n",
    "RYY = reactions[i_first, 4]\n",
    "FZ = Vector(internal_forces[0, 0, :3], frame=frame0).show(GlobalFrame)[2]\n",
    "FYY = Vector(internal_forces[0, 0, 3:], frame=frame0).show(GlobalFrame)[1]\n",
    "assert allclose(F, FZ, atol=1e-5, rtol=1e-5)\n",
    "assert allclose(F, -RZ, atol=1e-5, rtol=1e-5)\n",
    "assert allclose(F, -FYY, atol=1e-5, rtol=1e-5)\n",
    "assert allclose(F, RYY, atol=1e-5, rtol=1e-5)"
   ]
  },
  {
   "cell_type": "markdown",
   "metadata": {},
   "source": [
    "## Solution with 3-Node Bernoulli Elements"
   ]
  },
  {
   "cell_type": "markdown",
   "metadata": {},
   "source": [
    "We transform the mesh using the appropriate transformation function from `PolyMesh`."
   ]
  },
  {
   "cell_type": "code",
   "execution_count": 31,
   "metadata": {},
   "outputs": [],
   "source": [
    "from polymesh.topo.tr import L2_to_L3\n",
    "coords, topo = L2_to_L3(coords, topo)"
   ]
  },
  {
   "cell_type": "markdown",
   "metadata": {},
   "source": [
    "Rebuild and calculate the mesh using 3-Node elements."
   ]
  },
  {
   "cell_type": "code",
   "execution_count": 32,
   "metadata": {},
   "outputs": [],
   "source": [
    "from sigmaepsilon.solid.fem.cells import B3 as Beam\n",
    "\n",
    "i_first = index_of_closest_point(coords, np.array([0., 0., 0.]))\n",
    "i_last = index_of_closest_point(coords, np.array([1., 0., 0.]))\n",
    "\n",
    "# support at the first, load at the last node\n",
    "loads = np.zeros((coords.shape[0], 6))\n",
    "fixity = np.zeros((coords.shape[0], 6)).astype(bool)\n",
    "global_load_vector = Vector([0., 0, F], frame=GlobalFrame).show()\n",
    "loads[i_last, :3] = global_load_vector\n",
    "fixity[i_first, :] = True\n",
    "\n",
    "# pointdata\n",
    "pd = PointData(coords=coords, frame=GlobalFrame,\n",
    "               loads=loads, fixity=fixity)\n",
    "\n",
    "# celldata\n",
    "frames = frames_of_lines(coords, topo)\n",
    "cd = Beam(topo=topo, frames=frames)\n",
    "\n",
    "# set up mesh and structure\n",
    "mesh = LineMesh(pd, cd, model=Hooke, frame=GlobalFrame)\n",
    "structure = Structure(mesh=mesh)\n",
    "structure.linsolve()\n",
    "\n",
    "# postproc\n",
    "reactions = structure.reaction_forces()\n",
    "internal_forces = structure.internal_forces()"
   ]
  },
  {
   "cell_type": "markdown",
   "metadata": {},
   "source": [
    "Check support dynams and internal dynams at the support against the actions induced by the concentrated load:"
   ]
  },
  {
   "cell_type": "code",
   "execution_count": 33,
   "metadata": {},
   "outputs": [],
   "source": [
    "frame0 = StandardFrame(frames[0])\n",
    "RZ = reactions[i_first, 2]\n",
    "RYY = reactions[i_first, 4]\n",
    "FZ = Vector(internal_forces[0, 0, :3], frame=frame0).show(GlobalFrame)[2]\n",
    "FYY = Vector(internal_forces[0, 0, 3:], frame=frame0).show(GlobalFrame)[1]\n",
    "assert allclose(F, FZ, atol=1e-5, rtol=1e-5)\n",
    "assert allclose(F, -RZ, atol=1e-5, rtol=1e-5)\n",
    "assert allclose(F, -FYY, atol=1e-5, rtol=1e-5)\n",
    "assert allclose(F, RYY, atol=1e-5, rtol=1e-5)"
   ]
  }
 ],
 "metadata": {
  "kernelspec": {
   "display_name": "Python 3.8.10 ('.sigeps': venv)",
   "language": "python",
   "name": "python3"
  },
  "language_info": {
   "codemirror_mode": {
    "name": "ipython",
    "version": 3
   },
   "file_extension": ".py",
   "mimetype": "text/x-python",
   "name": "python",
   "nbconvert_exporter": "python",
   "pygments_lexer": "ipython3",
   "version": "3.8.10"
  },
  "orig_nbformat": 4,
  "vscode": {
   "interpreter": {
    "hash": "5facf25dadae24d0f6f3d9b821e9851478f51388ee31821a60476e833f1169c6"
   }
  }
 },
 "nbformat": 4,
 "nbformat_minor": 2
}
