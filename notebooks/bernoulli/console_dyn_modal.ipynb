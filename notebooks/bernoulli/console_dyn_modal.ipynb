{
    "cells": [
        {
            "cell_type": "markdown",
            "metadata": {},
            "source": [
                "# Modal Analysis of a Console in 3D"
            ]
        },
        {
            "cell_type": "markdown",
            "metadata": {},
            "source": [
                "A short comparison of different modeling techniques of a simple console. The beam has a rectangular prismatic cross-section and a linear elastic material model, governed by the following parameters:"
            ]
        },
        {
            "cell_type": "code",
            "execution_count": 1,
            "metadata": {},
            "outputs": [],
            "source": [
                "# all units in kN and cm\n",
                "L = 150.  # length of the console [cm]\n",
                "F = 1.  # value of the vertical load at the free end [kN]\n",
                "E = 21000.0  # Young's modulus [kN/cm3]\n",
                "nu = 0.3  # Poisson's ratio [-]\n",
                "density = 7750.0 * 1e-6 # mass density [g/cm3]\n",
                "weight = density * 1e-3 * 9.81  # [kN/cm3]\n",
                "w, h = 5., 15.  # width and height of the rectangular cross section\n",
                "A = w * h  # area\n",
                "Iy = w * h**3 / 12  # second moment of inertia around the y axis\n",
                "Iz = h * w**3 / 12  # second moment of inertia around the z axis\n",
                "Ix = Iy + Iz  # torsional inertia\n",
                "nElem = 20  # number of subdivisons to use"
            ]
        },
        {
            "cell_type": "markdown",
            "metadata": {},
            "source": [
                "## Continuous density distribution"
            ]
        },
        {
            "cell_type": "code",
            "execution_count": 2,
            "metadata": {},
            "outputs": [],
            "source": [
                "dpa = density * A  # g/cm\n",
                "wpa = weight * A  # kN/cm"
            ]
        },
        {
            "cell_type": "code",
            "execution_count": 3,
            "metadata": {},
            "outputs": [],
            "source": [
                "from sigmaepsilon.solid import Structure, LineMesh, PointData\n",
                "from neumann.linalg import linspace, Vector\n",
                "from polymesh.space import StandardFrame, PointCloud, frames_of_lines\n",
                "from sigmaepsilon.solid.fem.cells import B2 as Beam\n",
                "\n",
                "import numpy as np\n",
                "from numpy import pi as PI\n",
                "\n",
                "\n",
                "# model stiffness matrix\n",
                "G = E / (2 * (1 + nu))\n",
                "Hooke = np.array([\n",
                "    [E*A, 0, 0, 0],\n",
                "    [0, G*Ix, 0, 0],\n",
                "    [0, 0, E*Iy, 0],\n",
                "    [0, 0, 0, E*Iz]\n",
                "])\n",
                "\n",
                "# space\n",
                "GlobalFrame = StandardFrame(dim=3)\n",
                "\n",
                "# mesh\n",
                "p0 = np.array([0., 0., 0.])\n",
                "p1 = np.array([L, 0., 0.])\n",
                "coords = linspace(p0, p1, nElem+1)\n",
                "coords = PointCloud(coords, frame=GlobalFrame).show()\n",
                "topo = np.zeros((nElem, 2), dtype=int)\n",
                "topo[:, 0] = np.arange(nElem)\n",
                "topo[:, 1] = np.arange(nElem) + 1\n",
                "\n",
                "# load at the rightmost node in Y and Z directions\n",
                "loads = np.zeros((coords.shape[0], 6, 3))\n",
                "global_load_vector = Vector([F,  0, 0.], frame=GlobalFrame).show()\n",
                "loads[-1, :3, 0] = global_load_vector\n",
                "global_load_vector = Vector([0., F, 0.], frame=GlobalFrame).show()\n",
                "loads[-1, :3, 1] = global_load_vector\n",
                "global_load_vector = Vector([0., 0, F], frame=GlobalFrame).show()\n",
                "loads[-1, :3, 2] = global_load_vector\n",
                "\n",
                "# support at the leftmost node (all degrees)\n",
                "fixity = np.zeros((coords.shape[0], 6)).astype(bool)\n",
                "fixity[0, :] = True\n",
                "\n",
                "# mass and density\n",
                "nodal_masses = np.zeros((coords.shape[0],))\n",
                "densities = np.full((topo.shape[0],), dpa)\n",
                "\n",
                "# pointdata\n",
                "pd = PointData(coords=coords, loads=loads, fixity=fixity, mass=nodal_masses)\n",
                "\n",
                "# celldata\n",
                "frames = frames_of_lines(coords, topo)\n",
                "cd = Beam(topo=topo, frames=frames, density=densities)\n",
                "\n",
                "# set up mesh and structure\n",
                "mesh = LineMesh(pd, cd, model=Hooke, frame=GlobalFrame)\n",
                "structure = Structure(mesh=mesh)\n",
                "structure.linsolve()\n",
                "\n",
                "# postproc\n",
                "dofsol = structure.nodal_dof_solution(store='dofsol')"
            ]
        },
        {
            "cell_type": "code",
            "execution_count": 4,
            "metadata": {},
            "outputs": [
                {
                    "data": {
                        "text/plain": [
                            "(array([ 9.52380962e-05,  0.00000000e+00, -0.00000000e+00]),\n",
                            " array([ 0.        ,  0.03809526, -0.        ]),\n",
                            " array([0.        , 0.        , 0.34285717]))"
                        ]
                    },
                    "execution_count": 4,
                    "metadata": {},
                    "output_type": "execute_result"
                }
            ],
            "source": [
                "dofsol[-1, :3, 0], dofsol[-1, :3, 1], dofsol[-1, :3, 2]"
            ]
        },
        {
            "cell_type": "code",
            "execution_count": 5,
            "metadata": {},
            "outputs": [
                {
                    "data": {
                        "text/plain": [
                            "(array([19.00763833,  1.12837795,  0.37612612]), 0.3761261160830689)"
                        ]
                    },
                    "execution_count": 5,
                    "metadata": {},
                    "output_type": "execute_result"
                }
            ],
            "source": [
                "structure.consistent_mass_matrix()\n",
                "freks, modes = structure.natural_circular_frequencies(normalize=True, as_dense=True, \n",
                "                                                      return_vectors=True)\n",
                "from sigmaepsilon.solid.fem.dyn import estimate_smallest_natural_circular_frequency\n",
                "\n",
                "M = structure.Solver.M\n",
                "u = structure.Solver.u\n",
                "f = structure.Solver.f\n",
                "f = f.reshape(u.shape)\n",
                "f_Rayleigh = estimate_smallest_natural_circular_frequency(M, u=u, f=f)\n",
                "f_Rayleigh, min(f_Rayleigh)"
            ]
        },
        {
            "cell_type": "code",
            "execution_count": 6,
            "metadata": {},
            "outputs": [
                {
                    "data": {
                        "text/plain": [
                            "array([  0.37074595,   1.11223747,   2.30356896,   6.36330294,\n",
                            "         6.91070448,  12.23318805,  17.24245204,  19.08990228,\n",
                            "        19.74781554,  28.69482786,  36.69955178,  38.86115579,\n",
                            "        48.80807753,  50.04593837,  51.83376943,  59.24342703,\n",
                            "        62.07050752,  74.78335756,  86.08445571,  86.74493763,\n",
                            "        88.06136234, 101.80842611, 115.95252313, 116.5834305 ,\n",
                            "       122.19100059, 130.44161272, 145.23822125, 146.72545594,\n",
                            "       150.13776874, 158.38887523, 160.31110692, 175.61843383,\n",
                            "       186.21146639, 191.06116324, 195.55622439, 206.30181625,\n",
                            "       219.75384894, 224.35000651, 233.90797533, 245.54823346])"
                        ]
                    },
                    "execution_count": 6,
                    "metadata": {},
                    "output_type": "execute_result"
                }
            ],
            "source": [
                "around = min(f_Rayleigh)\n",
                "freks, modes = structure.natural_circular_frequencies(k=40, around=around, \n",
                "                                                      return_vectors=True, which='LM')\n",
                "freks[np.where(np.abs(freks) < 1e-3)] = 0.\n",
                "freks[:40]"
            ]
        },
        {
            "cell_type": "code",
            "execution_count": 7,
            "metadata": {},
            "outputs": [
                {
                    "data": {
                        "text/plain": [
                            "(126, 40)"
                        ]
                    },
                    "execution_count": 7,
                    "metadata": {},
                    "output_type": "execute_result"
                }
            ],
            "source": [
                "modes.shape"
            ]
        },
        {
            "cell_type": "code",
            "execution_count": 8,
            "metadata": {},
            "outputs": [
                {
                    "data": {
                        "text/plain": [
                            "(21, 6, 3)"
                        ]
                    },
                    "execution_count": 8,
                    "metadata": {},
                    "output_type": "execute_result"
                }
            ],
            "source": [
                "dofsol.shape"
            ]
        },
        {
            "cell_type": "code",
            "execution_count": 9,
            "metadata": {},
            "outputs": [
                {
                    "data": {
                        "text/plain": [
                            "(87.1875, (84.65499360063335, 82.71567035317051, 84.04432398581964))"
                        ]
                    },
                    "execution_count": 9,
                    "metadata": {},
                    "output_type": "execute_result"
                }
            ],
            "source": [
                "from sigmaepsilon.solid.fem.dyn import effective_modal_masses\n",
                "\n",
                "nN, nD, nR = dofsol.shape\n",
                "\n",
                "action_x = np.zeros((nN, nD))\n",
                "action_x[:, 0] = 1.0\n",
                "action_x = action_x.reshape(nN * nD)\n",
                "action_y = np.zeros((nN, nD))\n",
                "action_y[:, 1] = 1.0\n",
                "action_y = action_y.reshape(nN * nD)\n",
                "action_z = np.zeros((nN, nD))\n",
                "action_z[:, 2] = 1.0\n",
                "action_z = action_z.reshape(nN * nD)\n",
                "actions = np.stack([action_x, action_y, action_z], axis=1)\n",
                "\n",
                "m_eff = effective_modal_masses(M, actions, modes)\n",
                "mtot = np.sum(m_eff[:, 0]), np.sum(m_eff[:, 1]), np.sum(m_eff[:, 2])\n",
                "L * dpa, mtot"
            ]
        },
        {
            "cell_type": "code",
            "execution_count": 10,
            "metadata": {},
            "outputs": [
                {
                    "data": {
                        "text/plain": [
                            "(126, 3)"
                        ]
                    },
                    "execution_count": 10,
                    "metadata": {},
                    "output_type": "execute_result"
                }
            ],
            "source": [
                "actions.shape"
            ]
        },
        {
            "cell_type": "code",
            "execution_count": 11,
            "metadata": {},
            "outputs": [
                {
                    "name": "stdout",
                    "output_type": "stream",
                    "text": [
                        "[ 0.          0.         53.29078559] 0.3707459526639891\n",
                        "[ 0.         53.29079498  0.        ] 1.1122374692527475\n",
                        "[ 0.          0.         16.33039797] 2.3035689592597293\n",
                        "[0.         0.         5.53858809] 6.363302940274247\n",
                        "[ 0.         16.33040088  0.        ] 6.910704480677076\n",
                        "[0.         0.         2.78493513] 12.233188054749498\n",
                        "[70.67150017  0.          0.        ] 17.242452035297333\n",
                        "[0.         5.53858914 0.        ] 19.089902275984368\n",
                        "[0.         0.         1.64981327] 19.747815543225315\n",
                        "[0.         0.         1.07829849] 28.6948278608562\n",
                        "[0.        2.7849357 0.       ] 36.6995517830835\n",
                        "[0.         0.         0.75217352] 38.86115579003838\n",
                        "[0. 0. 0.] 48.808077533956094\n",
                        "[0.         0.         0.54979067] 50.045938367626675\n",
                        "[7.85215518 0.         0.        ] 51.8337694300286\n",
                        "[0.         1.64981365 0.        ] 59.243427027334135\n",
                        "[0.         0.         0.41641496] 62.07050751801438\n",
                        "[0.         0.         0.32445726] 74.78335755760547\n",
                        "[0.         1.07829878 0.        ] 86.08445571472029\n",
                        "[2.82619712 0.         0.        ] 86.74493763266851\n",
                        "[0.         0.         0.25878854] 88.06136233686851\n",
                        "[0.         0.         0.21055833] 101.80842611213005\n",
                        "[0.        0.        0.1743193] 115.95252313064543\n",
                        "[0.         0.75217376 0.        ] 116.58343049909874\n",
                        "[1.44095511 0.         0.        ] 122.19100059211847\n",
                        "[0.         0.         0.14658047] 130.44161272052506\n",
                        "[0.         0.         0.12503192] 145.23822124688868\n",
                        "[0. 0. 0.] 146.72545594309776\n",
                        "[0.         0.54979088 0.        ] 150.137768740299\n",
                        "[0.8702607 0.        0.       ] 158.38887522690516\n",
                        "[0.         0.         0.10810579] 160.31110692351555\n",
                        "[0.         0.         0.09470419] 175.61843383254143\n",
                        "[0.         0.41641515 0.        ] 186.2114663916\n",
                        "[0.         0.         0.08393439] 191.0611632361381\n",
                        "[0.58065255 0.         0.        ] 195.55622438793264\n",
                        "[0.         0.         0.07409669] 206.30181624601767\n",
                        "[0.         0.         0.05254938] 219.7538489404745\n",
                        "[0.         0.32445743 0.        ] 224.3500065125748\n",
                        "[0.41327276 0.         0.        ] 233.9079753290861\n",
                        "[0. 0. 0.] 245.5482334643585\n"
                    ]
                }
            ],
            "source": [
                "m_eff[np.where(m_eff <= 1e-5)] = 0.\n",
                "for i in range(40):\n",
                "    print(m_eff[i], freks[i])"
            ]
        },
        {
            "cell_type": "code",
            "execution_count": 12,
            "metadata": {},
            "outputs": [
                {
                    "data": {
                        "text/plain": [
                            "(87.1875, 87.1875)"
                        ]
                    },
                    "execution_count": 12,
                    "metadata": {},
                    "output_type": "execute_result"
                }
            ],
            "source": [
                "L * dpa, np.sum(structure.mesh.cd.lengths()) * dpa"
            ]
        },
        {
            "cell_type": "code",
            "execution_count": 13,
            "metadata": {},
            "outputs": [
                {
                    "data": {
                        "text/plain": [
                            "['97.10%', '94.87%', '96.39%']"
                        ]
                    },
                    "execution_count": 13,
                    "metadata": {},
                    "output_type": "execute_result"
                }
            ],
            "source": [
                "m_tot = L * dpa\n",
                "[\"{:.2f}%\".format(100 * m / m_tot) for m in mtot]"
            ]
        },
        {
            "cell_type": "markdown",
            "metadata": {},
            "source": [
                "## Dunkerley"
            ]
        },
        {
            "cell_type": "code",
            "execution_count": 14,
            "metadata": {},
            "outputs": [
                {
                    "data": {
                        "text/plain": [
                            "(0.5487032611687344, 0.18290108705624478)"
                        ]
                    },
                    "execution_count": 14,
                    "metadata": {},
                    "output_type": "execute_result"
                }
            ],
            "source": [
                "N = 1\n",
                "mi = m_tot / N\n",
                "h = L / N\n",
                "i3 = np.sum([i**3 for i in range(1, N+1)])\n",
                "acc_y = i3 * (mi * h**3) / (3 * E * Iy)\n",
                "acc_z = i3 * (mi * h**3) / (3 * E * Iz)\n",
                "freq_lower_y, freq_lower_z = np.sqrt(1/acc_y), np.sqrt(1/acc_z)\n",
                "freq_lower_y, freq_lower_z"
            ]
        },
        {
            "cell_type": "code",
            "execution_count": 15,
            "metadata": {},
            "outputs": [
                {
                    "data": {
                        "text/plain": [
                            "(1.0451490688928273, 0.3483830229642758)"
                        ]
                    },
                    "execution_count": 15,
                    "metadata": {},
                    "output_type": "execute_result"
                }
            ],
            "source": [
                "N = nElem\n",
                "mi = m_tot / N\n",
                "h = L / N\n",
                "i3 = np.sum([i**3 for i in range(1, N+1)])\n",
                "acc_y = i3 * (mi * h**3) / (3 * E * Iy)\n",
                "acc_z = i3 * (mi * h**3) / (3 * E * Iz)\n",
                "freq_lower_y, freq_lower_z = np.sqrt(1/acc_y), np.sqrt(1/acc_z)\n",
                "freq_lower_y, freq_lower_z"
            ]
        },
        {
            "cell_type": "markdown",
            "metadata": {},
            "source": [
                "## Concentrate the mass to one point"
            ]
        },
        {
            "cell_type": "markdown",
            "metadata": {},
            "source": [
                "### Analytic Solution"
            ]
        },
        {
            "cell_type": "code",
            "execution_count": 16,
            "metadata": {},
            "outputs": [
                {
                    "data": {
                        "text/plain": [
                            "(10.974065165760832, 0.5487030991197182, 0.1829010810559317)"
                        ]
                    },
                    "execution_count": 16,
                    "metadata": {},
                    "output_type": "execute_result"
                }
            ],
            "source": [
                "kx =  F / dofsol[-1, 0, 0]\n",
                "ky =  F / dofsol[-1, 1, 1]\n",
                "kz =  F / dofsol[-1, 2, 2]\n",
                "np.sqrt(kx/m_tot), np.sqrt(ky/m_tot), np.sqrt(kz/m_tot)"
            ]
        },
        {
            "cell_type": "code",
            "execution_count": 17,
            "metadata": {},
            "outputs": [
                {
                    "data": {
                        "text/plain": [
                            "((26.25, 26.249984495131162), (2.9166666666666665, 2.9166664752964215))"
                        ]
                    },
                    "execution_count": 17,
                    "metadata": {},
                    "output_type": "execute_result"
                }
            ],
            "source": [
                "ky_=3*E*Iy/L**3\n",
                "kz_=3*E*Iz/L**3\n",
                "(ky_, ky), (kz_, kz)"
            ]
        },
        {
            "cell_type": "markdown",
            "metadata": {},
            "source": [
                "### FEM - 20 Nodes"
            ]
        },
        {
            "cell_type": "code",
            "execution_count": 18,
            "metadata": {},
            "outputs": [],
            "source": [
                "# mass and density\n",
                "nN = coords.shape[0]\n",
                "min_mass = m_tot / (100 * nN)\n",
                "nodal_masses = np.full((coords.shape[0],), m_tot/nN)\n",
                "densities = np.full((topo.shape[0],), min_mass)\n",
                "\n",
                "# pointdata\n",
                "pd = PointData(coords=coords, frame=GlobalFrame,\n",
                "               loads=loads, fixity=fixity, mass=nodal_masses)\n",
                "\n",
                "# celldata\n",
                "frames = frames_of_lines(coords, topo)\n",
                "cd = Beam(topo=topo, frames=frames, density=densities)\n",
                "\n",
                "# set up mesh and structure\n",
                "mesh = LineMesh(pd, cd, model=Hooke, frame=GlobalFrame)\n",
                "structure = Structure(mesh=mesh)\n",
                "structure.linsolve()\n",
                "\n",
                "# postproc\n",
                "dofsol = structure.nodal_dof_solution(store='dofsol')"
            ]
        },
        {
            "cell_type": "code",
            "execution_count": 19,
            "metadata": {},
            "outputs": [
                {
                    "name": "stdout",
                    "output_type": "stream",
                    "text": [
                        "[ 0.          0.         56.00628429] 0.35056119653032214\n",
                        "[ 0.         56.00629411  0.        ] 1.0516832172774053\n",
                        "[ 0.          0.         17.19122614] 2.197986223009937\n",
                        "[0.         0.         5.90519796] 6.154844156489208\n",
                        "[ 0.         17.19122899  0.        ] 6.5939563468316615\n",
                        "[0.         0.         3.01440765] 12.057293499899133\n",
                        "[73.96910606  0.          0.        ] 16.64566732547229\n",
                        "[0.         5.90519878 0.        ] 18.464525995370547\n",
                        "[0.         0.         1.81991425] 19.917043385856623\n",
                        "[0.         0.         1.21508086] 29.716906672007102\n"
                    ]
                }
            ],
            "source": [
                "structure.consistent_mass_matrix()\n",
                "freks, modes = structure.natural_circular_frequencies(normalize=True, as_dense=True, \n",
                "                                                      return_vectors=True)\n",
                "M = structure.Solver.M\n",
                "u = structure.Solver.u\n",
                "f = structure.Solver.f\n",
                "f = f.reshape(u.shape)\n",
                "\n",
                "nN, nD, nR = dofsol.shape\n",
                "\n",
                "action_x = np.zeros((nN, nD))\n",
                "action_x[:, 0] = 1.0\n",
                "action_x = action_x.reshape(nN * nD)\n",
                "action_y = np.zeros((nN, nD))\n",
                "action_y[:, 1] = 1.0\n",
                "action_y = action_y.reshape(nN * nD)\n",
                "action_z = np.zeros((nN, nD))\n",
                "action_z[:, 2] = 1.0\n",
                "action_z = action_z.reshape(nN * nD)\n",
                "actions = np.stack([action_x, action_y, action_z], axis=1)\n",
                "\n",
                "m_eff = effective_modal_masses(M, actions, modes)\n",
                "mtot = np.sum(m_eff[:, 0]), np.sum(m_eff[:, 1]), np.sum(m_eff[:, 2])\n",
                "L * dpa, mtot\n",
                "\n",
                "m_eff[np.where(m_eff <= 1e-5)] = 0.\n",
                "for i in range(10):\n",
                "    print(m_eff[i], freks[i])"
            ]
        },
        {
            "cell_type": "code",
            "execution_count": 20,
            "metadata": {},
            "outputs": [
                {
                    "data": {
                        "text/plain": [
                            "(array([18.15256447,  1.06431997,  0.35477344]), 0.3547734449222791)"
                        ]
                    },
                    "execution_count": 20,
                    "metadata": {},
                    "output_type": "execute_result"
                }
            ],
            "source": [
                "f_Rayleigh = estimate_smallest_natural_circular_frequency(M, u=u, f=f)\n",
                "f_Rayleigh, min(f_Rayleigh)"
            ]
        }
    ],
    "metadata": {
        "kernelspec": {
            "display_name": "Python 3.8.10 ('.sigeps': venv)",
            "language": "python",
            "name": "python3"
        },
        "language_info": {
            "codemirror_mode": {
                "name": "ipython",
                "version": 3
            },
            "file_extension": ".py",
            "mimetype": "text/x-python",
            "name": "python",
            "nbconvert_exporter": "python",
            "pygments_lexer": "ipython3",
            "version": "3.8.10"
        },
        "orig_nbformat": 4,
        "vscode": {
            "interpreter": {
                "hash": "28d81e0e1442962330764574f1956d80898814d1923baa1210fb6369a4e79b2a"
            }
        }
    },
    "nbformat": 4,
    "nbformat_minor": 2
}
