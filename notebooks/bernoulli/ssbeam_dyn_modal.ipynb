{
 "cells": [
  {
   "cell_type": "markdown",
   "metadata": {},
   "source": [
    "# Natural Vibration of a Simply Supported Beam"
   ]
  },
  {
   "cell_type": "code",
   "execution_count": 1,
   "metadata": {},
   "outputs": [],
   "source": [
    "import texttable\n",
    "import numpy as np\n",
    "\n",
    "\n",
    "def print_modal_table(m_eff, freq, tol=10):\n",
    "    tableObj = texttable.Texttable()\n",
    "    rows = [[\"\", \"mx\", \"my\", \"mz\", \"freq\"]]\n",
    "    for i in range(freq.shape[0]):\n",
    "        if np.max(m_eff[i]) > tol:\n",
    "            rows.append([i + 1, m_eff[i, 0], m_eff[i, 1], m_eff[i, 2], freq[i]])\n",
    "    tableObj.add_rows(rows)\n",
    "    print(tableObj.draw())"
   ]
  },
  {
   "cell_type": "code",
   "execution_count": 2,
   "metadata": {},
   "outputs": [],
   "source": [
    "# all units in kN and cm\n",
    "L = 150.0  # length of the console [cm]\n",
    "F = 1.0  # value of the vertical load at the free end [kN]\n",
    "E = 21000.0  # Young's modulus [kN/cm3]\n",
    "nu = 0.3  # Poisson's ratio [-]\n",
    "w, h = 5.0, 15.0  # width and height of the rectangular cross section\n",
    "g = 9.81  # gravitational acceleration [m/s2]\n",
    "density = 7750.0 * 1e-6  # mass density [g/cm3]\n",
    "nElem = 20  # number of subdivisons to use"
   ]
  },
  {
   "cell_type": "code",
   "execution_count": 3,
   "metadata": {},
   "outputs": [],
   "source": [
    "A = w * h  # area\n",
    "Iy = w * h**3 / 12  # second moment of inertia around the y axis\n",
    "Iz = h * w**3 / 12  # second moment of inertia around the z axis\n",
    "Ix = Iy + Iz  # torsional inertia\n",
    "weight = density * 1e-3 * g  # [kN/cm3]\n",
    "dpa = density * A  # density per area [g/cm]\n",
    "wpa = weight * A  # weight per area [kN/cm]\n",
    "mass = L * dpa  # total mass"
   ]
  },
  {
   "attachments": {},
   "cell_type": "markdown",
   "metadata": {},
   "source": [
    "## Vinbration Analysis"
   ]
  },
  {
   "cell_type": "code",
   "execution_count": 4,
   "metadata": {},
   "outputs": [],
   "source": [
    "from sigmaepsilon.fem import Structure, LineMesh, PointData, NodalSupport\n",
    "from neumann.linalg import linspace, Vector\n",
    "from neumann import repeat\n",
    "from polymesh.space import StandardFrame, PointCloud\n",
    "from sigmaepsilon.fem.cells import B2 as Beam\n",
    "import numpy as np\n",
    "\n",
    "# model stiffness matrix\n",
    "G = E / (2 * (1 + nu))\n",
    "Hooke = np.array(\n",
    "    [[E * A, 0, 0, 0], [0, G * Ix, 0, 0], [0, 0, E * Iy, 0], [0, 0, 0, E * Iz]]\n",
    ")\n",
    "\n",
    "# space\n",
    "GlobalFrame = StandardFrame(dim=3)\n",
    "\n",
    "# mesh\n",
    "p0 = np.array([0.0, 0.0, 0.0])\n",
    "p1 = np.array([L, 0.0, 0.0])\n",
    "coords = linspace(p0, p1, nElem + 1)\n",
    "coords = PointCloud(coords, frame=GlobalFrame).show()\n",
    "topo = np.zeros((nElem, 2), dtype=int)\n",
    "topo[:, 0] = np.arange(nElem)\n",
    "topo[:, 1] = np.arange(nElem) + 1\n",
    "\n",
    "# load at the rightmost node in Y and Z directions\n",
    "nodal_loads = np.zeros((coords.shape[0], 6, 3))\n",
    "global_load_vector = Vector([F, 0, 0.0], frame=GlobalFrame).show()\n",
    "nodal_loads[-1, :3, 0] = global_load_vector\n",
    "global_load_vector = Vector([0.0, F, 0.0], frame=GlobalFrame).show()\n",
    "nodal_loads[-1, :3, 1] = global_load_vector\n",
    "global_load_vector = Vector([0.0, 0, F], frame=GlobalFrame).show()\n",
    "nodal_loads[-1, :3, 2] = global_load_vector\n",
    "\n",
    "# support at the leftmost node (all degrees)\n",
    "fixity = np.zeros((coords.shape[0], 6)).astype(bool)\n",
    "fixity[0, :] = True\n",
    "fixity = fixity.astype(float) * 1e12\n",
    "# support at the rightmost node\n",
    "support = NodalSupport(x=[L, 0, 0], UX=0.0, UY=0.0, UZ=0.0, UXX=0.0, UYY=0.0, UZZ=0.0)\n",
    "\n",
    "# mass and density\n",
    "nodal_masses = np.zeros((coords.shape[0],))\n",
    "densities = np.full((topo.shape[0],), dpa)\n",
    "\n",
    "# pointdata\n",
    "pd = PointData(coords=coords, loads=nodal_loads, fixity=fixity, mass=nodal_masses)\n",
    "\n",
    "# cell fixity / end releases\n",
    "cell_fixity = np.full((topo.shape[0], topo.shape[1], 6), True)\n",
    "cell_fixity[int(nElem / 2 - 1), -1, 4] = False\n",
    "\n",
    "# celldata\n",
    "frames = repeat(GlobalFrame.show(), topo.shape[0])\n",
    "cd = Beam(\n",
    "    topo=topo, frames=frames, density=densities, fixity=cell_fixity, material=Hooke\n",
    ")\n",
    "\n",
    "# set up mesh and structure\n",
    "mesh = LineMesh(pd, cd, frame=GlobalFrame)\n",
    "structure = Structure(mesh=mesh)\n",
    "structure.constraints.append(support)\n",
    "\n",
    "# perform vinration analysis\n",
    "structure.free_vibration_analysis(normalize=True, as_dense=True)\n",
    "freqs, modes = structure.natural_circular_frequencies(return_vectors=True)"
   ]
  },
  {
   "cell_type": "markdown",
   "metadata": {},
   "source": [
    "## Effective Modal Masses"
   ]
  },
  {
   "cell_type": "code",
   "execution_count": 5,
   "metadata": {},
   "outputs": [
    {
     "name": "stdout",
     "output_type": "stream",
     "text": [
      "+----+--------+--------+--------+--------+\n",
      "|    |   mx   |   my   |   mz   |  freq  |\n",
      "+====+========+========+========+========+\n",
      "| 13 | 0.000  | 60.154 | 0.000  | 2.362  |\n",
      "+----+--------+--------+--------+--------+\n",
      "| 14 | 0.000  | 0.000  | 51.652 | 4.705  |\n",
      "+----+--------+--------+--------+--------+\n",
      "| 16 | 0.000  | 11.506 | 0.000  | 12.740 |\n",
      "+----+--------+--------+--------+--------+\n",
      "| 19 | 0.000  | 0.000  | 15.923 | 29.089 |\n",
      "+----+--------+--------+--------+--------+\n",
      "| 21 | 70.671 | 0.000  | 0.000  | 34.511 |\n",
      "+----+--------+--------+--------+--------+\n"
     ]
    }
   ],
   "source": [
    "from sigmaepsilon.fem.dyn import effective_modal_masses\n",
    "\n",
    "nN, nD = len(coords), 6\n",
    "\n",
    "action_x = np.zeros((nN, nD))\n",
    "action_x[:, 0] = 1.0\n",
    "action_x = action_x.reshape(nN * nD)\n",
    "action_y = np.zeros((nN, nD))\n",
    "action_y[:, 1] = 1.0\n",
    "action_y = action_y.reshape(nN * nD)\n",
    "action_z = np.zeros((nN, nD))\n",
    "action_z[:, 2] = 1.0\n",
    "action_z = action_z.reshape(nN * nD)\n",
    "actions = np.stack([action_x, action_y, action_z], axis=1)\n",
    "\n",
    "M = structure.mass_matrix(penalize=False)\n",
    "m_eff = effective_modal_masses(M, actions, modes)\n",
    "\n",
    "print_modal_table(m_eff, freqs, 10)"
   ]
  },
  {
   "cell_type": "markdown",
   "metadata": {},
   "source": [
    "## Plotting with Matplotlib"
   ]
  },
  {
   "cell_type": "code",
   "execution_count": 6,
   "metadata": {},
   "outputs": [],
   "source": [
    "%matplotlib qt\n",
    "import matplotlib.pyplot as plt\n",
    "import matplotlib.animation as animation\n",
    "from latexdocs.utils import floatformatter\n",
    "\n",
    "f2s = floatformatter(sig=4)\n",
    "\n",
    "fps = 120\n",
    "i = 18\n",
    "\n",
    "omega = freqs[i]\n",
    "T = 2 * np.pi / omega\n",
    "u = mesh.pd.vshapes[:, :, i] * 0.1\n",
    "x = mesh.pd.x[:, 0]\n",
    "dt = T / fps\n",
    "f = 1 / T\n",
    "\n",
    "fig, ax = plt.subplots()\n",
    "title = \"f : {f} [1/s]    T : {T} [s]\".format(f=f2s.format(f), T=f2s.format(T))\n",
    "ax.set_title(title)\n",
    "(line,) = ax.plot(x, u[:, 2] * np.sin(omega * 0))\n",
    "\n",
    "\n",
    "def init():\n",
    "    line.set_ydata(u[:, 2] * np.sin(omega * 0))\n",
    "    return (line,)\n",
    "\n",
    "\n",
    "def animate(i):\n",
    "    t = i * dt\n",
    "    line.set_ydata(u[:, 2] * np.sin(omega * t))  # update the data\n",
    "    return (line,)\n",
    "\n",
    "\n",
    "ani = animation.FuncAnimation(\n",
    "    fig, animate, fps, init_func=init, interval=1000 * dt, blit=True\n",
    ")\n",
    "\n",
    "plt.show()"
   ]
  }
 ],
 "metadata": {
  "kernelspec": {
   "display_name": ".sigeps",
   "language": "python",
   "name": "python3"
  },
  "language_info": {
   "codemirror_mode": {
    "name": "ipython",
    "version": 3
   },
   "file_extension": ".py",
   "mimetype": "text/x-python",
   "name": "python",
   "nbconvert_exporter": "python",
   "pygments_lexer": "ipython3",
   "version": "3.8.10"
  },
  "orig_nbformat": 4,
  "vscode": {
   "interpreter": {
    "hash": "28d81e0e1442962330764574f1956d80898814d1923baa1210fb6369a4e79b2a"
   }
  }
 },
 "nbformat": 4,
 "nbformat_minor": 2
}
