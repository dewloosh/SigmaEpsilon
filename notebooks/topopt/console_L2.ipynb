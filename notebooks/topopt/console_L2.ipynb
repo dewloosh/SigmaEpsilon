{
    "cells": [
        {
            "attachments": {},
            "cell_type": "markdown",
            "metadata": {},
            "source": [
                "# Example with a complex mesh in 3d"
            ]
        },
        {
            "cell_type": "code",
            "execution_count": 147,
            "metadata": {},
            "outputs": [],
            "source": [
                "# input data\n",
                "size = Lx, Ly, Lz = (20, 0.5, 2)\n",
                "F = -10  # value of the load at the free end\n",
                "E = 12000.  # Young's mpdulus\n",
                "nu = 0.2  # Poisson's ratio\n",
                "R = 0.3  # radius of the circular beam CS\n",
                "\n",
                "# oc parameters\n",
                "volume_fraction = 0.4\n",
                "ftol = 0.9\n",
                "nIter = 200\n",
                "\n",
                "# grid parameters\n",
                "knn = True\n",
                "resulution = (60, 2, 8)  # resolution of the result in all 3 directions\n",
                "k = 18"
            ]
        },
        {
            "cell_type": "code",
            "execution_count": 148,
            "metadata": {},
            "outputs": [],
            "source": [
                "import numpy as np\n",
                "\n",
                "# material for beams\n",
                "G = E / (2 * (1 + nu))\n",
                "A = np.pi * R**2\n",
                "Iy = Iz = 0.25 * np.pi * R**4\n",
                "Ix = 0.5 * np.pi * R**4\n",
                "HookeB2 = np.array([\n",
                "    [E*A, 0, 0, 0],\n",
                "    [0, G*Ix, 0, 0],\n",
                "    [0, 0, E*Iy, 0],\n",
                "    [0, 0, 0, E*Iz]\n",
                "])"
            ]
        },
        {
            "cell_type": "code",
            "execution_count": 149,
            "metadata": {},
            "outputs": [],
            "source": [
                "from polymesh.grid import gridH8 as grid, knngridL2\n",
                "from polymesh.utils.topology import H8_to_L2\n",
                "\n",
                "gridparams = {\n",
                "    'size': size,\n",
                "    'shape': resulution,\n",
                "    'origo': (0, 0, 0),\n",
                "    'start': 0\n",
                "}\n",
                "if knn:\n",
                "    X, _ = grid(**gridparams)\n",
                "    coords, topoB2 = knngridL2(X=X, k=k)\n",
                "else:\n",
                "    coords, topo = grid(**gridparams)\n",
                "    _, topoB2 = H8_to_L2(coords, topo)"
            ]
        },
        {
            "cell_type": "code",
            "execution_count": 150,
            "metadata": {},
            "outputs": [],
            "source": [
                "from neumann import repeat, minmax\n",
                "from polymesh.space import PointCloud, StandardFrame\n",
                "from polymesh.utils import cell_centers_bulk\n",
                "from polymesh.utils.space import frames_of_lines, frames_of_surfaces\n",
                "from sigmaepsilon import Structure, PointData, FemMesh\n",
                "from sigmaepsilon.fem.cells import H8, B2, Q4_S_MR as Q4\n",
                "\n",
                "\n",
                "# place the origo to the center of the cross section\n",
                "# at the support\n",
                "pc = PointCloud(coords)\n",
                "pc.centralize()\n",
                "dx = pc.bounds()[0, 0]\n",
                "pc.move(np.array([-dx, 0., 0.]))\n",
                "coords = pc.show()\n",
                "\n",
                "# fix points at x==0\n",
                "cond = coords[:, 0] <= 0.001\n",
                "ebcinds = np.where(cond)[0]\n",
                "fixity = np.zeros((coords.shape[0], 6), dtype=bool)\n",
                "fixity[ebcinds, :] = True\n",
                "\n",
                "# unit vertical load at (Lx, 0, 0)\n",
                "iF = pc.index_of_closest([Lx, 0., 0.])\n",
                "loads = np.zeros((coords.shape[0], 6))\n",
                "loads[iF, 2] = F\n",
                "\n",
                "# pointdata\n",
                "GlobalFrame = StandardFrame(dim=3)\n",
                "pd = PointData(coords=coords, frame=GlobalFrame,\n",
                "               loads=loads, fixity=fixity)\n",
                "\n",
                "# celldata\n",
                "framesB2 = frames_of_lines(coords, topoB2)\n",
                "cdB2 = B2(topo=topoB2, frames=framesB2, material=HookeB2, areas=A)\n",
                "\n",
                "# set up mesh and structure\n",
                "mesh = FemMesh(pd, frame=GlobalFrame)\n",
                "mesh['B2'] = FemMesh(cdB2)\n",
                "structure = Structure(mesh=mesh)\n"
            ]
        },
        {
            "cell_type": "code",
            "execution_count": 151,
            "metadata": {},
            "outputs": [
                {
                    "data": {
                        "image/png": "[encoded data removed]",
                        "text/plain": [
                            "<PIL.Image.Image image mode=RGB size=600x400>"
                        ]
                    },
                    "metadata": {},
                    "output_type": "display_data"
                }
            ],
            "source": [
                "import pyvista as pv\n",
                "from pyvista import themes\n",
                "\n",
                "my_theme = themes.DarkTheme()\n",
                "my_theme.lighting = False\n",
                "my_theme.show_edges = True\n",
                "my_theme.axes.box = True\n",
                "\n",
                "mesh['B2'].config['pyvista', 'plot', 'color'] = 'red'\n",
                "mesh['B2'].config['pyvista', 'plot', 'line_width'] = 1.5\n",
                "mesh['B2'].config['pyvista', 'plot', 'render_lines_as_tubes'] = True\n",
                "\n",
                "mesh.pvplot(notebook=True, jupyter_backend='static', theme=my_theme,\n",
                "            window_size=(600, 400), config_key=('pyvista', 'plot'))\n"
            ]
        },
        {
            "cell_type": "code",
            "execution_count": 152,
            "metadata": {},
            "outputs": [],
            "source": [
                "# solve\n",
                "structure.linear_static_analysis()\n",
                "dofsol = structure.nodal_dof_solution()\n",
                "structure.mesh.pd['x'] = coords + dofsol[:, :3]\n"
            ]
        },
        {
            "cell_type": "code",
            "execution_count": 153,
            "metadata": {},
            "outputs": [
                {
                    "data": {
                        "image/png": "[encoded data removed]",
                        "text/plain": [
                            "<PIL.Image.Image image mode=RGB size=600x400>"
                        ]
                    },
                    "metadata": {},
                    "output_type": "display_data"
                }
            ],
            "source": [
                "# plot\n",
                "mesh.pvplot(notebook=True, window_size=(600, 400), cmap='plasma',\n",
                "            config_key=('pyvista', 'plot'),\n",
                "            theme=my_theme, jupyter_backend='static', scalars=dofsol[:, 2])\n"
            ]
        },
        {
            "attachments": {},
            "cell_type": "markdown",
            "metadata": {},
            "source": [
                "## Optimization"
            ]
        },
        {
            "cell_type": "code",
            "execution_count": 154,
            "metadata": {},
            "outputs": [],
            "source": [
                "from sigmaepsilon.topopt.oc import maximize_stiffness\n",
                "from linkeddeepdict import LinkedDeepDict\n",
                "from tqdm import tqdm\n",
                "\n",
                "history = LinkedDeepDict(dict(vol=[], obj=[], pen=[], x=[]))"
            ]
        },
        {
            "cell_type": "code",
            "execution_count": 155,
            "metadata": {},
            "outputs": [],
            "source": [
                "# iteration parameters\n",
                "OC_params = {\n",
                "    'p_start': 1.0,  # SIMP penalty factor\n",
                "    'p_inc': 0.0,\n",
                "    'q': 0.5,  # smoothing factor\n",
                "    'vfrac': volume_fraction,\n",
                "    'dtol': 0.3,  # to control maximum change in the variables\n",
                "    'miniter': 30,\n",
                "    'maxiter': 1e12\n",
                "}\n",
                "optimizer = maximize_stiffness(structure, **OC_params)\n",
                "r = next(optimizer)\n",
                "history['obj'].append(r.obj)\n",
                "history['vol'].append(r.vol)\n",
                "history['pen'].append(r.pen)"
            ]
        },
        {
            "cell_type": "code",
            "execution_count": 156,
            "metadata": {},
            "outputs": [
                {
                    "name": "stderr",
                    "output_type": "stream",
                    "text": [
                        "100%|██████████| 10/10 [00:03<00:00,  2.99it/s]\n"
                    ]
                }
            ],
            "source": [
                "for _ in tqdm(range(10)):\n",
                "    r = next(optimizer)\n",
                "    history['obj'].append(r.obj)\n",
                "    history['vol'].append(r.vol)\n",
                "    history['pen'].append(r.pen)"
            ]
        },
        {
            "cell_type": "code",
            "execution_count": 157,
            "metadata": {},
            "outputs": [
                {
                    "name": "stderr",
                    "output_type": "stream",
                    "text": [
                        "100%|██████████| 200/200 [01:10<00:00,  2.83it/s]\n"
                    ]
                }
            ],
            "source": [
                "# iteration parameters\n",
                "OC_params = {\n",
                "    'p_start': 1.0,  # SIMP penalty factor\n",
                "    'p_stop': 3.0,\n",
                "    'p_inc': 0.2,\n",
                "    'p_step': 5,\n",
                "    'q': 0.5,  # smoothing factor\n",
                "    'vfrac': volume_fraction,\n",
                "    'dtol': 0.1,  # to control maximum change in the variables\n",
                "    'miniter': 30,\n",
                "    'maxiter': 1e12,\n",
                "}\n",
                "OC_params['neighbours'] = structure.mesh.k_nearest_cell_neighbours(1)\n",
                "optimizer = maximize_stiffness(structure, guess=r.x, i_start=r.n + 1, **OC_params)\n",
                "for _ in tqdm(range(nIter)):\n",
                "    r = next(optimizer)\n",
                "    history['obj'].append(r.obj)\n",
                "    history['vol'].append(r.vol)\n",
                "    history['pen'].append(r.pen)"
            ]
        },
        {
            "attachments": {},
            "cell_type": "markdown",
            "metadata": {},
            "source": [
                "## Postprocessing"
            ]
        },
        {
            "cell_type": "code",
            "execution_count": 158,
            "metadata": {},
            "outputs": [],
            "source": [
                "from polymesh.utils.topology import detach\n",
                "\n",
                "i = np.where(r.x >= ftol)[0]\n",
                "coords = mesh.coords()\n",
                "topoB2 = mesh.topology()\n",
                "coords, topoB2 = detach(coords, topoB2[i])"
            ]
        },
        {
            "cell_type": "code",
            "execution_count": 159,
            "metadata": {},
            "outputs": [],
            "source": [
                "from polymesh.utils.space import index_of_closest_point\n",
                "\n",
                "pc = PointCloud(coords)\n",
                "pc.centralize()\n",
                "dx = pc.bounds()[0, 0]\n",
                "pc.move(np.array([-dx, 0., 0.]))\n",
                "coords = pc.show()\n",
                "\n",
                "# fix points at x==0\n",
                "cond = coords[:, 0] <= 0.001\n",
                "ebcinds = np.where(cond)[0]\n",
                "fixity = np.zeros((coords.shape[0], 6), dtype=bool)\n",
                "fixity[ebcinds, :] = True\n",
                "\n",
                "# unit vertical load at (Lx, 0, 0)\n",
                "iF = pc.index_of_closest([Lx, 0., 0.])\n",
                "loads = np.zeros((coords.shape[0], 6))\n",
                "loads[iF, 2] = F\n",
                "\n",
                "# pointdata\n",
                "GlobalFrame = StandardFrame(dim=3)\n",
                "pd = PointData(coords=coords, frame=GlobalFrame,\n",
                "               loads=loads, fixity=fixity)\n",
                "\n",
                "# celldata\n",
                "framesB2 = frames_of_lines(coords, topoB2)\n",
                "cdB2 = B2(topo=topoB2, frames=framesB2, material=HookeB2, areas=A)\n",
                "\n",
                "# set up mesh and structure\n",
                "mesh = FemMesh(pd, frame=GlobalFrame)\n",
                "mesh['B2'] = FemMesh(cdB2)\n",
                "structure = Structure(mesh=mesh)\n",
                "\n",
                "structure.linear_static_analysis()\n",
                "dofsol = structure.nodal_dof_solution()"
            ]
        },
        {
            "cell_type": "code",
            "execution_count": null,
            "metadata": {},
            "outputs": [],
            "source": [
                "# plot\n",
                "structure.mesh.pd['x'] = coords + dofsol[:, :3]\n",
                "mesh.pvplot(notebook=False, window_size=(600, 400), cmap='plasma',\n",
                "            config_key=('pyvista', 'plot'),\n",
                "            theme=my_theme, scalars=dofsol[:, 2])\n"
            ]
        }
    ],
    "metadata": {
        "kernelspec": {
            "display_name": ".sigeps",
            "language": "python",
            "name": "python3"
        },
        "language_info": {
            "codemirror_mode": {
                "name": "ipython",
                "version": 3
            },
            "file_extension": ".py",
            "mimetype": "text/x-python",
            "name": "python",
            "nbconvert_exporter": "python",
            "pygments_lexer": "ipython3",
            "version": "3.8.10"
        },
        "orig_nbformat": 4,
        "vscode": {
            "interpreter": {
                "hash": "28d81e0e1442962330764574f1956d80898814d1923baa1210fb6369a4e79b2a"
            }
        }
    },
    "nbformat": 4,
    "nbformat_minor": 2
}
