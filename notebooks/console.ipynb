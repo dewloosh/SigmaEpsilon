{
 "cells": [
  {
   "cell_type": "markdown",
   "metadata": {},
   "source": [
    "# Verification Example 1 - Console"
   ]
  },
  {
   "cell_type": "code",
   "execution_count": 20,
   "metadata": {},
   "outputs": [],
   "source": [
    "# units in kN, cm and second\n",
    "\n",
    "Lx, Ly, Lz = 100., 15., 10.  # size of the grid\n",
    "nx, ny, nz = 4, 2, 2  # desity of the grid\n",
    "\n",
    "d = 1.2  # outer diameter of the tube\n",
    "t = 0.4  # thickness of the tube\n",
    "\n",
    "Ex = 21000.0\n",
    "nu = 0.25\n",
    "fy = 35.0\n",
    "wpuv = 78.5e-6  # kN / cm3, 7850 kg / m3\n",
    "\n",
    "Fx, Fy, Fz = 1.0, 1.0, 1.0\n",
    "qx, qy, qz = 1.0, 1.0, 1.0\n"
   ]
  },
  {
   "cell_type": "code",
   "execution_count": 21,
   "metadata": {},
   "outputs": [
    {
     "data": {
      "text/plain": [
       "MyDocument({})"
      ]
     },
     "execution_count": 21,
     "metadata": {},
     "output_type": "execute_result"
    }
   ],
   "source": [
    "from linkeddeepdict import LinkedDeepDict\n",
    "from sigmaepsilon.solid.fourier.latex import expr_to_ltx, expr_to_ltx_breqn\n",
    "from sigmaepsilon.solid.fourier.symtools import inv_sym_3x3\n",
    "from neumann.array import atleastnd\n",
    "from time import time\n",
    "\n",
    "import sympy as sy\n",
    "from sympy import symbols, Function, diff, Matrix, MatMul, \\\n",
    "    integrate, Symbol, sin, cos, pi, simplify\n",
    "from copy import copy\n",
    "import matplotlib.pyplot as plt\n",
    "\n",
    "summary = LinkedDeepDict()"
   ]
  },
  {
   "cell_type": "code",
   "execution_count": 22,
   "metadata": {},
   "outputs": [],
   "source": [
    "from polymesh.space import StandardFrame, PointCloud\n",
    "from polymesh.grid import gridH8 as grid\n",
    "from polymesh.topo.tr import H8_to_L2\n",
    "import numpy as np\n",
    "\n",
    "gridparams = {\n",
    "    'size': (Lx, Ly, Lz),\n",
    "    'shape': (nx, ny, nz),\n",
    "    'origo': (0, 0, 0),\n",
    "    'start': 0\n",
    "}\n",
    "\n",
    "coords, topo = grid(**gridparams)\n",
    "coords, topo = H8_to_L2(coords, topo)\n",
    "\n",
    "GlobalFrame = StandardFrame(dim=3)\n",
    "\n",
    "points = PointCloud(coords, frame=GlobalFrame).centralize()\n",
    "dx = - np.array([points[:, 0].min(), 0., 0.])\n",
    "points.move(dx)\n",
    "coords = points.show()\n"
   ]
  },
  {
   "cell_type": "code",
   "execution_count": 23,
   "metadata": {},
   "outputs": [
    {
     "data": {
      "image/png": "[encoded data removed]",
      "text/plain": [
       "<Figure size 700x200 with 1 Axes>"
      ]
     },
     "metadata": {},
     "output_type": "display_data"
    }
   ],
   "source": [
    "from sigmaepsilon.solid import BeamSection\n",
    "from linkeddeepdict.tools import getallfromkwargs\n",
    "from polymesh.tri.trimesh import triangulate\n",
    "from polymesh.topo.tr import T6_to_T3\n",
    "import matplotlib.pyplot as plt\n",
    "from dewloosh.mpl import triplot\n",
    "\n",
    "section = BeamSection('CHS', d=d, t=t, n=16)\n",
    "section.calculate_section_properties()\n",
    "section_props = section.section_properties\n",
    "A, Ix, Iy, Iz = getallfromkwargs(['A', 'Ix', 'Iy', 'Iz'], **section_props)\n",
    "\n",
    "G = Ex / (2 * (1 + nu))\n",
    "Hooke = np.array([\n",
    "    [Ex*A, 0, 0, 0],\n",
    "    [0, G*Ix, 0, 0],\n",
    "    [0, 0, Ex*Iy, 0],\n",
    "    [0, 0, 0, Ex*Iz]\n",
    "])\n",
    "\n",
    "scoords, stopo = section.coords(), section.topology()\n",
    "path = np.array([[0, 5, 4], [5, 1, 3], [3, 2, 4], [5, 3, 4]], dtype=int)\n",
    "scoords, stopo = T6_to_T3(scoords, stopo, path=path)\n",
    "triobj = triangulate(points=scoords, triangles=stopo)[-1]\n",
    "fig, ax = plt.subplots(figsize=(7, 2))\n",
    "triplot(triobj, fig=fig, ax=ax, lw=0.1)\n"
   ]
  },
  {
   "cell_type": "code",
   "execution_count": null,
   "metadata": {},
   "outputs": [],
   "source": [
    "from linkeddeepdict import LinkedDeepDict\n",
    "\n",
    "loads = LinkedDeepDict()\n",
    "\n",
    "# load case 1\n",
    "loads['LC1', 'description'] = 'concentrated force at the free end in X direction'\n",
    "loads['LC1', 'position'] = [Lx, 0, 0]\n",
    "loads['LC1', 'value'] = [Fx, 0, 0, 0, 0, 0]\n",
    "loads['LC1', 'result'] = Fx * Lx / (Ex * A)\n",
    "\n",
    "# load case 2\n",
    "loads['LC2', 'description'] = 'concentrated force at the free end in Y direction'\n",
    "loads['LC2', 'position'] = [Lx, 0, 0]\n",
    "loads['LC2', 'value'] = [0, Fy, 0, 0, 0, 0]\n",
    "loads['LC2', 'result'] = Fy * Lx**3 / (3 * Ex * Iy)\n",
    "\n",
    "# load case 3\n",
    "loads['LC3', 'description'] = 'concentrated force at the free end in Z direction'\n",
    "loads['LC3', 'position'] = [Lx, 0, 0]\n",
    "loads['LC3', 'value'] = [0, 0, Fz, 0, 0, 0]\n",
    "loads['LC3', 'result'] = Fz * Lx**3 / (3 * Ex * Iz)\n"
   ]
  },
  {
   "cell_type": "markdown",
   "metadata": {},
   "source": [
    "## Solution"
   ]
  },
  {
   "cell_type": "markdown",
   "metadata": {},
   "source": [
    "### Linear Solution"
   ]
  },
  {
   "cell_type": "code",
   "execution_count": 27,
   "metadata": {},
   "outputs": [],
   "source": [
    "from sigmaepsilon.solid import Structure, LineMesh, PointData\n",
    "from polymesh.space import StandardFrame, frames_of_lines\n",
    "from polymesh.space.utils import index_of_closest_point\n",
    "from sigmaepsilon.solid.fem.cells import B2 as Beam\n",
    "\n",
    "# space\n",
    "GlobalFrame = StandardFrame(dim=3)\n",
    "\n",
    "# essential boundary conditions\n",
    "ebcinds = np.where(coords[:, 0] < 1e-12)[0]\n",
    "fixity = np.zeros((coords.shape[0], 6)).astype(bool)\n",
    "fixity[ebcinds, :] = True\n",
    "\n",
    "# natural boundary conditions\n",
    "nLoadCase = len(loads)\n",
    "nodal_loads = np.zeros((coords.shape[0], 6, nLoadCase))\n",
    "for iLC, key in enumerate(loads):\n",
    "    x = loads[key]['position']\n",
    "    f = loads[key]['value']\n",
    "    iN = index_of_closest_point(coords, np.array(x))\n",
    "    loads[key]['node'] = iN\n",
    "    nodal_loads[iN, :, iLC] = f\n",
    "\n",
    "# pointdata\n",
    "pd = PointData(coords=coords, frame=GlobalFrame,\n",
    "               loads=nodal_loads, fixity=fixity)\n",
    "\n",
    "# celldata\n",
    "frames = frames_of_lines(coords, topo)\n",
    "areas = np.full(topo.shape[0], section.A)\n",
    "cd = Beam(topo=topo, frames=frames)\n",
    "\n",
    "# set up mesh and structure\n",
    "mesh = LineMesh(pd, cd, model=Hooke, frame=GlobalFrame)\n",
    "structure = Structure(mesh=mesh)\n",
    "\n",
    "structure.linsolve()"
   ]
  },
  {
   "cell_type": "markdown",
   "metadata": {},
   "source": [
    "### Postprocessing"
   ]
  },
  {
   "cell_type": "markdown",
   "metadata": {},
   "source": [
    "#### Nodal displacements and rotations"
   ]
  },
  {
   "cell_type": "code",
   "execution_count": 34,
   "metadata": {},
   "outputs": [],
   "source": [
    "dofsol = structure.nodal_dof_solution(store='dofsol')\n",
    "dofsol = atleastnd(dofsol, 3, back=True)"
   ]
  },
  {
   "cell_type": "markdown",
   "metadata": {},
   "source": [
    "#### Reaction forces and moments"
   ]
  },
  {
   "cell_type": "code",
   "execution_count": 36,
   "metadata": {},
   "outputs": [],
   "source": [
    "reactions = structure.reaction_forces(flatten=False)\n",
    "reactions = atleastnd(reactions, 3, back=True)\n",
    "reactions[np.where(np.abs(reactions) < 1e-8)] = 0.\n"
   ]
  },
  {
   "cell_type": "code",
   "execution_count": 37,
   "metadata": {},
   "outputs": [
    {
     "data": {
      "text/plain": [
       "(45, 6, 3)"
      ]
     },
     "execution_count": 37,
     "metadata": {},
     "output_type": "execute_result"
    }
   ],
   "source": [
    "reactions.shape"
   ]
  },
  {
   "cell_type": "markdown",
   "metadata": {},
   "source": [
    "#### Internal forces, stresses and utilization for all members"
   ]
  },
  {
   "cell_type": "code",
   "execution_count": 38,
   "metadata": {},
   "outputs": [],
   "source": [
    "from neumann.array import minmax\n",
    "from sigmaepsilon.solid.material.utils import HMH_3d_v\n",
    "\n",
    "evaluation_points = [-1., 0., 1.]\n",
    "\n",
    "# forces\n",
    "forces_all = structure.internal_forces(points=evaluation_points)\n",
    "forces_all = atleastnd(forces_all, 4, back=True)\n",
    "\n",
    "# stresses\n",
    "stresses_all = section.calculate_stresses(forces_all)\n",
    "\n",
    "# utilizations\n",
    "nE, nPx, nPyz, nS, nRHS = stresses_all.shape\n",
    "stresses_all = np.moveaxis(stresses_all, -1, -2)\n",
    "stresses_all = np.reshape(stresses_all, (nE * nPx * nPyz * nRHS, nS))\n",
    "utils_all = HMH_3d_v(*[stresses_all[:, i] for i in range(6)]) / fy\n",
    "utils_all = np.reshape(utils_all, (nE, nPx, nPyz, nRHS))\n",
    "stresses_all = np.reshape(stresses_all, (nE, nPx, nPyz, nRHS, nS))\n",
    "stresses_all = np.moveaxis(stresses_all, -1, -2)\n",
    "\n",
    "# set ranges\n",
    "ranges = [minmax(stresses_all[:, :, :, i, :]) for i in range(6)]\n",
    "ranges.append((0.0, utils_all.max()))\n",
    "ranges = np.array(ranges)"
   ]
  },
  {
   "cell_type": "code",
   "execution_count": 39,
   "metadata": {},
   "outputs": [
    {
     "data": {
      "text/plain": [
       "((96, 3, 6, 3), (96, 3, 224, 6, 3), (96, 3, 224, 3))"
      ]
     },
     "execution_count": 39,
     "metadata": {},
     "output_type": "execute_result"
    }
   ],
   "source": [
    "forces_all.shape, stresses_all.shape, utils_all.shape"
   ]
  },
  {
   "cell_type": "markdown",
   "metadata": {},
   "source": [
    "## Modal Analysis"
   ]
  },
  {
   "cell_type": "markdown",
   "metadata": {},
   "source": [
    "Calculate the mass matrix."
   ]
  },
  {
   "cell_type": "code",
   "execution_count": 52,
   "metadata": {},
   "outputs": [
    {
     "data": {
      "text/plain": [
       "<270x270 sparse matrix of type '<class 'numpy.float64'>'\n",
       "\twith 2658 stored elements in Compressed Sparse Row format>"
      ]
     },
     "execution_count": 52,
     "metadata": {},
     "output_type": "execute_result"
    }
   ],
   "source": [
    "nodal_masses = np.zeros((coords.shape[0],))\n",
    "densities = np.full((topo.shape[0],), wpuv)\n",
    "mesh.pointdata['mass'] = nodal_masses\n",
    "mesh.celldata['density'] = densities\n",
    "structure.consistent_mass_matrix()"
   ]
  },
  {
   "cell_type": "markdown",
   "metadata": {},
   "source": [
    "Estimate the smallest natural circular frequency."
   ]
  },
  {
   "cell_type": "code",
   "execution_count": 53,
   "metadata": {},
   "outputs": [
    {
     "data": {
      "text/plain": [
       "(array([7.94464363, 7.9867128 , 7.9867128 ]), 7.944643629149267)"
      ]
     },
     "execution_count": 53,
     "metadata": {},
     "output_type": "execute_result"
    }
   ],
   "source": [
    "from sigmaepsilon.solid.fem.dyn import estimate_smallest_natural_circular_frequency\n",
    "\n",
    "M = structure.Solver.M\n",
    "u = structure.Solver.u\n",
    "f = structure.Solver.f\n",
    "f_Rayleigh = estimate_smallest_natural_circular_frequency(M, u=u, f=f)\n",
    "f_Rayleigh, min(f_Rayleigh)"
   ]
  },
  {
   "cell_type": "code",
   "execution_count": 54,
   "metadata": {},
   "outputs": [],
   "source": [
    "content = r\"Estimation of the smallest natural circular \\\n",
    "    frequency using Rayleigh's formula : {}.\"\n",
    "content = content.format(f2s.format(min(f_Rayleigh)))\n",
    "doc['Results', 'Modes of Vibration'].append(NoEscape(content))"
   ]
  },
  {
   "cell_type": "markdown",
   "metadata": {},
   "source": [
    "Calculate all natural cyclic frequencies for modal analysis."
   ]
  },
  {
   "cell_type": "code",
   "execution_count": 55,
   "metadata": {},
   "outputs": [
    {
     "data": {
      "text/plain": [
       "array([ 7.49107634,  7.49554561, 11.34006546])"
      ]
     },
     "execution_count": 55,
     "metadata": {},
     "output_type": "execute_result"
    }
   ],
   "source": [
    "nodal_masses = np.zeros((coords.shape[0],)) + 1\n",
    "densities = np.zeros((topo.shape[0],)) + 1\n",
    "mesh.pointdata['mass'] = nodal_masses\n",
    "mesh.celldata['density'] = densities\n",
    "freks, modes = structure.natural_circular_frequencies(normalize=True, as_dense=True, \n",
    "                                                      return_vectors=True)\n",
    "freks[:3]"
   ]
  },
  {
   "cell_type": "code",
   "execution_count": 56,
   "metadata": {},
   "outputs": [
    {
     "data": {
      "text/plain": [
       "(270, 2)"
      ]
     },
     "execution_count": 56,
     "metadata": {},
     "output_type": "execute_result"
    }
   ],
   "source": [
    "from sigmaepsilon.solid.fem.dyn import effective_modal_masses\n",
    "\n",
    "nN, nD, nR = dofsol.shape\n",
    "\n",
    "action_y = np.zeros((nN, nD))\n",
    "action_y[:, 1] = 1.0\n",
    "action_y = action_y.reshape(nN * nD)\n",
    "action_z = np.zeros((nN, nD))\n",
    "action_z[:, 2] = 1.0\n",
    "action_z = action_z.reshape(nN * nD)\n",
    "actions = np.stack([action_y, action_z], axis=1)\n",
    "\n",
    "m_eff = effective_modal_masses(M, actions, modes)\n",
    "m_eff.shape"
   ]
  },
  {
   "cell_type": "code",
   "execution_count": 57,
   "metadata": {},
   "outputs": [
    {
     "data": {
      "text/plain": [
       "(0.09805267977438539, 0.10008750000000005, 0.10008750000000008)"
      ]
     },
     "execution_count": 57,
     "metadata": {},
     "output_type": "execute_result"
    }
   ],
   "source": [
    "np.sum(structure.mesh.cd.lengths()) * section.A * wpuv, np.sum(m_eff[:, 0]), np.sum(m_eff[:, 1])"
   ]
  },
  {
   "cell_type": "markdown",
   "metadata": {},
   "source": [
    "Calculate the first few modal shapes using the Rayleigh quotient."
   ]
  },
  {
   "cell_type": "code",
   "execution_count": 58,
   "metadata": {},
   "outputs": [
    {
     "data": {
      "text/plain": [
       "array([ 7.48698349,  7.49903431, 11.34020361])"
      ]
     },
     "execution_count": 58,
     "metadata": {},
     "output_type": "execute_result"
    }
   ],
   "source": [
    "around = min(f_Rayleigh)\n",
    "freks, modes = structure.natural_circular_frequencies(k=10, around=around, \n",
    "                                                      return_vectors=True, which='LM')\n",
    "freks[:3]"
   ]
  }
 ],
 "metadata": {
  "kernelspec": {
   "display_name": "Python 3.8.10 ('.sigeps': venv)",
   "language": "python",
   "name": "python3"
  },
  "language_info": {
   "codemirror_mode": {
    "name": "ipython",
    "version": 3
   },
   "file_extension": ".py",
   "mimetype": "text/x-python",
   "name": "python",
   "nbconvert_exporter": "python",
   "pygments_lexer": "ipython3",
   "version": "3.8.10"
  },
  "orig_nbformat": 4,
  "vscode": {
   "interpreter": {
    "hash": "28d81e0e1442962330764574f1956d80898814d1923baa1210fb6369a4e79b2a"
   }
  }
 },
 "nbformat": 4,
 "nbformat_minor": 2
}
