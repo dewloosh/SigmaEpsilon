{
 "cells": [
  {
   "cell_type": "markdown",
   "metadata": {},
   "source": [
    "# Basic Linear Analysis of 3d Bodies"
   ]
  },
  {
   "cell_type": "code",
   "execution_count": 3,
   "metadata": {},
   "outputs": [],
   "source": [
    "from polymesh.examples import stand_vtk\n",
    "pd = stand_vtk(read=True)"
   ]
  },
  {
   "cell_type": "code",
   "execution_count": 4,
   "metadata": {},
   "outputs": [
    {
     "data": {
      "text/plain": [
       "[(-55.0000300703703, 55.00000276009874),\n",
       " (-54.99977258849584, 54.99933390491028),\n",
       " (-9.999513163313555, 109.99947238490671)]"
      ]
     },
     "execution_count": 4,
     "metadata": {},
     "output_type": "execute_result"
    }
   ],
   "source": [
    "pd.bounds()"
   ]
  },
  {
   "cell_type": "code",
   "execution_count": 2,
   "metadata": {},
   "outputs": [],
   "source": [
    "import pyvista as pv\n",
    "import numpy as np\n",
    "\n",
    "from dewloosh.core.downloads import download_stand\n",
    "from polymesh import PolyData, CartesianFrame, PointData\n",
    "from polymesh.cells import TET4 as CellData\n",
    "from polymesh.tri.triutils import edges_tri\n",
    "from polymesh.topo import unique_topo_data, detach\n",
    "\n",
    "vtkpath = download_stand()\n",
    "pd = PolyData.read(vtkpath)\n",
    "coords = pd.coords() / 1000\n",
    "topo = pd.topology()[:, :4]\n",
    "coords, topo = detach(coords, topo)\n",
    "\n",
    "# pick up data from file or generate random data\n",
    "random_data = np.random.rand(coords.shape[0], 3) * 10\n",
    "\n",
    "# the ambient coordinate frame\n",
    "GlobalFrame = CartesianFrame(dim=3)\n",
    "\n",
    "# pointdata and celldata\n",
    "pd = PointData(coords=coords, frame=GlobalFrame)\n",
    "cd = CellData(topo=topo, frames=GlobalFrame)\n",
    "\n",
    "mesh = PolyData(pd, cd, frame=GlobalFrame)"
   ]
  },
  {
   "cell_type": "markdown",
   "metadata": {},
   "source": [
    "Plot the model, coloured with vertical displacements:"
   ]
  },
  {
   "cell_type": "code",
   "execution_count": 6,
   "metadata": {},
   "outputs": [],
   "source": [
    "mesh.plot(notebook=False, backend='pyvista')"
   ]
  },
  {
   "cell_type": "markdown",
   "metadata": {},
   "source": [
    "Save the results:"
   ]
  },
  {
   "cell_type": "code",
   "execution_count": 5,
   "metadata": {},
   "outputs": [
    {
     "data": {
      "text/plain": [
       "'{\\n    \"mesh\": {\\n        \"coordinates\": \"coords\",\\n        \"data\": {\\n            \"random\": \"random_data\"\\n        },\\n        \"layout\": {\\n            \"stand\": {\\n                \"topology\": \"topo\",\\n                \"class\": \"TET4\"\\n            }\\n        }\\n    }\\n}'"
      ]
     },
     "execution_count": 5,
     "metadata": {},
     "output_type": "execute_result"
    }
   ],
   "source": [
    "import json\n",
    "import numpy as np\n",
    "\n",
    "np.save('coords', coords)\n",
    "np.save('topo', topo)\n",
    "np.save('random_data', random_data)\n",
    "\n",
    "data = {   \n",
    "    'mesh' : {\n",
    "        'coordinates' : 'coords',\n",
    "        'data' : {'random' : 'random_data',},\n",
    "        'layout' : {\n",
    "            'stand' : {\n",
    "                'topology' : 'topo',\n",
    "                'class' : 'TET4',\n",
    "                }\n",
    "        }\n",
    "    },\n",
    "}\n",
    "\n",
    "json.dumps(data, indent=4)"
   ]
  },
  {
   "cell_type": "code",
   "execution_count": 4,
   "metadata": {},
   "outputs": [],
   "source": [
    "with open(\"stand.json\", \"w\") as outfile:\n",
    "    json.dump(data, outfile)"
   ]
  }
 ],
 "metadata": {
  "kernelspec": {
   "display_name": "Python 3.8.10 ('.polymesh': venv)",
   "language": "python",
   "name": "python3"
  },
  "language_info": {
   "codemirror_mode": {
    "name": "ipython",
    "version": 3
   },
   "file_extension": ".py",
   "mimetype": "text/x-python",
   "name": "python",
   "nbconvert_exporter": "python",
   "pygments_lexer": "ipython3",
   "version": "3.8.10"
  },
  "orig_nbformat": 4,
  "vscode": {
   "interpreter": {
    "hash": "196717f9976529e91b541b41c9e9f5d31e7d5aa72506e34109ccbbf8eac01645"
   }
  }
 },
 "nbformat": 4,
 "nbformat_minor": 2
}
