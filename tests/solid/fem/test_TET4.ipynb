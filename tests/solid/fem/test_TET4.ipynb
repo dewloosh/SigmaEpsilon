{
 "cells": [
  {
   "cell_type": "code",
   "execution_count": 52,
   "metadata": {},
   "outputs": [],
   "source": [
    "from dewloosh.solid.fem import FemMesh, TET4, Structure\n",
    "from dewloosh.math.linalg import normalize\n",
    "import pyvista as pv\n",
    "import numpy as np\n",
    "import tetgen"
   ]
  },
  {
   "cell_type": "code",
   "execution_count": 53,
   "metadata": {},
   "outputs": [],
   "source": [
    "# geometry [cm]\n",
    "d = 10.0\n",
    "h = 1.5\n",
    "a = 1.5\n",
    "b = 0.5\n",
    "\n",
    "# cylinder mesh resolution\n",
    "res = [10, 100, 30]\n",
    "\n",
    "# mass of the ball [kg]\n",
    "m = 10\n",
    "g = 9.81\n",
    "\n",
    "# material\n",
    "E = 1200\n",
    "nu = 0.2"
   ]
  },
  {
   "cell_type": "code",
   "execution_count": 54,
   "metadata": {},
   "outputs": [],
   "source": [
    "cyl = pv.CylinderStructured(center=(0.0, 0.0, h/2), direction=(0.0, 0.0, 1.0),\n",
    "                            radius=np.linspace(b/2, a/2, res[0]), height=h, \n",
    "                            theta_resolution=res[1], z_resolution=res[2])\n",
    "cyl_surf = cyl.extract_surface().triangulate()\n",
    "tet = tetgen.TetGen(cyl_surf)\n",
    "tet.tetrahedralize(order=1, mindihedral=10, minratio=1.1, quality=True)\n",
    "grid = tet.grid\n",
    "coords = np.array(grid.points).astype(float)\n",
    "topo = grid.cells_dict[10].astype(np.int32)"
   ]
  },
  {
   "cell_type": "code",
   "execution_count": 55,
   "metadata": {},
   "outputs": [],
   "source": [
    "# essential boundary conditions\n",
    "cond_ebc = np.abs(coords[:, 2]) <= 1e-12\n",
    "ebcinds = np.where(cond_ebc)[0]\n",
    "fixity = np.zeros((coords.shape[0], 3), dtype=bool)\n",
    "fixity[ebcinds, :] = True"
   ]
  },
  {
   "cell_type": "code",
   "execution_count": 56,
   "metadata": {},
   "outputs": [],
   "source": [
    "# Hooke model\n",
    "A = np.array([\n",
    "    [1, nu, nu, 0, 0, 0], \n",
    "    [nu, 1, nu, 0, 0, 0],\n",
    "    [nu, nu, 1, 0, 0, 0], \n",
    "    [0., 0, 0, (1-nu)/2, 0, 0],\n",
    "    [0., 0, 0, 0, (1-nu)/2, 0],\n",
    "    [0., 0, 0, 0, 0, (1-nu)/2]]) * (E /(1-nu**2))"
   ]
  },
  {
   "cell_type": "code",
   "execution_count": 57,
   "metadata": {},
   "outputs": [],
   "source": [
    "# natural boundary conditions\n",
    "cond_nbc_1 = coords[:, 2] >= (h - 1e-8)\n",
    "cond_nbc_2 = np.abs((coords[:, 0]**2 + coords[:, 1]**2)**(1/2) - b/2) <= 0.01\n",
    "cond_nbc = cond_nbc_1 & cond_nbc_2\n",
    "nbcinds = np.where(cond_nbc)[0]\n",
    "q = (m * g * d) / (len(nbcinds) * np.sqrt(d**2-b**2))\n",
    "c = np.array([0, 0, h + np.sqrt(d**2-b**2)/2])\n",
    "foo = lambda x : normalize(x - c) * q\n",
    "loads = np.zeros((coords.shape[0], 3))\n",
    "loads[nbcinds] = [foo(coords[nID]) for nID in nbcinds]"
   ]
  },
  {
   "cell_type": "code",
   "execution_count": 58,
   "metadata": {},
   "outputs": [],
   "source": [
    "mesh = FemMesh(coords=coords, topo=topo, celltype=TET4, \n",
    "               fixity=fixity, loads=loads, model=A)\n",
    "structure = Structure(mesh=mesh)"
   ]
  },
  {
   "cell_type": "code",
   "execution_count": 64,
   "metadata": {},
   "outputs": [],
   "source": [
    "structure.plot()"
   ]
  },
  {
   "cell_type": "code",
   "execution_count": 66,
   "metadata": {},
   "outputs": [
    {
     "data": {
      "text/plain": [
       "{'preproc': {'sparsify': False},\n",
       " 'proc': {'time [ms]': 40.96508026123047,\n",
       "  'N': 93681,\n",
       "  'use_umfpack': True,\n",
       "  'permc_spec': 'COLAMD',\n",
       "  'solver': 'pardiso'},\n",
       " 'postproc': {},\n",
       " 'number of elements': 143574,\n",
       " 'number of nodes': 31227,\n",
       " 'dofs per node': 3}"
      ]
     },
     "execution_count": 66,
     "metadata": {},
     "output_type": "execute_result"
    }
   ],
   "source": [
    "structure.linsolve()\n",
    "structure.summary"
   ]
  },
  {
   "cell_type": "code",
   "execution_count": 61,
   "metadata": {},
   "outputs": [
    {
     "data": {
      "text/plain": [
       "-0.5627807477044733"
      ]
     },
     "execution_count": 61,
     "metadata": {},
     "output_type": "execute_result"
    }
   ],
   "source": [
    "dofsol = structure.mesh.pointdata.dofsol.to_numpy()\n",
    "dofsol[:, 2].min()"
   ]
  },
  {
   "cell_type": "code",
   "execution_count": 62,
   "metadata": {},
   "outputs": [
    {
     "data": {
      "text/plain": [
       "(2.3546130172499566, 2.356194490192345)"
      ]
     },
     "execution_count": 62,
     "metadata": {},
     "output_type": "execute_result"
    }
   ],
   "source": [
    "structure.volume(), np.pi * (a**2 - b**2) * h / 4"
   ]
  },
  {
   "cell_type": "code",
   "execution_count": 63,
   "metadata": {},
   "outputs": [],
   "source": [
    "mb = structure.to_pv()"
   ]
  }
 ],
 "metadata": {
  "interpreter": {
   "hash": "8d15e2cb4dca8274af5fb092bbadab583a099b53b169f927cb892edc8b735b32"
  },
  "kernelspec": {
   "display_name": "Python 3.8.10 64-bit ('.dewloosh': venv)",
   "language": "python",
   "name": "python3"
  },
  "language_info": {
   "codemirror_mode": {
    "name": "ipython",
    "version": 3
   },
   "file_extension": ".py",
   "mimetype": "text/x-python",
   "name": "python",
   "nbconvert_exporter": "python",
   "pygments_lexer": "ipython3",
   "version": "3.8.10"
  },
  "orig_nbformat": 4
 },
 "nbformat": 4,
 "nbformat_minor": 2
}
