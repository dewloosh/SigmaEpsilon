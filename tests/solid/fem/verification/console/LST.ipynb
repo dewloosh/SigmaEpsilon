{
 "cells": [
  {
   "cell_type": "code",
   "execution_count": 1,
   "metadata": {},
   "outputs": [],
   "source": [
    "import numpy as np"
   ]
  },
  {
   "cell_type": "markdown",
   "metadata": {},
   "source": [
    "## Input Parameters"
   ]
  },
  {
   "cell_type": "code",
   "execution_count": 2,
   "metadata": {},
   "outputs": [],
   "source": [
    "# geometry\n",
    "L = 1.0\n",
    "w = 0.05\n",
    "h = 0.1\n",
    "\n",
    "# mesh\n",
    "shape = (100, 10)\n",
    "\n",
    "# material\n",
    "E = 1000\n",
    "nu = 0.2\n",
    "\n",
    "# load\n",
    "F = 100"
   ]
  },
  {
   "cell_type": "markdown",
   "metadata": {},
   "source": [
    "## Analytic Bernoulli Solution"
   ]
  },
  {
   "cell_type": "code",
   "execution_count": 3,
   "metadata": {},
   "outputs": [],
   "source": [
    "EI = E * w * h**3 / 12\n",
    "UY_Bernoulli = -F * L**3 / (3 * EI)"
   ]
  },
  {
   "cell_type": "markdown",
   "metadata": {},
   "source": [
    "## Finite Element Solution"
   ]
  },
  {
   "cell_type": "code",
   "execution_count": 4,
   "metadata": {},
   "outputs": [],
   "source": [
    "# Hooke model\n",
    "A = np.array([\n",
    "    [1, nu, 0], \n",
    "    [nu, 1, 0],\n",
    "    [0, 0, (1-nu)/2]]) * (E /(1-nu**2)) * w"
   ]
  },
  {
   "cell_type": "code",
   "execution_count": 5,
   "metadata": {},
   "outputs": [],
   "source": [
    "from sigmaepsilon.mesh import TriMesh, T6\n",
    "trimesh = TriMesh(size=(L, h), shape=shape, celltype=T6)\n",
    "coords = trimesh.coords()\n",
    "topo = trimesh.topology()"
   ]
  },
  {
   "cell_type": "code",
   "execution_count": 6,
   "metadata": {},
   "outputs": [],
   "source": [
    "# essential boundary conditions\n",
    "cond_ebc = np.abs(coords[:, 0]) <= 1e-5\n",
    "ebcinds = np.where(cond_ebc)[0]\n",
    "fixity = np.zeros((coords.shape[0], 2), dtype=bool)\n",
    "fixity[ebcinds, :] = True"
   ]
  },
  {
   "cell_type": "code",
   "execution_count": 7,
   "metadata": {},
   "outputs": [],
   "source": [
    "# natural boundary conditions\n",
    "target = np.array([L, h/2, 0])\n",
    "nbcinds = [trimesh.index_of_closest_point(target)]\n",
    "loads = np.zeros((coords.shape[0], 2))\n",
    "loads[nbcinds, 1] = -F"
   ]
  },
  {
   "cell_type": "code",
   "execution_count": 8,
   "metadata": {},
   "outputs": [],
   "source": [
    "from dewloosh.solid.fem import FemMesh, Structure, LSTM\n",
    "mesh = FemMesh(coords=coords, topo=topo, celltype=LSTM, \n",
    "               fixity=fixity, loads=loads, model=A)\n",
    "structure = Structure(mesh=mesh)"
   ]
  },
  {
   "cell_type": "code",
   "execution_count": 9,
   "metadata": {},
   "outputs": [
    {
     "data": {
      "text/plain": [
       "{'preproc': {'sparsify': False},\n",
       " 'proc': {'time [ms]': 141.00241661071777,\n",
       "  'N': 7562,\n",
       "  'use_umfpack': True,\n",
       "  'permc_spec': 'COLAMD',\n",
       "  'solver': 'pardiso'},\n",
       " 'postproc': {},\n",
       " 'number of elements': 1782,\n",
       " 'number of nodes': 3781,\n",
       " 'dofs per node': 2}"
      ]
     },
     "execution_count": 9,
     "metadata": {},
     "output_type": "execute_result"
    }
   ],
   "source": [
    "structure.linsolve()\n",
    "structure.summary"
   ]
  },
  {
   "cell_type": "code",
   "execution_count": 10,
   "metadata": {},
   "outputs": [],
   "source": [
    "UY_FEM = structure.pointdata.dofsol.to_numpy()[nbcinds[0]][1]"
   ]
  },
  {
   "cell_type": "markdown",
   "metadata": {},
   "source": [
    "## Comparison"
   ]
  },
  {
   "cell_type": "code",
   "execution_count": 11,
   "metadata": {},
   "outputs": [
    {
     "name": "stdout",
     "output_type": "stream",
     "text": [
      "Analytic Bernoulli Solution : -7999.999999999998\n",
      "FEM Solution : -8058.842033198156\n",
      "Difference : 0.7355254149769737 %\n"
     ]
    }
   ],
   "source": [
    "print(\"Analytic Bernoulli Solution : {}\".format(UY_Bernoulli))\n",
    "print(\"FEM Solution : {}\".format(UY_FEM))\n",
    "diff = 100 * (UY_FEM - UY_Bernoulli) / UY_Bernoulli\n",
    "print(\"Difference : {} %\".format(diff))\n",
    "structure.plot()"
   ]
  }
 ],
 "metadata": {
  "interpreter": {
   "hash": "8d15e2cb4dca8274af5fb092bbadab583a099b53b169f927cb892edc8b735b32"
  },
  "kernelspec": {
   "display_name": "Python 3.8.10 64-bit ('.dewloosh': venv)",
   "language": "python",
   "name": "python3"
  },
  "language_info": {
   "codemirror_mode": {
    "name": "ipython",
    "version": 3
   },
   "file_extension": ".py",
   "mimetype": "text/x-python",
   "name": "python",
   "nbconvert_exporter": "python",
   "pygments_lexer": "ipython3",
   "version": "3.8.10"
  },
  "orig_nbformat": 4
 },
 "nbformat": 4,
 "nbformat_minor": 2
}
